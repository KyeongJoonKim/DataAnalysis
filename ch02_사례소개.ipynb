{
  "nbformat": 4,
  "nbformat_minor": 0,
  "metadata": {
    "colab": {
      "name": "ch02_사례소개.ipynb",
      "version": "0.3.2",
      "provenance": [],
      "collapsed_sections": [],
      "include_colab_link": true
    },
    "kernelspec": {
      "name": "python3",
      "display_name": "Python 3"
    }
  },
  "cells": [
    {
      "cell_type": "markdown",
      "metadata": {
        "id": "view-in-github",
        "colab_type": "text"
      },
      "source": [
        "<a href=\"https://colab.research.google.com/github/xuhu357/DataAnalysis/blob/master/ch02_%EC%82%AC%EB%A1%80%EC%86%8C%EA%B0%9C.ipynb\" target=\"_parent\"><img src=\"https://colab.research.google.com/assets/colab-badge.svg\" alt=\"Open In Colab\"/></a>"
      ]
    },
    {
      "metadata": {
        "id": "Y-zpUq5OG1zW",
        "colab_type": "code",
        "colab": {
          "resources": {
            "http://localhost:8080/nbextensions/google.colab/files.js": {
              "data": "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",
              "ok": true,
              "headers": [
                [
                  "content-type",
                  "application/javascript"
                ]
              ],
              "status": 200,
              "status_text": ""
            }
          },
          "base_uri": "https://localhost:8080/",
          "height": 94
        },
        "outputId": "44ffb03d-658e-4146-efd7-ba1018afb962"
      },
      "cell_type": "code",
      "source": [
        "from google.colab import files\n",
        "\n",
        "uploaded = files.upload()\n",
        "\n",
        "for fn in uploaded.keys():\n",
        "  print('User uploaded file \"{name}\" with length {length} bytes'.format(\n",
        "      name=fn, length=len(uploaded[fn])))"
      ],
      "execution_count": 1,
      "outputs": [
        {
          "output_type": "display_data",
          "data": {
            "text/html": [
              "\n",
              "     <input type=\"file\" id=\"files-96447d75-59d1-404a-a15c-91466e32d8cd\" name=\"files[]\" multiple disabled />\n",
              "     <output id=\"result-96447d75-59d1-404a-a15c-91466e32d8cd\">\n",
              "      Upload widget is only available when the cell has been executed in the\n",
              "      current browser session. Please rerun this cell to enable.\n",
              "      </output>\n",
              "      <script src=\"/nbextensions/google.colab/files.js\"></script> "
            ],
            "text/plain": [
              "<IPython.core.display.HTML object>"
            ]
          },
          "metadata": {
            "tags": []
          }
        },
        {
          "output_type": "stream",
          "text": [
            "Saving usagov_bitly_data2012-03-16-1331923249.txt to usagov_bitly_data2012-03-16-1331923249.txt\n",
            "User uploaded file \"usagov_bitly_data2012-03-16-1331923249.txt\" with length 1598282 bytes\n"
          ],
          "name": "stdout"
        }
      ]
    },
    {
      "metadata": {
        "id": "uK2r-75nG-4B",
        "colab_type": "code",
        "colab": {}
      },
      "cell_type": "code",
      "source": [
        "# path 지정\n",
        "path = 'usagov_bitly_data2012-03-16-1331923249.txt'"
      ],
      "execution_count": 0,
      "outputs": []
    },
    {
      "metadata": {
        "id": "9RsrLG1pHHql",
        "colab_type": "code",
        "colab": {
          "base_uri": "https://localhost:8080/",
          "height": 55
        },
        "outputId": "1b7122b8-ab00-4ec5-e51c-b7d3d936a14d"
      },
      "cell_type": "code",
      "source": [
        "# 지정한 path의 파일에서 한줄 읽어서 한번 출력해보자\n",
        "open(path).readline() "
      ],
      "execution_count": 3,
      "outputs": [
        {
          "output_type": "execute_result",
          "data": {
            "text/plain": [
              "'{ \"a\": \"Mozilla\\\\/5.0 (Windows NT 6.1; WOW64) AppleWebKit\\\\/535.11 (KHTML, like Gecko) Chrome\\\\/17.0.963.78 Safari\\\\/535.11\", \"c\": \"US\", \"nk\": 1, \"tz\": \"America\\\\/New_York\", \"gr\": \"MA\", \"g\": \"A6qOVH\", \"h\": \"wfLQtf\", \"l\": \"orofrog\", \"al\": \"en-US,en;q=0.8\", \"hh\": \"1.usa.gov\", \"r\": \"http:\\\\/\\\\/www.facebook.com\\\\/l\\\\/7AQEFzjSi\\\\/1.usa.gov\\\\/wfLQtf\", \"u\": \"http:\\\\/\\\\/www.ncbi.nlm.nih.gov\\\\/pubmed\\\\/22415991\", \"t\": 1331923247, \"hc\": 1331822918, \"cy\": \"Danvers\", \"ll\": [ 42.576698, -70.954903 ] }\\n'"
            ]
          },
          "metadata": {
            "tags": []
          },
          "execution_count": 3
        }
      ]
    },
    {
      "metadata": {
        "id": "1hMwclfZHRmV",
        "colab_type": "code",
        "colab": {}
      },
      "cell_type": "code",
      "source": [
        "# json을 키:값 형태의 파이썬 사전(dictionary)로 변환해보자~\n",
        "# 전체 파일을 읽어들이기\n",
        "\n",
        "import json\n",
        "path = 'usagov_bitly_data2012-03-16-1331923249.txt'\n",
        "\n",
        "records = [json.loads(line) for line in open(path)]"
      ],
      "execution_count": 0,
      "outputs": []
    },
    {
      "metadata": {
        "id": "5Lo7if49Hayu",
        "colab_type": "code",
        "colab": {
          "base_uri": "https://localhost:8080/",
          "height": 35
        },
        "outputId": "03cb412c-70b5-4c1f-a780-7fdd74e3bd54"
      },
      "cell_type": "code",
      "source": [
        "# 개수 확인해보자\n",
        "len(records)"
      ],
      "execution_count": 5,
      "outputs": [
        {
          "output_type": "execute_result",
          "data": {
            "text/plain": [
              "3560"
            ]
          },
          "metadata": {
            "tags": []
          },
          "execution_count": 5
        }
      ]
    },
    {
      "metadata": {
        "id": "2Sd8HPwsHjrB",
        "colab_type": "code",
        "colab": {
          "base_uri": "https://localhost:8080/",
          "height": 305
        },
        "outputId": "c834a705-9027-4094-ceb4-4068f1ccda02"
      },
      "cell_type": "code",
      "source": [
        "# 그중의 하나를 출력해보자.\n",
        "records[0]"
      ],
      "execution_count": 6,
      "outputs": [
        {
          "output_type": "execute_result",
          "data": {
            "text/plain": [
              "{'a': 'Mozilla/5.0 (Windows NT 6.1; WOW64) AppleWebKit/535.11 (KHTML, like Gecko) Chrome/17.0.963.78 Safari/535.11',\n",
              " 'al': 'en-US,en;q=0.8',\n",
              " 'c': 'US',\n",
              " 'cy': 'Danvers',\n",
              " 'g': 'A6qOVH',\n",
              " 'gr': 'MA',\n",
              " 'h': 'wfLQtf',\n",
              " 'hc': 1331822918,\n",
              " 'hh': '1.usa.gov',\n",
              " 'l': 'orofrog',\n",
              " 'll': [42.576698, -70.954903],\n",
              " 'nk': 1,\n",
              " 'r': 'http://www.facebook.com/l/7AQEFzjSi/1.usa.gov/wfLQtf',\n",
              " 't': 1331923247,\n",
              " 'tz': 'America/New_York',\n",
              " 'u': 'http://www.ncbi.nlm.nih.gov/pubmed/22415991'}"
            ]
          },
          "metadata": {
            "tags": []
          },
          "execution_count": 6
        }
      ]
    },
    {
      "metadata": {
        "id": "WDMlLvxQHqml",
        "colab_type": "code",
        "colab": {
          "base_uri": "https://localhost:8080/",
          "height": 35
        },
        "outputId": "e2fd5e86-e90f-4455-a65f-df0cc47a9ad7"
      },
      "cell_type": "code",
      "source": [
        "# records[0]에서 tz, 즉 timezone 키에 해당하는 값을 출력해보자\n",
        "records[0]['tz']"
      ],
      "execution_count": 7,
      "outputs": [
        {
          "output_type": "execute_result",
          "data": {
            "text/plain": [
              "'America/New_York'"
            ]
          },
          "metadata": {
            "tags": []
          },
          "execution_count": 7
        }
      ]
    },
    {
      "metadata": {
        "id": "p2KEqOMsH4N6",
        "colab_type": "code",
        "colab": {
          "base_uri": "https://localhost:8080/",
          "height": 262
        },
        "outputId": "a4e92010-3bc4-403b-db21-9f2be49ab1c9"
      },
      "cell_type": "code",
      "source": [
        "# 전체 파일에서 tz을 모두 가져와 보자. (순수한 파이썬 버전)\n",
        "\n",
        "time_zones = [ rec['tz'] for rec in records ]"
      ],
      "execution_count": 8,
      "outputs": [
        {
          "output_type": "error",
          "ename": "KeyError",
          "evalue": "ignored",
          "traceback": [
            "\u001b[0;31m---------------------------------------------------------------------------\u001b[0m",
            "\u001b[0;31mKeyError\u001b[0m                                  Traceback (most recent call last)",
            "\u001b[0;32m<ipython-input-8-0a68d19f3bb3>\u001b[0m in \u001b[0;36m<module>\u001b[0;34m()\u001b[0m\n\u001b[1;32m      1\u001b[0m \u001b[0;34m\u001b[0m\u001b[0m\n\u001b[0;32m----> 2\u001b[0;31m \u001b[0mtime_zones\u001b[0m \u001b[0;34m=\u001b[0m \u001b[0;34m[\u001b[0m \u001b[0mrec\u001b[0m\u001b[0;34m[\u001b[0m\u001b[0;34m'tz'\u001b[0m\u001b[0;34m]\u001b[0m \u001b[0;32mfor\u001b[0m \u001b[0mrec\u001b[0m \u001b[0;32min\u001b[0m \u001b[0mrecords\u001b[0m \u001b[0;34m]\u001b[0m\u001b[0;34m\u001b[0m\u001b[0m\n\u001b[0m",
            "\u001b[0;32m<ipython-input-8-0a68d19f3bb3>\u001b[0m in \u001b[0;36m<listcomp>\u001b[0;34m(.0)\u001b[0m\n\u001b[1;32m      1\u001b[0m \u001b[0;34m\u001b[0m\u001b[0m\n\u001b[0;32m----> 2\u001b[0;31m \u001b[0mtime_zones\u001b[0m \u001b[0;34m=\u001b[0m \u001b[0;34m[\u001b[0m \u001b[0mrec\u001b[0m\u001b[0;34m[\u001b[0m\u001b[0;34m'tz'\u001b[0m\u001b[0;34m]\u001b[0m \u001b[0;32mfor\u001b[0m \u001b[0mrec\u001b[0m \u001b[0;32min\u001b[0m \u001b[0mrecords\u001b[0m \u001b[0;34m]\u001b[0m\u001b[0;34m\u001b[0m\u001b[0m\n\u001b[0m",
            "\u001b[0;31mKeyError\u001b[0m: 'tz'"
          ]
        }
      ]
    },
    {
      "metadata": {
        "id": "jLTb8_zrINwF",
        "colab_type": "text"
      },
      "cell_type": "markdown",
      "source": [
        "원인분석: tz 에서 keyError라는 것은 모든 record에 tz이 반드시 있지 않다는 말이다.  \n",
        "\n",
        "그럼 tz이 있는 record만 출력하자, how? 조건 하나만 추가하면 끝~"
      ]
    },
    {
      "metadata": {
        "id": "cSwfzPZrII2p",
        "colab_type": "code",
        "colab": {}
      },
      "cell_type": "code",
      "source": [
        "time_zones = [ rec['tz'] for rec in records if 'tz' in rec]"
      ],
      "execution_count": 0,
      "outputs": []
    },
    {
      "metadata": {
        "id": "YWqX7-1jItaK",
        "colab_type": "code",
        "colab": {
          "base_uri": "https://localhost:8080/",
          "height": 197
        },
        "outputId": "708fe4ec-c3c1-4bbc-f223-bbea55d3430e"
      },
      "cell_type": "code",
      "source": [
        "# 결과 출력해보자~, 앞의 10개만 출력하고 싶으면 time_zones[:10] 요렇게\n",
        "time_zones[0:10] "
      ],
      "execution_count": 13,
      "outputs": [
        {
          "output_type": "execute_result",
          "data": {
            "text/plain": [
              "['America/New_York',\n",
              " 'America/Denver',\n",
              " 'America/New_York',\n",
              " 'America/Sao_Paulo',\n",
              " 'America/New_York',\n",
              " 'America/New_York',\n",
              " 'Europe/Warsaw',\n",
              " '',\n",
              " '',\n",
              " '']"
            ]
          },
          "metadata": {
            "tags": []
          },
          "execution_count": 13
        }
      ]
    },
    {
      "metadata": {
        "id": "2kJh_blpJBL4",
        "colab_type": "text"
      },
      "cell_type": "markdown",
      "source": [
        "결과를 보면, value값이 비어있는(' ') 부분도 있다. \n",
        "\n",
        "또 tz에 여러가지 결과가 다 있는데, 각각 몇개씩 있는지 궁금하다면 아래와 같이 개수를 알아낼수 있음.\n",
        "\n",
        "만들고 싶은 결과는 대략, \n",
        "America/New_York: xx개\n",
        "America/Denver: yy개\n"
      ]
    },
    {
      "metadata": {
        "id": "gS6pzQy_Iybc",
        "colab_type": "code",
        "colab": {}
      },
      "cell_type": "code",
      "source": [
        "# 개수를 세는 함수를 만들자\n",
        "def get_counts(data):\n",
        "  counts = {}\n",
        "  for x in data:\n",
        "    if x in counts:\n",
        "      counts[x] += 1\n",
        "    else:\n",
        "      counts[x] = 1\n",
        "  return counts"
      ],
      "execution_count": 0,
      "outputs": []
    },
    {
      "metadata": {
        "id": "h2aVeYqzLK4X",
        "colab_type": "text"
      },
      "cell_type": "markdown",
      "source": [
        "위의 방식은 야매로 내가 직접 함수를 만들어서 개수를 세는 방식\n",
        "\n",
        "---\n",
        "\n",
        "\n",
        "그럼 파이썬 라이브러리에서 제공하는 방법은 없을까? 당연히 있음.\n"
      ]
    },
    {
      "metadata": {
        "id": "gS_x8GcJLC_w",
        "colab_type": "code",
        "colab": {}
      },
      "cell_type": "code",
      "source": [
        "from collections import defaultdict\n",
        "\n",
        "def get_counts2(data):\n",
        "  counts = defaultdict(int)\n",
        "  for x in data:\n",
        "    counts[x] += 1\n",
        "  return counts"
      ],
      "execution_count": 0,
      "outputs": []
    },
    {
      "metadata": {
        "id": "1NXa0ar1L4Df",
        "colab_type": "code",
        "colab": {}
      },
      "cell_type": "code",
      "source": [
        "counts = get_counts(time_zones)"
      ],
      "execution_count": 0,
      "outputs": []
    },
    {
      "metadata": {
        "id": "gouMOTc3MA3e",
        "colab_type": "code",
        "colab": {
          "base_uri": "https://localhost:8080/",
          "height": 35
        },
        "outputId": "b883b46d-1af0-4121-8b52-6140f3d38336"
      },
      "cell_type": "code",
      "source": [
        "# America/New_York 이 몇개 있는지를 알려면~\n",
        "counts['America/New_York']"
      ],
      "execution_count": 17,
      "outputs": [
        {
          "output_type": "execute_result",
          "data": {
            "text/plain": [
              "1251"
            ]
          },
          "metadata": {
            "tags": []
          },
          "execution_count": 17
        }
      ]
    },
    {
      "metadata": {
        "id": "2y-7ywrXNSSM",
        "colab_type": "code",
        "colab": {}
      },
      "cell_type": "code",
      "source": [
        "counts2 = get_counts2(time_zones)"
      ],
      "execution_count": 0,
      "outputs": []
    },
    {
      "metadata": {
        "id": "TXS0cu6jNagr",
        "colab_type": "code",
        "colab": {
          "base_uri": "https://localhost:8080/",
          "height": 35
        },
        "outputId": "c16efd0e-5948-4436-e12b-71988452b128"
      },
      "cell_type": "code",
      "source": [
        "# counts2 에서 America/New_York 이 몇개인지 확인\n",
        "counts2['America/New_York']"
      ],
      "execution_count": 21,
      "outputs": [
        {
          "output_type": "execute_result",
          "data": {
            "text/plain": [
              "1251"
            ]
          },
          "metadata": {
            "tags": []
          },
          "execution_count": 21
        }
      ]
    },
    {
      "metadata": {
        "id": "m9H10XJKNyao",
        "colab_type": "text"
      },
      "cell_type": "markdown",
      "source": [
        ""
      ]
    },
    {
      "metadata": {
        "id": "xv7JpmF_NlS6",
        "colab_type": "text"
      },
      "cell_type": "markdown",
      "source": [
        "**결과: ** 위의 결과와 동일하게 나오는걸 확인 가능."
      ]
    },
    {
      "metadata": {
        "id": "FLrukI_uMS2A",
        "colab_type": "text"
      },
      "cell_type": "markdown",
      "source": [
        "### 가장 많이 등장하는 상위 10개 표준 시간대(tz)를 알고 싶다면, 어떻게 할까? top 10?\n"
      ]
    },
    {
      "metadata": {
        "id": "qqg5otG4MFzP",
        "colab_type": "code",
        "colab": {}
      },
      "cell_type": "code",
      "source": [
        "def top_counts(count_dict, n=10):\n",
        "  value_key_pairs = [(count, tz) for tz, count in count_dict.items()]\n",
        "  value_key_pairs.sort()\n",
        "  return value_key_pairs[-n:]"
      ],
      "execution_count": 0,
      "outputs": []
    },
    {
      "metadata": {
        "id": "Vdo4WB1yM9LZ",
        "colab_type": "code",
        "colab": {
          "base_uri": "https://localhost:8080/",
          "height": 197
        },
        "outputId": "7f7780e4-a487-48c6-896c-3d9e7faa0cd0"
      },
      "cell_type": "code",
      "source": [
        "top_counts(counts, 10)"
      ],
      "execution_count": 19,
      "outputs": [
        {
          "output_type": "execute_result",
          "data": {
            "text/plain": [
              "[(33, 'America/Sao_Paulo'),\n",
              " (35, 'Europe/Madrid'),\n",
              " (36, 'Pacific/Honolulu'),\n",
              " (37, 'Asia/Tokyo'),\n",
              " (74, 'Europe/London'),\n",
              " (191, 'America/Denver'),\n",
              " (382, 'America/Los_Angeles'),\n",
              " (400, 'America/Chicago'),\n",
              " (521, ''),\n",
              " (1251, 'America/New_York')]"
            ]
          },
          "metadata": {
            "tags": []
          },
          "execution_count": 19
        }
      ]
    },
    {
      "metadata": {
        "id": "Szu_oerENF0L",
        "colab_type": "text"
      },
      "cell_type": "markdown",
      "source": [
        "결과를 보면 521번 등장한 애가 ' ' 빈값이 있음~\n",
        "\n",
        "나쁘지 않음, 그런데 파이썬 라이브러리 중 Counter 클래스를 쓰면 몇줄이면 끝~~~GO"
      ]
    },
    {
      "metadata": {
        "id": "e729kCWONC63",
        "colab_type": "code",
        "colab": {}
      },
      "cell_type": "code",
      "source": [
        "# 일단 Counter 클래스를 불러들이자\n",
        "from collections import Counter"
      ],
      "execution_count": 0,
      "outputs": []
    },
    {
      "metadata": {
        "id": "LeUH1MsoOQ6i",
        "colab_type": "code",
        "colab": {}
      },
      "cell_type": "code",
      "source": [
        "# 개수를 세자\n",
        "counts = Counter(time_zones)"
      ],
      "execution_count": 0,
      "outputs": []
    },
    {
      "metadata": {
        "id": "vsvj1uGUOSEF",
        "colab_type": "code",
        "colab": {
          "base_uri": "https://localhost:8080/",
          "height": 197
        },
        "outputId": "055ce072-c06c-48d1-8b7d-5dee4fb0d3e2"
      },
      "cell_type": "code",
      "source": [
        "# 상위 10개를 원한다고 했지, 알았어~\n",
        "counts.most_common(10)"
      ],
      "execution_count": 24,
      "outputs": [
        {
          "output_type": "execute_result",
          "data": {
            "text/plain": [
              "[('America/New_York', 1251),\n",
              " ('', 521),\n",
              " ('America/Chicago', 400),\n",
              " ('America/Los_Angeles', 382),\n",
              " ('America/Denver', 191),\n",
              " ('Europe/London', 74),\n",
              " ('Asia/Tokyo', 37),\n",
              " ('Pacific/Honolulu', 36),\n",
              " ('Europe/Madrid', 35),\n",
              " ('America/Sao_Paulo', 33)]"
            ]
          },
          "metadata": {
            "tags": []
          },
          "execution_count": 24
        }
      ]
    },
    {
      "metadata": {
        "id": "btUbK7BEOh48",
        "colab_type": "text"
      },
      "cell_type": "markdown",
      "source": [
        "**결론1: 아는것만큼 보인다~.** Counter 같은 클래스가 분명히 있음에도, 모르면 위에서처럼 get_counts(), get_counts2() 처럼 낑낑 거려야 함~\n",
        "\n",
        "---\n",
        "\n",
        "**결론2: 많이 주어 들어야 함~**"
      ]
    },
    {
      "metadata": {
        "id": "tKH-v497PAsx",
        "colab_type": "text"
      },
      "cell_type": "markdown",
      "source": [
        "근데, 아직 **pandas**를 안써봤는데~~~ 이번에는 **pandas**를 사용해보자\n",
        "\n",
        "간단히 설명하면, pandas는 Excel과 비슷하다고 생각하면 됨~\n",
        "\n",
        "\n",
        "*   DataFrame: SpreadSheet\n",
        "\n"
      ]
    },
    {
      "metadata": {
        "id": "zerMx0AwOaiS",
        "colab_type": "code",
        "colab": {}
      },
      "cell_type": "code",
      "source": [
        "# pandas에서 DataFrame와 series를 불러들이기\n",
        "from pandas import DataFrame, Series"
      ],
      "execution_count": 0,
      "outputs": []
    },
    {
      "metadata": {
        "id": "8UVRnPUbPliO",
        "colab_type": "code",
        "colab": {}
      },
      "cell_type": "code",
      "source": [
        "# pandas는 간단하게 pd라고 불러주자\n",
        "import pandas as pd"
      ],
      "execution_count": 0,
      "outputs": []
    },
    {
      "metadata": {
        "id": "8wxC0FfzPszG",
        "colab_type": "code",
        "colab": {}
      },
      "cell_type": "code",
      "source": [
        "# 썩~위에서 보았었던 records를 DataFrame으로 만들기\n",
        "frame = DataFrame(records)"
      ],
      "execution_count": 0,
      "outputs": []
    },
    {
      "metadata": {
        "id": "ajxxDrkUQG2w",
        "colab_type": "code",
        "colab": {
          "base_uri": "https://localhost:8080/",
          "height": 431
        },
        "outputId": "b68457d6-5ff4-4a39-f095-f42329a3f4af"
      },
      "cell_type": "code",
      "source": [
        "# frame의 정보를 알고 싶다면 \n",
        "frame.info()"
      ],
      "execution_count": 28,
      "outputs": [
        {
          "output_type": "stream",
          "text": [
            "<class 'pandas.core.frame.DataFrame'>\n",
            "RangeIndex: 3560 entries, 0 to 3559\n",
            "Data columns (total 18 columns):\n",
            "_heartbeat_    120 non-null float64\n",
            "a              3440 non-null object\n",
            "al             3094 non-null object\n",
            "c              2919 non-null object\n",
            "cy             2919 non-null object\n",
            "g              3440 non-null object\n",
            "gr             2919 non-null object\n",
            "h              3440 non-null object\n",
            "hc             3440 non-null float64\n",
            "hh             3440 non-null object\n",
            "kw             93 non-null object\n",
            "l              3440 non-null object\n",
            "ll             2919 non-null object\n",
            "nk             3440 non-null float64\n",
            "r              3440 non-null object\n",
            "t              3440 non-null float64\n",
            "tz             3440 non-null object\n",
            "u              3440 non-null object\n",
            "dtypes: float64(4), object(14)\n",
            "memory usage: 500.7+ KB\n"
          ],
          "name": "stdout"
        }
      ]
    },
    {
      "metadata": {
        "id": "DehrzpfRQe7t",
        "colab_type": "code",
        "colab": {}
      },
      "cell_type": "code",
      "source": [
        "# tz가 모두 몇개 있는지 궁금하다면\n",
        "tz_counts = frame['tz'].value_counts()"
      ],
      "execution_count": 0,
      "outputs": []
    },
    {
      "metadata": {
        "id": "Cv5KQKfdQvjK",
        "colab_type": "code",
        "colab": {
          "base_uri": "https://localhost:8080/",
          "height": 1133
        },
        "outputId": "75a02b6c-da54-4445-9c98-1e955a0cad19"
      },
      "cell_type": "code",
      "source": [
        "tz_counts"
      ],
      "execution_count": 31,
      "outputs": [
        {
          "output_type": "execute_result",
          "data": {
            "text/plain": [
              "America/New_York                  1251\n",
              "                                   521\n",
              "America/Chicago                    400\n",
              "America/Los_Angeles                382\n",
              "America/Denver                     191\n",
              "Europe/London                       74\n",
              "Asia/Tokyo                          37\n",
              "Pacific/Honolulu                    36\n",
              "Europe/Madrid                       35\n",
              "America/Sao_Paulo                   33\n",
              "Europe/Berlin                       28\n",
              "Europe/Rome                         27\n",
              "America/Rainy_River                 25\n",
              "Europe/Amsterdam                    22\n",
              "America/Phoenix                     20\n",
              "America/Indianapolis                20\n",
              "Europe/Warsaw                       16\n",
              "America/Mexico_City                 15\n",
              "Europe/Paris                        14\n",
              "Europe/Stockholm                    14\n",
              "America/Vancouver                   12\n",
              "Pacific/Auckland                    11\n",
              "America/Puerto_Rico                 10\n",
              "Europe/Oslo                         10\n",
              "Europe/Helsinki                     10\n",
              "Europe/Prague                       10\n",
              "Europe/Moscow                       10\n",
              "Asia/Hong_Kong                      10\n",
              "Asia/Istanbul                        9\n",
              "Asia/Calcutta                        9\n",
              "                                  ... \n",
              "America/Guayaquil                    2\n",
              "America/Montevideo                   1\n",
              "America/Argentina/Cordoba            1\n",
              "America/St_Kitts                     1\n",
              "Asia/Riyadh                          1\n",
              "Asia/Yekaterinburg                   1\n",
              "America/Argentina/Mendoza            1\n",
              "Asia/Manila                          1\n",
              "America/Argentina/Buenos_Aires       1\n",
              "Europe/Ljubljana                     1\n",
              "America/Santo_Domingo                1\n",
              "America/La_Paz                       1\n",
              "America/Monterrey                    1\n",
              "Australia/Queensland                 1\n",
              "Africa/Johannesburg                  1\n",
              "Asia/Novosibirsk                     1\n",
              "Asia/Nicosia                         1\n",
              "Africa/Lusaka                        1\n",
              "Europe/Sofia                         1\n",
              "Asia/Pontianak                       1\n",
              "America/Caracas                      1\n",
              "Europe/Volgograd                     1\n",
              "America/Lima                         1\n",
              "Africa/Casablanca                    1\n",
              "America/Tegucigalpa                  1\n",
              "Asia/Kuching                         1\n",
              "America/Costa_Rica                   1\n",
              "Europe/Uzhgorod                      1\n",
              "Europe/Skopje                        1\n",
              "America/Mazatlan                     1\n",
              "Name: tz, Length: 97, dtype: int64"
            ]
          },
          "metadata": {
            "tags": []
          },
          "execution_count": 31
        }
      ]
    },
    {
      "metadata": {
        "id": "e4bp9GLwQxID",
        "colab_type": "code",
        "colab": {
          "base_uri": "https://localhost:8080/",
          "height": 215
        },
        "outputId": "8bf30208-0ca6-4cc7-cb9d-349a8092d318"
      },
      "cell_type": "code",
      "source": [
        "# 상위 10개를 원한다면\n",
        "tz_counts[:10]"
      ],
      "execution_count": 32,
      "outputs": [
        {
          "output_type": "execute_result",
          "data": {
            "text/plain": [
              "America/New_York       1251\n",
              "                        521\n",
              "America/Chicago         400\n",
              "America/Los_Angeles     382\n",
              "America/Denver          191\n",
              "Europe/London            74\n",
              "Asia/Tokyo               37\n",
              "Pacific/Honolulu         36\n",
              "Europe/Madrid            35\n",
              "America/Sao_Paulo        33\n",
              "Name: tz, dtype: int64"
            ]
          },
          "metadata": {
            "tags": []
          },
          "execution_count": 32
        }
      ]
    },
    {
      "metadata": {
        "id": "7hkEKG4URSXe",
        "colab_type": "text"
      },
      "cell_type": "markdown",
      "source": [
        "정리해보면, pandas를 쓰면 한줄이면 끝~How?\n",
        "\n",
        "\n",
        "---\n",
        "\n",
        "frame['tz'].value_counts()[:10], 이렇게\n",
        "\n",
        "\n"
      ]
    },
    {
      "metadata": {
        "id": "KZ6oQVatRNI3",
        "colab_type": "code",
        "colab": {}
      },
      "cell_type": "code",
      "source": [
        "# 비워 있는 값을, fillna로 대체하기\n",
        "clean_tz = frame['tz'].fillna('Missing') # 'tz'란 항목이 아예 없었던 애들은 그 자리에 'Missing'이란 값을 넣자\n",
        "clean_tz[clean_tz == ''] = 'Unknown' # 'tz' 값이 없는것은 아닌데 ''이것으로 된 애들은 'Unknown'이란 값으로 대체"
      ],
      "execution_count": 0,
      "outputs": []
    },
    {
      "metadata": {
        "id": "kR1WvXEjSRjs",
        "colab_type": "code",
        "colab": {}
      },
      "cell_type": "code",
      "source": [
        "tz_counts = clean_tz.value_counts()"
      ],
      "execution_count": 0,
      "outputs": []
    },
    {
      "metadata": {
        "id": "sOp7C5JqSYbm",
        "colab_type": "code",
        "colab": {
          "base_uri": "https://localhost:8080/",
          "height": 215
        },
        "outputId": "f3cb5be6-07a7-491e-fe77-43fd9296b028"
      },
      "cell_type": "code",
      "source": [
        "tz_counts[:10]"
      ],
      "execution_count": 38,
      "outputs": [
        {
          "output_type": "execute_result",
          "data": {
            "text/plain": [
              "America/New_York       1251\n",
              "Unknown                 521\n",
              "America/Chicago         400\n",
              "America/Los_Angeles     382\n",
              "America/Denver          191\n",
              "Missing                 120\n",
              "Europe/London            74\n",
              "Asia/Tokyo               37\n",
              "Pacific/Honolulu         36\n",
              "Europe/Madrid            35\n",
              "Name: tz, dtype: int64"
            ]
          },
          "metadata": {
            "tags": []
          },
          "execution_count": 38
        }
      ]
    },
    {
      "metadata": {
        "id": "FKzJX_1KTQXc",
        "colab_type": "text"
      },
      "cell_type": "markdown",
      "source": [
        "눈으로 확인하는 것은 데이터를 확인하는 제일 좋은 방법, "
      ]
    },
    {
      "metadata": {
        "id": "3-ZjGWgXSa8r",
        "colab_type": "code",
        "colab": {}
      },
      "cell_type": "code",
      "source": [
        "%matplotlib inline"
      ],
      "execution_count": 0,
      "outputs": []
    },
    {
      "metadata": {
        "id": "49c3KfEwTbZM",
        "colab_type": "code",
        "colab": {
          "base_uri": "https://localhost:8080/",
          "height": 283
        },
        "outputId": "75061366-4805-4a45-d62b-18dbbb28f972"
      },
      "cell_type": "code",
      "source": [
        "tz_counts[:10].plot(kind='barh', rot=0)"
      ],
      "execution_count": 40,
      "outputs": [
        {
          "output_type": "execute_result",
          "data": {
            "text/plain": [
              "<matplotlib.axes._subplots.AxesSubplot at 0x7f838ec41e80>"
            ]
          },
          "metadata": {
            "tags": []
          },
          "execution_count": 40
        },
        {
          "output_type": "display_data",
          "data": {
            "image/png": "[encoded data removed]",
            "text/plain": [
              "<matplotlib.figure.Figure at 0x7f838ec41860>"
            ]
          },
          "metadata": {
            "tags": []
          }
        }
      ]
    },
    {
      "metadata": {
        "id": "0IEALXe9TmWu",
        "colab_type": "code",
        "colab": {
          "base_uri": "https://localhost:8080/",
          "height": 431
        },
        "outputId": "d3677ba6-f008-47f9-f04f-6d9472565b3c"
      },
      "cell_type": "code",
      "source": [
        "frame.info()"
      ],
      "execution_count": 41,
      "outputs": [
        {
          "output_type": "stream",
          "text": [
            "<class 'pandas.core.frame.DataFrame'>\n",
            "RangeIndex: 3560 entries, 0 to 3559\n",
            "Data columns (total 18 columns):\n",
            "_heartbeat_    120 non-null float64\n",
            "a              3440 non-null object\n",
            "al             3094 non-null object\n",
            "c              2919 non-null object\n",
            "cy             2919 non-null object\n",
            "g              3440 non-null object\n",
            "gr             2919 non-null object\n",
            "h              3440 non-null object\n",
            "hc             3440 non-null float64\n",
            "hh             3440 non-null object\n",
            "kw             93 non-null object\n",
            "l              3440 non-null object\n",
            "ll             2919 non-null object\n",
            "nk             3440 non-null float64\n",
            "r              3440 non-null object\n",
            "t              3440 non-null float64\n",
            "tz             3440 non-null object\n",
            "u              3440 non-null object\n",
            "dtypes: float64(4), object(14)\n",
            "memory usage: 500.7+ KB\n"
          ],
          "name": "stdout"
        }
      ]
    },
    {
      "metadata": {
        "id": "-88DhlRSUwWa",
        "colab_type": "text"
      },
      "cell_type": "markdown",
      "source": [
        "tz는 여기까지 하고, 이번에는 다른 필드를 보자~'a' 라는 column에는 뭐가 있을까?\n"
      ]
    },
    {
      "metadata": {
        "id": "Pugq69qEUnon",
        "colab_type": "code",
        "colab": {
          "base_uri": "https://localhost:8080/",
          "height": 215
        },
        "outputId": "777732e8-c5bc-43b2-c0ce-a9873553f1ec"
      },
      "cell_type": "code",
      "source": [
        "# 3440개의 데이터를 다 볼수 없으니 일단 앞의 10개를 출력해보자~\n",
        "frame['a'][:10]"
      ],
      "execution_count": 42,
      "outputs": [
        {
          "output_type": "execute_result",
          "data": {
            "text/plain": [
              "0    Mozilla/5.0 (Windows NT 6.1; WOW64) AppleWebKi...\n",
              "1                               GoogleMaps/RochesterNY\n",
              "2    Mozilla/4.0 (compatible; MSIE 8.0; Windows NT ...\n",
              "3    Mozilla/5.0 (Macintosh; Intel Mac OS X 10_6_8)...\n",
              "4    Mozilla/5.0 (Windows NT 6.1; WOW64) AppleWebKi...\n",
              "5    Mozilla/5.0 (Windows NT 6.1; WOW64) AppleWebKi...\n",
              "6    Mozilla/5.0 (Windows NT 5.1) AppleWebKit/535.1...\n",
              "7    Mozilla/5.0 (Windows NT 6.1; rv:2.0.1) Gecko/2...\n",
              "8    Opera/9.80 (X11; Linux zbov; U; en) Presto/2.1...\n",
              "9    Mozilla/5.0 (Windows NT 6.1; WOW64) AppleWebKi...\n",
              "Name: a, dtype: object"
            ]
          },
          "metadata": {
            "tags": []
          },
          "execution_count": 42
        }
      ]
    },
    {
      "metadata": {
        "id": "22As4dHkVSFh",
        "colab_type": "text"
      },
      "cell_type": "markdown",
      "source": [
        "관측해보면, 앞에 부분은 브라우저 종류를 알려주는 것이다. 그럼 앞의 부분만 잘라내보자~"
      ]
    },
    {
      "metadata": {
        "id": "XNeVRAhYVAHD",
        "colab_type": "code",
        "colab": {}
      },
      "cell_type": "code",
      "source": [
        "results = Series([x.split()[0] for x in frame.a.dropna()]) # 뭔말 일까??? 아직 생소하다면 정상!!! 파이썬을 잘 모르는데, 이걸 한눈에 알아본다면 당신은 천재~"
      ],
      "execution_count": 0,
      "outputs": []
    },
    {
      "metadata": {
        "id": "sMTmNxpnVl6V",
        "colab_type": "code",
        "colab": {
          "base_uri": "https://localhost:8080/",
          "height": 215
        },
        "outputId": "cb727910-b7da-428d-c5f0-2be3b959ab0d"
      },
      "cell_type": "code",
      "source": [
        "results[:10]"
      ],
      "execution_count": 46,
      "outputs": [
        {
          "output_type": "execute_result",
          "data": {
            "text/plain": [
              "0               Mozilla/5.0\n",
              "1    GoogleMaps/RochesterNY\n",
              "2               Mozilla/4.0\n",
              "3               Mozilla/5.0\n",
              "4               Mozilla/5.0\n",
              "5               Mozilla/5.0\n",
              "6               Mozilla/5.0\n",
              "7               Mozilla/5.0\n",
              "8                Opera/9.80\n",
              "9               Mozilla/5.0\n",
              "dtype: object"
            ]
          },
          "metadata": {
            "tags": []
          },
          "execution_count": 46
        }
      ]
    },
    {
      "metadata": {
        "id": "a5bRz1rYVrlW",
        "colab_type": "text"
      },
      "cell_type": "markdown",
      "source": [
        "잘라내기 성공했으니, 각각 몇개 있는지 개수를 세볼까요? 어떻게 했드라~?"
      ]
    },
    {
      "metadata": {
        "id": "Px6GGV4GVpY_",
        "colab_type": "code",
        "colab": {
          "base_uri": "https://localhost:8080/",
          "height": 215
        },
        "outputId": "1b24410a-47e0-45a0-84e7-23ae8e22359c"
      },
      "cell_type": "code",
      "source": [
        "results.value_counts()[:10]"
      ],
      "execution_count": 47,
      "outputs": [
        {
          "output_type": "execute_result",
          "data": {
            "text/plain": [
              "Mozilla/5.0                 2594\n",
              "Mozilla/4.0                  601\n",
              "GoogleMaps/RochesterNY       121\n",
              "Opera/9.80                    34\n",
              "TEST_INTERNET_AGENT           24\n",
              "GoogleProducer                21\n",
              "Mozilla/6.0                    5\n",
              "BlackBerry8520/5.0.0.681       4\n",
              "Dalvik/1.4.0                   3\n",
              "BlackBerry8520/5.0.0.592       3\n",
              "dtype: int64"
            ]
          },
          "metadata": {
            "tags": []
          },
          "execution_count": 47
        }
      ]
    },
    {
      "metadata": {
        "id": "bv6avmyyWrWQ",
        "colab_type": "text"
      },
      "cell_type": "markdown",
      "source": [
        "## 윈도우 사용자와 비윈도우 사용자로 분리해보자~"
      ]
    },
    {
      "metadata": {
        "id": "URNHLSvSWUK9",
        "colab_type": "code",
        "colab": {
          "base_uri": "https://localhost:8080/",
          "height": 125
        },
        "outputId": "c4cbedc0-3ae6-4c12-ed19-014f350b0128"
      },
      "cell_type": "code",
      "source": [
        "frame['a'][:5]"
      ],
      "execution_count": 49,
      "outputs": [
        {
          "output_type": "execute_result",
          "data": {
            "text/plain": [
              "0    Mozilla/5.0 (Windows NT 6.1; WOW64) AppleWebKi...\n",
              "1                               GoogleMaps/RochesterNY\n",
              "2    Mozilla/4.0 (compatible; MSIE 8.0; Windows NT ...\n",
              "3    Mozilla/5.0 (Macintosh; Intel Mac OS X 10_6_8)...\n",
              "4    Mozilla/5.0 (Windows NT 6.1; WOW64) AppleWebKi...\n",
              "Name: a, dtype: object"
            ]
          },
          "metadata": {
            "tags": []
          },
          "execution_count": 49
        }
      ]
    },
    {
      "metadata": {
        "id": "4sIjvIYBW-ri",
        "colab_type": "text"
      },
      "cell_type": "markdown",
      "source": [
        "()안에 보면, 'Windows' 글자가 있는지 없는지로 판단 가능. Let's do it.\n",
        "\n",
        "방법: \n",
        "\n",
        "1.   혹시 모르니 null인 항목은 제외\n",
        "2.   frame의 'a' 키에 해당하는 값에 'Windows' 가 포함되어 있다면 Windows, 아니면 Not Windows\n",
        "\n"
      ]
    },
    {
      "metadata": {
        "id": "wTDej-I3W5dc",
        "colab_type": "code",
        "colab": {}
      },
      "cell_type": "code",
      "source": [
        "# frame 중 not null 인 frame만 선택\n",
        "cframe = frame[frame.a.notnull()]"
      ],
      "execution_count": 0,
      "outputs": []
    },
    {
      "metadata": {
        "id": "xkJjZYJEXo6E",
        "colab_type": "code",
        "colab": {}
      },
      "cell_type": "code",
      "source": [
        "import numpy as np\n"
      ],
      "execution_count": 0,
      "outputs": []
    },
    {
      "metadata": {
        "id": "yXemPCIPXs3P",
        "colab_type": "code",
        "colab": {}
      },
      "cell_type": "code",
      "source": [
        "operating_systems = np.where(cframe['a'].str.contains('Windows'), 'Windows', 'Not Windows') "
      ],
      "execution_count": 0,
      "outputs": []
    },
    {
      "metadata": {
        "id": "AzHUUBJSX7ot",
        "colab_type": "code",
        "colab": {
          "base_uri": "https://localhost:8080/",
          "height": 53
        },
        "outputId": "dea95e61-0d3d-4cf5-f85c-827cf21e6012"
      },
      "cell_type": "code",
      "source": [
        "operating_systems[:5]"
      ],
      "execution_count": 53,
      "outputs": [
        {
          "output_type": "execute_result",
          "data": {
            "text/plain": [
              "array(['Windows', 'Not Windows', 'Windows', 'Not Windows', 'Windows'],\n",
              "      dtype='<U11')"
            ]
          },
          "metadata": {
            "tags": []
          },
          "execution_count": 53
        }
      ]
    },
    {
      "metadata": {
        "id": "np6Lvi5eYHEK",
        "colab_type": "text"
      },
      "cell_type": "markdown",
      "source": [
        "이번에는 tz 와 os 를 함께 고려해보자\n"
      ]
    },
    {
      "metadata": {
        "id": "tqeGn2MNX-As",
        "colab_type": "code",
        "colab": {}
      },
      "cell_type": "code",
      "source": [
        "by_tz_os = cframe.groupby(['tz', operating_systems])"
      ],
      "execution_count": 0,
      "outputs": []
    },
    {
      "metadata": {
        "id": "X7RqycNmYoEb",
        "colab_type": "code",
        "colab": {}
      },
      "cell_type": "code",
      "source": [
        "agg_counts = by_tz_os.size().unstack().fillna(0)"
      ],
      "execution_count": 0,
      "outputs": []
    },
    {
      "metadata": {
        "id": "YHY2DuZ7Y1mG",
        "colab_type": "code",
        "colab": {
          "base_uri": "https://localhost:8080/",
          "height": 35
        },
        "outputId": "d27e5319-5846-48de-f41e-e034ad4a6884"
      },
      "cell_type": "code",
      "source": [
        "len(agg_counts)"
      ],
      "execution_count": 56,
      "outputs": [
        {
          "output_type": "execute_result",
          "data": {
            "text/plain": [
              "97"
            ]
          },
          "metadata": {
            "tags": []
          },
          "execution_count": 56
        }
      ]
    },
    {
      "metadata": {
        "id": "Kdb9hy-5Y6zS",
        "colab_type": "code",
        "colab": {
          "base_uri": "https://localhost:8080/",
          "height": 390
        },
        "outputId": "3f1c7c59-5e97-4a11-edf5-d0221f2f55d9"
      },
      "cell_type": "code",
      "source": [
        "agg_counts[:10]"
      ],
      "execution_count": 57,
      "outputs": [
        {
          "output_type": "execute_result",
          "data": {
            "text/html": [
              "<div>\n",
              "<style scoped>\n",
              "    .dataframe tbody tr th:only-of-type {\n",
              "        vertical-align: middle;\n",
              "    }\n",
              "\n",
              "    .dataframe tbody tr th {\n",
              "        vertical-align: top;\n",
              "    }\n",
              "\n",
              "    .dataframe thead th {\n",
              "        text-align: right;\n",
              "    }\n",
              "</style>\n",
              "<table border=\"1\" class=\"dataframe\">\n",
              "  <thead>\n",
              "    <tr style=\"text-align: right;\">\n",
              "      <th></th>\n",
              "      <th>Not Windows</th>\n",
              "      <th>Windows</th>\n",
              "    </tr>\n",
              "    <tr>\n",
              "      <th>tz</th>\n",
              "      <th></th>\n",
              "      <th></th>\n",
              "    </tr>\n",
              "  </thead>\n",
              "  <tbody>\n",
              "    <tr>\n",
              "      <th></th>\n",
              "      <td>245.0</td>\n",
              "      <td>276.0</td>\n",
              "    </tr>\n",
              "    <tr>\n",
              "      <th>Africa/Cairo</th>\n",
              "      <td>0.0</td>\n",
              "      <td>3.0</td>\n",
              "    </tr>\n",
              "    <tr>\n",
              "      <th>Africa/Casablanca</th>\n",
              "      <td>0.0</td>\n",
              "      <td>1.0</td>\n",
              "    </tr>\n",
              "    <tr>\n",
              "      <th>Africa/Ceuta</th>\n",
              "      <td>0.0</td>\n",
              "      <td>2.0</td>\n",
              "    </tr>\n",
              "    <tr>\n",
              "      <th>Africa/Johannesburg</th>\n",
              "      <td>0.0</td>\n",
              "      <td>1.0</td>\n",
              "    </tr>\n",
              "    <tr>\n",
              "      <th>Africa/Lusaka</th>\n",
              "      <td>0.0</td>\n",
              "      <td>1.0</td>\n",
              "    </tr>\n",
              "    <tr>\n",
              "      <th>America/Anchorage</th>\n",
              "      <td>4.0</td>\n",
              "      <td>1.0</td>\n",
              "    </tr>\n",
              "    <tr>\n",
              "      <th>America/Argentina/Buenos_Aires</th>\n",
              "      <td>1.0</td>\n",
              "      <td>0.0</td>\n",
              "    </tr>\n",
              "    <tr>\n",
              "      <th>America/Argentina/Cordoba</th>\n",
              "      <td>0.0</td>\n",
              "      <td>1.0</td>\n",
              "    </tr>\n",
              "    <tr>\n",
              "      <th>America/Argentina/Mendoza</th>\n",
              "      <td>0.0</td>\n",
              "      <td>1.0</td>\n",
              "    </tr>\n",
              "  </tbody>\n",
              "</table>\n",
              "</div>"
            ],
            "text/plain": [
              "                                Not Windows  Windows\n",
              "tz                                                  \n",
              "                                      245.0    276.0\n",
              "Africa/Cairo                            0.0      3.0\n",
              "Africa/Casablanca                       0.0      1.0\n",
              "Africa/Ceuta                            0.0      2.0\n",
              "Africa/Johannesburg                     0.0      1.0\n",
              "Africa/Lusaka                           0.0      1.0\n",
              "America/Anchorage                       4.0      1.0\n",
              "America/Argentina/Buenos_Aires          1.0      0.0\n",
              "America/Argentina/Cordoba               0.0      1.0\n",
              "America/Argentina/Mendoza               0.0      1.0"
            ]
          },
          "metadata": {
            "tags": []
          },
          "execution_count": 57
        }
      ]
    },
    {
      "metadata": {
        "id": "pGylKnRyZU-A",
        "colab_type": "text"
      },
      "cell_type": "markdown",
      "source": [
        "전체 표준시간대의 순위를 모아보자. "
      ]
    },
    {
      "metadata": {
        "id": "V8ML68dQY9c-",
        "colab_type": "code",
        "colab": {}
      },
      "cell_type": "code",
      "source": [
        "indexer = agg_counts.sum(1).argsort()"
      ],
      "execution_count": 0,
      "outputs": []
    },
    {
      "metadata": {
        "id": "oEc4xrxPZl_R",
        "colab_type": "code",
        "colab": {
          "base_uri": "https://localhost:8080/",
          "height": 233
        },
        "outputId": "49ef302a-625d-4d7f-ae05-bf8d230f3ec5"
      },
      "cell_type": "code",
      "source": [
        "indexer[:10]"
      ],
      "execution_count": 64,
      "outputs": [
        {
          "output_type": "execute_result",
          "data": {
            "text/plain": [
              "tz\n",
              "                                  24\n",
              "Africa/Cairo                      20\n",
              "Africa/Casablanca                 21\n",
              "Africa/Ceuta                      92\n",
              "Africa/Johannesburg               87\n",
              "Africa/Lusaka                     53\n",
              "America/Anchorage                 54\n",
              "America/Argentina/Buenos_Aires    57\n",
              "America/Argentina/Cordoba         26\n",
              "America/Argentina/Mendoza         55\n",
              "dtype: int64"
            ]
          },
          "metadata": {
            "tags": []
          },
          "execution_count": 64
        }
      ]
    },
    {
      "metadata": {
        "id": "PJe94nf9aNf0",
        "colab_type": "code",
        "colab": {}
      },
      "cell_type": "code",
      "source": [
        "count_subset = agg_counts.take(indexer)[-10:]"
      ],
      "execution_count": 0,
      "outputs": []
    },
    {
      "metadata": {
        "id": "wYpWTHn7bQQV",
        "colab_type": "code",
        "colab": {
          "base_uri": "https://localhost:8080/",
          "height": 390
        },
        "outputId": "46655371-97b4-4181-e525-da7d7a376d08"
      },
      "cell_type": "code",
      "source": [
        "count_subset"
      ],
      "execution_count": 67,
      "outputs": [
        {
          "output_type": "execute_result",
          "data": {
            "text/html": [
              "<div>\n",
              "<style scoped>\n",
              "    .dataframe tbody tr th:only-of-type {\n",
              "        vertical-align: middle;\n",
              "    }\n",
              "\n",
              "    .dataframe tbody tr th {\n",
              "        vertical-align: top;\n",
              "    }\n",
              "\n",
              "    .dataframe thead th {\n",
              "        text-align: right;\n",
              "    }\n",
              "</style>\n",
              "<table border=\"1\" class=\"dataframe\">\n",
              "  <thead>\n",
              "    <tr style=\"text-align: right;\">\n",
              "      <th></th>\n",
              "      <th>Not Windows</th>\n",
              "      <th>Windows</th>\n",
              "    </tr>\n",
              "    <tr>\n",
              "      <th>tz</th>\n",
              "      <th></th>\n",
              "      <th></th>\n",
              "    </tr>\n",
              "  </thead>\n",
              "  <tbody>\n",
              "    <tr>\n",
              "      <th>America/Sao_Paulo</th>\n",
              "      <td>13.0</td>\n",
              "      <td>20.0</td>\n",
              "    </tr>\n",
              "    <tr>\n",
              "      <th>Europe/Madrid</th>\n",
              "      <td>16.0</td>\n",
              "      <td>19.0</td>\n",
              "    </tr>\n",
              "    <tr>\n",
              "      <th>Pacific/Honolulu</th>\n",
              "      <td>0.0</td>\n",
              "      <td>36.0</td>\n",
              "    </tr>\n",
              "    <tr>\n",
              "      <th>Asia/Tokyo</th>\n",
              "      <td>2.0</td>\n",
              "      <td>35.0</td>\n",
              "    </tr>\n",
              "    <tr>\n",
              "      <th>Europe/London</th>\n",
              "      <td>43.0</td>\n",
              "      <td>31.0</td>\n",
              "    </tr>\n",
              "    <tr>\n",
              "      <th>America/Denver</th>\n",
              "      <td>132.0</td>\n",
              "      <td>59.0</td>\n",
              "    </tr>\n",
              "    <tr>\n",
              "      <th>America/Los_Angeles</th>\n",
              "      <td>130.0</td>\n",
              "      <td>252.0</td>\n",
              "    </tr>\n",
              "    <tr>\n",
              "      <th>America/Chicago</th>\n",
              "      <td>115.0</td>\n",
              "      <td>285.0</td>\n",
              "    </tr>\n",
              "    <tr>\n",
              "      <th></th>\n",
              "      <td>245.0</td>\n",
              "      <td>276.0</td>\n",
              "    </tr>\n",
              "    <tr>\n",
              "      <th>America/New_York</th>\n",
              "      <td>339.0</td>\n",
              "      <td>912.0</td>\n",
              "    </tr>\n",
              "  </tbody>\n",
              "</table>\n",
              "</div>"
            ],
            "text/plain": [
              "                     Not Windows  Windows\n",
              "tz                                       \n",
              "America/Sao_Paulo           13.0     20.0\n",
              "Europe/Madrid               16.0     19.0\n",
              "Pacific/Honolulu             0.0     36.0\n",
              "Asia/Tokyo                   2.0     35.0\n",
              "Europe/London               43.0     31.0\n",
              "America/Denver             132.0     59.0\n",
              "America/Los_Angeles        130.0    252.0\n",
              "America/Chicago            115.0    285.0\n",
              "                           245.0    276.0\n",
              "America/New_York           339.0    912.0"
            ]
          },
          "metadata": {
            "tags": []
          },
          "execution_count": 67
        }
      ]
    },
    {
      "metadata": {
        "id": "b1MseRlUcSaw",
        "colab_type": "text"
      },
      "cell_type": "markdown",
      "source": [
        "### 잠깐 take() 함수는 어떤 작용하는것일까? 뭘 취한다는 뜻같은데~~"
      ]
    },
    {
      "metadata": {
        "id": "eykr4K21bR4i",
        "colab_type": "code",
        "colab": {}
      },
      "cell_type": "code",
      "source": [
        "df2 = pd.DataFrame([('falcon', 'bird',    389.0),\n",
        "                    ('parrot', 'bird',     24.0),\n",
        "                    ('lion',   'mammal',   80.5),\n",
        "                    ('monkey', 'mammal', np.nan)],\n",
        "                    columns=['name', 'class', 'max_speed'],\n",
        "                   index=[0, 2, 3, 1])"
      ],
      "execution_count": 0,
      "outputs": []
    },
    {
      "metadata": {
        "id": "934q1j10cxp7",
        "colab_type": "code",
        "colab": {
          "base_uri": "https://localhost:8080/",
          "height": 173
        },
        "outputId": "cc614a36-f58e-4056-99c3-af3f2970a110"
      },
      "cell_type": "code",
      "source": [
        "df2"
      ],
      "execution_count": 69,
      "outputs": [
        {
          "output_type": "execute_result",
          "data": {
            "text/html": [
              "<div>\n",
              "<style scoped>\n",
              "    .dataframe tbody tr th:only-of-type {\n",
              "        vertical-align: middle;\n",
              "    }\n",
              "\n",
              "    .dataframe tbody tr th {\n",
              "        vertical-align: top;\n",
              "    }\n",
              "\n",
              "    .dataframe thead th {\n",
              "        text-align: right;\n",
              "    }\n",
              "</style>\n",
              "<table border=\"1\" class=\"dataframe\">\n",
              "  <thead>\n",
              "    <tr style=\"text-align: right;\">\n",
              "      <th></th>\n",
              "      <th>name</th>\n",
              "      <th>class</th>\n",
              "      <th>max_speed</th>\n",
              "    </tr>\n",
              "  </thead>\n",
              "  <tbody>\n",
              "    <tr>\n",
              "      <th>0</th>\n",
              "      <td>falcon</td>\n",
              "      <td>bird</td>\n",
              "      <td>389.0</td>\n",
              "    </tr>\n",
              "    <tr>\n",
              "      <th>2</th>\n",
              "      <td>parrot</td>\n",
              "      <td>bird</td>\n",
              "      <td>24.0</td>\n",
              "    </tr>\n",
              "    <tr>\n",
              "      <th>3</th>\n",
              "      <td>lion</td>\n",
              "      <td>mammal</td>\n",
              "      <td>80.5</td>\n",
              "    </tr>\n",
              "    <tr>\n",
              "      <th>1</th>\n",
              "      <td>monkey</td>\n",
              "      <td>mammal</td>\n",
              "      <td>NaN</td>\n",
              "    </tr>\n",
              "  </tbody>\n",
              "</table>\n",
              "</div>"
            ],
            "text/plain": [
              "     name   class  max_speed\n",
              "0  falcon    bird      389.0\n",
              "2  parrot    bird       24.0\n",
              "3    lion  mammal       80.5\n",
              "1  monkey  mammal        NaN"
            ]
          },
          "metadata": {
            "tags": []
          },
          "execution_count": 69
        }
      ]
    },
    {
      "metadata": {
        "id": "V8vsEr_ycy_o",
        "colab_type": "code",
        "colab": {
          "base_uri": "https://localhost:8080/",
          "height": 111
        },
        "outputId": "1134b8c3-332c-473c-ad4e-32d1d47d07f3"
      },
      "cell_type": "code",
      "source": [
        "df2.take([0, 3]) # 원본 데이터의 row index [0, 3] 해당 값 취한다는 말."
      ],
      "execution_count": 71,
      "outputs": [
        {
          "output_type": "execute_result",
          "data": {
            "text/html": [
              "<div>\n",
              "<style scoped>\n",
              "    .dataframe tbody tr th:only-of-type {\n",
              "        vertical-align: middle;\n",
              "    }\n",
              "\n",
              "    .dataframe tbody tr th {\n",
              "        vertical-align: top;\n",
              "    }\n",
              "\n",
              "    .dataframe thead th {\n",
              "        text-align: right;\n",
              "    }\n",
              "</style>\n",
              "<table border=\"1\" class=\"dataframe\">\n",
              "  <thead>\n",
              "    <tr style=\"text-align: right;\">\n",
              "      <th></th>\n",
              "      <th>name</th>\n",
              "      <th>class</th>\n",
              "      <th>max_speed</th>\n",
              "    </tr>\n",
              "  </thead>\n",
              "  <tbody>\n",
              "    <tr>\n",
              "      <th>0</th>\n",
              "      <td>falcon</td>\n",
              "      <td>bird</td>\n",
              "      <td>389.0</td>\n",
              "    </tr>\n",
              "    <tr>\n",
              "      <th>1</th>\n",
              "      <td>monkey</td>\n",
              "      <td>mammal</td>\n",
              "      <td>NaN</td>\n",
              "    </tr>\n",
              "  </tbody>\n",
              "</table>\n",
              "</div>"
            ],
            "text/plain": [
              "     name   class  max_speed\n",
              "0  falcon    bird      389.0\n",
              "1  monkey  mammal        NaN"
            ]
          },
          "metadata": {
            "tags": []
          },
          "execution_count": 71
        }
      ]
    },
    {
      "metadata": {
        "id": "siHQEcI_c41w",
        "colab_type": "code",
        "colab": {
          "base_uri": "https://localhost:8080/",
          "height": 173
        },
        "outputId": "75fc282b-d203-4647-ee2a-30abb7886693"
      },
      "cell_type": "code",
      "source": [
        "df2.take([1, 2], axis=1) # axis 가 1 이면, column을 말하고, 그럼 column에서 index가 [1, 2] 인 해당 값을 취한다는 말."
      ],
      "execution_count": 74,
      "outputs": [
        {
          "output_type": "execute_result",
          "data": {
            "text/html": [
              "<div>\n",
              "<style scoped>\n",
              "    .dataframe tbody tr th:only-of-type {\n",
              "        vertical-align: middle;\n",
              "    }\n",
              "\n",
              "    .dataframe tbody tr th {\n",
              "        vertical-align: top;\n",
              "    }\n",
              "\n",
              "    .dataframe thead th {\n",
              "        text-align: right;\n",
              "    }\n",
              "</style>\n",
              "<table border=\"1\" class=\"dataframe\">\n",
              "  <thead>\n",
              "    <tr style=\"text-align: right;\">\n",
              "      <th></th>\n",
              "      <th>class</th>\n",
              "      <th>max_speed</th>\n",
              "    </tr>\n",
              "  </thead>\n",
              "  <tbody>\n",
              "    <tr>\n",
              "      <th>0</th>\n",
              "      <td>bird</td>\n",
              "      <td>389.0</td>\n",
              "    </tr>\n",
              "    <tr>\n",
              "      <th>2</th>\n",
              "      <td>bird</td>\n",
              "      <td>24.0</td>\n",
              "    </tr>\n",
              "    <tr>\n",
              "      <th>3</th>\n",
              "      <td>mammal</td>\n",
              "      <td>80.5</td>\n",
              "    </tr>\n",
              "    <tr>\n",
              "      <th>1</th>\n",
              "      <td>mammal</td>\n",
              "      <td>NaN</td>\n",
              "    </tr>\n",
              "  </tbody>\n",
              "</table>\n",
              "</div>"
            ],
            "text/plain": [
              "    class  max_speed\n",
              "0    bird      389.0\n",
              "2    bird       24.0\n",
              "3  mammal       80.5\n",
              "1  mammal        NaN"
            ]
          },
          "metadata": {
            "tags": []
          },
          "execution_count": 74
        }
      ]
    },
    {
      "metadata": {
        "id": "BKVCYnqwdaM6",
        "colab_type": "text"
      },
      "cell_type": "markdown",
      "source": [
        "퀴즈: df2.take([-1, -2]) 의 결과는 무엇일까요?"
      ]
    },
    {
      "metadata": {
        "id": "vSQOxpJQdICS",
        "colab_type": "code",
        "colab": {}
      },
      "cell_type": "code",
      "source": [
        "df2.take([-1, -2])  # it's QUIZ~!!!"
      ],
      "execution_count": 0,
      "outputs": []
    },
    {
      "metadata": {
        "id": "YUWwSsd6d0mU",
        "colab_type": "text"
      },
      "cell_type": "markdown",
      "source": [
        "일단 그림 그력서 확인해 볼까요?\n"
      ]
    },
    {
      "metadata": {
        "id": "2aOi6x7MdjmD",
        "colab_type": "code",
        "colab": {
          "base_uri": "https://localhost:8080/",
          "height": 283
        },
        "outputId": "f57ed8ed-d6bb-40ff-cd49-3fe6a0385c3e"
      },
      "cell_type": "code",
      "source": [
        "count_subset.plot(kind='barh', stacked=True)"
      ],
      "execution_count": 75,
      "outputs": [
        {
          "output_type": "execute_result",
          "data": {
            "text/plain": [
              "<matplotlib.axes._subplots.AxesSubplot at 0x7f838c1870b8>"
            ]
          },
          "metadata": {
            "tags": []
          },
          "execution_count": 75
        },
        {
          "output_type": "display_data",
          "data": {
            "image/png": "[encoded data removed]",
            "text/plain": [
              "<matplotlib.figure.Figure at 0x7f838c17c9b0>"
            ]
          },
          "metadata": {
            "tags": []
          }
        }
      ]
    },
    {
      "metadata": {
        "id": "UV2dVotneKAM",
        "colab_type": "text"
      },
      "cell_type": "markdown",
      "source": [
        "Wow~\n",
        "\n",
        "그런데,  그림은 나왔는데 Windows vs Not Windows 비율 확인하기 어려움.\n",
        "그래서 정규화가 필요."
      ]
    },
    {
      "metadata": {
        "id": "O9ss3xNfd_Ty",
        "colab_type": "code",
        "colab": {}
      },
      "cell_type": "code",
      "source": [
        "normed_subset = count_subset.div(count_subset.sum(1), axis=0) "
      ],
      "execution_count": 0,
      "outputs": []
    },
    {
      "metadata": {
        "id": "2xC3bfV5e8lc",
        "colab_type": "code",
        "colab": {
          "base_uri": "https://localhost:8080/",
          "height": 283
        },
        "outputId": "36a7915c-6b28-4df4-d952-0db16cb21ced"
      },
      "cell_type": "code",
      "source": [
        "normed_subset.plot(kind='barh', stacked=True)"
      ],
      "execution_count": 77,
      "outputs": [
        {
          "output_type": "execute_result",
          "data": {
            "text/plain": [
              "<matplotlib.axes._subplots.AxesSubplot at 0x7f838c17c1d0>"
            ]
          },
          "metadata": {
            "tags": []
          },
          "execution_count": 77
        },
        {
          "output_type": "display_data",
          "data": {
            "image/png": "[encoded data removed]",
            "text/plain": [
              "<matplotlib.figure.Figure at 0x7f838c1481d0>"
            ]
          },
          "metadata": {
            "tags": []
          }
        }
      ]
    },
    {
      "metadata": {
        "id": "BqRZnOqXftaz",
        "colab_type": "text"
      },
      "cell_type": "markdown",
      "source": [
        "이렇게도 할 수 있구나~~ 굿굿"
      ]
    },
    {
      "metadata": {
        "id": "PSSOf8qqfEOZ",
        "colab_type": "code",
        "colab": {}
      },
      "cell_type": "code",
      "source": [
        ""
      ],
      "execution_count": 0,
      "outputs": []
    }
  ]
}