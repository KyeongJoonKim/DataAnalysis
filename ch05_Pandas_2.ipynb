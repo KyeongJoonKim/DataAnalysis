{
  "nbformat": 4,
  "nbformat_minor": 0,
  "metadata": {
    "colab": {
      "name": "ch05_Pandas 2.ipynb",
      "version": "0.3.2",
      "provenance": [],
      "collapsed_sections": [
        "-y4J-i_7n3r4",
        "NebKo7zJsoGZ",
        "oqGk0Fx11nhm"
      ],
      "include_colab_link": true
    },
    "kernelspec": {
      "name": "python3",
      "display_name": "Python 3"
    }
  },
  "cells": [
    {
      "cell_type": "markdown",
      "metadata": {
        "id": "view-in-github",
        "colab_type": "text"
      },
      "source": [
        "<a href=\"https://colab.research.google.com/github/xuhu357/DataAnalysis/blob/master/ch05_Pandas_2.ipynb\" target=\"_parent\"><img src=\"https://colab.research.google.com/assets/colab-badge.svg\" alt=\"Open In Colab\"/></a>"
      ]
    },
    {
      "metadata": {
        "id": "IR9dPoEbnvyG",
        "colab_type": "code",
        "colab": {}
      },
      "cell_type": "code",
      "source": [
        "from pandas import Series, DataFrame\n",
        "\n",
        "import pandas as pd\n",
        "\n",
        "import numpy as np"
      ],
      "execution_count": 0,
      "outputs": []
    },
    {
      "metadata": {
        "id": "-y4J-i_7n3r4",
        "colab_type": "text"
      },
      "cell_type": "markdown",
      "source": [
        "### 상관관계와 공분산"
      ]
    },
    {
      "metadata": {
        "id": "7kYNR3hOn1Ol",
        "colab_type": "code",
        "outputId": "e92f40cf-baeb-4919-d680-b3dcc1118dbf",
        "colab": {
          "base_uri": "https://localhost:8080/",
          "height": 251
        }
      },
      "cell_type": "code",
      "source": [
        "!pip install pandas_datareader"
      ],
      "execution_count": 0,
      "outputs": [
        {
          "output_type": "stream",
          "text": [
            "Requirement already satisfied: pandas_datareader in /usr/local/lib/python3.6/dist-packages (0.7.0)\n",
            "Requirement already satisfied: lxml in /usr/local/lib/python3.6/dist-packages (from pandas_datareader) (4.2.5)\n",
            "Requirement already satisfied: wrapt in /usr/local/lib/python3.6/dist-packages (from pandas_datareader) (1.10.11)\n",
            "Requirement already satisfied: requests>=2.3.0 in /usr/local/lib/python3.6/dist-packages (from pandas_datareader) (2.18.4)\n",
            "Requirement already satisfied: pandas>=0.19.2 in /usr/local/lib/python3.6/dist-packages (from pandas_datareader) (0.22.0)\n",
            "Requirement already satisfied: certifi>=2017.4.17 in /usr/local/lib/python3.6/dist-packages (from requests>=2.3.0->pandas_datareader) (2018.11.29)\n",
            "Requirement already satisfied: idna<2.7,>=2.5 in /usr/local/lib/python3.6/dist-packages (from requests>=2.3.0->pandas_datareader) (2.6)\n",
            "Requirement already satisfied: chardet<3.1.0,>=3.0.2 in /usr/local/lib/python3.6/dist-packages (from requests>=2.3.0->pandas_datareader) (3.0.4)\n",
            "Requirement already satisfied: urllib3<1.23,>=1.21.1 in /usr/local/lib/python3.6/dist-packages (from requests>=2.3.0->pandas_datareader) (1.22)\n",
            "Requirement already satisfied: python-dateutil>=2 in /usr/local/lib/python3.6/dist-packages (from pandas>=0.19.2->pandas_datareader) (2.5.3)\n",
            "Requirement already satisfied: numpy>=1.9.0 in /usr/local/lib/python3.6/dist-packages (from pandas>=0.19.2->pandas_datareader) (1.14.6)\n",
            "Requirement already satisfied: pytz>=2011k in /usr/local/lib/python3.6/dist-packages (from pandas>=0.19.2->pandas_datareader) (2018.7)\n",
            "Requirement already satisfied: six>=1.5 in /usr/local/lib/python3.6/dist-packages (from python-dateutil>=2->pandas>=0.19.2->pandas_datareader) (1.11.0)\n"
          ],
          "name": "stdout"
        }
      ]
    },
    {
      "metadata": {
        "id": "vLvNBW59oGiH",
        "colab_type": "code",
        "colab": {}
      },
      "cell_type": "code",
      "source": [
        "import pandas as pd\n",
        "from pandas_datareader import data"
      ],
      "execution_count": 0,
      "outputs": []
    },
    {
      "metadata": {
        "id": "INxc3ItxoPJV",
        "colab_type": "code",
        "colab": {}
      },
      "cell_type": "code",
      "source": [
        "all_data = {}\n",
        "\n",
        "for ticker in ['AAPL', 'IBM', 'MSFT','GOOG']:\n",
        "  all_data[ticker] = data.DataReader(ticker, 'yahoo', '2015-01-01', '2016-01-01')\n",
        "  \n",
        "price = pd.DataFrame({tic: data['Adj Close'] for tic, data in all_data.items()})\n",
        "volume = pd.DataFrame({tic: data['Volume'] for tic, data in all_data.items()})"
      ],
      "execution_count": 0,
      "outputs": []
    },
    {
      "metadata": {
        "id": "ttQUWiTGosSj",
        "colab_type": "code",
        "colab": {}
      },
      "cell_type": "code",
      "source": [
        "returns = price.pct_change()"
      ],
      "execution_count": 0,
      "outputs": []
    },
    {
      "metadata": {
        "id": "uYOeDno3pR7-",
        "colab_type": "code",
        "outputId": "80e4e142-607b-4b45-f9b6-c492a8f5b19f",
        "colab": {
          "base_uri": "https://localhost:8080/",
          "height": 235
        }
      },
      "cell_type": "code",
      "source": [
        "returns.tail()"
      ],
      "execution_count": 0,
      "outputs": [
        {
          "output_type": "execute_result",
          "data": {
            "text/html": [
              "<div>\n",
              "<style scoped>\n",
              "    .dataframe tbody tr th:only-of-type {\n",
              "        vertical-align: middle;\n",
              "    }\n",
              "\n",
              "    .dataframe tbody tr th {\n",
              "        vertical-align: top;\n",
              "    }\n",
              "\n",
              "    .dataframe thead th {\n",
              "        text-align: right;\n",
              "    }\n",
              "</style>\n",
              "<table border=\"1\" class=\"dataframe\">\n",
              "  <thead>\n",
              "    <tr style=\"text-align: right;\">\n",
              "      <th></th>\n",
              "      <th>AAPL</th>\n",
              "      <th>GOOG</th>\n",
              "      <th>IBM</th>\n",
              "      <th>MSFT</th>\n",
              "    </tr>\n",
              "    <tr>\n",
              "      <th>Date</th>\n",
              "      <th></th>\n",
              "      <th></th>\n",
              "      <th></th>\n",
              "      <th></th>\n",
              "    </tr>\n",
              "  </thead>\n",
              "  <tbody>\n",
              "    <tr>\n",
              "      <th>2015-12-24</th>\n",
              "      <td>-0.005340</td>\n",
              "      <td>-0.002546</td>\n",
              "      <td>-0.002093</td>\n",
              "      <td>-0.002687</td>\n",
              "    </tr>\n",
              "    <tr>\n",
              "      <th>2015-12-28</th>\n",
              "      <td>-0.011201</td>\n",
              "      <td>0.018854</td>\n",
              "      <td>-0.004629</td>\n",
              "      <td>0.005030</td>\n",
              "    </tr>\n",
              "    <tr>\n",
              "      <th>2015-12-29</th>\n",
              "      <td>0.017974</td>\n",
              "      <td>0.018478</td>\n",
              "      <td>0.015769</td>\n",
              "      <td>0.010724</td>\n",
              "    </tr>\n",
              "    <tr>\n",
              "      <th>2015-12-30</th>\n",
              "      <td>-0.013058</td>\n",
              "      <td>-0.007211</td>\n",
              "      <td>-0.003148</td>\n",
              "      <td>-0.004244</td>\n",
              "    </tr>\n",
              "    <tr>\n",
              "      <th>2015-12-31</th>\n",
              "      <td>-0.019195</td>\n",
              "      <td>-0.015720</td>\n",
              "      <td>-0.012344</td>\n",
              "      <td>-0.014740</td>\n",
              "    </tr>\n",
              "  </tbody>\n",
              "</table>\n",
              "</div>"
            ],
            "text/plain": [
              "                AAPL      GOOG       IBM      MSFT\n",
              "Date                                              \n",
              "2015-12-24 -0.005340 -0.002546 -0.002093 -0.002687\n",
              "2015-12-28 -0.011201  0.018854 -0.004629  0.005030\n",
              "2015-12-29  0.017974  0.018478  0.015769  0.010724\n",
              "2015-12-30 -0.013058 -0.007211 -0.003148 -0.004244\n",
              "2015-12-31 -0.019195 -0.015720 -0.012344 -0.014740"
            ]
          },
          "metadata": {
            "tags": []
          },
          "execution_count": 6
        }
      ]
    },
    {
      "metadata": {
        "id": "wk2jtXxephAt",
        "colab_type": "code",
        "outputId": "8df1668e-e6e6-44d3-837a-b343bce4b805",
        "colab": {
          "base_uri": "https://localhost:8080/",
          "height": 235
        }
      },
      "cell_type": "code",
      "source": [
        "price.tail()"
      ],
      "execution_count": 0,
      "outputs": [
        {
          "output_type": "execute_result",
          "data": {
            "text/html": [
              "<div>\n",
              "<style scoped>\n",
              "    .dataframe tbody tr th:only-of-type {\n",
              "        vertical-align: middle;\n",
              "    }\n",
              "\n",
              "    .dataframe tbody tr th {\n",
              "        vertical-align: top;\n",
              "    }\n",
              "\n",
              "    .dataframe thead th {\n",
              "        text-align: right;\n",
              "    }\n",
              "</style>\n",
              "<table border=\"1\" class=\"dataframe\">\n",
              "  <thead>\n",
              "    <tr style=\"text-align: right;\">\n",
              "      <th></th>\n",
              "      <th>AAPL</th>\n",
              "      <th>GOOG</th>\n",
              "      <th>IBM</th>\n",
              "      <th>MSFT</th>\n",
              "    </tr>\n",
              "    <tr>\n",
              "      <th>Date</th>\n",
              "      <th></th>\n",
              "      <th></th>\n",
              "      <th></th>\n",
              "      <th></th>\n",
              "    </tr>\n",
              "  </thead>\n",
              "  <tbody>\n",
              "    <tr>\n",
              "      <th>2015-12-24</th>\n",
              "      <td>102.467850</td>\n",
              "      <td>748.400024</td>\n",
              "      <td>121.488968</td>\n",
              "      <td>52.097908</td>\n",
              "    </tr>\n",
              "    <tr>\n",
              "      <th>2015-12-28</th>\n",
              "      <td>101.320145</td>\n",
              "      <td>762.510010</td>\n",
              "      <td>120.926575</td>\n",
              "      <td>52.359940</td>\n",
              "    </tr>\n",
              "    <tr>\n",
              "      <th>2015-12-29</th>\n",
              "      <td>103.141289</td>\n",
              "      <td>776.599976</td>\n",
              "      <td>122.833458</td>\n",
              "      <td>52.921440</td>\n",
              "    </tr>\n",
              "    <tr>\n",
              "      <th>2015-12-30</th>\n",
              "      <td>101.794418</td>\n",
              "      <td>771.000000</td>\n",
              "      <td>122.446838</td>\n",
              "      <td>52.696846</td>\n",
              "    </tr>\n",
              "    <tr>\n",
              "      <th>2015-12-31</th>\n",
              "      <td>99.840477</td>\n",
              "      <td>758.880005</td>\n",
              "      <td>120.935364</td>\n",
              "      <td>51.920101</td>\n",
              "    </tr>\n",
              "  </tbody>\n",
              "</table>\n",
              "</div>"
            ],
            "text/plain": [
              "                  AAPL        GOOG         IBM       MSFT\n",
              "Date                                                     \n",
              "2015-12-24  102.467850  748.400024  121.488968  52.097908\n",
              "2015-12-28  101.320145  762.510010  120.926575  52.359940\n",
              "2015-12-29  103.141289  776.599976  122.833458  52.921440\n",
              "2015-12-30  101.794418  771.000000  122.446838  52.696846\n",
              "2015-12-31   99.840477  758.880005  120.935364  51.920101"
            ]
          },
          "metadata": {
            "tags": []
          },
          "execution_count": 7
        }
      ]
    },
    {
      "metadata": {
        "id": "1szlVShApy34",
        "colab_type": "text"
      },
      "cell_type": "markdown",
      "source": [
        "corr 메소드는 NA가 아니고, 정렬된 색인에서 연속하는 두 Series에 대해서 상관 관계를 계산하고 cov메소드는 공분산을 계산\n"
      ]
    },
    {
      "metadata": {
        "id": "O0sVNln_pkWL",
        "colab_type": "code",
        "outputId": "8f7a0146-f8ac-4b26-b292-d828c7bb0a39",
        "colab": {
          "base_uri": "https://localhost:8080/",
          "height": 35
        }
      },
      "cell_type": "code",
      "source": [
        "returns.MSFT.corr(returns.IBM)"
      ],
      "execution_count": 0,
      "outputs": [
        {
          "output_type": "execute_result",
          "data": {
            "text/plain": [
              "0.5493783907495223"
            ]
          },
          "metadata": {
            "tags": []
          },
          "execution_count": 8
        }
      ]
    },
    {
      "metadata": {
        "id": "kgPA4QAWqDHv",
        "colab_type": "code",
        "outputId": "2875af94-a9c7-45f0-9184-35181a944d50",
        "colab": {
          "base_uri": "https://localhost:8080/",
          "height": 35
        }
      },
      "cell_type": "code",
      "source": [
        "returns.MSFT.cov(returns.IBM)"
      ],
      "execution_count": 0,
      "outputs": [
        {
          "output_type": "execute_result",
          "data": {
            "text/plain": [
              "0.00013072732105472176"
            ]
          },
          "metadata": {
            "tags": []
          },
          "execution_count": 9
        }
      ]
    },
    {
      "metadata": {
        "id": "66kqMOuNqIq8",
        "colab_type": "code",
        "outputId": "8c457bcc-993a-44aa-b4cc-933a39af9b46",
        "colab": {
          "base_uri": "https://localhost:8080/",
          "height": 173
        }
      },
      "cell_type": "code",
      "source": [
        "returns.corr()"
      ],
      "execution_count": 0,
      "outputs": [
        {
          "output_type": "execute_result",
          "data": {
            "text/html": [
              "<div>\n",
              "<style scoped>\n",
              "    .dataframe tbody tr th:only-of-type {\n",
              "        vertical-align: middle;\n",
              "    }\n",
              "\n",
              "    .dataframe tbody tr th {\n",
              "        vertical-align: top;\n",
              "    }\n",
              "\n",
              "    .dataframe thead th {\n",
              "        text-align: right;\n",
              "    }\n",
              "</style>\n",
              "<table border=\"1\" class=\"dataframe\">\n",
              "  <thead>\n",
              "    <tr style=\"text-align: right;\">\n",
              "      <th></th>\n",
              "      <th>AAPL</th>\n",
              "      <th>GOOG</th>\n",
              "      <th>IBM</th>\n",
              "      <th>MSFT</th>\n",
              "    </tr>\n",
              "  </thead>\n",
              "  <tbody>\n",
              "    <tr>\n",
              "      <th>AAPL</th>\n",
              "      <td>1.000000</td>\n",
              "      <td>0.381578</td>\n",
              "      <td>0.516632</td>\n",
              "      <td>0.523573</td>\n",
              "    </tr>\n",
              "    <tr>\n",
              "      <th>GOOG</th>\n",
              "      <td>0.381578</td>\n",
              "      <td>1.000000</td>\n",
              "      <td>0.453230</td>\n",
              "      <td>0.521243</td>\n",
              "    </tr>\n",
              "    <tr>\n",
              "      <th>IBM</th>\n",
              "      <td>0.516632</td>\n",
              "      <td>0.453230</td>\n",
              "      <td>1.000000</td>\n",
              "      <td>0.549378</td>\n",
              "    </tr>\n",
              "    <tr>\n",
              "      <th>MSFT</th>\n",
              "      <td>0.523573</td>\n",
              "      <td>0.521243</td>\n",
              "      <td>0.549378</td>\n",
              "      <td>1.000000</td>\n",
              "    </tr>\n",
              "  </tbody>\n",
              "</table>\n",
              "</div>"
            ],
            "text/plain": [
              "          AAPL      GOOG       IBM      MSFT\n",
              "AAPL  1.000000  0.381578  0.516632  0.523573\n",
              "GOOG  0.381578  1.000000  0.453230  0.521243\n",
              "IBM   0.516632  0.453230  1.000000  0.549378\n",
              "MSFT  0.523573  0.521243  0.549378  1.000000"
            ]
          },
          "metadata": {
            "tags": []
          },
          "execution_count": 10
        }
      ]
    },
    {
      "metadata": {
        "id": "OppAXNkTqNaz",
        "colab_type": "code",
        "outputId": "b0f5bab0-a092-474b-fb80-e20b7714814f",
        "colab": {
          "base_uri": "https://localhost:8080/",
          "height": 173
        }
      },
      "cell_type": "code",
      "source": [
        "returns.cov()"
      ],
      "execution_count": 0,
      "outputs": [
        {
          "output_type": "execute_result",
          "data": {
            "text/html": [
              "<div>\n",
              "<style scoped>\n",
              "    .dataframe tbody tr th:only-of-type {\n",
              "        vertical-align: middle;\n",
              "    }\n",
              "\n",
              "    .dataframe tbody tr th {\n",
              "        vertical-align: top;\n",
              "    }\n",
              "\n",
              "    .dataframe thead th {\n",
              "        text-align: right;\n",
              "    }\n",
              "</style>\n",
              "<table border=\"1\" class=\"dataframe\">\n",
              "  <thead>\n",
              "    <tr style=\"text-align: right;\">\n",
              "      <th></th>\n",
              "      <th>AAPL</th>\n",
              "      <th>GOOG</th>\n",
              "      <th>IBM</th>\n",
              "      <th>MSFT</th>\n",
              "    </tr>\n",
              "  </thead>\n",
              "  <tbody>\n",
              "    <tr>\n",
              "      <th>AAPL</th>\n",
              "      <td>0.000284</td>\n",
              "      <td>0.000120</td>\n",
              "      <td>0.000116</td>\n",
              "      <td>0.000157</td>\n",
              "    </tr>\n",
              "    <tr>\n",
              "      <th>GOOG</th>\n",
              "      <td>0.000120</td>\n",
              "      <td>0.000346</td>\n",
              "      <td>0.000113</td>\n",
              "      <td>0.000173</td>\n",
              "    </tr>\n",
              "    <tr>\n",
              "      <th>IBM</th>\n",
              "      <td>0.000116</td>\n",
              "      <td>0.000113</td>\n",
              "      <td>0.000179</td>\n",
              "      <td>0.000131</td>\n",
              "    </tr>\n",
              "    <tr>\n",
              "      <th>MSFT</th>\n",
              "      <td>0.000157</td>\n",
              "      <td>0.000173</td>\n",
              "      <td>0.000131</td>\n",
              "      <td>0.000317</td>\n",
              "    </tr>\n",
              "  </tbody>\n",
              "</table>\n",
              "</div>"
            ],
            "text/plain": [
              "          AAPL      GOOG       IBM      MSFT\n",
              "AAPL  0.000284  0.000120  0.000116  0.000157\n",
              "GOOG  0.000120  0.000346  0.000113  0.000173\n",
              "IBM   0.000116  0.000113  0.000179  0.000131\n",
              "MSFT  0.000157  0.000173  0.000131  0.000317"
            ]
          },
          "metadata": {
            "tags": []
          },
          "execution_count": 11
        }
      ]
    },
    {
      "metadata": {
        "id": "nzcdJNltsGnI",
        "colab_type": "code",
        "outputId": "abed034d-9be1-48a4-d313-af3dadb075b0",
        "colab": {
          "base_uri": "https://localhost:8080/",
          "height": 107
        }
      },
      "cell_type": "code",
      "source": [
        "returns.corrwith(returns.IBM)"
      ],
      "execution_count": 0,
      "outputs": [
        {
          "output_type": "execute_result",
          "data": {
            "text/plain": [
              "AAPL    0.516632\n",
              "GOOG    0.453230\n",
              "IBM     1.000000\n",
              "MSFT    0.549378\n",
              "dtype: float64"
            ]
          },
          "metadata": {
            "tags": []
          },
          "execution_count": 12
        }
      ]
    },
    {
      "metadata": {
        "id": "FnUAN9PlqWG5",
        "colab_type": "code",
        "outputId": "9ef0543e-a10d-4f4f-84ed-391ece7d192c",
        "colab": {
          "base_uri": "https://localhost:8080/",
          "height": 235
        }
      },
      "cell_type": "code",
      "source": [
        "volume.head()"
      ],
      "execution_count": 0,
      "outputs": [
        {
          "output_type": "execute_result",
          "data": {
            "text/html": [
              "<div>\n",
              "<style scoped>\n",
              "    .dataframe tbody tr th:only-of-type {\n",
              "        vertical-align: middle;\n",
              "    }\n",
              "\n",
              "    .dataframe tbody tr th {\n",
              "        vertical-align: top;\n",
              "    }\n",
              "\n",
              "    .dataframe thead th {\n",
              "        text-align: right;\n",
              "    }\n",
              "</style>\n",
              "<table border=\"1\" class=\"dataframe\">\n",
              "  <thead>\n",
              "    <tr style=\"text-align: right;\">\n",
              "      <th></th>\n",
              "      <th>AAPL</th>\n",
              "      <th>GOOG</th>\n",
              "      <th>IBM</th>\n",
              "      <th>MSFT</th>\n",
              "    </tr>\n",
              "    <tr>\n",
              "      <th>Date</th>\n",
              "      <th></th>\n",
              "      <th></th>\n",
              "      <th></th>\n",
              "      <th></th>\n",
              "    </tr>\n",
              "  </thead>\n",
              "  <tbody>\n",
              "    <tr>\n",
              "      <th>2015-01-02</th>\n",
              "      <td>53204600.0</td>\n",
              "      <td>1447600.0</td>\n",
              "      <td>5525500.0</td>\n",
              "      <td>27913900.0</td>\n",
              "    </tr>\n",
              "    <tr>\n",
              "      <th>2015-01-05</th>\n",
              "      <td>64285500.0</td>\n",
              "      <td>2059800.0</td>\n",
              "      <td>4880400.0</td>\n",
              "      <td>39673900.0</td>\n",
              "    </tr>\n",
              "    <tr>\n",
              "      <th>2015-01-06</th>\n",
              "      <td>65797100.0</td>\n",
              "      <td>2899900.0</td>\n",
              "      <td>6146700.0</td>\n",
              "      <td>36447900.0</td>\n",
              "    </tr>\n",
              "    <tr>\n",
              "      <th>2015-01-07</th>\n",
              "      <td>40105900.0</td>\n",
              "      <td>2065100.0</td>\n",
              "      <td>4701800.0</td>\n",
              "      <td>29114100.0</td>\n",
              "    </tr>\n",
              "    <tr>\n",
              "      <th>2015-01-08</th>\n",
              "      <td>59364500.0</td>\n",
              "      <td>3353600.0</td>\n",
              "      <td>4236800.0</td>\n",
              "      <td>29645200.0</td>\n",
              "    </tr>\n",
              "  </tbody>\n",
              "</table>\n",
              "</div>"
            ],
            "text/plain": [
              "                  AAPL       GOOG        IBM        MSFT\n",
              "Date                                                    \n",
              "2015-01-02  53204600.0  1447600.0  5525500.0  27913900.0\n",
              "2015-01-05  64285500.0  2059800.0  4880400.0  39673900.0\n",
              "2015-01-06  65797100.0  2899900.0  6146700.0  36447900.0\n",
              "2015-01-07  40105900.0  2065100.0  4701800.0  29114100.0\n",
              "2015-01-08  59364500.0  3353600.0  4236800.0  29645200.0"
            ]
          },
          "metadata": {
            "tags": []
          },
          "execution_count": 13
        }
      ]
    },
    {
      "metadata": {
        "id": "GbLucOTLsBsB",
        "colab_type": "code",
        "outputId": "43c96abc-a56f-4ac8-ca55-94faaa2e53ba",
        "colab": {
          "base_uri": "https://localhost:8080/",
          "height": 107
        }
      },
      "cell_type": "code",
      "source": [
        "returns.corrwith(volume)"
      ],
      "execution_count": 0,
      "outputs": [
        {
          "output_type": "execute_result",
          "data": {
            "text/plain": [
              "AAPL   -0.119290\n",
              "GOOG    0.406530\n",
              "IBM    -0.302053\n",
              "MSFT   -0.002987\n",
              "dtype: float64"
            ]
          },
          "metadata": {
            "tags": []
          },
          "execution_count": 14
        }
      ]
    },
    {
      "metadata": {
        "id": "NebKo7zJsoGZ",
        "colab_type": "text"
      },
      "cell_type": "markdown",
      "source": [
        "### 유일값, 값 세기, 멤버십"
      ]
    },
    {
      "metadata": {
        "id": "Ef4PwqIMsblT",
        "colab_type": "code",
        "colab": {}
      },
      "cell_type": "code",
      "source": [
        "obj = Series(['c', 'a', 'd', 'a', 'a', 'b', 'b', 'c', 'c'])"
      ],
      "execution_count": 0,
      "outputs": []
    },
    {
      "metadata": {
        "id": "3a3gfrnfs6eL",
        "colab_type": "code",
        "colab": {}
      },
      "cell_type": "code",
      "source": [
        "uniques = obj.unique()"
      ],
      "execution_count": 0,
      "outputs": []
    },
    {
      "metadata": {
        "id": "-Rl97o5vtAO9",
        "colab_type": "code",
        "outputId": "344f9139-79fb-4dc5-d3ca-50a506e9bc89",
        "colab": {
          "base_uri": "https://localhost:8080/",
          "height": 35
        }
      },
      "cell_type": "code",
      "source": [
        "uniques"
      ],
      "execution_count": 0,
      "outputs": [
        {
          "output_type": "execute_result",
          "data": {
            "text/plain": [
              "array(['c', 'a', 'd', 'b'], dtype=object)"
            ]
          },
          "metadata": {
            "tags": []
          },
          "execution_count": 17
        }
      ]
    },
    {
      "metadata": {
        "id": "954A_OS6PwQD",
        "colab_type": "text"
      },
      "cell_type": "markdown",
      "source": [
        "Unique는 말그대로 유일한 값을 찾아주는 것이지, 정렬까지는 책임져 주지 않는다. "
      ]
    },
    {
      "metadata": {
        "id": "RSMTgCHVtBjB",
        "colab_type": "code",
        "outputId": "8c584011-4023-48cd-a211-09c9bfc1b2cc",
        "colab": {
          "base_uri": "https://localhost:8080/",
          "height": 107
        }
      },
      "cell_type": "code",
      "source": [
        "obj.value_counts()"
      ],
      "execution_count": 0,
      "outputs": [
        {
          "output_type": "execute_result",
          "data": {
            "text/plain": [
              "c    3\n",
              "a    3\n",
              "b    2\n",
              "d    1\n",
              "dtype: int64"
            ]
          },
          "metadata": {
            "tags": []
          },
          "execution_count": 18
        }
      ]
    },
    {
      "metadata": {
        "id": "Q0-7QIqsycDw",
        "colab_type": "code",
        "outputId": "b705d949-a119-4718-a897-0871b71794b7",
        "colab": {
          "base_uri": "https://localhost:8080/",
          "height": 107
        }
      },
      "cell_type": "code",
      "source": [
        "pd.value_counts(obj.values, sort=False)"
      ],
      "execution_count": 0,
      "outputs": [
        {
          "output_type": "execute_result",
          "data": {
            "text/plain": [
              "a    3\n",
              "d    1\n",
              "b    2\n",
              "c    3\n",
              "dtype: int64"
            ]
          },
          "metadata": {
            "tags": []
          },
          "execution_count": 19
        }
      ]
    },
    {
      "metadata": {
        "id": "cmZSZfC5yq14",
        "colab_type": "code",
        "outputId": "cf1d8111-914e-484e-cf33-f72f3a62fa94",
        "colab": {
          "base_uri": "https://localhost:8080/",
          "height": 107
        }
      },
      "cell_type": "code",
      "source": [
        "pd.value_counts(obj.values)"
      ],
      "execution_count": 0,
      "outputs": [
        {
          "output_type": "execute_result",
          "data": {
            "text/plain": [
              "c    3\n",
              "a    3\n",
              "b    2\n",
              "d    1\n",
              "dtype: int64"
            ]
          },
          "metadata": {
            "tags": []
          },
          "execution_count": 20
        }
      ]
    },
    {
      "metadata": {
        "id": "n4gdJrOsQBJ0",
        "colab_type": "text"
      },
      "cell_type": "markdown",
      "source": [
        "특정 값을 가진 부분 row만을 선택하고 싶을 때, "
      ]
    },
    {
      "metadata": {
        "id": "NvACxVYjyxZL",
        "colab_type": "code",
        "colab": {}
      },
      "cell_type": "code",
      "source": [
        "mask = obj.isin(['b', 'd'])"
      ],
      "execution_count": 0,
      "outputs": []
    },
    {
      "metadata": {
        "id": "Y3B7LWWry3NH",
        "colab_type": "code",
        "outputId": "2ae192fe-63d8-4e1b-ff87-f74d27987c7b",
        "colab": {
          "base_uri": "https://localhost:8080/",
          "height": 197
        }
      },
      "cell_type": "code",
      "source": [
        "mask"
      ],
      "execution_count": 0,
      "outputs": [
        {
          "output_type": "execute_result",
          "data": {
            "text/plain": [
              "0    False\n",
              "1    False\n",
              "2     True\n",
              "3    False\n",
              "4    False\n",
              "5     True\n",
              "6     True\n",
              "7    False\n",
              "8    False\n",
              "dtype: bool"
            ]
          },
          "metadata": {
            "tags": []
          },
          "execution_count": 22
        }
      ]
    },
    {
      "metadata": {
        "id": "sH9MLUSxy33G",
        "colab_type": "code",
        "outputId": "cb86f21e-58f6-4065-fe0d-035f2872a723",
        "colab": {
          "base_uri": "https://localhost:8080/",
          "height": 89
        }
      },
      "cell_type": "code",
      "source": [
        "obj[mask]"
      ],
      "execution_count": 0,
      "outputs": [
        {
          "output_type": "execute_result",
          "data": {
            "text/plain": [
              "2    d\n",
              "5    b\n",
              "6    b\n",
              "dtype: object"
            ]
          },
          "metadata": {
            "tags": []
          },
          "execution_count": 23
        }
      ]
    },
    {
      "metadata": {
        "id": "u3yA0X6pzCtA",
        "colab_type": "text"
      },
      "cell_type": "markdown",
      "source": [
        "**정리해보면, **\n",
        "\n",
        "* isin: Series의 각 원소가 넘겨 받은 연속된 값에 속하는지를 나타내는 불리언 배열을 반환.\n",
        "* unique: Series에서 중복되는 값을 제거하고 , 유일한 값만 포함하는 배열을 반환. 결과는 Series에서 발견된 순서대로 반환.\n",
        "* value_counts: Series에서 유일 값에 대한 색인 값과 도수를 계산. 결과는 도수 값의 내림차순으로 정렬."
      ]
    },
    {
      "metadata": {
        "id": "0mi6E54Hy-FQ",
        "colab_type": "code",
        "colab": {}
      },
      "cell_type": "code",
      "source": [
        "data = DataFrame(\n",
        "    {\n",
        "        'Qu1': [1, 3, 4, 3, 4],\n",
        "        'Qu2': [2, 3, 1, 2, 3], \n",
        "        'Qu3': [1, 5, 2, 4, 4]\n",
        "    }\n",
        ")"
      ],
      "execution_count": 0,
      "outputs": []
    },
    {
      "metadata": {
        "id": "ecXnC61cz9yx",
        "colab_type": "code",
        "outputId": "9ee9b931-c41b-4c2f-c7c8-fc0840af8dfe",
        "colab": {
          "base_uri": "https://localhost:8080/",
          "height": 204
        }
      },
      "cell_type": "code",
      "source": [
        "data"
      ],
      "execution_count": 0,
      "outputs": [
        {
          "output_type": "execute_result",
          "data": {
            "text/html": [
              "<div>\n",
              "<style scoped>\n",
              "    .dataframe tbody tr th:only-of-type {\n",
              "        vertical-align: middle;\n",
              "    }\n",
              "\n",
              "    .dataframe tbody tr th {\n",
              "        vertical-align: top;\n",
              "    }\n",
              "\n",
              "    .dataframe thead th {\n",
              "        text-align: right;\n",
              "    }\n",
              "</style>\n",
              "<table border=\"1\" class=\"dataframe\">\n",
              "  <thead>\n",
              "    <tr style=\"text-align: right;\">\n",
              "      <th></th>\n",
              "      <th>Qu1</th>\n",
              "      <th>Qu2</th>\n",
              "      <th>Qu3</th>\n",
              "    </tr>\n",
              "  </thead>\n",
              "  <tbody>\n",
              "    <tr>\n",
              "      <th>0</th>\n",
              "      <td>1</td>\n",
              "      <td>2</td>\n",
              "      <td>1</td>\n",
              "    </tr>\n",
              "    <tr>\n",
              "      <th>1</th>\n",
              "      <td>3</td>\n",
              "      <td>3</td>\n",
              "      <td>5</td>\n",
              "    </tr>\n",
              "    <tr>\n",
              "      <th>2</th>\n",
              "      <td>4</td>\n",
              "      <td>1</td>\n",
              "      <td>2</td>\n",
              "    </tr>\n",
              "    <tr>\n",
              "      <th>3</th>\n",
              "      <td>3</td>\n",
              "      <td>2</td>\n",
              "      <td>4</td>\n",
              "    </tr>\n",
              "    <tr>\n",
              "      <th>4</th>\n",
              "      <td>4</td>\n",
              "      <td>3</td>\n",
              "      <td>4</td>\n",
              "    </tr>\n",
              "  </tbody>\n",
              "</table>\n",
              "</div>"
            ],
            "text/plain": [
              "   Qu1  Qu2  Qu3\n",
              "0    1    2    1\n",
              "1    3    3    5\n",
              "2    4    1    2\n",
              "3    3    2    4\n",
              "4    4    3    4"
            ]
          },
          "metadata": {
            "tags": []
          },
          "execution_count": 25
        }
      ]
    },
    {
      "metadata": {
        "id": "OKZaLjHh0Tq1",
        "colab_type": "code",
        "outputId": "da294c63-e87b-49b2-e472-240894db9bc2",
        "colab": {
          "base_uri": "https://localhost:8080/",
          "height": 204
        }
      },
      "cell_type": "code",
      "source": [
        "data.apply(pd.value_counts).fillna(0) # 없는 값은 0으로 채우자~"
      ],
      "execution_count": 0,
      "outputs": [
        {
          "output_type": "execute_result",
          "data": {
            "text/html": [
              "<div>\n",
              "<style scoped>\n",
              "    .dataframe tbody tr th:only-of-type {\n",
              "        vertical-align: middle;\n",
              "    }\n",
              "\n",
              "    .dataframe tbody tr th {\n",
              "        vertical-align: top;\n",
              "    }\n",
              "\n",
              "    .dataframe thead th {\n",
              "        text-align: right;\n",
              "    }\n",
              "</style>\n",
              "<table border=\"1\" class=\"dataframe\">\n",
              "  <thead>\n",
              "    <tr style=\"text-align: right;\">\n",
              "      <th></th>\n",
              "      <th>Qu1</th>\n",
              "      <th>Qu2</th>\n",
              "      <th>Qu3</th>\n",
              "    </tr>\n",
              "  </thead>\n",
              "  <tbody>\n",
              "    <tr>\n",
              "      <th>1</th>\n",
              "      <td>1.0</td>\n",
              "      <td>1.0</td>\n",
              "      <td>1.0</td>\n",
              "    </tr>\n",
              "    <tr>\n",
              "      <th>2</th>\n",
              "      <td>0.0</td>\n",
              "      <td>2.0</td>\n",
              "      <td>1.0</td>\n",
              "    </tr>\n",
              "    <tr>\n",
              "      <th>3</th>\n",
              "      <td>2.0</td>\n",
              "      <td>2.0</td>\n",
              "      <td>0.0</td>\n",
              "    </tr>\n",
              "    <tr>\n",
              "      <th>4</th>\n",
              "      <td>2.0</td>\n",
              "      <td>0.0</td>\n",
              "      <td>2.0</td>\n",
              "    </tr>\n",
              "    <tr>\n",
              "      <th>5</th>\n",
              "      <td>0.0</td>\n",
              "      <td>0.0</td>\n",
              "      <td>1.0</td>\n",
              "    </tr>\n",
              "  </tbody>\n",
              "</table>\n",
              "</div>"
            ],
            "text/plain": [
              "   Qu1  Qu2  Qu3\n",
              "1  1.0  1.0  1.0\n",
              "2  0.0  2.0  1.0\n",
              "3  2.0  2.0  0.0\n",
              "4  2.0  0.0  2.0\n",
              "5  0.0  0.0  1.0"
            ]
          },
          "metadata": {
            "tags": []
          },
          "execution_count": 26
        }
      ]
    },
    {
      "metadata": {
        "id": "rmtF6egY0YZ9",
        "colab_type": "code",
        "outputId": "d700f49a-dd68-4575-9a4a-3a4e13a7ee13",
        "colab": {
          "base_uri": "https://localhost:8080/",
          "height": 204
        }
      },
      "cell_type": "code",
      "source": [
        "data.apply(pd.value_counts, axis=1).fillna(0) # column에 대해서 적용해보자"
      ],
      "execution_count": 0,
      "outputs": [
        {
          "output_type": "execute_result",
          "data": {
            "text/html": [
              "<div>\n",
              "<style scoped>\n",
              "    .dataframe tbody tr th:only-of-type {\n",
              "        vertical-align: middle;\n",
              "    }\n",
              "\n",
              "    .dataframe tbody tr th {\n",
              "        vertical-align: top;\n",
              "    }\n",
              "\n",
              "    .dataframe thead th {\n",
              "        text-align: right;\n",
              "    }\n",
              "</style>\n",
              "<table border=\"1\" class=\"dataframe\">\n",
              "  <thead>\n",
              "    <tr style=\"text-align: right;\">\n",
              "      <th></th>\n",
              "      <th>1</th>\n",
              "      <th>2</th>\n",
              "      <th>3</th>\n",
              "      <th>4</th>\n",
              "      <th>5</th>\n",
              "    </tr>\n",
              "  </thead>\n",
              "  <tbody>\n",
              "    <tr>\n",
              "      <th>0</th>\n",
              "      <td>2.0</td>\n",
              "      <td>1.0</td>\n",
              "      <td>0.0</td>\n",
              "      <td>0.0</td>\n",
              "      <td>0.0</td>\n",
              "    </tr>\n",
              "    <tr>\n",
              "      <th>1</th>\n",
              "      <td>0.0</td>\n",
              "      <td>0.0</td>\n",
              "      <td>2.0</td>\n",
              "      <td>0.0</td>\n",
              "      <td>1.0</td>\n",
              "    </tr>\n",
              "    <tr>\n",
              "      <th>2</th>\n",
              "      <td>1.0</td>\n",
              "      <td>1.0</td>\n",
              "      <td>0.0</td>\n",
              "      <td>1.0</td>\n",
              "      <td>0.0</td>\n",
              "    </tr>\n",
              "    <tr>\n",
              "      <th>3</th>\n",
              "      <td>0.0</td>\n",
              "      <td>1.0</td>\n",
              "      <td>1.0</td>\n",
              "      <td>1.0</td>\n",
              "      <td>0.0</td>\n",
              "    </tr>\n",
              "    <tr>\n",
              "      <th>4</th>\n",
              "      <td>0.0</td>\n",
              "      <td>0.0</td>\n",
              "      <td>1.0</td>\n",
              "      <td>2.0</td>\n",
              "      <td>0.0</td>\n",
              "    </tr>\n",
              "  </tbody>\n",
              "</table>\n",
              "</div>"
            ],
            "text/plain": [
              "     1    2    3    4    5\n",
              "0  2.0  1.0  0.0  0.0  0.0\n",
              "1  0.0  0.0  2.0  0.0  1.0\n",
              "2  1.0  1.0  0.0  1.0  0.0\n",
              "3  0.0  1.0  1.0  1.0  0.0\n",
              "4  0.0  0.0  1.0  2.0  0.0"
            ]
          },
          "metadata": {
            "tags": []
          },
          "execution_count": 27
        }
      ]
    },
    {
      "metadata": {
        "id": "oqGk0Fx11nhm",
        "colab_type": "text"
      },
      "cell_type": "markdown",
      "source": [
        "## 누락된 데이터 처리하기"
      ]
    },
    {
      "metadata": {
        "id": "YmgNRniC1PIO",
        "colab_type": "code",
        "colab": {}
      },
      "cell_type": "code",
      "source": [
        "str_data = Series(['aardvark', 'artichoke', np.nan, 'avocado'])"
      ],
      "execution_count": 0,
      "outputs": []
    },
    {
      "metadata": {
        "id": "_T2bLmDZ17Jg",
        "colab_type": "code",
        "outputId": "1b304e80-9d27-4926-b3da-cc880d8be0f6",
        "colab": {
          "base_uri": "https://localhost:8080/",
          "height": 107
        }
      },
      "cell_type": "code",
      "source": [
        "str_data"
      ],
      "execution_count": 0,
      "outputs": [
        {
          "output_type": "execute_result",
          "data": {
            "text/plain": [
              "0     aardvark\n",
              "1    artichoke\n",
              "2          NaN\n",
              "3      avocado\n",
              "dtype: object"
            ]
          },
          "metadata": {
            "tags": []
          },
          "execution_count": 29
        }
      ]
    },
    {
      "metadata": {
        "id": "xAkRs2_b18tg",
        "colab_type": "code",
        "outputId": "fe79f8d5-a2b2-4c0f-fb3d-451c8295c729",
        "colab": {
          "base_uri": "https://localhost:8080/",
          "height": 107
        }
      },
      "cell_type": "code",
      "source": [
        "str_data.isnull()"
      ],
      "execution_count": 0,
      "outputs": [
        {
          "output_type": "execute_result",
          "data": {
            "text/plain": [
              "0    False\n",
              "1    False\n",
              "2     True\n",
              "3    False\n",
              "dtype: bool"
            ]
          },
          "metadata": {
            "tags": []
          },
          "execution_count": 30
        }
      ]
    },
    {
      "metadata": {
        "id": "4mhaKW6a1_oV",
        "colab_type": "code",
        "colab": {}
      },
      "cell_type": "code",
      "source": [
        "str_data[0] = None"
      ],
      "execution_count": 0,
      "outputs": []
    },
    {
      "metadata": {
        "id": "mNAZvMI32H-S",
        "colab_type": "code",
        "outputId": "d5549720-09b9-4a7f-a5ee-9de1ebbc6414",
        "colab": {
          "base_uri": "https://localhost:8080/",
          "height": 107
        }
      },
      "cell_type": "code",
      "source": [
        "str_data"
      ],
      "execution_count": 0,
      "outputs": [
        {
          "output_type": "execute_result",
          "data": {
            "text/plain": [
              "0         None\n",
              "1    artichoke\n",
              "2          NaN\n",
              "3      avocado\n",
              "dtype: object"
            ]
          },
          "metadata": {
            "tags": []
          },
          "execution_count": 32
        }
      ]
    },
    {
      "metadata": {
        "id": "KkKjpHPN2Jzs",
        "colab_type": "code",
        "outputId": "8aa25b07-130d-4432-b2b9-8afe4cd28afc",
        "colab": {
          "base_uri": "https://localhost:8080/",
          "height": 107
        }
      },
      "cell_type": "code",
      "source": [
        "str_data.isnull()"
      ],
      "execution_count": 0,
      "outputs": [
        {
          "output_type": "execute_result",
          "data": {
            "text/plain": [
              "0     True\n",
              "1    False\n",
              "2     True\n",
              "3    False\n",
              "dtype: bool"
            ]
          },
          "metadata": {
            "tags": []
          },
          "execution_count": 33
        }
      ]
    },
    {
      "metadata": {
        "id": "Ssb4pRbE2VnH",
        "colab_type": "text"
      },
      "cell_type": "markdown",
      "source": [
        "**NA 처리 메소드**\n",
        "\n",
        "* dropna: 누락된 데이터가 있는 축을 제외. 어느 정도 누락 데이터까지 용인할 것인지 지정 가능\n",
        "* fillna: 누락된 데이터를 대신할 값을 채우거나 ffill 또는 bfill같은 보간 메소드를 적용\n",
        "* isnull: 누락되거나 NA 값을 알려주는 불리언 값이 저장된, 같은 형태의 객체를 반환\n",
        "* notnull: isnull과 반대되는 메소드"
      ]
    },
    {
      "metadata": {
        "id": "B8Ia8SCW2xzw",
        "colab_type": "text"
      },
      "cell_type": "markdown",
      "source": [
        "### 누락된 데이터 골라내기"
      ]
    },
    {
      "metadata": {
        "id": "aF7_ISrh2MuQ",
        "colab_type": "code",
        "colab": {}
      },
      "cell_type": "code",
      "source": [
        "from numpy import nan as NA"
      ],
      "execution_count": 0,
      "outputs": []
    },
    {
      "metadata": {
        "id": "gkQaEdgX26BR",
        "colab_type": "code",
        "colab": {}
      },
      "cell_type": "code",
      "source": [
        "data = Series([1, NA, 3.5, NA, 7])"
      ],
      "execution_count": 0,
      "outputs": []
    },
    {
      "metadata": {
        "id": "YNQRPbBB2_KR",
        "colab_type": "code",
        "outputId": "c4f4cce6-efc4-4d44-e8bb-0a8b7da772af",
        "colab": {
          "base_uri": "https://localhost:8080/",
          "height": 125
        }
      },
      "cell_type": "code",
      "source": [
        "data"
      ],
      "execution_count": 0,
      "outputs": [
        {
          "output_type": "execute_result",
          "data": {
            "text/plain": [
              "0    1.0\n",
              "1    NaN\n",
              "2    3.5\n",
              "3    NaN\n",
              "4    7.0\n",
              "dtype: float64"
            ]
          },
          "metadata": {
            "tags": []
          },
          "execution_count": 36
        }
      ]
    },
    {
      "metadata": {
        "id": "x6wKaXcb3Ac1",
        "colab_type": "code",
        "outputId": "5532a46b-e96d-49cf-b677-47c89bdc815b",
        "colab": {
          "base_uri": "https://localhost:8080/",
          "height": 89
        }
      },
      "cell_type": "code",
      "source": [
        "data.dropna()"
      ],
      "execution_count": 0,
      "outputs": [
        {
          "output_type": "execute_result",
          "data": {
            "text/plain": [
              "0    1.0\n",
              "2    3.5\n",
              "4    7.0\n",
              "dtype: float64"
            ]
          },
          "metadata": {
            "tags": []
          },
          "execution_count": 37
        }
      ]
    },
    {
      "metadata": {
        "id": "8frYyU5-3JGZ",
        "colab_type": "code",
        "outputId": "279bc840-b266-4752-d87a-ab4eb8cfcdc6",
        "colab": {
          "base_uri": "https://localhost:8080/",
          "height": 89
        }
      },
      "cell_type": "code",
      "source": [
        "data[data.notnull()]"
      ],
      "execution_count": 0,
      "outputs": [
        {
          "output_type": "execute_result",
          "data": {
            "text/plain": [
              "0    1.0\n",
              "2    3.5\n",
              "4    7.0\n",
              "dtype: float64"
            ]
          },
          "metadata": {
            "tags": []
          },
          "execution_count": 38
        }
      ]
    },
    {
      "metadata": {
        "id": "BXzUU7t53Uk0",
        "colab_type": "text"
      },
      "cell_type": "markdown",
      "source": [
        "**DataFrame인 경우는 조금 복잡함**. \n",
        "\n",
        "모두 NA인 row, column을 제외하든가, 하나라도 NA인 값을 포함하고 있는 row, column을 제외 시킬수도 있다. dropna는 기본적으로 NA값이 하나라도 있는 row는 제외시킨다."
      ]
    },
    {
      "metadata": {
        "id": "HolWvSRr3Mso",
        "colab_type": "code",
        "colab": {}
      },
      "cell_type": "code",
      "source": [
        "data = DataFrame([\n",
        "    [1., 6.5, 3.], \n",
        "    [1., NA, NA], \n",
        "    [NA, NA, NA],\n",
        "    [NA, 6.5, 3.]\n",
        "])"
      ],
      "execution_count": 0,
      "outputs": []
    },
    {
      "metadata": {
        "id": "gKn80KSD3314",
        "colab_type": "code",
        "outputId": "3f656073-9225-4957-eb49-40543abaded8",
        "colab": {
          "base_uri": "https://localhost:8080/",
          "height": 173
        }
      },
      "cell_type": "code",
      "source": [
        "data"
      ],
      "execution_count": 0,
      "outputs": [
        {
          "output_type": "execute_result",
          "data": {
            "text/html": [
              "<div>\n",
              "<style scoped>\n",
              "    .dataframe tbody tr th:only-of-type {\n",
              "        vertical-align: middle;\n",
              "    }\n",
              "\n",
              "    .dataframe tbody tr th {\n",
              "        vertical-align: top;\n",
              "    }\n",
              "\n",
              "    .dataframe thead th {\n",
              "        text-align: right;\n",
              "    }\n",
              "</style>\n",
              "<table border=\"1\" class=\"dataframe\">\n",
              "  <thead>\n",
              "    <tr style=\"text-align: right;\">\n",
              "      <th></th>\n",
              "      <th>0</th>\n",
              "      <th>1</th>\n",
              "      <th>2</th>\n",
              "    </tr>\n",
              "  </thead>\n",
              "  <tbody>\n",
              "    <tr>\n",
              "      <th>0</th>\n",
              "      <td>1.0</td>\n",
              "      <td>6.5</td>\n",
              "      <td>3.0</td>\n",
              "    </tr>\n",
              "    <tr>\n",
              "      <th>1</th>\n",
              "      <td>1.0</td>\n",
              "      <td>NaN</td>\n",
              "      <td>NaN</td>\n",
              "    </tr>\n",
              "    <tr>\n",
              "      <th>2</th>\n",
              "      <td>NaN</td>\n",
              "      <td>NaN</td>\n",
              "      <td>NaN</td>\n",
              "    </tr>\n",
              "    <tr>\n",
              "      <th>3</th>\n",
              "      <td>NaN</td>\n",
              "      <td>6.5</td>\n",
              "      <td>3.0</td>\n",
              "    </tr>\n",
              "  </tbody>\n",
              "</table>\n",
              "</div>"
            ],
            "text/plain": [
              "     0    1    2\n",
              "0  1.0  6.5  3.0\n",
              "1  1.0  NaN  NaN\n",
              "2  NaN  NaN  NaN\n",
              "3  NaN  6.5  3.0"
            ]
          },
          "metadata": {
            "tags": []
          },
          "execution_count": 40
        }
      ]
    },
    {
      "metadata": {
        "id": "YVI5Qfrn35DU",
        "colab_type": "code",
        "colab": {}
      },
      "cell_type": "code",
      "source": [
        "cleaned = data.dropna()"
      ],
      "execution_count": 0,
      "outputs": []
    },
    {
      "metadata": {
        "id": "lYMnQQSC384w",
        "colab_type": "code",
        "outputId": "3a2bcc48-6c71-4e57-b640-f7be6747e6d2",
        "colab": {
          "base_uri": "https://localhost:8080/",
          "height": 80
        }
      },
      "cell_type": "code",
      "source": [
        "cleaned"
      ],
      "execution_count": 0,
      "outputs": [
        {
          "output_type": "execute_result",
          "data": {
            "text/html": [
              "<div>\n",
              "<style scoped>\n",
              "    .dataframe tbody tr th:only-of-type {\n",
              "        vertical-align: middle;\n",
              "    }\n",
              "\n",
              "    .dataframe tbody tr th {\n",
              "        vertical-align: top;\n",
              "    }\n",
              "\n",
              "    .dataframe thead th {\n",
              "        text-align: right;\n",
              "    }\n",
              "</style>\n",
              "<table border=\"1\" class=\"dataframe\">\n",
              "  <thead>\n",
              "    <tr style=\"text-align: right;\">\n",
              "      <th></th>\n",
              "      <th>0</th>\n",
              "      <th>1</th>\n",
              "      <th>2</th>\n",
              "    </tr>\n",
              "  </thead>\n",
              "  <tbody>\n",
              "    <tr>\n",
              "      <th>0</th>\n",
              "      <td>1.0</td>\n",
              "      <td>6.5</td>\n",
              "      <td>3.0</td>\n",
              "    </tr>\n",
              "  </tbody>\n",
              "</table>\n",
              "</div>"
            ],
            "text/plain": [
              "     0    1    2\n",
              "0  1.0  6.5  3.0"
            ]
          },
          "metadata": {
            "tags": []
          },
          "execution_count": 42
        }
      ]
    },
    {
      "metadata": {
        "id": "jZDeHjuSRDMQ",
        "colab_type": "text"
      },
      "cell_type": "markdown",
      "source": [
        "dropna()는 옵션을 주지 않으면, NA가 하나라도 있으면 모두 drop 해버림."
      ]
    },
    {
      "metadata": {
        "id": "E3K1ig7U3-DJ",
        "colab_type": "code",
        "outputId": "f9bf30e0-0d38-422f-8787-a3b93d40d2f6",
        "colab": {
          "base_uri": "https://localhost:8080/",
          "height": 142
        }
      },
      "cell_type": "code",
      "source": [
        "data.dropna(how='all') # 모두 na일때에만 drop해라~"
      ],
      "execution_count": 0,
      "outputs": [
        {
          "output_type": "execute_result",
          "data": {
            "text/html": [
              "<div>\n",
              "<style scoped>\n",
              "    .dataframe tbody tr th:only-of-type {\n",
              "        vertical-align: middle;\n",
              "    }\n",
              "\n",
              "    .dataframe tbody tr th {\n",
              "        vertical-align: top;\n",
              "    }\n",
              "\n",
              "    .dataframe thead th {\n",
              "        text-align: right;\n",
              "    }\n",
              "</style>\n",
              "<table border=\"1\" class=\"dataframe\">\n",
              "  <thead>\n",
              "    <tr style=\"text-align: right;\">\n",
              "      <th></th>\n",
              "      <th>0</th>\n",
              "      <th>1</th>\n",
              "      <th>2</th>\n",
              "    </tr>\n",
              "  </thead>\n",
              "  <tbody>\n",
              "    <tr>\n",
              "      <th>0</th>\n",
              "      <td>1.0</td>\n",
              "      <td>6.5</td>\n",
              "      <td>3.0</td>\n",
              "    </tr>\n",
              "    <tr>\n",
              "      <th>1</th>\n",
              "      <td>1.0</td>\n",
              "      <td>NaN</td>\n",
              "      <td>NaN</td>\n",
              "    </tr>\n",
              "    <tr>\n",
              "      <th>3</th>\n",
              "      <td>NaN</td>\n",
              "      <td>6.5</td>\n",
              "      <td>3.0</td>\n",
              "    </tr>\n",
              "  </tbody>\n",
              "</table>\n",
              "</div>"
            ],
            "text/plain": [
              "     0    1    2\n",
              "0  1.0  6.5  3.0\n",
              "1  1.0  NaN  NaN\n",
              "3  NaN  6.5  3.0"
            ]
          },
          "metadata": {
            "tags": []
          },
          "execution_count": 43
        }
      ]
    },
    {
      "metadata": {
        "id": "LdRWnaTy4JEn",
        "colab_type": "code",
        "outputId": "c3ef6622-2152-4151-ff53-70014d34b59a",
        "colab": {
          "base_uri": "https://localhost:8080/",
          "height": 111
        }
      },
      "cell_type": "code",
      "source": [
        "data.dropna(thresh=2) # NA가 thresh보다 같거나 큰애들을 drop 시켜라."
      ],
      "execution_count": 0,
      "outputs": [
        {
          "output_type": "execute_result",
          "data": {
            "text/html": [
              "<div>\n",
              "<style scoped>\n",
              "    .dataframe tbody tr th:only-of-type {\n",
              "        vertical-align: middle;\n",
              "    }\n",
              "\n",
              "    .dataframe tbody tr th {\n",
              "        vertical-align: top;\n",
              "    }\n",
              "\n",
              "    .dataframe thead th {\n",
              "        text-align: right;\n",
              "    }\n",
              "</style>\n",
              "<table border=\"1\" class=\"dataframe\">\n",
              "  <thead>\n",
              "    <tr style=\"text-align: right;\">\n",
              "      <th></th>\n",
              "      <th>0</th>\n",
              "      <th>1</th>\n",
              "      <th>2</th>\n",
              "    </tr>\n",
              "  </thead>\n",
              "  <tbody>\n",
              "    <tr>\n",
              "      <th>0</th>\n",
              "      <td>1.0</td>\n",
              "      <td>6.5</td>\n",
              "      <td>3.0</td>\n",
              "    </tr>\n",
              "    <tr>\n",
              "      <th>3</th>\n",
              "      <td>NaN</td>\n",
              "      <td>6.5</td>\n",
              "      <td>3.0</td>\n",
              "    </tr>\n",
              "  </tbody>\n",
              "</table>\n",
              "</div>"
            ],
            "text/plain": [
              "     0    1    2\n",
              "0  1.0  6.5  3.0\n",
              "3  NaN  6.5  3.0"
            ]
          },
          "metadata": {
            "tags": []
          },
          "execution_count": 51
        }
      ]
    },
    {
      "metadata": {
        "id": "wiUXC4_O4kDx",
        "colab_type": "text"
      },
      "cell_type": "markdown",
      "source": [
        "### 누락된 값 채우기"
      ]
    },
    {
      "metadata": {
        "id": "UV4dEMuo4c6c",
        "colab_type": "code",
        "outputId": "ab6a8259-454a-4ea6-c398-fbf52e5738bd",
        "colab": {
          "base_uri": "https://localhost:8080/",
          "height": 173
        }
      },
      "cell_type": "code",
      "source": [
        "data"
      ],
      "execution_count": 0,
      "outputs": [
        {
          "output_type": "execute_result",
          "data": {
            "text/html": [
              "<div>\n",
              "<style scoped>\n",
              "    .dataframe tbody tr th:only-of-type {\n",
              "        vertical-align: middle;\n",
              "    }\n",
              "\n",
              "    .dataframe tbody tr th {\n",
              "        vertical-align: top;\n",
              "    }\n",
              "\n",
              "    .dataframe thead th {\n",
              "        text-align: right;\n",
              "    }\n",
              "</style>\n",
              "<table border=\"1\" class=\"dataframe\">\n",
              "  <thead>\n",
              "    <tr style=\"text-align: right;\">\n",
              "      <th></th>\n",
              "      <th>0</th>\n",
              "      <th>1</th>\n",
              "      <th>2</th>\n",
              "    </tr>\n",
              "  </thead>\n",
              "  <tbody>\n",
              "    <tr>\n",
              "      <th>0</th>\n",
              "      <td>1.0</td>\n",
              "      <td>6.5</td>\n",
              "      <td>3.0</td>\n",
              "    </tr>\n",
              "    <tr>\n",
              "      <th>1</th>\n",
              "      <td>1.0</td>\n",
              "      <td>NaN</td>\n",
              "      <td>NaN</td>\n",
              "    </tr>\n",
              "    <tr>\n",
              "      <th>2</th>\n",
              "      <td>NaN</td>\n",
              "      <td>NaN</td>\n",
              "      <td>NaN</td>\n",
              "    </tr>\n",
              "    <tr>\n",
              "      <th>3</th>\n",
              "      <td>NaN</td>\n",
              "      <td>6.5</td>\n",
              "      <td>3.0</td>\n",
              "    </tr>\n",
              "  </tbody>\n",
              "</table>\n",
              "</div>"
            ],
            "text/plain": [
              "     0    1    2\n",
              "0  1.0  6.5  3.0\n",
              "1  1.0  NaN  NaN\n",
              "2  NaN  NaN  NaN\n",
              "3  NaN  6.5  3.0"
            ]
          },
          "metadata": {
            "tags": []
          },
          "execution_count": 44
        }
      ]
    },
    {
      "metadata": {
        "id": "gIcSru6F4qKs",
        "colab_type": "code",
        "outputId": "7eee8381-ad72-4476-ec9c-5268b1130470",
        "colab": {
          "base_uri": "https://localhost:8080/",
          "height": 173
        }
      },
      "cell_type": "code",
      "source": [
        "data.fillna(0)"
      ],
      "execution_count": 0,
      "outputs": [
        {
          "output_type": "execute_result",
          "data": {
            "text/html": [
              "<div>\n",
              "<style scoped>\n",
              "    .dataframe tbody tr th:only-of-type {\n",
              "        vertical-align: middle;\n",
              "    }\n",
              "\n",
              "    .dataframe tbody tr th {\n",
              "        vertical-align: top;\n",
              "    }\n",
              "\n",
              "    .dataframe thead th {\n",
              "        text-align: right;\n",
              "    }\n",
              "</style>\n",
              "<table border=\"1\" class=\"dataframe\">\n",
              "  <thead>\n",
              "    <tr style=\"text-align: right;\">\n",
              "      <th></th>\n",
              "      <th>0</th>\n",
              "      <th>1</th>\n",
              "      <th>2</th>\n",
              "    </tr>\n",
              "  </thead>\n",
              "  <tbody>\n",
              "    <tr>\n",
              "      <th>0</th>\n",
              "      <td>1.0</td>\n",
              "      <td>6.5</td>\n",
              "      <td>3.0</td>\n",
              "    </tr>\n",
              "    <tr>\n",
              "      <th>1</th>\n",
              "      <td>1.0</td>\n",
              "      <td>0.0</td>\n",
              "      <td>0.0</td>\n",
              "    </tr>\n",
              "    <tr>\n",
              "      <th>2</th>\n",
              "      <td>0.0</td>\n",
              "      <td>0.0</td>\n",
              "      <td>0.0</td>\n",
              "    </tr>\n",
              "    <tr>\n",
              "      <th>3</th>\n",
              "      <td>0.0</td>\n",
              "      <td>6.5</td>\n",
              "      <td>3.0</td>\n",
              "    </tr>\n",
              "  </tbody>\n",
              "</table>\n",
              "</div>"
            ],
            "text/plain": [
              "     0    1    2\n",
              "0  1.0  6.5  3.0\n",
              "1  1.0  0.0  0.0\n",
              "2  0.0  0.0  0.0\n",
              "3  0.0  6.5  3.0"
            ]
          },
          "metadata": {
            "tags": []
          },
          "execution_count": 45
        }
      ]
    },
    {
      "metadata": {
        "id": "0RHt09E-Rscb",
        "colab_type": "text"
      },
      "cell_type": "markdown",
      "source": [
        "일괄적으로 다 한개의 값으로 채우는것도 나쁘지는 않지만, 각 column별로 값을 다르게 주고 싶다면, "
      ]
    },
    {
      "metadata": {
        "id": "6tcBvIfS4u-2",
        "colab_type": "code",
        "outputId": "5914ad93-13cd-44e1-aa5b-0e04161b4a01",
        "colab": {
          "base_uri": "https://localhost:8080/",
          "height": 173
        }
      },
      "cell_type": "code",
      "source": [
        "data.fillna({1: 100, 2: 200})"
      ],
      "execution_count": 0,
      "outputs": [
        {
          "output_type": "execute_result",
          "data": {
            "text/html": [
              "<div>\n",
              "<style scoped>\n",
              "    .dataframe tbody tr th:only-of-type {\n",
              "        vertical-align: middle;\n",
              "    }\n",
              "\n",
              "    .dataframe tbody tr th {\n",
              "        vertical-align: top;\n",
              "    }\n",
              "\n",
              "    .dataframe thead th {\n",
              "        text-align: right;\n",
              "    }\n",
              "</style>\n",
              "<table border=\"1\" class=\"dataframe\">\n",
              "  <thead>\n",
              "    <tr style=\"text-align: right;\">\n",
              "      <th></th>\n",
              "      <th>0</th>\n",
              "      <th>1</th>\n",
              "      <th>2</th>\n",
              "    </tr>\n",
              "  </thead>\n",
              "  <tbody>\n",
              "    <tr>\n",
              "      <th>0</th>\n",
              "      <td>1.0</td>\n",
              "      <td>6.5</td>\n",
              "      <td>3.0</td>\n",
              "    </tr>\n",
              "    <tr>\n",
              "      <th>1</th>\n",
              "      <td>1.0</td>\n",
              "      <td>100.0</td>\n",
              "      <td>200.0</td>\n",
              "    </tr>\n",
              "    <tr>\n",
              "      <th>2</th>\n",
              "      <td>NaN</td>\n",
              "      <td>100.0</td>\n",
              "      <td>200.0</td>\n",
              "    </tr>\n",
              "    <tr>\n",
              "      <th>3</th>\n",
              "      <td>NaN</td>\n",
              "      <td>6.5</td>\n",
              "      <td>3.0</td>\n",
              "    </tr>\n",
              "  </tbody>\n",
              "</table>\n",
              "</div>"
            ],
            "text/plain": [
              "     0      1      2\n",
              "0  1.0    6.5    3.0\n",
              "1  1.0  100.0  200.0\n",
              "2  NaN  100.0  200.0\n",
              "3  NaN    6.5    3.0"
            ]
          },
          "metadata": {
            "tags": []
          },
          "execution_count": 46
        }
      ]
    },
    {
      "metadata": {
        "id": "_tjrGVWw4_Xr",
        "colab_type": "code",
        "outputId": "34f0f587-2772-4f2d-ac0d-b0c076bd07dd",
        "colab": {
          "base_uri": "https://localhost:8080/",
          "height": 173
        }
      },
      "cell_type": "code",
      "source": [
        "data"
      ],
      "execution_count": 0,
      "outputs": [
        {
          "output_type": "execute_result",
          "data": {
            "text/html": [
              "<div>\n",
              "<style scoped>\n",
              "    .dataframe tbody tr th:only-of-type {\n",
              "        vertical-align: middle;\n",
              "    }\n",
              "\n",
              "    .dataframe tbody tr th {\n",
              "        vertical-align: top;\n",
              "    }\n",
              "\n",
              "    .dataframe thead th {\n",
              "        text-align: right;\n",
              "    }\n",
              "</style>\n",
              "<table border=\"1\" class=\"dataframe\">\n",
              "  <thead>\n",
              "    <tr style=\"text-align: right;\">\n",
              "      <th></th>\n",
              "      <th>0</th>\n",
              "      <th>1</th>\n",
              "      <th>2</th>\n",
              "    </tr>\n",
              "  </thead>\n",
              "  <tbody>\n",
              "    <tr>\n",
              "      <th>0</th>\n",
              "      <td>1.0</td>\n",
              "      <td>6.5</td>\n",
              "      <td>3.0</td>\n",
              "    </tr>\n",
              "    <tr>\n",
              "      <th>1</th>\n",
              "      <td>1.0</td>\n",
              "      <td>NaN</td>\n",
              "      <td>NaN</td>\n",
              "    </tr>\n",
              "    <tr>\n",
              "      <th>2</th>\n",
              "      <td>NaN</td>\n",
              "      <td>NaN</td>\n",
              "      <td>NaN</td>\n",
              "    </tr>\n",
              "    <tr>\n",
              "      <th>3</th>\n",
              "      <td>NaN</td>\n",
              "      <td>6.5</td>\n",
              "      <td>3.0</td>\n",
              "    </tr>\n",
              "  </tbody>\n",
              "</table>\n",
              "</div>"
            ],
            "text/plain": [
              "     0    1    2\n",
              "0  1.0  6.5  3.0\n",
              "1  1.0  NaN  NaN\n",
              "2  NaN  NaN  NaN\n",
              "3  NaN  6.5  3.0"
            ]
          },
          "metadata": {
            "tags": []
          },
          "execution_count": 47
        }
      ]
    },
    {
      "metadata": {
        "id": "EMj1x953R5kn",
        "colab_type": "text"
      },
      "cell_type": "markdown",
      "source": [
        "보다 싶이 지금까지는 원본은 변경하지 않았음. 그러나 inplace=True를 통해서 원본을 변경 가능"
      ]
    },
    {
      "metadata": {
        "id": "4Aa5SKzs5Hq8",
        "colab_type": "code",
        "colab": {}
      },
      "cell_type": "code",
      "source": [
        "data.fillna(0, inplace=True)"
      ],
      "execution_count": 0,
      "outputs": []
    },
    {
      "metadata": {
        "id": "x7zV2wQQ5MTA",
        "colab_type": "code",
        "outputId": "86fb3b0f-618d-426f-f4c3-c2d045e54637",
        "colab": {
          "base_uri": "https://localhost:8080/",
          "height": 173
        }
      },
      "cell_type": "code",
      "source": [
        "data"
      ],
      "execution_count": 0,
      "outputs": [
        {
          "output_type": "execute_result",
          "data": {
            "text/html": [
              "<div>\n",
              "<style scoped>\n",
              "    .dataframe tbody tr th:only-of-type {\n",
              "        vertical-align: middle;\n",
              "    }\n",
              "\n",
              "    .dataframe tbody tr th {\n",
              "        vertical-align: top;\n",
              "    }\n",
              "\n",
              "    .dataframe thead th {\n",
              "        text-align: right;\n",
              "    }\n",
              "</style>\n",
              "<table border=\"1\" class=\"dataframe\">\n",
              "  <thead>\n",
              "    <tr style=\"text-align: right;\">\n",
              "      <th></th>\n",
              "      <th>0</th>\n",
              "      <th>1</th>\n",
              "      <th>2</th>\n",
              "    </tr>\n",
              "  </thead>\n",
              "  <tbody>\n",
              "    <tr>\n",
              "      <th>0</th>\n",
              "      <td>1.0</td>\n",
              "      <td>6.5</td>\n",
              "      <td>3.0</td>\n",
              "    </tr>\n",
              "    <tr>\n",
              "      <th>1</th>\n",
              "      <td>1.0</td>\n",
              "      <td>0.0</td>\n",
              "      <td>0.0</td>\n",
              "    </tr>\n",
              "    <tr>\n",
              "      <th>2</th>\n",
              "      <td>0.0</td>\n",
              "      <td>0.0</td>\n",
              "      <td>0.0</td>\n",
              "    </tr>\n",
              "    <tr>\n",
              "      <th>3</th>\n",
              "      <td>0.0</td>\n",
              "      <td>6.5</td>\n",
              "      <td>3.0</td>\n",
              "    </tr>\n",
              "  </tbody>\n",
              "</table>\n",
              "</div>"
            ],
            "text/plain": [
              "     0    1    2\n",
              "0  1.0  6.5  3.0\n",
              "1  1.0  0.0  0.0\n",
              "2  0.0  0.0  0.0\n",
              "3  0.0  6.5  3.0"
            ]
          },
          "metadata": {
            "tags": []
          },
          "execution_count": 49
        }
      ]
    },
    {
      "metadata": {
        "id": "vkQML50aSIZk",
        "colab_type": "text"
      },
      "cell_type": "markdown",
      "source": [
        "**Let's see another example~**"
      ]
    },
    {
      "metadata": {
        "id": "RGQNnzi_5ND-",
        "colab_type": "code",
        "colab": {}
      },
      "cell_type": "code",
      "source": [
        "df = DataFrame(np.random.randn(6, 3))"
      ],
      "execution_count": 0,
      "outputs": []
    },
    {
      "metadata": {
        "id": "Dnl4E5085YAI",
        "colab_type": "code",
        "colab": {}
      },
      "cell_type": "code",
      "source": [
        "df.iloc[2: , 1] = NA; df.iloc[4: , 2] = NA"
      ],
      "execution_count": 0,
      "outputs": []
    },
    {
      "metadata": {
        "id": "z8tdveDu5gdb",
        "colab_type": "code",
        "outputId": "1c3044a3-3a7e-44b6-8475-6c364a614727",
        "colab": {
          "base_uri": "https://localhost:8080/",
          "height": 235
        }
      },
      "cell_type": "code",
      "source": [
        "df"
      ],
      "execution_count": 0,
      "outputs": [
        {
          "output_type": "execute_result",
          "data": {
            "text/html": [
              "<div>\n",
              "<style scoped>\n",
              "    .dataframe tbody tr th:only-of-type {\n",
              "        vertical-align: middle;\n",
              "    }\n",
              "\n",
              "    .dataframe tbody tr th {\n",
              "        vertical-align: top;\n",
              "    }\n",
              "\n",
              "    .dataframe thead th {\n",
              "        text-align: right;\n",
              "    }\n",
              "</style>\n",
              "<table border=\"1\" class=\"dataframe\">\n",
              "  <thead>\n",
              "    <tr style=\"text-align: right;\">\n",
              "      <th></th>\n",
              "      <th>0</th>\n",
              "      <th>1</th>\n",
              "      <th>2</th>\n",
              "    </tr>\n",
              "  </thead>\n",
              "  <tbody>\n",
              "    <tr>\n",
              "      <th>0</th>\n",
              "      <td>-0.304413</td>\n",
              "      <td>-1.721575</td>\n",
              "      <td>-0.561524</td>\n",
              "    </tr>\n",
              "    <tr>\n",
              "      <th>1</th>\n",
              "      <td>-0.959479</td>\n",
              "      <td>-1.363486</td>\n",
              "      <td>0.458727</td>\n",
              "    </tr>\n",
              "    <tr>\n",
              "      <th>2</th>\n",
              "      <td>0.799033</td>\n",
              "      <td>NaN</td>\n",
              "      <td>-0.075438</td>\n",
              "    </tr>\n",
              "    <tr>\n",
              "      <th>3</th>\n",
              "      <td>1.346836</td>\n",
              "      <td>NaN</td>\n",
              "      <td>-0.389948</td>\n",
              "    </tr>\n",
              "    <tr>\n",
              "      <th>4</th>\n",
              "      <td>-0.420924</td>\n",
              "      <td>NaN</td>\n",
              "      <td>NaN</td>\n",
              "    </tr>\n",
              "    <tr>\n",
              "      <th>5</th>\n",
              "      <td>-0.421729</td>\n",
              "      <td>NaN</td>\n",
              "      <td>NaN</td>\n",
              "    </tr>\n",
              "  </tbody>\n",
              "</table>\n",
              "</div>"
            ],
            "text/plain": [
              "          0         1         2\n",
              "0 -0.304413 -1.721575 -0.561524\n",
              "1 -0.959479 -1.363486  0.458727\n",
              "2  0.799033       NaN -0.075438\n",
              "3  1.346836       NaN -0.389948\n",
              "4 -0.420924       NaN       NaN\n",
              "5 -0.421729       NaN       NaN"
            ]
          },
          "metadata": {
            "tags": []
          },
          "execution_count": 52
        }
      ]
    },
    {
      "metadata": {
        "id": "zWAqFXSe5oUr",
        "colab_type": "code",
        "outputId": "37f006f9-47e0-4b8b-f5ed-85476e690367",
        "colab": {
          "base_uri": "https://localhost:8080/",
          "height": 235
        }
      },
      "cell_type": "code",
      "source": [
        "df.fillna(method='ffill') # front fill? 값이 없으면, 내 앞의 값으로 채워라~"
      ],
      "execution_count": 0,
      "outputs": [
        {
          "output_type": "execute_result",
          "data": {
            "text/html": [
              "<div>\n",
              "<style scoped>\n",
              "    .dataframe tbody tr th:only-of-type {\n",
              "        vertical-align: middle;\n",
              "    }\n",
              "\n",
              "    .dataframe tbody tr th {\n",
              "        vertical-align: top;\n",
              "    }\n",
              "\n",
              "    .dataframe thead th {\n",
              "        text-align: right;\n",
              "    }\n",
              "</style>\n",
              "<table border=\"1\" class=\"dataframe\">\n",
              "  <thead>\n",
              "    <tr style=\"text-align: right;\">\n",
              "      <th></th>\n",
              "      <th>0</th>\n",
              "      <th>1</th>\n",
              "      <th>2</th>\n",
              "    </tr>\n",
              "  </thead>\n",
              "  <tbody>\n",
              "    <tr>\n",
              "      <th>0</th>\n",
              "      <td>-0.304413</td>\n",
              "      <td>-1.721575</td>\n",
              "      <td>-0.561524</td>\n",
              "    </tr>\n",
              "    <tr>\n",
              "      <th>1</th>\n",
              "      <td>-0.959479</td>\n",
              "      <td>-1.363486</td>\n",
              "      <td>0.458727</td>\n",
              "    </tr>\n",
              "    <tr>\n",
              "      <th>2</th>\n",
              "      <td>0.799033</td>\n",
              "      <td>-1.363486</td>\n",
              "      <td>-0.075438</td>\n",
              "    </tr>\n",
              "    <tr>\n",
              "      <th>3</th>\n",
              "      <td>1.346836</td>\n",
              "      <td>-1.363486</td>\n",
              "      <td>-0.389948</td>\n",
              "    </tr>\n",
              "    <tr>\n",
              "      <th>4</th>\n",
              "      <td>-0.420924</td>\n",
              "      <td>-1.363486</td>\n",
              "      <td>-0.389948</td>\n",
              "    </tr>\n",
              "    <tr>\n",
              "      <th>5</th>\n",
              "      <td>-0.421729</td>\n",
              "      <td>-1.363486</td>\n",
              "      <td>-0.389948</td>\n",
              "    </tr>\n",
              "  </tbody>\n",
              "</table>\n",
              "</div>"
            ],
            "text/plain": [
              "          0         1         2\n",
              "0 -0.304413 -1.721575 -0.561524\n",
              "1 -0.959479 -1.363486  0.458727\n",
              "2  0.799033 -1.363486 -0.075438\n",
              "3  1.346836 -1.363486 -0.389948\n",
              "4 -0.420924 -1.363486 -0.389948\n",
              "5 -0.421729 -1.363486 -0.389948"
            ]
          },
          "metadata": {
            "tags": []
          },
          "execution_count": 53
        }
      ]
    },
    {
      "metadata": {
        "id": "K7e_X0_L50YJ",
        "colab_type": "code",
        "outputId": "41530c60-8c2d-4c3d-d60e-dbfa1f11802f",
        "colab": {
          "base_uri": "https://localhost:8080/",
          "height": 235
        }
      },
      "cell_type": "code",
      "source": [
        "df.fillna(method='ffill', limit=2) # 이 메소드를 죽을때까지 우려먹지말고 limit을 주자, 여기는 2번까지만 사용해라~"
      ],
      "execution_count": 0,
      "outputs": [
        {
          "output_type": "execute_result",
          "data": {
            "text/html": [
              "<div>\n",
              "<style scoped>\n",
              "    .dataframe tbody tr th:only-of-type {\n",
              "        vertical-align: middle;\n",
              "    }\n",
              "\n",
              "    .dataframe tbody tr th {\n",
              "        vertical-align: top;\n",
              "    }\n",
              "\n",
              "    .dataframe thead th {\n",
              "        text-align: right;\n",
              "    }\n",
              "</style>\n",
              "<table border=\"1\" class=\"dataframe\">\n",
              "  <thead>\n",
              "    <tr style=\"text-align: right;\">\n",
              "      <th></th>\n",
              "      <th>0</th>\n",
              "      <th>1</th>\n",
              "      <th>2</th>\n",
              "    </tr>\n",
              "  </thead>\n",
              "  <tbody>\n",
              "    <tr>\n",
              "      <th>0</th>\n",
              "      <td>-0.304413</td>\n",
              "      <td>-1.721575</td>\n",
              "      <td>-0.561524</td>\n",
              "    </tr>\n",
              "    <tr>\n",
              "      <th>1</th>\n",
              "      <td>-0.959479</td>\n",
              "      <td>-1.363486</td>\n",
              "      <td>0.458727</td>\n",
              "    </tr>\n",
              "    <tr>\n",
              "      <th>2</th>\n",
              "      <td>0.799033</td>\n",
              "      <td>-1.363486</td>\n",
              "      <td>-0.075438</td>\n",
              "    </tr>\n",
              "    <tr>\n",
              "      <th>3</th>\n",
              "      <td>1.346836</td>\n",
              "      <td>-1.363486</td>\n",
              "      <td>-0.389948</td>\n",
              "    </tr>\n",
              "    <tr>\n",
              "      <th>4</th>\n",
              "      <td>-0.420924</td>\n",
              "      <td>NaN</td>\n",
              "      <td>-0.389948</td>\n",
              "    </tr>\n",
              "    <tr>\n",
              "      <th>5</th>\n",
              "      <td>-0.421729</td>\n",
              "      <td>NaN</td>\n",
              "      <td>-0.389948</td>\n",
              "    </tr>\n",
              "  </tbody>\n",
              "</table>\n",
              "</div>"
            ],
            "text/plain": [
              "          0         1         2\n",
              "0 -0.304413 -1.721575 -0.561524\n",
              "1 -0.959479 -1.363486  0.458727\n",
              "2  0.799033 -1.363486 -0.075438\n",
              "3  1.346836 -1.363486 -0.389948\n",
              "4 -0.420924       NaN -0.389948\n",
              "5 -0.421729       NaN -0.389948"
            ]
          },
          "metadata": {
            "tags": []
          },
          "execution_count": 54
        }
      ]
    },
    {
      "metadata": {
        "id": "3F2ltJh4Stiy",
        "colab_type": "text"
      },
      "cell_type": "markdown",
      "source": [
        "another example~"
      ]
    },
    {
      "metadata": {
        "id": "lnH0Mm4W57je",
        "colab_type": "code",
        "colab": {}
      },
      "cell_type": "code",
      "source": [
        "data = Series([1., NA, 3.5, NA, 7])"
      ],
      "execution_count": 0,
      "outputs": []
    },
    {
      "metadata": {
        "id": "eTyynFLE6Ejo",
        "colab_type": "code",
        "outputId": "2bdda2f6-0bf1-401a-9ec1-5266e6ef1f92",
        "colab": {
          "base_uri": "https://localhost:8080/",
          "height": 125
        }
      },
      "cell_type": "code",
      "source": [
        "data"
      ],
      "execution_count": 0,
      "outputs": [
        {
          "output_type": "execute_result",
          "data": {
            "text/plain": [
              "0    1.0\n",
              "1    NaN\n",
              "2    3.5\n",
              "3    NaN\n",
              "4    7.0\n",
              "dtype: float64"
            ]
          },
          "metadata": {
            "tags": []
          },
          "execution_count": 56
        }
      ]
    },
    {
      "metadata": {
        "id": "Pp858c0aS0Qe",
        "colab_type": "text"
      },
      "cell_type": "markdown",
      "source": [
        "이번에는 평균으로 채워보자~"
      ]
    },
    {
      "metadata": {
        "id": "V_maQatg6Fom",
        "colab_type": "code",
        "outputId": "a911043f-f0b2-4f2d-9a57-49708ffe670d",
        "colab": {
          "base_uri": "https://localhost:8080/",
          "height": 125
        }
      },
      "cell_type": "code",
      "source": [
        "data.fillna(data.mean())"
      ],
      "execution_count": 0,
      "outputs": [
        {
          "output_type": "execute_result",
          "data": {
            "text/plain": [
              "0    1.000000\n",
              "1    3.833333\n",
              "2    3.500000\n",
              "3    3.833333\n",
              "4    7.000000\n",
              "dtype: float64"
            ]
          },
          "metadata": {
            "tags": []
          },
          "execution_count": 57
        }
      ]
    },
    {
      "metadata": {
        "id": "grvY9sQZ6Ucu",
        "colab_type": "text"
      },
      "cell_type": "markdown",
      "source": [
        "## 계층적 색인 (Hierarchical indexing)\n",
        "\n",
        "판다스의 주요 기능으로써, 축에 대한 다중 색인 단계를 지정할 수 있음.\n",
        "\n",
        "추상적으로 표현하자면, 차원이 높은 데이터를 차원이 낮은 형식으로 다룰수 있게 해주는 기능"
      ]
    },
    {
      "metadata": {
        "id": "DTbdliu86LBX",
        "colab_type": "code",
        "colab": {}
      },
      "cell_type": "code",
      "source": [
        "data = Series(np.random.randn(10), index = [['a', 'a', 'a', 'b', 'b', 'b', 'c','c', 'd', 'd'], [1, 2, 3, 1, 2, 3, 1, 2, 2, 3]])"
      ],
      "execution_count": 0,
      "outputs": []
    },
    {
      "metadata": {
        "id": "L__ErhvD7JlU",
        "colab_type": "code",
        "outputId": "2c4e5d88-4311-4134-99e5-ddc8fc30d2c7",
        "colab": {
          "base_uri": "https://localhost:8080/",
          "height": 215
        }
      },
      "cell_type": "code",
      "source": [
        "data"
      ],
      "execution_count": 0,
      "outputs": [
        {
          "output_type": "execute_result",
          "data": {
            "text/plain": [
              "a  1   -0.768029\n",
              "   2    0.664488\n",
              "   3   -0.376515\n",
              "b  1    1.050230\n",
              "   2   -1.406699\n",
              "   3    1.925991\n",
              "c  1   -0.906054\n",
              "   2    1.447778\n",
              "d  2    0.279895\n",
              "   3    0.035328\n",
              "dtype: float64"
            ]
          },
          "metadata": {
            "tags": []
          },
          "execution_count": 59
        }
      ]
    },
    {
      "metadata": {
        "id": "eWEC2iyS7VTE",
        "colab_type": "code",
        "outputId": "f8bc20d9-b4f0-473e-ed58-46a4d4f6fbbf",
        "colab": {
          "base_uri": "https://localhost:8080/",
          "height": 53
        }
      },
      "cell_type": "code",
      "source": [
        "data.index"
      ],
      "execution_count": 0,
      "outputs": [
        {
          "output_type": "execute_result",
          "data": {
            "text/plain": [
              "MultiIndex(levels=[['a', 'b', 'c', 'd'], [1, 2, 3]],\n",
              "           labels=[[0, 0, 0, 1, 1, 1, 2, 2, 3, 3], [0, 1, 2, 0, 1, 2, 0, 1, 1, 2]])"
            ]
          },
          "metadata": {
            "tags": []
          },
          "execution_count": 60
        }
      ]
    },
    {
      "metadata": {
        "id": "lZwqRK1E7hU3",
        "colab_type": "code",
        "outputId": "57c89e15-d07a-4d67-beed-22af7412729e",
        "colab": {
          "base_uri": "https://localhost:8080/",
          "height": 89
        }
      },
      "cell_type": "code",
      "source": [
        "data['b']"
      ],
      "execution_count": 0,
      "outputs": [
        {
          "output_type": "execute_result",
          "data": {
            "text/plain": [
              "1    1.050230\n",
              "2   -1.406699\n",
              "3    1.925991\n",
              "dtype: float64"
            ]
          },
          "metadata": {
            "tags": []
          },
          "execution_count": 61
        }
      ]
    },
    {
      "metadata": {
        "id": "JCOtVP6i8EPs",
        "colab_type": "code",
        "outputId": "c72892e4-97f7-4c79-8957-1c4ed300f071",
        "colab": {
          "base_uri": "https://localhost:8080/",
          "height": 71
        }
      },
      "cell_type": "code",
      "source": [
        "data['d']"
      ],
      "execution_count": 0,
      "outputs": [
        {
          "output_type": "execute_result",
          "data": {
            "text/plain": [
              "2    0.279895\n",
              "3    0.035328\n",
              "dtype: float64"
            ]
          },
          "metadata": {
            "tags": []
          },
          "execution_count": 62
        }
      ]
    },
    {
      "metadata": {
        "id": "dtHdck1g8G-O",
        "colab_type": "code",
        "outputId": "3dac2550-20c5-44e3-8104-5c4d7018aa08",
        "colab": {
          "base_uri": "https://localhost:8080/",
          "height": 125
        }
      },
      "cell_type": "code",
      "source": [
        "data['b':'c']"
      ],
      "execution_count": 0,
      "outputs": [
        {
          "output_type": "execute_result",
          "data": {
            "text/plain": [
              "b  1    1.050230\n",
              "   2   -1.406699\n",
              "   3    1.925991\n",
              "c  1   -0.906054\n",
              "   2    1.447778\n",
              "dtype: float64"
            ]
          },
          "metadata": {
            "tags": []
          },
          "execution_count": 63
        }
      ]
    },
    {
      "metadata": {
        "id": "onW_wZOs8K-X",
        "colab_type": "code",
        "outputId": "b5c58afc-4fb5-47b8-ccec-8e24928415fa",
        "colab": {
          "base_uri": "https://localhost:8080/",
          "height": 125
        }
      },
      "cell_type": "code",
      "source": [
        "data[['b', 'd']]"
      ],
      "execution_count": 0,
      "outputs": [
        {
          "output_type": "execute_result",
          "data": {
            "text/plain": [
              "b  1    1.050230\n",
              "   2   -1.406699\n",
              "   3    1.925991\n",
              "d  2    0.279895\n",
              "   3    0.035328\n",
              "dtype: float64"
            ]
          },
          "metadata": {
            "tags": []
          },
          "execution_count": 64
        }
      ]
    },
    {
      "metadata": {
        "id": "LMB9cLbu8Qfp",
        "colab_type": "code",
        "outputId": "204f1c56-9bb0-43a1-9e20-1e9d15f5f6af",
        "colab": {
          "base_uri": "https://localhost:8080/",
          "height": 35
        }
      },
      "cell_type": "code",
      "source": [
        "data['b', 2]"
      ],
      "execution_count": 0,
      "outputs": [
        {
          "output_type": "execute_result",
          "data": {
            "text/plain": [
              "-1.4066994729069024"
            ]
          },
          "metadata": {
            "tags": []
          },
          "execution_count": 65
        }
      ]
    },
    {
      "metadata": {
        "id": "N7dpBpwx8XNC",
        "colab_type": "code",
        "outputId": "39d4ead5-3e11-4da4-c5a4-68ead3755512",
        "colab": {
          "base_uri": "https://localhost:8080/",
          "height": 89
        }
      },
      "cell_type": "code",
      "source": [
        "data[:, 3]"
      ],
      "execution_count": 0,
      "outputs": [
        {
          "output_type": "execute_result",
          "data": {
            "text/plain": [
              "a   -0.376515\n",
              "b    1.925991\n",
              "d    0.035328\n",
              "dtype: float64"
            ]
          },
          "metadata": {
            "tags": []
          },
          "execution_count": 66
        }
      ]
    },
    {
      "metadata": {
        "id": "hOD47La98tf8",
        "colab_type": "text"
      },
      "cell_type": "markdown",
      "source": [
        "계층적 색인은 데이터를 재형성, reshape하고, pivot_table 같은 그룹 기반의 작업을 할 때 중요하게 사용된다. \n",
        "\n",
        "예를 들어, DataFrame 객체에 unstack 메소드를 사용해서, 데이터를 새롭게 배열할 수 있다. \n"
      ]
    },
    {
      "metadata": {
        "id": "mRtbxzhk8buJ",
        "colab_type": "code",
        "outputId": "bdc35431-bef1-44be-aa35-e9e18a9665c3",
        "colab": {
          "base_uri": "https://localhost:8080/",
          "height": 215
        }
      },
      "cell_type": "code",
      "source": [
        "data"
      ],
      "execution_count": 0,
      "outputs": [
        {
          "output_type": "execute_result",
          "data": {
            "text/plain": [
              "a  1   -0.768029\n",
              "   2    0.664488\n",
              "   3   -0.376515\n",
              "b  1    1.050230\n",
              "   2   -1.406699\n",
              "   3    1.925991\n",
              "c  1   -0.906054\n",
              "   2    1.447778\n",
              "d  2    0.279895\n",
              "   3    0.035328\n",
              "dtype: float64"
            ]
          },
          "metadata": {
            "tags": []
          },
          "execution_count": 67
        }
      ]
    },
    {
      "metadata": {
        "id": "uBusqXj79HCm",
        "colab_type": "code",
        "outputId": "05937ab6-a11d-4f05-e304-daea2dd9fb3a",
        "colab": {
          "base_uri": "https://localhost:8080/",
          "height": 173
        }
      },
      "cell_type": "code",
      "source": [
        "data.unstack(-1)"
      ],
      "execution_count": 0,
      "outputs": [
        {
          "output_type": "execute_result",
          "data": {
            "text/html": [
              "<div>\n",
              "<style scoped>\n",
              "    .dataframe tbody tr th:only-of-type {\n",
              "        vertical-align: middle;\n",
              "    }\n",
              "\n",
              "    .dataframe tbody tr th {\n",
              "        vertical-align: top;\n",
              "    }\n",
              "\n",
              "    .dataframe thead th {\n",
              "        text-align: right;\n",
              "    }\n",
              "</style>\n",
              "<table border=\"1\" class=\"dataframe\">\n",
              "  <thead>\n",
              "    <tr style=\"text-align: right;\">\n",
              "      <th></th>\n",
              "      <th>1</th>\n",
              "      <th>2</th>\n",
              "      <th>3</th>\n",
              "    </tr>\n",
              "  </thead>\n",
              "  <tbody>\n",
              "    <tr>\n",
              "      <th>a</th>\n",
              "      <td>-0.768029</td>\n",
              "      <td>0.664488</td>\n",
              "      <td>-0.376515</td>\n",
              "    </tr>\n",
              "    <tr>\n",
              "      <th>b</th>\n",
              "      <td>1.050230</td>\n",
              "      <td>-1.406699</td>\n",
              "      <td>1.925991</td>\n",
              "    </tr>\n",
              "    <tr>\n",
              "      <th>c</th>\n",
              "      <td>-0.906054</td>\n",
              "      <td>1.447778</td>\n",
              "      <td>NaN</td>\n",
              "    </tr>\n",
              "    <tr>\n",
              "      <th>d</th>\n",
              "      <td>NaN</td>\n",
              "      <td>0.279895</td>\n",
              "      <td>0.035328</td>\n",
              "    </tr>\n",
              "  </tbody>\n",
              "</table>\n",
              "</div>"
            ],
            "text/plain": [
              "          1         2         3\n",
              "a -0.768029  0.664488 -0.376515\n",
              "b  1.050230 -1.406699  1.925991\n",
              "c -0.906054  1.447778       NaN\n",
              "d       NaN  0.279895  0.035328"
            ]
          },
          "metadata": {
            "tags": []
          },
          "execution_count": 68
        }
      ]
    },
    {
      "metadata": {
        "id": "g-Njr5Sy9KKu",
        "colab_type": "code",
        "outputId": "5ea0a079-b9d4-40fd-beb0-b971ac9f8c67",
        "colab": {
          "base_uri": "https://localhost:8080/",
          "height": 251
        }
      },
      "cell_type": "code",
      "source": [
        "data.unstack().unstack()"
      ],
      "execution_count": 0,
      "outputs": [
        {
          "output_type": "execute_result",
          "data": {
            "text/plain": [
              "1  a   -0.768029\n",
              "   b    1.050230\n",
              "   c   -0.906054\n",
              "   d         NaN\n",
              "2  a    0.664488\n",
              "   b   -1.406699\n",
              "   c    1.447778\n",
              "   d    0.279895\n",
              "3  a   -0.376515\n",
              "   b    1.925991\n",
              "   c         NaN\n",
              "   d    0.035328\n",
              "dtype: float64"
            ]
          },
          "metadata": {
            "tags": []
          },
          "execution_count": 69
        }
      ]
    },
    {
      "metadata": {
        "id": "AqAJVXFSTXfl",
        "colab_type": "text"
      },
      "cell_type": "markdown",
      "source": [
        "다시 돌아와서"
      ]
    },
    {
      "metadata": {
        "id": "2H0PQKo39Sa1",
        "colab_type": "code",
        "outputId": "14560607-957d-4172-8d97-ef30c0b9e293",
        "colab": {
          "base_uri": "https://localhost:8080/",
          "height": 215
        }
      },
      "cell_type": "code",
      "source": [
        "data"
      ],
      "execution_count": 0,
      "outputs": [
        {
          "output_type": "execute_result",
          "data": {
            "text/plain": [
              "a  1   -0.768029\n",
              "   2    0.664488\n",
              "   3   -0.376515\n",
              "b  1    1.050230\n",
              "   2   -1.406699\n",
              "   3    1.925991\n",
              "c  1   -0.906054\n",
              "   2    1.447778\n",
              "d  2    0.279895\n",
              "   3    0.035328\n",
              "dtype: float64"
            ]
          },
          "metadata": {
            "tags": []
          },
          "execution_count": 70
        }
      ]
    },
    {
      "metadata": {
        "id": "fkLZOtgs9fWJ",
        "colab_type": "code",
        "outputId": "1f5d4fe8-64d9-4a16-932f-c7deede73d75",
        "colab": {
          "base_uri": "https://localhost:8080/",
          "height": 142
        }
      },
      "cell_type": "code",
      "source": [
        "data.unstack(0)"
      ],
      "execution_count": 0,
      "outputs": [
        {
          "output_type": "execute_result",
          "data": {
            "text/html": [
              "<div>\n",
              "<style scoped>\n",
              "    .dataframe tbody tr th:only-of-type {\n",
              "        vertical-align: middle;\n",
              "    }\n",
              "\n",
              "    .dataframe tbody tr th {\n",
              "        vertical-align: top;\n",
              "    }\n",
              "\n",
              "    .dataframe thead th {\n",
              "        text-align: right;\n",
              "    }\n",
              "</style>\n",
              "<table border=\"1\" class=\"dataframe\">\n",
              "  <thead>\n",
              "    <tr style=\"text-align: right;\">\n",
              "      <th></th>\n",
              "      <th>a</th>\n",
              "      <th>b</th>\n",
              "      <th>c</th>\n",
              "      <th>d</th>\n",
              "    </tr>\n",
              "  </thead>\n",
              "  <tbody>\n",
              "    <tr>\n",
              "      <th>1</th>\n",
              "      <td>-0.768029</td>\n",
              "      <td>1.050230</td>\n",
              "      <td>-0.906054</td>\n",
              "      <td>NaN</td>\n",
              "    </tr>\n",
              "    <tr>\n",
              "      <th>2</th>\n",
              "      <td>0.664488</td>\n",
              "      <td>-1.406699</td>\n",
              "      <td>1.447778</td>\n",
              "      <td>0.279895</td>\n",
              "    </tr>\n",
              "    <tr>\n",
              "      <th>3</th>\n",
              "      <td>-0.376515</td>\n",
              "      <td>1.925991</td>\n",
              "      <td>NaN</td>\n",
              "      <td>0.035328</td>\n",
              "    </tr>\n",
              "  </tbody>\n",
              "</table>\n",
              "</div>"
            ],
            "text/plain": [
              "          a         b         c         d\n",
              "1 -0.768029  1.050230 -0.906054       NaN\n",
              "2  0.664488 -1.406699  1.447778  0.279895\n",
              "3 -0.376515  1.925991       NaN  0.035328"
            ]
          },
          "metadata": {
            "tags": []
          },
          "execution_count": 71
        }
      ]
    },
    {
      "metadata": {
        "id": "iilPZz8R_1Dr",
        "colab_type": "text"
      },
      "cell_type": "markdown",
      "source": [
        "**DataFrame의 두축 모두 계층적 색인 가질수 있다. **"
      ]
    },
    {
      "metadata": {
        "id": "RYl55zPA9jz8",
        "colab_type": "code",
        "colab": {}
      },
      "cell_type": "code",
      "source": [
        "frame = DataFrame(np.arange(12).reshape((4, 3)), \n",
        "                 index=[['a', 'a', 'b', 'b'], [1, 2, 1, 2]], \n",
        "                  columns = [['Ohio', 'Ohio', 'Colorado'], ['Green', 'Red', 'Green']]\n",
        "                 )"
      ],
      "execution_count": 0,
      "outputs": []
    },
    {
      "metadata": {
        "id": "iYYen6z6AbeD",
        "colab_type": "code",
        "outputId": "ed163db0-69a9-4614-965b-75adbb6a15ad",
        "colab": {
          "base_uri": "https://localhost:8080/",
          "height": 204
        }
      },
      "cell_type": "code",
      "source": [
        "frame"
      ],
      "execution_count": 0,
      "outputs": [
        {
          "output_type": "execute_result",
          "data": {
            "text/html": [
              "<div>\n",
              "<style scoped>\n",
              "    .dataframe tbody tr th:only-of-type {\n",
              "        vertical-align: middle;\n",
              "    }\n",
              "\n",
              "    .dataframe tbody tr th {\n",
              "        vertical-align: top;\n",
              "    }\n",
              "\n",
              "    .dataframe thead tr th {\n",
              "        text-align: left;\n",
              "    }\n",
              "</style>\n",
              "<table border=\"1\" class=\"dataframe\">\n",
              "  <thead>\n",
              "    <tr>\n",
              "      <th></th>\n",
              "      <th></th>\n",
              "      <th colspan=\"2\" halign=\"left\">Ohio</th>\n",
              "      <th>Colorado</th>\n",
              "    </tr>\n",
              "    <tr>\n",
              "      <th></th>\n",
              "      <th></th>\n",
              "      <th>Green</th>\n",
              "      <th>Red</th>\n",
              "      <th>Green</th>\n",
              "    </tr>\n",
              "  </thead>\n",
              "  <tbody>\n",
              "    <tr>\n",
              "      <th rowspan=\"2\" valign=\"top\">a</th>\n",
              "      <th>1</th>\n",
              "      <td>0</td>\n",
              "      <td>1</td>\n",
              "      <td>2</td>\n",
              "    </tr>\n",
              "    <tr>\n",
              "      <th>2</th>\n",
              "      <td>3</td>\n",
              "      <td>4</td>\n",
              "      <td>5</td>\n",
              "    </tr>\n",
              "    <tr>\n",
              "      <th rowspan=\"2\" valign=\"top\">b</th>\n",
              "      <th>1</th>\n",
              "      <td>6</td>\n",
              "      <td>7</td>\n",
              "      <td>8</td>\n",
              "    </tr>\n",
              "    <tr>\n",
              "      <th>2</th>\n",
              "      <td>9</td>\n",
              "      <td>10</td>\n",
              "      <td>11</td>\n",
              "    </tr>\n",
              "  </tbody>\n",
              "</table>\n",
              "</div>"
            ],
            "text/plain": [
              "     Ohio     Colorado\n",
              "    Green Red    Green\n",
              "a 1     0   1        2\n",
              "  2     3   4        5\n",
              "b 1     6   7        8\n",
              "  2     9  10       11"
            ]
          },
          "metadata": {
            "tags": []
          },
          "execution_count": 74
        }
      ]
    },
    {
      "metadata": {
        "id": "K2whrdLPAi0-",
        "colab_type": "text"
      },
      "cell_type": "markdown",
      "source": [
        "**계층적 색인의 각 단계는 이름을 가질수 있고, 만약 이름이 있다면, 콘솔 출력 시에 함께 나타난다. **"
      ]
    },
    {
      "metadata": {
        "id": "Zg2MVsk1AcmQ",
        "colab_type": "code",
        "colab": {}
      },
      "cell_type": "code",
      "source": [
        "frame.index.names = ['key1', 'key2']"
      ],
      "execution_count": 0,
      "outputs": []
    },
    {
      "metadata": {
        "id": "6v7wLkc3A2SO",
        "colab_type": "code",
        "outputId": "64ac0444-6728-466a-986a-205028e69073",
        "colab": {
          "base_uri": "https://localhost:8080/",
          "height": 235
        }
      },
      "cell_type": "code",
      "source": [
        "frame"
      ],
      "execution_count": 0,
      "outputs": [
        {
          "output_type": "execute_result",
          "data": {
            "text/html": [
              "<div>\n",
              "<style scoped>\n",
              "    .dataframe tbody tr th:only-of-type {\n",
              "        vertical-align: middle;\n",
              "    }\n",
              "\n",
              "    .dataframe tbody tr th {\n",
              "        vertical-align: top;\n",
              "    }\n",
              "\n",
              "    .dataframe thead tr th {\n",
              "        text-align: left;\n",
              "    }\n",
              "\n",
              "    .dataframe thead tr:last-of-type th {\n",
              "        text-align: right;\n",
              "    }\n",
              "</style>\n",
              "<table border=\"1\" class=\"dataframe\">\n",
              "  <thead>\n",
              "    <tr>\n",
              "      <th></th>\n",
              "      <th></th>\n",
              "      <th colspan=\"2\" halign=\"left\">Ohio</th>\n",
              "      <th>Colorado</th>\n",
              "    </tr>\n",
              "    <tr>\n",
              "      <th></th>\n",
              "      <th></th>\n",
              "      <th>Green</th>\n",
              "      <th>Red</th>\n",
              "      <th>Green</th>\n",
              "    </tr>\n",
              "    <tr>\n",
              "      <th>key1</th>\n",
              "      <th>key2</th>\n",
              "      <th></th>\n",
              "      <th></th>\n",
              "      <th></th>\n",
              "    </tr>\n",
              "  </thead>\n",
              "  <tbody>\n",
              "    <tr>\n",
              "      <th rowspan=\"2\" valign=\"top\">a</th>\n",
              "      <th>1</th>\n",
              "      <td>0</td>\n",
              "      <td>1</td>\n",
              "      <td>2</td>\n",
              "    </tr>\n",
              "    <tr>\n",
              "      <th>2</th>\n",
              "      <td>3</td>\n",
              "      <td>4</td>\n",
              "      <td>5</td>\n",
              "    </tr>\n",
              "    <tr>\n",
              "      <th rowspan=\"2\" valign=\"top\">b</th>\n",
              "      <th>1</th>\n",
              "      <td>6</td>\n",
              "      <td>7</td>\n",
              "      <td>8</td>\n",
              "    </tr>\n",
              "    <tr>\n",
              "      <th>2</th>\n",
              "      <td>9</td>\n",
              "      <td>10</td>\n",
              "      <td>11</td>\n",
              "    </tr>\n",
              "  </tbody>\n",
              "</table>\n",
              "</div>"
            ],
            "text/plain": [
              "           Ohio     Colorado\n",
              "          Green Red    Green\n",
              "key1 key2                   \n",
              "a    1        0   1        2\n",
              "     2        3   4        5\n",
              "b    1        6   7        8\n",
              "     2        9  10       11"
            ]
          },
          "metadata": {
            "tags": []
          },
          "execution_count": 76
        }
      ]
    },
    {
      "metadata": {
        "id": "PKa0-MjrA5YR",
        "colab_type": "text"
      },
      "cell_type": "markdown",
      "source": [
        "Column에도 이름을 줘보자"
      ]
    },
    {
      "metadata": {
        "id": "F3paLlQdA3Lj",
        "colab_type": "code",
        "colab": {}
      },
      "cell_type": "code",
      "source": [
        "frame.columns.names = ['State', 'Color']"
      ],
      "execution_count": 0,
      "outputs": []
    },
    {
      "metadata": {
        "id": "vjxinsIQBAwP",
        "colab_type": "code",
        "outputId": "e4e44b97-6247-4b54-9d18-ac22fbc4df50",
        "colab": {
          "base_uri": "https://localhost:8080/",
          "height": 235
        }
      },
      "cell_type": "code",
      "source": [
        "frame"
      ],
      "execution_count": 0,
      "outputs": [
        {
          "output_type": "execute_result",
          "data": {
            "text/html": [
              "<div>\n",
              "<style scoped>\n",
              "    .dataframe tbody tr th:only-of-type {\n",
              "        vertical-align: middle;\n",
              "    }\n",
              "\n",
              "    .dataframe tbody tr th {\n",
              "        vertical-align: top;\n",
              "    }\n",
              "\n",
              "    .dataframe thead tr th {\n",
              "        text-align: left;\n",
              "    }\n",
              "\n",
              "    .dataframe thead tr:last-of-type th {\n",
              "        text-align: right;\n",
              "    }\n",
              "</style>\n",
              "<table border=\"1\" class=\"dataframe\">\n",
              "  <thead>\n",
              "    <tr>\n",
              "      <th></th>\n",
              "      <th>State</th>\n",
              "      <th colspan=\"2\" halign=\"left\">Ohio</th>\n",
              "      <th>Colorado</th>\n",
              "    </tr>\n",
              "    <tr>\n",
              "      <th></th>\n",
              "      <th>Color</th>\n",
              "      <th>Green</th>\n",
              "      <th>Red</th>\n",
              "      <th>Green</th>\n",
              "    </tr>\n",
              "    <tr>\n",
              "      <th>key1</th>\n",
              "      <th>key2</th>\n",
              "      <th></th>\n",
              "      <th></th>\n",
              "      <th></th>\n",
              "    </tr>\n",
              "  </thead>\n",
              "  <tbody>\n",
              "    <tr>\n",
              "      <th rowspan=\"2\" valign=\"top\">a</th>\n",
              "      <th>1</th>\n",
              "      <td>0</td>\n",
              "      <td>1</td>\n",
              "      <td>2</td>\n",
              "    </tr>\n",
              "    <tr>\n",
              "      <th>2</th>\n",
              "      <td>3</td>\n",
              "      <td>4</td>\n",
              "      <td>5</td>\n",
              "    </tr>\n",
              "    <tr>\n",
              "      <th rowspan=\"2\" valign=\"top\">b</th>\n",
              "      <th>1</th>\n",
              "      <td>6</td>\n",
              "      <td>7</td>\n",
              "      <td>8</td>\n",
              "    </tr>\n",
              "    <tr>\n",
              "      <th>2</th>\n",
              "      <td>9</td>\n",
              "      <td>10</td>\n",
              "      <td>11</td>\n",
              "    </tr>\n",
              "  </tbody>\n",
              "</table>\n",
              "</div>"
            ],
            "text/plain": [
              "State      Ohio     Colorado\n",
              "Color     Green Red    Green\n",
              "key1 key2                   \n",
              "a    1        0   1        2\n",
              "     2        3   4        5\n",
              "b    1        6   7        8\n",
              "     2        9  10       11"
            ]
          },
          "metadata": {
            "tags": []
          },
          "execution_count": 78
        }
      ]
    },
    {
      "metadata": {
        "id": "Vh-t7pPpBCbE",
        "colab_type": "code",
        "outputId": "c43119ad-740d-478f-d4dc-bffc3439b6a2",
        "colab": {
          "base_uri": "https://localhost:8080/",
          "height": 204
        }
      },
      "cell_type": "code",
      "source": [
        "frame['Ohio']"
      ],
      "execution_count": 0,
      "outputs": [
        {
          "output_type": "execute_result",
          "data": {
            "text/html": [
              "<div>\n",
              "<style scoped>\n",
              "    .dataframe tbody tr th:only-of-type {\n",
              "        vertical-align: middle;\n",
              "    }\n",
              "\n",
              "    .dataframe tbody tr th {\n",
              "        vertical-align: top;\n",
              "    }\n",
              "\n",
              "    .dataframe thead th {\n",
              "        text-align: right;\n",
              "    }\n",
              "</style>\n",
              "<table border=\"1\" class=\"dataframe\">\n",
              "  <thead>\n",
              "    <tr style=\"text-align: right;\">\n",
              "      <th></th>\n",
              "      <th>Color</th>\n",
              "      <th>Green</th>\n",
              "      <th>Red</th>\n",
              "    </tr>\n",
              "    <tr>\n",
              "      <th>key1</th>\n",
              "      <th>key2</th>\n",
              "      <th></th>\n",
              "      <th></th>\n",
              "    </tr>\n",
              "  </thead>\n",
              "  <tbody>\n",
              "    <tr>\n",
              "      <th rowspan=\"2\" valign=\"top\">a</th>\n",
              "      <th>1</th>\n",
              "      <td>0</td>\n",
              "      <td>1</td>\n",
              "    </tr>\n",
              "    <tr>\n",
              "      <th>2</th>\n",
              "      <td>3</td>\n",
              "      <td>4</td>\n",
              "    </tr>\n",
              "    <tr>\n",
              "      <th rowspan=\"2\" valign=\"top\">b</th>\n",
              "      <th>1</th>\n",
              "      <td>6</td>\n",
              "      <td>7</td>\n",
              "    </tr>\n",
              "    <tr>\n",
              "      <th>2</th>\n",
              "      <td>9</td>\n",
              "      <td>10</td>\n",
              "    </tr>\n",
              "  </tbody>\n",
              "</table>\n",
              "</div>"
            ],
            "text/plain": [
              "Color      Green  Red\n",
              "key1 key2            \n",
              "a    1         0    1\n",
              "     2         3    4\n",
              "b    1         6    7\n",
              "     2         9   10"
            ]
          },
          "metadata": {
            "tags": []
          },
          "execution_count": 79
        }
      ]
    },
    {
      "metadata": {
        "id": "X5HwRnHiBI5X",
        "colab_type": "code",
        "outputId": "221bccf7-bd55-412b-f628-b2007672f4c8",
        "colab": {
          "base_uri": "https://localhost:8080/",
          "height": 35
        }
      },
      "cell_type": "code",
      "source": [
        "frame.index.labels"
      ],
      "execution_count": 0,
      "outputs": [
        {
          "output_type": "execute_result",
          "data": {
            "text/plain": [
              "FrozenList([[0, 0, 1, 1], [0, 1, 0, 1]])"
            ]
          },
          "metadata": {
            "tags": []
          },
          "execution_count": 80
        }
      ]
    },
    {
      "metadata": {
        "id": "79AvyuD3BboH",
        "colab_type": "code",
        "outputId": "e552c590-d9b9-4b06-e4b1-2a4f3f86c837",
        "colab": {
          "base_uri": "https://localhost:8080/",
          "height": 35
        }
      },
      "cell_type": "code",
      "source": [
        "frame.index.names"
      ],
      "execution_count": 0,
      "outputs": [
        {
          "output_type": "execute_result",
          "data": {
            "text/plain": [
              "FrozenList(['key1', 'key2'])"
            ]
          },
          "metadata": {
            "tags": []
          },
          "execution_count": 81
        }
      ]
    },
    {
      "metadata": {
        "id": "VGBY6u75T7uH",
        "colab_type": "text"
      },
      "cell_type": "markdown",
      "source": [
        "이젠 본격적으로 data frame의 다중색인에 대해서 알아보자"
      ]
    },
    {
      "metadata": {
        "id": "_KUxt3gNBg-s",
        "colab_type": "code",
        "outputId": "bbcd210c-0ba5-4bb8-92d7-42885b998231",
        "colab": {
          "base_uri": "https://localhost:8080/",
          "height": 235
        }
      },
      "cell_type": "code",
      "source": [
        "frame"
      ],
      "execution_count": 0,
      "outputs": [
        {
          "output_type": "execute_result",
          "data": {
            "text/html": [
              "<div>\n",
              "<style scoped>\n",
              "    .dataframe tbody tr th:only-of-type {\n",
              "        vertical-align: middle;\n",
              "    }\n",
              "\n",
              "    .dataframe tbody tr th {\n",
              "        vertical-align: top;\n",
              "    }\n",
              "\n",
              "    .dataframe thead tr th {\n",
              "        text-align: left;\n",
              "    }\n",
              "\n",
              "    .dataframe thead tr:last-of-type th {\n",
              "        text-align: right;\n",
              "    }\n",
              "</style>\n",
              "<table border=\"1\" class=\"dataframe\">\n",
              "  <thead>\n",
              "    <tr>\n",
              "      <th></th>\n",
              "      <th>State</th>\n",
              "      <th colspan=\"2\" halign=\"left\">Ohio</th>\n",
              "      <th>Colorado</th>\n",
              "    </tr>\n",
              "    <tr>\n",
              "      <th></th>\n",
              "      <th>Color</th>\n",
              "      <th>Green</th>\n",
              "      <th>Red</th>\n",
              "      <th>Green</th>\n",
              "    </tr>\n",
              "    <tr>\n",
              "      <th>key1</th>\n",
              "      <th>key2</th>\n",
              "      <th></th>\n",
              "      <th></th>\n",
              "      <th></th>\n",
              "    </tr>\n",
              "  </thead>\n",
              "  <tbody>\n",
              "    <tr>\n",
              "      <th rowspan=\"2\" valign=\"top\">a</th>\n",
              "      <th>1</th>\n",
              "      <td>0</td>\n",
              "      <td>1</td>\n",
              "      <td>2</td>\n",
              "    </tr>\n",
              "    <tr>\n",
              "      <th>2</th>\n",
              "      <td>3</td>\n",
              "      <td>4</td>\n",
              "      <td>5</td>\n",
              "    </tr>\n",
              "    <tr>\n",
              "      <th rowspan=\"2\" valign=\"top\">b</th>\n",
              "      <th>1</th>\n",
              "      <td>6</td>\n",
              "      <td>7</td>\n",
              "      <td>8</td>\n",
              "    </tr>\n",
              "    <tr>\n",
              "      <th>2</th>\n",
              "      <td>9</td>\n",
              "      <td>10</td>\n",
              "      <td>11</td>\n",
              "    </tr>\n",
              "  </tbody>\n",
              "</table>\n",
              "</div>"
            ],
            "text/plain": [
              "State      Ohio     Colorado\n",
              "Color     Green Red    Green\n",
              "key1 key2                   \n",
              "a    1        0   1        2\n",
              "     2        3   4        5\n",
              "b    1        6   7        8\n",
              "     2        9  10       11"
            ]
          },
          "metadata": {
            "tags": []
          },
          "execution_count": 82
        }
      ]
    },
    {
      "metadata": {
        "id": "pP7WN8nqBnBD",
        "colab_type": "code",
        "outputId": "9b4f2a64-4b5a-4b81-fab4-27b75e542216",
        "colab": {
          "base_uri": "https://localhost:8080/",
          "height": 71
        }
      },
      "cell_type": "code",
      "source": [
        "frame.index"
      ],
      "execution_count": 0,
      "outputs": [
        {
          "output_type": "execute_result",
          "data": {
            "text/plain": [
              "MultiIndex(levels=[['a', 'b'], [1, 2]],\n",
              "           labels=[[0, 0, 1, 1], [0, 1, 0, 1]],\n",
              "           names=['key1', 'key2'])"
            ]
          },
          "metadata": {
            "tags": []
          },
          "execution_count": 83
        }
      ]
    },
    {
      "metadata": {
        "id": "YoY13WSDCD61",
        "colab_type": "code",
        "outputId": "3118c471-939e-4bf0-face-763646fc8e8a",
        "colab": {
          "base_uri": "https://localhost:8080/",
          "height": 173
        }
      },
      "cell_type": "code",
      "source": [
        "frame.loc['a']"
      ],
      "execution_count": 0,
      "outputs": [
        {
          "output_type": "execute_result",
          "data": {
            "text/html": [
              "<div>\n",
              "<style scoped>\n",
              "    .dataframe tbody tr th:only-of-type {\n",
              "        vertical-align: middle;\n",
              "    }\n",
              "\n",
              "    .dataframe tbody tr th {\n",
              "        vertical-align: top;\n",
              "    }\n",
              "\n",
              "    .dataframe thead tr th {\n",
              "        text-align: left;\n",
              "    }\n",
              "\n",
              "    .dataframe thead tr:last-of-type th {\n",
              "        text-align: right;\n",
              "    }\n",
              "</style>\n",
              "<table border=\"1\" class=\"dataframe\">\n",
              "  <thead>\n",
              "    <tr>\n",
              "      <th>State</th>\n",
              "      <th colspan=\"2\" halign=\"left\">Ohio</th>\n",
              "      <th>Colorado</th>\n",
              "    </tr>\n",
              "    <tr>\n",
              "      <th>Color</th>\n",
              "      <th>Green</th>\n",
              "      <th>Red</th>\n",
              "      <th>Green</th>\n",
              "    </tr>\n",
              "    <tr>\n",
              "      <th>key2</th>\n",
              "      <th></th>\n",
              "      <th></th>\n",
              "      <th></th>\n",
              "    </tr>\n",
              "  </thead>\n",
              "  <tbody>\n",
              "    <tr>\n",
              "      <th>1</th>\n",
              "      <td>0</td>\n",
              "      <td>1</td>\n",
              "      <td>2</td>\n",
              "    </tr>\n",
              "    <tr>\n",
              "      <th>2</th>\n",
              "      <td>3</td>\n",
              "      <td>4</td>\n",
              "      <td>5</td>\n",
              "    </tr>\n",
              "  </tbody>\n",
              "</table>\n",
              "</div>"
            ],
            "text/plain": [
              "State  Ohio     Colorado\n",
              "Color Green Red    Green\n",
              "key2                    \n",
              "1         0   1        2\n",
              "2         3   4        5"
            ]
          },
          "metadata": {
            "tags": []
          },
          "execution_count": 84
        }
      ]
    },
    {
      "metadata": {
        "id": "6skLzn-MCtDs",
        "colab_type": "code",
        "outputId": "31a6dbb9-2add-4410-ab15-e3bea3111fcd",
        "colab": {
          "base_uri": "https://localhost:8080/",
          "height": 235
        }
      },
      "cell_type": "code",
      "source": [
        "frame.loc['a': 'b']"
      ],
      "execution_count": 0,
      "outputs": [
        {
          "output_type": "execute_result",
          "data": {
            "text/html": [
              "<div>\n",
              "<style scoped>\n",
              "    .dataframe tbody tr th:only-of-type {\n",
              "        vertical-align: middle;\n",
              "    }\n",
              "\n",
              "    .dataframe tbody tr th {\n",
              "        vertical-align: top;\n",
              "    }\n",
              "\n",
              "    .dataframe thead tr th {\n",
              "        text-align: left;\n",
              "    }\n",
              "\n",
              "    .dataframe thead tr:last-of-type th {\n",
              "        text-align: right;\n",
              "    }\n",
              "</style>\n",
              "<table border=\"1\" class=\"dataframe\">\n",
              "  <thead>\n",
              "    <tr>\n",
              "      <th></th>\n",
              "      <th>State</th>\n",
              "      <th colspan=\"2\" halign=\"left\">Ohio</th>\n",
              "      <th>Colorado</th>\n",
              "    </tr>\n",
              "    <tr>\n",
              "      <th></th>\n",
              "      <th>Color</th>\n",
              "      <th>Green</th>\n",
              "      <th>Red</th>\n",
              "      <th>Green</th>\n",
              "    </tr>\n",
              "    <tr>\n",
              "      <th>key1</th>\n",
              "      <th>key2</th>\n",
              "      <th></th>\n",
              "      <th></th>\n",
              "      <th></th>\n",
              "    </tr>\n",
              "  </thead>\n",
              "  <tbody>\n",
              "    <tr>\n",
              "      <th rowspan=\"2\" valign=\"top\">a</th>\n",
              "      <th>1</th>\n",
              "      <td>0</td>\n",
              "      <td>1</td>\n",
              "      <td>2</td>\n",
              "    </tr>\n",
              "    <tr>\n",
              "      <th>2</th>\n",
              "      <td>3</td>\n",
              "      <td>4</td>\n",
              "      <td>5</td>\n",
              "    </tr>\n",
              "    <tr>\n",
              "      <th rowspan=\"2\" valign=\"top\">b</th>\n",
              "      <th>1</th>\n",
              "      <td>6</td>\n",
              "      <td>7</td>\n",
              "      <td>8</td>\n",
              "    </tr>\n",
              "    <tr>\n",
              "      <th>2</th>\n",
              "      <td>9</td>\n",
              "      <td>10</td>\n",
              "      <td>11</td>\n",
              "    </tr>\n",
              "  </tbody>\n",
              "</table>\n",
              "</div>"
            ],
            "text/plain": [
              "State      Ohio     Colorado\n",
              "Color     Green Red    Green\n",
              "key1 key2                   \n",
              "a    1        0   1        2\n",
              "     2        3   4        5\n",
              "b    1        6   7        8\n",
              "     2        9  10       11"
            ]
          },
          "metadata": {
            "tags": []
          },
          "execution_count": 85
        }
      ]
    },
    {
      "metadata": {
        "id": "6I4u_NCoUP-4",
        "colab_type": "text"
      },
      "cell_type": "markdown",
      "source": [
        "그럼 key1은 아무거나이고, key2가 2인 항목만 추출하고 싶다면, 어떻게 할까?"
      ]
    },
    {
      "metadata": {
        "id": "IQZEtXeDDJbH",
        "colab_type": "code",
        "colab": {}
      },
      "cell_type": "code",
      "source": [
        "frame.loc['a':'b', 2] # 'a' ~ 'b' 까지, key2가 2인 애들만 뽑자인데"
      ],
      "execution_count": 0,
      "outputs": []
    },
    {
      "metadata": {
        "id": "EY2dKWplU045",
        "colab_type": "code",
        "outputId": "a94d0669-7092-40f2-e396-07898dfa2a8b",
        "colab": {
          "base_uri": "https://localhost:8080/",
          "height": 136
        }
      },
      "cell_type": "code",
      "source": [
        "frame.loc[('a':'b', 2)]"
      ],
      "execution_count": 0,
      "outputs": [
        {
          "output_type": "error",
          "ename": "SyntaxError",
          "evalue": "ignored",
          "traceback": [
            "\u001b[0;36m  File \u001b[0;32m\"<ipython-input-97-f9ec23d31b35>\"\u001b[0;36m, line \u001b[0;32m1\u001b[0m\n\u001b[0;31m    frame.loc[('a':'b', 2)]\u001b[0m\n\u001b[0m                  ^\u001b[0m\n\u001b[0;31mSyntaxError\u001b[0m\u001b[0;31m:\u001b[0m invalid syntax\n"
          ]
        }
      ]
    },
    {
      "metadata": {
        "id": "ruy1Mb8-VCry",
        "colab_type": "text"
      },
      "cell_type": "markdown",
      "source": [
        "뭐지? 2를 column으로 준게 아닌데~ 2가 숫자여서 그런가? 그럼 문자 index로 다시 테스트 "
      ]
    },
    {
      "metadata": {
        "id": "Mnlo8WFWEw1b",
        "colab_type": "code",
        "colab": {}
      },
      "cell_type": "code",
      "source": [
        "frame = DataFrame(np.arange(12).reshape((4, 3)), \n",
        "                 index=[['a', 'a', 'b', 'b'], ['one', 'two', 'one', 'two']], \n",
        "                  columns = [['Ohio', 'Ohio', 'Colorado'], ['Green', 'Red', 'Green']]\n",
        "                 )"
      ],
      "execution_count": 0,
      "outputs": []
    },
    {
      "metadata": {
        "id": "CB4H25MIFpZd",
        "colab_type": "code",
        "outputId": "5a2aaa67-44d9-4e19-aea1-137be94d0d20",
        "colab": {
          "base_uri": "https://localhost:8080/",
          "height": 204
        }
      },
      "cell_type": "code",
      "source": [
        "frame"
      ],
      "execution_count": 0,
      "outputs": [
        {
          "output_type": "execute_result",
          "data": {
            "text/html": [
              "<div>\n",
              "<style scoped>\n",
              "    .dataframe tbody tr th:only-of-type {\n",
              "        vertical-align: middle;\n",
              "    }\n",
              "\n",
              "    .dataframe tbody tr th {\n",
              "        vertical-align: top;\n",
              "    }\n",
              "\n",
              "    .dataframe thead tr th {\n",
              "        text-align: left;\n",
              "    }\n",
              "</style>\n",
              "<table border=\"1\" class=\"dataframe\">\n",
              "  <thead>\n",
              "    <tr>\n",
              "      <th></th>\n",
              "      <th></th>\n",
              "      <th colspan=\"2\" halign=\"left\">Ohio</th>\n",
              "      <th>Colorado</th>\n",
              "    </tr>\n",
              "    <tr>\n",
              "      <th></th>\n",
              "      <th></th>\n",
              "      <th>Green</th>\n",
              "      <th>Red</th>\n",
              "      <th>Green</th>\n",
              "    </tr>\n",
              "  </thead>\n",
              "  <tbody>\n",
              "    <tr>\n",
              "      <th rowspan=\"2\" valign=\"top\">a</th>\n",
              "      <th>one</th>\n",
              "      <td>0</td>\n",
              "      <td>1</td>\n",
              "      <td>2</td>\n",
              "    </tr>\n",
              "    <tr>\n",
              "      <th>two</th>\n",
              "      <td>3</td>\n",
              "      <td>4</td>\n",
              "      <td>5</td>\n",
              "    </tr>\n",
              "    <tr>\n",
              "      <th rowspan=\"2\" valign=\"top\">b</th>\n",
              "      <th>one</th>\n",
              "      <td>6</td>\n",
              "      <td>7</td>\n",
              "      <td>8</td>\n",
              "    </tr>\n",
              "    <tr>\n",
              "      <th>two</th>\n",
              "      <td>9</td>\n",
              "      <td>10</td>\n",
              "      <td>11</td>\n",
              "    </tr>\n",
              "  </tbody>\n",
              "</table>\n",
              "</div>"
            ],
            "text/plain": [
              "       Ohio     Colorado\n",
              "      Green Red    Green\n",
              "a one     0   1        2\n",
              "  two     3   4        5\n",
              "b one     6   7        8\n",
              "  two     9  10       11"
            ]
          },
          "metadata": {
            "tags": []
          },
          "execution_count": 89
        }
      ]
    },
    {
      "metadata": {
        "id": "0NqHIandFrXy",
        "colab_type": "code",
        "outputId": "7e6074b9-5423-4255-c8ae-3fe959eba28e",
        "colab": {
          "base_uri": "https://localhost:8080/",
          "height": 53
        }
      },
      "cell_type": "code",
      "source": [
        "frame.index"
      ],
      "execution_count": 0,
      "outputs": [
        {
          "output_type": "execute_result",
          "data": {
            "text/plain": [
              "MultiIndex(levels=[['a', 'b'], ['one', 'two']],\n",
              "           labels=[[0, 0, 1, 1], [0, 1, 0, 1]])"
            ]
          },
          "metadata": {
            "tags": []
          },
          "execution_count": 90
        }
      ]
    },
    {
      "metadata": {
        "id": "O8PzwCvjFvKa",
        "colab_type": "code",
        "outputId": "677a0431-8691-4763-aa8c-58e1a21f69af",
        "colab": {
          "base_uri": "https://localhost:8080/",
          "height": 142
        }
      },
      "cell_type": "code",
      "source": [
        "frame.loc['b']"
      ],
      "execution_count": 0,
      "outputs": [
        {
          "output_type": "execute_result",
          "data": {
            "text/html": [
              "<div>\n",
              "<style scoped>\n",
              "    .dataframe tbody tr th:only-of-type {\n",
              "        vertical-align: middle;\n",
              "    }\n",
              "\n",
              "    .dataframe tbody tr th {\n",
              "        vertical-align: top;\n",
              "    }\n",
              "\n",
              "    .dataframe thead tr th {\n",
              "        text-align: left;\n",
              "    }\n",
              "</style>\n",
              "<table border=\"1\" class=\"dataframe\">\n",
              "  <thead>\n",
              "    <tr>\n",
              "      <th></th>\n",
              "      <th colspan=\"2\" halign=\"left\">Ohio</th>\n",
              "      <th>Colorado</th>\n",
              "    </tr>\n",
              "    <tr>\n",
              "      <th></th>\n",
              "      <th>Green</th>\n",
              "      <th>Red</th>\n",
              "      <th>Green</th>\n",
              "    </tr>\n",
              "  </thead>\n",
              "  <tbody>\n",
              "    <tr>\n",
              "      <th>one</th>\n",
              "      <td>6</td>\n",
              "      <td>7</td>\n",
              "      <td>8</td>\n",
              "    </tr>\n",
              "    <tr>\n",
              "      <th>two</th>\n",
              "      <td>9</td>\n",
              "      <td>10</td>\n",
              "      <td>11</td>\n",
              "    </tr>\n",
              "  </tbody>\n",
              "</table>\n",
              "</div>"
            ],
            "text/plain": [
              "     Ohio     Colorado\n",
              "    Green Red    Green\n",
              "one     6   7        8\n",
              "two     9  10       11"
            ]
          },
          "metadata": {
            "tags": []
          },
          "execution_count": 91
        }
      ]
    },
    {
      "metadata": {
        "id": "F378WUBFGF2S",
        "colab_type": "code",
        "outputId": "9aba11de-940d-42da-841b-04e46e02ab86",
        "colab": {
          "base_uri": "https://localhost:8080/",
          "height": 89
        }
      },
      "cell_type": "code",
      "source": [
        "frame.loc['b', 'two']"
      ],
      "execution_count": 0,
      "outputs": [
        {
          "output_type": "execute_result",
          "data": {
            "text/plain": [
              "Ohio      Green     9\n",
              "          Red      10\n",
              "Colorado  Green    11\n",
              "Name: (b, two), dtype: int64"
            ]
          },
          "metadata": {
            "tags": []
          },
          "execution_count": 92
        }
      ]
    },
    {
      "metadata": {
        "id": "sVjwXLYRGqyI",
        "colab_type": "code",
        "outputId": "a9f29072-2606-4574-a05b-be334ff535c9",
        "colab": {
          "base_uri": "https://localhost:8080/",
          "height": 142
        }
      },
      "cell_type": "code",
      "source": [
        "frame.loc[[('a', 'two'), ('b', 'two')]]"
      ],
      "execution_count": 0,
      "outputs": [
        {
          "output_type": "execute_result",
          "data": {
            "text/html": [
              "<div>\n",
              "<style scoped>\n",
              "    .dataframe tbody tr th:only-of-type {\n",
              "        vertical-align: middle;\n",
              "    }\n",
              "\n",
              "    .dataframe tbody tr th {\n",
              "        vertical-align: top;\n",
              "    }\n",
              "\n",
              "    .dataframe thead tr th {\n",
              "        text-align: left;\n",
              "    }\n",
              "</style>\n",
              "<table border=\"1\" class=\"dataframe\">\n",
              "  <thead>\n",
              "    <tr>\n",
              "      <th></th>\n",
              "      <th></th>\n",
              "      <th colspan=\"2\" halign=\"left\">Ohio</th>\n",
              "      <th>Colorado</th>\n",
              "    </tr>\n",
              "    <tr>\n",
              "      <th></th>\n",
              "      <th></th>\n",
              "      <th>Green</th>\n",
              "      <th>Red</th>\n",
              "      <th>Green</th>\n",
              "    </tr>\n",
              "  </thead>\n",
              "  <tbody>\n",
              "    <tr>\n",
              "      <th>a</th>\n",
              "      <th>two</th>\n",
              "      <td>3</td>\n",
              "      <td>4</td>\n",
              "      <td>5</td>\n",
              "    </tr>\n",
              "    <tr>\n",
              "      <th>b</th>\n",
              "      <th>two</th>\n",
              "      <td>9</td>\n",
              "      <td>10</td>\n",
              "      <td>11</td>\n",
              "    </tr>\n",
              "  </tbody>\n",
              "</table>\n",
              "</div>"
            ],
            "text/plain": [
              "       Ohio     Colorado\n",
              "      Green Red    Green\n",
              "a two     3   4        5\n",
              "b two     9  10       11"
            ]
          },
          "metadata": {
            "tags": []
          },
          "execution_count": 93
        }
      ]
    },
    {
      "metadata": {
        "id": "R-352bhqNd_m",
        "colab_type": "text"
      },
      "cell_type": "markdown",
      "source": [
        "### 퀴즈, frame에서 key2가 'two' 인 데이터만 뽑고 싶다면, 어떻게 해야 할까요?"
      ]
    },
    {
      "metadata": {
        "id": "EJBvIdijNwGN",
        "colab_type": "text"
      },
      "cell_type": "markdown",
      "source": [
        "슬라이싱(:)을 써줘야 하는데 아래와 같이 쓰면, 에러 발생함. "
      ]
    },
    {
      "metadata": {
        "id": "qa298xlxOAWq",
        "colab_type": "code",
        "colab": {}
      },
      "cell_type": "code",
      "source": [
        "frame.loc[:, 'two']"
      ],
      "execution_count": 0,
      "outputs": []
    },
    {
      "metadata": {
        "id": "nAlxhVoBOJO8",
        "colab_type": "code",
        "outputId": "59bcb7cc-86ae-4b70-f780-e795273b0692",
        "colab": {
          "base_uri": "https://localhost:8080/",
          "height": 136
        }
      },
      "cell_type": "code",
      "source": [
        "frame.loc[(:, 'two')]"
      ],
      "execution_count": 0,
      "outputs": [
        {
          "output_type": "error",
          "ename": "SyntaxError",
          "evalue": "ignored",
          "traceback": [
            "\u001b[0;36m  File \u001b[0;32m\"<ipython-input-99-794b77f83b2f>\"\u001b[0;36m, line \u001b[0;32m1\u001b[0m\n\u001b[0;31m    frame.loc[(:, 'two')]\u001b[0m\n\u001b[0m               ^\u001b[0m\n\u001b[0;31mSyntaxError\u001b[0m\u001b[0;31m:\u001b[0m invalid syntax\n"
          ]
        }
      ]
    },
    {
      "metadata": {
        "id": "pAsfrXLTObBc",
        "colab_type": "text"
      },
      "cell_type": "markdown",
      "source": [
        "#### MultiIndexing에서는 슬라이싱을 slice로 표시"
      ]
    },
    {
      "metadata": {
        "id": "YwHLafDyLmcU",
        "colab_type": "code",
        "outputId": "d37988b1-c5c5-4713-ccb3-f3f9ffc4d62e",
        "colab": {
          "base_uri": "https://localhost:8080/",
          "height": 204
        }
      },
      "cell_type": "code",
      "source": [
        "frame"
      ],
      "execution_count": 0,
      "outputs": [
        {
          "output_type": "execute_result",
          "data": {
            "text/html": [
              "<div>\n",
              "<style scoped>\n",
              "    .dataframe tbody tr th:only-of-type {\n",
              "        vertical-align: middle;\n",
              "    }\n",
              "\n",
              "    .dataframe tbody tr th {\n",
              "        vertical-align: top;\n",
              "    }\n",
              "\n",
              "    .dataframe thead tr th {\n",
              "        text-align: left;\n",
              "    }\n",
              "</style>\n",
              "<table border=\"1\" class=\"dataframe\">\n",
              "  <thead>\n",
              "    <tr>\n",
              "      <th></th>\n",
              "      <th></th>\n",
              "      <th colspan=\"2\" halign=\"left\">Ohio</th>\n",
              "      <th>Colorado</th>\n",
              "    </tr>\n",
              "    <tr>\n",
              "      <th></th>\n",
              "      <th></th>\n",
              "      <th>Green</th>\n",
              "      <th>Red</th>\n",
              "      <th>Green</th>\n",
              "    </tr>\n",
              "  </thead>\n",
              "  <tbody>\n",
              "    <tr>\n",
              "      <th rowspan=\"2\" valign=\"top\">a</th>\n",
              "      <th>one</th>\n",
              "      <td>0</td>\n",
              "      <td>1</td>\n",
              "      <td>2</td>\n",
              "    </tr>\n",
              "    <tr>\n",
              "      <th>two</th>\n",
              "      <td>3</td>\n",
              "      <td>4</td>\n",
              "      <td>5</td>\n",
              "    </tr>\n",
              "    <tr>\n",
              "      <th rowspan=\"2\" valign=\"top\">b</th>\n",
              "      <th>one</th>\n",
              "      <td>6</td>\n",
              "      <td>7</td>\n",
              "      <td>8</td>\n",
              "    </tr>\n",
              "    <tr>\n",
              "      <th>two</th>\n",
              "      <td>9</td>\n",
              "      <td>10</td>\n",
              "      <td>11</td>\n",
              "    </tr>\n",
              "  </tbody>\n",
              "</table>\n",
              "</div>"
            ],
            "text/plain": [
              "       Ohio     Colorado\n",
              "      Green Red    Green\n",
              "a one     0   1        2\n",
              "  two     3   4        5\n",
              "b one     6   7        8\n",
              "  two     9  10       11"
            ]
          },
          "metadata": {
            "tags": []
          },
          "execution_count": 100
        }
      ]
    },
    {
      "metadata": {
        "id": "o8l_O7KhKu9J",
        "colab_type": "code",
        "outputId": "94540e5e-3fdc-46ec-e27b-e5d2d41942ce",
        "colab": {
          "base_uri": "https://localhost:8080/",
          "height": 111
        }
      },
      "cell_type": "code",
      "source": [
        "frame.loc[(slice('a', 'b'), 'two'), 'Colorado']"
      ],
      "execution_count": 0,
      "outputs": [
        {
          "output_type": "execute_result",
          "data": {
            "text/html": [
              "<div>\n",
              "<style scoped>\n",
              "    .dataframe tbody tr th:only-of-type {\n",
              "        vertical-align: middle;\n",
              "    }\n",
              "\n",
              "    .dataframe tbody tr th {\n",
              "        vertical-align: top;\n",
              "    }\n",
              "\n",
              "    .dataframe thead th {\n",
              "        text-align: right;\n",
              "    }\n",
              "</style>\n",
              "<table border=\"1\" class=\"dataframe\">\n",
              "  <thead>\n",
              "    <tr style=\"text-align: right;\">\n",
              "      <th></th>\n",
              "      <th></th>\n",
              "      <th>Green</th>\n",
              "    </tr>\n",
              "  </thead>\n",
              "  <tbody>\n",
              "    <tr>\n",
              "      <th>a</th>\n",
              "      <th>two</th>\n",
              "      <td>5</td>\n",
              "    </tr>\n",
              "    <tr>\n",
              "      <th>b</th>\n",
              "      <th>two</th>\n",
              "      <td>11</td>\n",
              "    </tr>\n",
              "  </tbody>\n",
              "</table>\n",
              "</div>"
            ],
            "text/plain": [
              "       Green\n",
              "a two      5\n",
              "b two     11"
            ]
          },
          "metadata": {
            "tags": []
          },
          "execution_count": 101
        }
      ]
    },
    {
      "metadata": {
        "id": "K3mnlPSCLJVP",
        "colab_type": "code",
        "outputId": "258a8115-c18f-48ab-b5fe-38b13ef3f6df",
        "colab": {
          "base_uri": "https://localhost:8080/",
          "height": 111
        }
      },
      "cell_type": "code",
      "source": [
        "frame.loc[(slice(None), 'two'), 'Colorado']"
      ],
      "execution_count": 0,
      "outputs": [
        {
          "output_type": "execute_result",
          "data": {
            "text/html": [
              "<div>\n",
              "<style scoped>\n",
              "    .dataframe tbody tr th:only-of-type {\n",
              "        vertical-align: middle;\n",
              "    }\n",
              "\n",
              "    .dataframe tbody tr th {\n",
              "        vertical-align: top;\n",
              "    }\n",
              "\n",
              "    .dataframe thead th {\n",
              "        text-align: right;\n",
              "    }\n",
              "</style>\n",
              "<table border=\"1\" class=\"dataframe\">\n",
              "  <thead>\n",
              "    <tr style=\"text-align: right;\">\n",
              "      <th></th>\n",
              "      <th></th>\n",
              "      <th>Green</th>\n",
              "    </tr>\n",
              "  </thead>\n",
              "  <tbody>\n",
              "    <tr>\n",
              "      <th>a</th>\n",
              "      <th>two</th>\n",
              "      <td>5</td>\n",
              "    </tr>\n",
              "    <tr>\n",
              "      <th>b</th>\n",
              "      <th>two</th>\n",
              "      <td>11</td>\n",
              "    </tr>\n",
              "  </tbody>\n",
              "</table>\n",
              "</div>"
            ],
            "text/plain": [
              "       Green\n",
              "a two      5\n",
              "b two     11"
            ]
          },
          "metadata": {
            "tags": []
          },
          "execution_count": 102
        }
      ]
    },
    {
      "metadata": {
        "id": "TjrCdlhKO7uE",
        "colab_type": "text"
      },
      "cell_type": "markdown",
      "source": [
        "혹은 판다스에서 제공하는 IndexSlice를 사용하자~"
      ]
    },
    {
      "metadata": {
        "id": "FnTUo7jTLgb0",
        "colab_type": "code",
        "colab": {}
      },
      "cell_type": "code",
      "source": [
        "idx = pd.IndexSlice"
      ],
      "execution_count": 0,
      "outputs": []
    },
    {
      "metadata": {
        "id": "dULOXZHRMA7R",
        "colab_type": "code",
        "outputId": "79f5d4db-80a0-4c4a-8c8f-9d095f4843f8",
        "colab": {
          "base_uri": "https://localhost:8080/",
          "height": 204
        }
      },
      "cell_type": "code",
      "source": [
        "frame"
      ],
      "execution_count": 0,
      "outputs": [
        {
          "output_type": "execute_result",
          "data": {
            "text/html": [
              "<div>\n",
              "<style scoped>\n",
              "    .dataframe tbody tr th:only-of-type {\n",
              "        vertical-align: middle;\n",
              "    }\n",
              "\n",
              "    .dataframe tbody tr th {\n",
              "        vertical-align: top;\n",
              "    }\n",
              "\n",
              "    .dataframe thead tr th {\n",
              "        text-align: left;\n",
              "    }\n",
              "</style>\n",
              "<table border=\"1\" class=\"dataframe\">\n",
              "  <thead>\n",
              "    <tr>\n",
              "      <th></th>\n",
              "      <th></th>\n",
              "      <th colspan=\"2\" halign=\"left\">Ohio</th>\n",
              "      <th>Colorado</th>\n",
              "    </tr>\n",
              "    <tr>\n",
              "      <th></th>\n",
              "      <th></th>\n",
              "      <th>Green</th>\n",
              "      <th>Red</th>\n",
              "      <th>Green</th>\n",
              "    </tr>\n",
              "  </thead>\n",
              "  <tbody>\n",
              "    <tr>\n",
              "      <th rowspan=\"2\" valign=\"top\">a</th>\n",
              "      <th>one</th>\n",
              "      <td>0</td>\n",
              "      <td>1</td>\n",
              "      <td>2</td>\n",
              "    </tr>\n",
              "    <tr>\n",
              "      <th>two</th>\n",
              "      <td>3</td>\n",
              "      <td>4</td>\n",
              "      <td>5</td>\n",
              "    </tr>\n",
              "    <tr>\n",
              "      <th rowspan=\"2\" valign=\"top\">b</th>\n",
              "      <th>one</th>\n",
              "      <td>6</td>\n",
              "      <td>7</td>\n",
              "      <td>8</td>\n",
              "    </tr>\n",
              "    <tr>\n",
              "      <th>two</th>\n",
              "      <td>9</td>\n",
              "      <td>10</td>\n",
              "      <td>11</td>\n",
              "    </tr>\n",
              "  </tbody>\n",
              "</table>\n",
              "</div>"
            ],
            "text/plain": [
              "       Ohio     Colorado\n",
              "      Green Red    Green\n",
              "a one     0   1        2\n",
              "  two     3   4        5\n",
              "b one     6   7        8\n",
              "  two     9  10       11"
            ]
          },
          "metadata": {
            "tags": []
          },
          "execution_count": 104
        }
      ]
    },
    {
      "metadata": {
        "id": "0Su-tsndMC1q",
        "colab_type": "code",
        "outputId": "eb82cc6a-a353-4795-ad9f-da82b8eef8e9",
        "colab": {
          "base_uri": "https://localhost:8080/",
          "height": 142
        }
      },
      "cell_type": "code",
      "source": [
        "frame.loc[idx[:, 'one'], :]"
      ],
      "execution_count": 0,
      "outputs": [
        {
          "output_type": "execute_result",
          "data": {
            "text/html": [
              "<div>\n",
              "<style scoped>\n",
              "    .dataframe tbody tr th:only-of-type {\n",
              "        vertical-align: middle;\n",
              "    }\n",
              "\n",
              "    .dataframe tbody tr th {\n",
              "        vertical-align: top;\n",
              "    }\n",
              "\n",
              "    .dataframe thead tr th {\n",
              "        text-align: left;\n",
              "    }\n",
              "</style>\n",
              "<table border=\"1\" class=\"dataframe\">\n",
              "  <thead>\n",
              "    <tr>\n",
              "      <th></th>\n",
              "      <th></th>\n",
              "      <th colspan=\"2\" halign=\"left\">Ohio</th>\n",
              "      <th>Colorado</th>\n",
              "    </tr>\n",
              "    <tr>\n",
              "      <th></th>\n",
              "      <th></th>\n",
              "      <th>Green</th>\n",
              "      <th>Red</th>\n",
              "      <th>Green</th>\n",
              "    </tr>\n",
              "  </thead>\n",
              "  <tbody>\n",
              "    <tr>\n",
              "      <th>a</th>\n",
              "      <th>one</th>\n",
              "      <td>0</td>\n",
              "      <td>1</td>\n",
              "      <td>2</td>\n",
              "    </tr>\n",
              "    <tr>\n",
              "      <th>b</th>\n",
              "      <th>one</th>\n",
              "      <td>6</td>\n",
              "      <td>7</td>\n",
              "      <td>8</td>\n",
              "    </tr>\n",
              "  </tbody>\n",
              "</table>\n",
              "</div>"
            ],
            "text/plain": [
              "       Ohio     Colorado\n",
              "      Green Red    Green\n",
              "a one     0   1        2\n",
              "b one     6   7        8"
            ]
          },
          "metadata": {
            "tags": []
          },
          "execution_count": 105
        }
      ]
    },
    {
      "metadata": {
        "id": "z9WOCRYIMLoe",
        "colab_type": "code",
        "outputId": "1cfe4a7a-44c9-43a0-d80c-b1237a030f29",
        "colab": {
          "base_uri": "https://localhost:8080/",
          "height": 142
        }
      },
      "cell_type": "code",
      "source": [
        "frame.loc[(slice(None), 'one'), :]"
      ],
      "execution_count": 0,
      "outputs": [
        {
          "output_type": "execute_result",
          "data": {
            "text/html": [
              "<div>\n",
              "<style scoped>\n",
              "    .dataframe tbody tr th:only-of-type {\n",
              "        vertical-align: middle;\n",
              "    }\n",
              "\n",
              "    .dataframe tbody tr th {\n",
              "        vertical-align: top;\n",
              "    }\n",
              "\n",
              "    .dataframe thead tr th {\n",
              "        text-align: left;\n",
              "    }\n",
              "</style>\n",
              "<table border=\"1\" class=\"dataframe\">\n",
              "  <thead>\n",
              "    <tr>\n",
              "      <th></th>\n",
              "      <th></th>\n",
              "      <th colspan=\"2\" halign=\"left\">Ohio</th>\n",
              "      <th>Colorado</th>\n",
              "    </tr>\n",
              "    <tr>\n",
              "      <th></th>\n",
              "      <th></th>\n",
              "      <th>Green</th>\n",
              "      <th>Red</th>\n",
              "      <th>Green</th>\n",
              "    </tr>\n",
              "  </thead>\n",
              "  <tbody>\n",
              "    <tr>\n",
              "      <th>a</th>\n",
              "      <th>one</th>\n",
              "      <td>0</td>\n",
              "      <td>1</td>\n",
              "      <td>2</td>\n",
              "    </tr>\n",
              "    <tr>\n",
              "      <th>b</th>\n",
              "      <th>one</th>\n",
              "      <td>6</td>\n",
              "      <td>7</td>\n",
              "      <td>8</td>\n",
              "    </tr>\n",
              "  </tbody>\n",
              "</table>\n",
              "</div>"
            ],
            "text/plain": [
              "       Ohio     Colorado\n",
              "      Green Red    Green\n",
              "a one     0   1        2\n",
              "b one     6   7        8"
            ]
          },
          "metadata": {
            "tags": []
          },
          "execution_count": 106
        }
      ]
    },
    {
      "metadata": {
        "id": "UJ0AFP9AMjzK",
        "colab_type": "code",
        "outputId": "58252d56-2e52-499c-a3ce-77fb138b7452",
        "colab": {
          "base_uri": "https://localhost:8080/",
          "height": 173
        }
      },
      "cell_type": "code",
      "source": [
        "frame.loc[(slice(None), slice(None)), 'Colorado']"
      ],
      "execution_count": 0,
      "outputs": [
        {
          "output_type": "execute_result",
          "data": {
            "text/html": [
              "<div>\n",
              "<style scoped>\n",
              "    .dataframe tbody tr th:only-of-type {\n",
              "        vertical-align: middle;\n",
              "    }\n",
              "\n",
              "    .dataframe tbody tr th {\n",
              "        vertical-align: top;\n",
              "    }\n",
              "\n",
              "    .dataframe thead th {\n",
              "        text-align: right;\n",
              "    }\n",
              "</style>\n",
              "<table border=\"1\" class=\"dataframe\">\n",
              "  <thead>\n",
              "    <tr style=\"text-align: right;\">\n",
              "      <th></th>\n",
              "      <th></th>\n",
              "      <th>Green</th>\n",
              "    </tr>\n",
              "  </thead>\n",
              "  <tbody>\n",
              "    <tr>\n",
              "      <th rowspan=\"2\" valign=\"top\">a</th>\n",
              "      <th>one</th>\n",
              "      <td>2</td>\n",
              "    </tr>\n",
              "    <tr>\n",
              "      <th>two</th>\n",
              "      <td>5</td>\n",
              "    </tr>\n",
              "    <tr>\n",
              "      <th rowspan=\"2\" valign=\"top\">b</th>\n",
              "      <th>one</th>\n",
              "      <td>8</td>\n",
              "    </tr>\n",
              "    <tr>\n",
              "      <th>two</th>\n",
              "      <td>11</td>\n",
              "    </tr>\n",
              "  </tbody>\n",
              "</table>\n",
              "</div>"
            ],
            "text/plain": [
              "       Green\n",
              "a one      2\n",
              "  two      5\n",
              "b one      8\n",
              "  two     11"
            ]
          },
          "metadata": {
            "tags": []
          },
          "execution_count": 107
        }
      ]
    },
    {
      "metadata": {
        "id": "Z3vlYxfGWcw7",
        "colab_type": "text"
      },
      "cell_type": "markdown",
      "source": [
        "DataFrame의 multi index에서 ' : ' 이 먹히지 않는게 신기했음. "
      ]
    },
    {
      "metadata": {
        "id": "CiXRfOVJ_iy0",
        "colab_type": "text"
      },
      "cell_type": "markdown",
      "source": [
        "### 계층 순서 바꾸고 정렬하기"
      ]
    },
    {
      "metadata": {
        "colab_type": "code",
        "id": "fhy4ZDzV_yQ8",
        "colab": {}
      },
      "cell_type": "code",
      "source": [
        "frame = DataFrame(np.arange(12).reshape((4, 3)), \n",
        "                 index=[['a', 'a', 'b', 'b'], ['one', 'two', 'one', 'two']], \n",
        "                  columns = [['Ohio', 'Ohio', 'Colorado'], ['Green', 'Red', 'Green']]\n",
        "                 )"
      ],
      "execution_count": 0,
      "outputs": []
    },
    {
      "metadata": {
        "id": "8t-8cBjE_1em",
        "colab_type": "code",
        "colab": {
          "base_uri": "https://localhost:8080/",
          "height": 204
        },
        "outputId": "b11f6eab-e90d-4438-9765-ddb5bfdfa7ae"
      },
      "cell_type": "code",
      "source": [
        "frame"
      ],
      "execution_count": 3,
      "outputs": [
        {
          "output_type": "execute_result",
          "data": {
            "text/html": [
              "<div>\n",
              "<style scoped>\n",
              "    .dataframe tbody tr th:only-of-type {\n",
              "        vertical-align: middle;\n",
              "    }\n",
              "\n",
              "    .dataframe tbody tr th {\n",
              "        vertical-align: top;\n",
              "    }\n",
              "\n",
              "    .dataframe thead tr th {\n",
              "        text-align: left;\n",
              "    }\n",
              "</style>\n",
              "<table border=\"1\" class=\"dataframe\">\n",
              "  <thead>\n",
              "    <tr>\n",
              "      <th></th>\n",
              "      <th></th>\n",
              "      <th colspan=\"2\" halign=\"left\">Ohio</th>\n",
              "      <th>Colorado</th>\n",
              "    </tr>\n",
              "    <tr>\n",
              "      <th></th>\n",
              "      <th></th>\n",
              "      <th>Green</th>\n",
              "      <th>Red</th>\n",
              "      <th>Green</th>\n",
              "    </tr>\n",
              "  </thead>\n",
              "  <tbody>\n",
              "    <tr>\n",
              "      <th rowspan=\"2\" valign=\"top\">a</th>\n",
              "      <th>one</th>\n",
              "      <td>0</td>\n",
              "      <td>1</td>\n",
              "      <td>2</td>\n",
              "    </tr>\n",
              "    <tr>\n",
              "      <th>two</th>\n",
              "      <td>3</td>\n",
              "      <td>4</td>\n",
              "      <td>5</td>\n",
              "    </tr>\n",
              "    <tr>\n",
              "      <th rowspan=\"2\" valign=\"top\">b</th>\n",
              "      <th>one</th>\n",
              "      <td>6</td>\n",
              "      <td>7</td>\n",
              "      <td>8</td>\n",
              "    </tr>\n",
              "    <tr>\n",
              "      <th>two</th>\n",
              "      <td>9</td>\n",
              "      <td>10</td>\n",
              "      <td>11</td>\n",
              "    </tr>\n",
              "  </tbody>\n",
              "</table>\n",
              "</div>"
            ],
            "text/plain": [
              "       Ohio     Colorado\n",
              "      Green Red    Green\n",
              "a one     0   1        2\n",
              "  two     3   4        5\n",
              "b one     6   7        8\n",
              "  two     9  10       11"
            ]
          },
          "metadata": {
            "tags": []
          },
          "execution_count": 3
        }
      ]
    },
    {
      "metadata": {
        "id": "Fv0luLuA_6dy",
        "colab_type": "code",
        "colab": {}
      },
      "cell_type": "code",
      "source": [
        "frame.index.names = ['key1', 'key2']"
      ],
      "execution_count": 0,
      "outputs": []
    },
    {
      "metadata": {
        "id": "-elIY6QLAAqz",
        "colab_type": "code",
        "colab": {
          "base_uri": "https://localhost:8080/",
          "height": 235
        },
        "outputId": "b348850e-052c-4b9b-b8bc-6311861f5958"
      },
      "cell_type": "code",
      "source": [
        "frame"
      ],
      "execution_count": 5,
      "outputs": [
        {
          "output_type": "execute_result",
          "data": {
            "text/html": [
              "<div>\n",
              "<style scoped>\n",
              "    .dataframe tbody tr th:only-of-type {\n",
              "        vertical-align: middle;\n",
              "    }\n",
              "\n",
              "    .dataframe tbody tr th {\n",
              "        vertical-align: top;\n",
              "    }\n",
              "\n",
              "    .dataframe thead tr th {\n",
              "        text-align: left;\n",
              "    }\n",
              "\n",
              "    .dataframe thead tr:last-of-type th {\n",
              "        text-align: right;\n",
              "    }\n",
              "</style>\n",
              "<table border=\"1\" class=\"dataframe\">\n",
              "  <thead>\n",
              "    <tr>\n",
              "      <th></th>\n",
              "      <th></th>\n",
              "      <th colspan=\"2\" halign=\"left\">Ohio</th>\n",
              "      <th>Colorado</th>\n",
              "    </tr>\n",
              "    <tr>\n",
              "      <th></th>\n",
              "      <th></th>\n",
              "      <th>Green</th>\n",
              "      <th>Red</th>\n",
              "      <th>Green</th>\n",
              "    </tr>\n",
              "    <tr>\n",
              "      <th>key1</th>\n",
              "      <th>key2</th>\n",
              "      <th></th>\n",
              "      <th></th>\n",
              "      <th></th>\n",
              "    </tr>\n",
              "  </thead>\n",
              "  <tbody>\n",
              "    <tr>\n",
              "      <th rowspan=\"2\" valign=\"top\">a</th>\n",
              "      <th>one</th>\n",
              "      <td>0</td>\n",
              "      <td>1</td>\n",
              "      <td>2</td>\n",
              "    </tr>\n",
              "    <tr>\n",
              "      <th>two</th>\n",
              "      <td>3</td>\n",
              "      <td>4</td>\n",
              "      <td>5</td>\n",
              "    </tr>\n",
              "    <tr>\n",
              "      <th rowspan=\"2\" valign=\"top\">b</th>\n",
              "      <th>one</th>\n",
              "      <td>6</td>\n",
              "      <td>7</td>\n",
              "      <td>8</td>\n",
              "    </tr>\n",
              "    <tr>\n",
              "      <th>two</th>\n",
              "      <td>9</td>\n",
              "      <td>10</td>\n",
              "      <td>11</td>\n",
              "    </tr>\n",
              "  </tbody>\n",
              "</table>\n",
              "</div>"
            ],
            "text/plain": [
              "           Ohio     Colorado\n",
              "          Green Red    Green\n",
              "key1 key2                   \n",
              "a    one      0   1        2\n",
              "     two      3   4        5\n",
              "b    one      6   7        8\n",
              "     two      9  10       11"
            ]
          },
          "metadata": {
            "tags": []
          },
          "execution_count": 5
        }
      ]
    },
    {
      "metadata": {
        "id": "AJhxtoVCACZZ",
        "colab_type": "code",
        "colab": {
          "base_uri": "https://localhost:8080/",
          "height": 235
        },
        "outputId": "d469e9a5-465f-4f1b-ac00-2cdcb683416c"
      },
      "cell_type": "code",
      "source": [
        "frame.swaplevel('key1', 'key2')"
      ],
      "execution_count": 6,
      "outputs": [
        {
          "output_type": "execute_result",
          "data": {
            "text/html": [
              "<div>\n",
              "<style scoped>\n",
              "    .dataframe tbody tr th:only-of-type {\n",
              "        vertical-align: middle;\n",
              "    }\n",
              "\n",
              "    .dataframe tbody tr th {\n",
              "        vertical-align: top;\n",
              "    }\n",
              "\n",
              "    .dataframe thead tr th {\n",
              "        text-align: left;\n",
              "    }\n",
              "\n",
              "    .dataframe thead tr:last-of-type th {\n",
              "        text-align: right;\n",
              "    }\n",
              "</style>\n",
              "<table border=\"1\" class=\"dataframe\">\n",
              "  <thead>\n",
              "    <tr>\n",
              "      <th></th>\n",
              "      <th></th>\n",
              "      <th colspan=\"2\" halign=\"left\">Ohio</th>\n",
              "      <th>Colorado</th>\n",
              "    </tr>\n",
              "    <tr>\n",
              "      <th></th>\n",
              "      <th></th>\n",
              "      <th>Green</th>\n",
              "      <th>Red</th>\n",
              "      <th>Green</th>\n",
              "    </tr>\n",
              "    <tr>\n",
              "      <th>key2</th>\n",
              "      <th>key1</th>\n",
              "      <th></th>\n",
              "      <th></th>\n",
              "      <th></th>\n",
              "    </tr>\n",
              "  </thead>\n",
              "  <tbody>\n",
              "    <tr>\n",
              "      <th>one</th>\n",
              "      <th>a</th>\n",
              "      <td>0</td>\n",
              "      <td>1</td>\n",
              "      <td>2</td>\n",
              "    </tr>\n",
              "    <tr>\n",
              "      <th>two</th>\n",
              "      <th>a</th>\n",
              "      <td>3</td>\n",
              "      <td>4</td>\n",
              "      <td>5</td>\n",
              "    </tr>\n",
              "    <tr>\n",
              "      <th>one</th>\n",
              "      <th>b</th>\n",
              "      <td>6</td>\n",
              "      <td>7</td>\n",
              "      <td>8</td>\n",
              "    </tr>\n",
              "    <tr>\n",
              "      <th>two</th>\n",
              "      <th>b</th>\n",
              "      <td>9</td>\n",
              "      <td>10</td>\n",
              "      <td>11</td>\n",
              "    </tr>\n",
              "  </tbody>\n",
              "</table>\n",
              "</div>"
            ],
            "text/plain": [
              "           Ohio     Colorado\n",
              "          Green Red    Green\n",
              "key2 key1                   \n",
              "one  a        0   1        2\n",
              "two  a        3   4        5\n",
              "one  b        6   7        8\n",
              "two  b        9  10       11"
            ]
          },
          "metadata": {
            "tags": []
          },
          "execution_count": 6
        }
      ]
    },
    {
      "metadata": {
        "id": "-7CgHP9qAISn",
        "colab_type": "code",
        "colab": {
          "base_uri": "https://localhost:8080/",
          "height": 271
        },
        "outputId": "314d0c57-4f2a-453a-c49b-bf21e3e3bf29"
      },
      "cell_type": "code",
      "source": [
        "frame.sortlevel(1)"
      ],
      "execution_count": 7,
      "outputs": [
        {
          "output_type": "stream",
          "text": [
            "/usr/local/lib/python3.6/dist-packages/ipykernel_launcher.py:1: FutureWarning: sortlevel is deprecated, use sort_index(level= ...)\n",
            "  \"\"\"Entry point for launching an IPython kernel.\n"
          ],
          "name": "stderr"
        },
        {
          "output_type": "execute_result",
          "data": {
            "text/html": [
              "<div>\n",
              "<style scoped>\n",
              "    .dataframe tbody tr th:only-of-type {\n",
              "        vertical-align: middle;\n",
              "    }\n",
              "\n",
              "    .dataframe tbody tr th {\n",
              "        vertical-align: top;\n",
              "    }\n",
              "\n",
              "    .dataframe thead tr th {\n",
              "        text-align: left;\n",
              "    }\n",
              "\n",
              "    .dataframe thead tr:last-of-type th {\n",
              "        text-align: right;\n",
              "    }\n",
              "</style>\n",
              "<table border=\"1\" class=\"dataframe\">\n",
              "  <thead>\n",
              "    <tr>\n",
              "      <th></th>\n",
              "      <th></th>\n",
              "      <th colspan=\"2\" halign=\"left\">Ohio</th>\n",
              "      <th>Colorado</th>\n",
              "    </tr>\n",
              "    <tr>\n",
              "      <th></th>\n",
              "      <th></th>\n",
              "      <th>Green</th>\n",
              "      <th>Red</th>\n",
              "      <th>Green</th>\n",
              "    </tr>\n",
              "    <tr>\n",
              "      <th>key1</th>\n",
              "      <th>key2</th>\n",
              "      <th></th>\n",
              "      <th></th>\n",
              "      <th></th>\n",
              "    </tr>\n",
              "  </thead>\n",
              "  <tbody>\n",
              "    <tr>\n",
              "      <th>a</th>\n",
              "      <th>one</th>\n",
              "      <td>0</td>\n",
              "      <td>1</td>\n",
              "      <td>2</td>\n",
              "    </tr>\n",
              "    <tr>\n",
              "      <th>b</th>\n",
              "      <th>one</th>\n",
              "      <td>6</td>\n",
              "      <td>7</td>\n",
              "      <td>8</td>\n",
              "    </tr>\n",
              "    <tr>\n",
              "      <th>a</th>\n",
              "      <th>two</th>\n",
              "      <td>3</td>\n",
              "      <td>4</td>\n",
              "      <td>5</td>\n",
              "    </tr>\n",
              "    <tr>\n",
              "      <th>b</th>\n",
              "      <th>two</th>\n",
              "      <td>9</td>\n",
              "      <td>10</td>\n",
              "      <td>11</td>\n",
              "    </tr>\n",
              "  </tbody>\n",
              "</table>\n",
              "</div>"
            ],
            "text/plain": [
              "           Ohio     Colorado\n",
              "          Green Red    Green\n",
              "key1 key2                   \n",
              "a    one      0   1        2\n",
              "b    one      6   7        8\n",
              "a    two      3   4        5\n",
              "b    two      9  10       11"
            ]
          },
          "metadata": {
            "tags": []
          },
          "execution_count": 7
        }
      ]
    },
    {
      "metadata": {
        "id": "Qu6nTiRvAUMR",
        "colab_type": "code",
        "colab": {
          "base_uri": "https://localhost:8080/",
          "height": 235
        },
        "outputId": "0fff4fdc-f29b-41a1-cb43-c56e683b2d2c"
      },
      "cell_type": "code",
      "source": [
        "frame.sort_index(level=0)"
      ],
      "execution_count": 8,
      "outputs": [
        {
          "output_type": "execute_result",
          "data": {
            "text/html": [
              "<div>\n",
              "<style scoped>\n",
              "    .dataframe tbody tr th:only-of-type {\n",
              "        vertical-align: middle;\n",
              "    }\n",
              "\n",
              "    .dataframe tbody tr th {\n",
              "        vertical-align: top;\n",
              "    }\n",
              "\n",
              "    .dataframe thead tr th {\n",
              "        text-align: left;\n",
              "    }\n",
              "\n",
              "    .dataframe thead tr:last-of-type th {\n",
              "        text-align: right;\n",
              "    }\n",
              "</style>\n",
              "<table border=\"1\" class=\"dataframe\">\n",
              "  <thead>\n",
              "    <tr>\n",
              "      <th></th>\n",
              "      <th></th>\n",
              "      <th colspan=\"2\" halign=\"left\">Ohio</th>\n",
              "      <th>Colorado</th>\n",
              "    </tr>\n",
              "    <tr>\n",
              "      <th></th>\n",
              "      <th></th>\n",
              "      <th>Green</th>\n",
              "      <th>Red</th>\n",
              "      <th>Green</th>\n",
              "    </tr>\n",
              "    <tr>\n",
              "      <th>key1</th>\n",
              "      <th>key2</th>\n",
              "      <th></th>\n",
              "      <th></th>\n",
              "      <th></th>\n",
              "    </tr>\n",
              "  </thead>\n",
              "  <tbody>\n",
              "    <tr>\n",
              "      <th rowspan=\"2\" valign=\"top\">a</th>\n",
              "      <th>one</th>\n",
              "      <td>0</td>\n",
              "      <td>1</td>\n",
              "      <td>2</td>\n",
              "    </tr>\n",
              "    <tr>\n",
              "      <th>two</th>\n",
              "      <td>3</td>\n",
              "      <td>4</td>\n",
              "      <td>5</td>\n",
              "    </tr>\n",
              "    <tr>\n",
              "      <th rowspan=\"2\" valign=\"top\">b</th>\n",
              "      <th>one</th>\n",
              "      <td>6</td>\n",
              "      <td>7</td>\n",
              "      <td>8</td>\n",
              "    </tr>\n",
              "    <tr>\n",
              "      <th>two</th>\n",
              "      <td>9</td>\n",
              "      <td>10</td>\n",
              "      <td>11</td>\n",
              "    </tr>\n",
              "  </tbody>\n",
              "</table>\n",
              "</div>"
            ],
            "text/plain": [
              "           Ohio     Colorado\n",
              "          Green Red    Green\n",
              "key1 key2                   \n",
              "a    one      0   1        2\n",
              "     two      3   4        5\n",
              "b    one      6   7        8\n",
              "     two      9  10       11"
            ]
          },
          "metadata": {
            "tags": []
          },
          "execution_count": 8
        }
      ]
    },
    {
      "metadata": {
        "id": "fb6Hx85hAhXP",
        "colab_type": "code",
        "colab": {
          "base_uri": "https://localhost:8080/",
          "height": 235
        },
        "outputId": "c8a92c56-ba16-4824-ccd0-50b5e9d3429d"
      },
      "cell_type": "code",
      "source": [
        "frame.sort_index(level=1)"
      ],
      "execution_count": 9,
      "outputs": [
        {
          "output_type": "execute_result",
          "data": {
            "text/html": [
              "<div>\n",
              "<style scoped>\n",
              "    .dataframe tbody tr th:only-of-type {\n",
              "        vertical-align: middle;\n",
              "    }\n",
              "\n",
              "    .dataframe tbody tr th {\n",
              "        vertical-align: top;\n",
              "    }\n",
              "\n",
              "    .dataframe thead tr th {\n",
              "        text-align: left;\n",
              "    }\n",
              "\n",
              "    .dataframe thead tr:last-of-type th {\n",
              "        text-align: right;\n",
              "    }\n",
              "</style>\n",
              "<table border=\"1\" class=\"dataframe\">\n",
              "  <thead>\n",
              "    <tr>\n",
              "      <th></th>\n",
              "      <th></th>\n",
              "      <th colspan=\"2\" halign=\"left\">Ohio</th>\n",
              "      <th>Colorado</th>\n",
              "    </tr>\n",
              "    <tr>\n",
              "      <th></th>\n",
              "      <th></th>\n",
              "      <th>Green</th>\n",
              "      <th>Red</th>\n",
              "      <th>Green</th>\n",
              "    </tr>\n",
              "    <tr>\n",
              "      <th>key1</th>\n",
              "      <th>key2</th>\n",
              "      <th></th>\n",
              "      <th></th>\n",
              "      <th></th>\n",
              "    </tr>\n",
              "  </thead>\n",
              "  <tbody>\n",
              "    <tr>\n",
              "      <th>a</th>\n",
              "      <th>one</th>\n",
              "      <td>0</td>\n",
              "      <td>1</td>\n",
              "      <td>2</td>\n",
              "    </tr>\n",
              "    <tr>\n",
              "      <th>b</th>\n",
              "      <th>one</th>\n",
              "      <td>6</td>\n",
              "      <td>7</td>\n",
              "      <td>8</td>\n",
              "    </tr>\n",
              "    <tr>\n",
              "      <th>a</th>\n",
              "      <th>two</th>\n",
              "      <td>3</td>\n",
              "      <td>4</td>\n",
              "      <td>5</td>\n",
              "    </tr>\n",
              "    <tr>\n",
              "      <th>b</th>\n",
              "      <th>two</th>\n",
              "      <td>9</td>\n",
              "      <td>10</td>\n",
              "      <td>11</td>\n",
              "    </tr>\n",
              "  </tbody>\n",
              "</table>\n",
              "</div>"
            ],
            "text/plain": [
              "           Ohio     Colorado\n",
              "          Green Red    Green\n",
              "key1 key2                   \n",
              "a    one      0   1        2\n",
              "b    one      6   7        8\n",
              "a    two      3   4        5\n",
              "b    two      9  10       11"
            ]
          },
          "metadata": {
            "tags": []
          },
          "execution_count": 9
        }
      ]
    },
    {
      "metadata": {
        "id": "s3IbjMlMAlqH",
        "colab_type": "code",
        "colab": {
          "base_uri": "https://localhost:8080/",
          "height": 235
        },
        "outputId": "ffd9a280-24a9-4a02-d2fb-78a187badaaa"
      },
      "cell_type": "code",
      "source": [
        "frame.swaplevel(0, 1).sort_index(level=1)"
      ],
      "execution_count": 11,
      "outputs": [
        {
          "output_type": "execute_result",
          "data": {
            "text/html": [
              "<div>\n",
              "<style scoped>\n",
              "    .dataframe tbody tr th:only-of-type {\n",
              "        vertical-align: middle;\n",
              "    }\n",
              "\n",
              "    .dataframe tbody tr th {\n",
              "        vertical-align: top;\n",
              "    }\n",
              "\n",
              "    .dataframe thead tr th {\n",
              "        text-align: left;\n",
              "    }\n",
              "\n",
              "    .dataframe thead tr:last-of-type th {\n",
              "        text-align: right;\n",
              "    }\n",
              "</style>\n",
              "<table border=\"1\" class=\"dataframe\">\n",
              "  <thead>\n",
              "    <tr>\n",
              "      <th></th>\n",
              "      <th></th>\n",
              "      <th colspan=\"2\" halign=\"left\">Ohio</th>\n",
              "      <th>Colorado</th>\n",
              "    </tr>\n",
              "    <tr>\n",
              "      <th></th>\n",
              "      <th></th>\n",
              "      <th>Green</th>\n",
              "      <th>Red</th>\n",
              "      <th>Green</th>\n",
              "    </tr>\n",
              "    <tr>\n",
              "      <th>key2</th>\n",
              "      <th>key1</th>\n",
              "      <th></th>\n",
              "      <th></th>\n",
              "      <th></th>\n",
              "    </tr>\n",
              "  </thead>\n",
              "  <tbody>\n",
              "    <tr>\n",
              "      <th>one</th>\n",
              "      <th>a</th>\n",
              "      <td>0</td>\n",
              "      <td>1</td>\n",
              "      <td>2</td>\n",
              "    </tr>\n",
              "    <tr>\n",
              "      <th>two</th>\n",
              "      <th>a</th>\n",
              "      <td>3</td>\n",
              "      <td>4</td>\n",
              "      <td>5</td>\n",
              "    </tr>\n",
              "    <tr>\n",
              "      <th>one</th>\n",
              "      <th>b</th>\n",
              "      <td>6</td>\n",
              "      <td>7</td>\n",
              "      <td>8</td>\n",
              "    </tr>\n",
              "    <tr>\n",
              "      <th>two</th>\n",
              "      <th>b</th>\n",
              "      <td>9</td>\n",
              "      <td>10</td>\n",
              "      <td>11</td>\n",
              "    </tr>\n",
              "  </tbody>\n",
              "</table>\n",
              "</div>"
            ],
            "text/plain": [
              "           Ohio     Colorado\n",
              "          Green Red    Green\n",
              "key2 key1                   \n",
              "one  a        0   1        2\n",
              "two  a        3   4        5\n",
              "one  b        6   7        8\n",
              "two  b        9  10       11"
            ]
          },
          "metadata": {
            "tags": []
          },
          "execution_count": 11
        }
      ]
    },
    {
      "metadata": {
        "id": "KvIoMwyGA7ch",
        "colab_type": "text"
      },
      "cell_type": "markdown",
      "source": [
        "### 단계별 요약 통계\n",
        "\n",
        "DataFrame과 Series의 많은 기술통계와 요약 통계는 level옵션을 가지고 있는데, 이는 어떠한 축에 대해 합을 구하고 싶은 단계를 지정할 수 있는 옵션이다. "
      ]
    },
    {
      "metadata": {
        "id": "FQhJKuaTA07P",
        "colab_type": "code",
        "colab": {
          "base_uri": "https://localhost:8080/",
          "height": 235
        },
        "outputId": "82b3db94-30c1-4a90-c51e-b1c3f147c2c8"
      },
      "cell_type": "code",
      "source": [
        "frame"
      ],
      "execution_count": 12,
      "outputs": [
        {
          "output_type": "execute_result",
          "data": {
            "text/html": [
              "<div>\n",
              "<style scoped>\n",
              "    .dataframe tbody tr th:only-of-type {\n",
              "        vertical-align: middle;\n",
              "    }\n",
              "\n",
              "    .dataframe tbody tr th {\n",
              "        vertical-align: top;\n",
              "    }\n",
              "\n",
              "    .dataframe thead tr th {\n",
              "        text-align: left;\n",
              "    }\n",
              "\n",
              "    .dataframe thead tr:last-of-type th {\n",
              "        text-align: right;\n",
              "    }\n",
              "</style>\n",
              "<table border=\"1\" class=\"dataframe\">\n",
              "  <thead>\n",
              "    <tr>\n",
              "      <th></th>\n",
              "      <th></th>\n",
              "      <th colspan=\"2\" halign=\"left\">Ohio</th>\n",
              "      <th>Colorado</th>\n",
              "    </tr>\n",
              "    <tr>\n",
              "      <th></th>\n",
              "      <th></th>\n",
              "      <th>Green</th>\n",
              "      <th>Red</th>\n",
              "      <th>Green</th>\n",
              "    </tr>\n",
              "    <tr>\n",
              "      <th>key1</th>\n",
              "      <th>key2</th>\n",
              "      <th></th>\n",
              "      <th></th>\n",
              "      <th></th>\n",
              "    </tr>\n",
              "  </thead>\n",
              "  <tbody>\n",
              "    <tr>\n",
              "      <th rowspan=\"2\" valign=\"top\">a</th>\n",
              "      <th>one</th>\n",
              "      <td>0</td>\n",
              "      <td>1</td>\n",
              "      <td>2</td>\n",
              "    </tr>\n",
              "    <tr>\n",
              "      <th>two</th>\n",
              "      <td>3</td>\n",
              "      <td>4</td>\n",
              "      <td>5</td>\n",
              "    </tr>\n",
              "    <tr>\n",
              "      <th rowspan=\"2\" valign=\"top\">b</th>\n",
              "      <th>one</th>\n",
              "      <td>6</td>\n",
              "      <td>7</td>\n",
              "      <td>8</td>\n",
              "    </tr>\n",
              "    <tr>\n",
              "      <th>two</th>\n",
              "      <td>9</td>\n",
              "      <td>10</td>\n",
              "      <td>11</td>\n",
              "    </tr>\n",
              "  </tbody>\n",
              "</table>\n",
              "</div>"
            ],
            "text/plain": [
              "           Ohio     Colorado\n",
              "          Green Red    Green\n",
              "key1 key2                   \n",
              "a    one      0   1        2\n",
              "     two      3   4        5\n",
              "b    one      6   7        8\n",
              "     two      9  10       11"
            ]
          },
          "metadata": {
            "tags": []
          },
          "execution_count": 12
        }
      ]
    },
    {
      "metadata": {
        "id": "zUax-Mj-BVkX",
        "colab_type": "code",
        "colab": {
          "base_uri": "https://localhost:8080/",
          "height": 173
        },
        "outputId": "fea3d195-9cba-41e7-f65f-bba7a8631f5a"
      },
      "cell_type": "code",
      "source": [
        "frame.sum(level=1)"
      ],
      "execution_count": 13,
      "outputs": [
        {
          "output_type": "execute_result",
          "data": {
            "text/html": [
              "<div>\n",
              "<style scoped>\n",
              "    .dataframe tbody tr th:only-of-type {\n",
              "        vertical-align: middle;\n",
              "    }\n",
              "\n",
              "    .dataframe tbody tr th {\n",
              "        vertical-align: top;\n",
              "    }\n",
              "\n",
              "    .dataframe thead tr th {\n",
              "        text-align: left;\n",
              "    }\n",
              "\n",
              "    .dataframe thead tr:last-of-type th {\n",
              "        text-align: right;\n",
              "    }\n",
              "</style>\n",
              "<table border=\"1\" class=\"dataframe\">\n",
              "  <thead>\n",
              "    <tr>\n",
              "      <th></th>\n",
              "      <th colspan=\"2\" halign=\"left\">Ohio</th>\n",
              "      <th>Colorado</th>\n",
              "    </tr>\n",
              "    <tr>\n",
              "      <th></th>\n",
              "      <th>Green</th>\n",
              "      <th>Red</th>\n",
              "      <th>Green</th>\n",
              "    </tr>\n",
              "    <tr>\n",
              "      <th>key2</th>\n",
              "      <th></th>\n",
              "      <th></th>\n",
              "      <th></th>\n",
              "    </tr>\n",
              "  </thead>\n",
              "  <tbody>\n",
              "    <tr>\n",
              "      <th>one</th>\n",
              "      <td>6</td>\n",
              "      <td>8</td>\n",
              "      <td>10</td>\n",
              "    </tr>\n",
              "    <tr>\n",
              "      <th>two</th>\n",
              "      <td>12</td>\n",
              "      <td>14</td>\n",
              "      <td>16</td>\n",
              "    </tr>\n",
              "  </tbody>\n",
              "</table>\n",
              "</div>"
            ],
            "text/plain": [
              "      Ohio     Colorado\n",
              "     Green Red    Green\n",
              "key2                   \n",
              "one      6   8       10\n",
              "two     12  14       16"
            ]
          },
          "metadata": {
            "tags": []
          },
          "execution_count": 13
        }
      ]
    },
    {
      "metadata": {
        "id": "JwavTYVMBeM_",
        "colab_type": "code",
        "colab": {}
      },
      "cell_type": "code",
      "source": [
        "frame.columns.names = ['State', 'Color']"
      ],
      "execution_count": 0,
      "outputs": []
    },
    {
      "metadata": {
        "id": "Qo5gC7o6Bpd1",
        "colab_type": "code",
        "colab": {
          "base_uri": "https://localhost:8080/",
          "height": 235
        },
        "outputId": "970ddad6-6640-4201-a3a4-d5ee347af3f7"
      },
      "cell_type": "code",
      "source": [
        "frame"
      ],
      "execution_count": 15,
      "outputs": [
        {
          "output_type": "execute_result",
          "data": {
            "text/html": [
              "<div>\n",
              "<style scoped>\n",
              "    .dataframe tbody tr th:only-of-type {\n",
              "        vertical-align: middle;\n",
              "    }\n",
              "\n",
              "    .dataframe tbody tr th {\n",
              "        vertical-align: top;\n",
              "    }\n",
              "\n",
              "    .dataframe thead tr th {\n",
              "        text-align: left;\n",
              "    }\n",
              "\n",
              "    .dataframe thead tr:last-of-type th {\n",
              "        text-align: right;\n",
              "    }\n",
              "</style>\n",
              "<table border=\"1\" class=\"dataframe\">\n",
              "  <thead>\n",
              "    <tr>\n",
              "      <th></th>\n",
              "      <th>State</th>\n",
              "      <th colspan=\"2\" halign=\"left\">Ohio</th>\n",
              "      <th>Colorado</th>\n",
              "    </tr>\n",
              "    <tr>\n",
              "      <th></th>\n",
              "      <th>Color</th>\n",
              "      <th>Green</th>\n",
              "      <th>Red</th>\n",
              "      <th>Green</th>\n",
              "    </tr>\n",
              "    <tr>\n",
              "      <th>key1</th>\n",
              "      <th>key2</th>\n",
              "      <th></th>\n",
              "      <th></th>\n",
              "      <th></th>\n",
              "    </tr>\n",
              "  </thead>\n",
              "  <tbody>\n",
              "    <tr>\n",
              "      <th rowspan=\"2\" valign=\"top\">a</th>\n",
              "      <th>one</th>\n",
              "      <td>0</td>\n",
              "      <td>1</td>\n",
              "      <td>2</td>\n",
              "    </tr>\n",
              "    <tr>\n",
              "      <th>two</th>\n",
              "      <td>3</td>\n",
              "      <td>4</td>\n",
              "      <td>5</td>\n",
              "    </tr>\n",
              "    <tr>\n",
              "      <th rowspan=\"2\" valign=\"top\">b</th>\n",
              "      <th>one</th>\n",
              "      <td>6</td>\n",
              "      <td>7</td>\n",
              "      <td>8</td>\n",
              "    </tr>\n",
              "    <tr>\n",
              "      <th>two</th>\n",
              "      <td>9</td>\n",
              "      <td>10</td>\n",
              "      <td>11</td>\n",
              "    </tr>\n",
              "  </tbody>\n",
              "</table>\n",
              "</div>"
            ],
            "text/plain": [
              "State      Ohio     Colorado\n",
              "Color     Green Red    Green\n",
              "key1 key2                   \n",
              "a    one      0   1        2\n",
              "     two      3   4        5\n",
              "b    one      6   7        8\n",
              "     two      9  10       11"
            ]
          },
          "metadata": {
            "tags": []
          },
          "execution_count": 15
        }
      ]
    },
    {
      "metadata": {
        "id": "6QCfomjABqRY",
        "colab_type": "code",
        "colab": {
          "base_uri": "https://localhost:8080/",
          "height": 204
        },
        "outputId": "bdf60fa4-dafd-4750-91d1-1e1effd4dccb"
      },
      "cell_type": "code",
      "source": [
        "frame.sum(axis = 1, level='Color')"
      ],
      "execution_count": 16,
      "outputs": [
        {
          "output_type": "execute_result",
          "data": {
            "text/html": [
              "<div>\n",
              "<style scoped>\n",
              "    .dataframe tbody tr th:only-of-type {\n",
              "        vertical-align: middle;\n",
              "    }\n",
              "\n",
              "    .dataframe tbody tr th {\n",
              "        vertical-align: top;\n",
              "    }\n",
              "\n",
              "    .dataframe thead th {\n",
              "        text-align: right;\n",
              "    }\n",
              "</style>\n",
              "<table border=\"1\" class=\"dataframe\">\n",
              "  <thead>\n",
              "    <tr style=\"text-align: right;\">\n",
              "      <th></th>\n",
              "      <th>Color</th>\n",
              "      <th>Green</th>\n",
              "      <th>Red</th>\n",
              "    </tr>\n",
              "    <tr>\n",
              "      <th>key1</th>\n",
              "      <th>key2</th>\n",
              "      <th></th>\n",
              "      <th></th>\n",
              "    </tr>\n",
              "  </thead>\n",
              "  <tbody>\n",
              "    <tr>\n",
              "      <th rowspan=\"2\" valign=\"top\">a</th>\n",
              "      <th>one</th>\n",
              "      <td>2</td>\n",
              "      <td>1</td>\n",
              "    </tr>\n",
              "    <tr>\n",
              "      <th>two</th>\n",
              "      <td>8</td>\n",
              "      <td>4</td>\n",
              "    </tr>\n",
              "    <tr>\n",
              "      <th rowspan=\"2\" valign=\"top\">b</th>\n",
              "      <th>one</th>\n",
              "      <td>14</td>\n",
              "      <td>7</td>\n",
              "    </tr>\n",
              "    <tr>\n",
              "      <th>two</th>\n",
              "      <td>20</td>\n",
              "      <td>10</td>\n",
              "    </tr>\n",
              "  </tbody>\n",
              "</table>\n",
              "</div>"
            ],
            "text/plain": [
              "Color      Green  Red\n",
              "key1 key2            \n",
              "a    one       2    1\n",
              "     two       8    4\n",
              "b    one      14    7\n",
              "     two      20   10"
            ]
          },
          "metadata": {
            "tags": []
          },
          "execution_count": 16
        }
      ]
    },
    {
      "metadata": {
        "id": "LCSux3BfB4Hp",
        "colab_type": "text"
      },
      "cell_type": "markdown",
      "source": [
        "### DataFrame의 칼럼 사용하기\n",
        "\n",
        "DataFrame에서 로우를 선택하기 위한 색인으로 하나 이상의 칼럼을 사용하는것은 드물지 않을 일.\n",
        "\n",
        "로우의 색인을 DataFrame의 칼럼으로 옮기고 싶은 경우도 있을 수 있다."
      ]
    },
    {
      "metadata": {
        "id": "osQiHuetBytj",
        "colab_type": "code",
        "colab": {}
      },
      "cell_type": "code",
      "source": [
        "frame = DataFrame({\n",
        "    'a' : range(7), \n",
        "    'b' : range(7, 0, -1),\n",
        "    'c' : ['one', 'one', 'one', 'two', 'two', 'two', 'two'],\n",
        "    'd' : [0, 1, 2, 0, 1, 2, 3]\n",
        "})"
      ],
      "execution_count": 0,
      "outputs": []
    },
    {
      "metadata": {
        "id": "vFW0rTpuCrbU",
        "colab_type": "code",
        "colab": {
          "base_uri": "https://localhost:8080/",
          "height": 266
        },
        "outputId": "99bc1acf-fe71-40d1-e49b-fc701d5c7c6d"
      },
      "cell_type": "code",
      "source": [
        "frame"
      ],
      "execution_count": 18,
      "outputs": [
        {
          "output_type": "execute_result",
          "data": {
            "text/html": [
              "<div>\n",
              "<style scoped>\n",
              "    .dataframe tbody tr th:only-of-type {\n",
              "        vertical-align: middle;\n",
              "    }\n",
              "\n",
              "    .dataframe tbody tr th {\n",
              "        vertical-align: top;\n",
              "    }\n",
              "\n",
              "    .dataframe thead th {\n",
              "        text-align: right;\n",
              "    }\n",
              "</style>\n",
              "<table border=\"1\" class=\"dataframe\">\n",
              "  <thead>\n",
              "    <tr style=\"text-align: right;\">\n",
              "      <th></th>\n",
              "      <th>a</th>\n",
              "      <th>b</th>\n",
              "      <th>c</th>\n",
              "      <th>d</th>\n",
              "    </tr>\n",
              "  </thead>\n",
              "  <tbody>\n",
              "    <tr>\n",
              "      <th>0</th>\n",
              "      <td>0</td>\n",
              "      <td>7</td>\n",
              "      <td>one</td>\n",
              "      <td>0</td>\n",
              "    </tr>\n",
              "    <tr>\n",
              "      <th>1</th>\n",
              "      <td>1</td>\n",
              "      <td>6</td>\n",
              "      <td>one</td>\n",
              "      <td>1</td>\n",
              "    </tr>\n",
              "    <tr>\n",
              "      <th>2</th>\n",
              "      <td>2</td>\n",
              "      <td>5</td>\n",
              "      <td>one</td>\n",
              "      <td>2</td>\n",
              "    </tr>\n",
              "    <tr>\n",
              "      <th>3</th>\n",
              "      <td>3</td>\n",
              "      <td>4</td>\n",
              "      <td>two</td>\n",
              "      <td>0</td>\n",
              "    </tr>\n",
              "    <tr>\n",
              "      <th>4</th>\n",
              "      <td>4</td>\n",
              "      <td>3</td>\n",
              "      <td>two</td>\n",
              "      <td>1</td>\n",
              "    </tr>\n",
              "    <tr>\n",
              "      <th>5</th>\n",
              "      <td>5</td>\n",
              "      <td>2</td>\n",
              "      <td>two</td>\n",
              "      <td>2</td>\n",
              "    </tr>\n",
              "    <tr>\n",
              "      <th>6</th>\n",
              "      <td>6</td>\n",
              "      <td>1</td>\n",
              "      <td>two</td>\n",
              "      <td>3</td>\n",
              "    </tr>\n",
              "  </tbody>\n",
              "</table>\n",
              "</div>"
            ],
            "text/plain": [
              "   a  b    c  d\n",
              "0  0  7  one  0\n",
              "1  1  6  one  1\n",
              "2  2  5  one  2\n",
              "3  3  4  two  0\n",
              "4  4  3  two  1\n",
              "5  5  2  two  2\n",
              "6  6  1  two  3"
            ]
          },
          "metadata": {
            "tags": []
          },
          "execution_count": 18
        }
      ]
    },
    {
      "metadata": {
        "id": "r_2wf129Cyei",
        "colab_type": "text"
      },
      "cell_type": "markdown",
      "source": [
        "DataFrame의 set_index는 하나 이상의 칼럼을 색인으로 하는 새로운 DataFrame을 생성"
      ]
    },
    {
      "metadata": {
        "id": "41E5F3y3Cswt",
        "colab_type": "code",
        "colab": {}
      },
      "cell_type": "code",
      "source": [
        "frame2 = frame.set_index(['c', 'd'])"
      ],
      "execution_count": 0,
      "outputs": []
    },
    {
      "metadata": {
        "id": "UZNRe3JLC_v6",
        "colab_type": "code",
        "colab": {
          "base_uri": "https://localhost:8080/",
          "height": 297
        },
        "outputId": "1e7fc550-4d0c-4b0a-e737-49dae2c1e6d7"
      },
      "cell_type": "code",
      "source": [
        "frame2"
      ],
      "execution_count": 20,
      "outputs": [
        {
          "output_type": "execute_result",
          "data": {
            "text/html": [
              "<div>\n",
              "<style scoped>\n",
              "    .dataframe tbody tr th:only-of-type {\n",
              "        vertical-align: middle;\n",
              "    }\n",
              "\n",
              "    .dataframe tbody tr th {\n",
              "        vertical-align: top;\n",
              "    }\n",
              "\n",
              "    .dataframe thead th {\n",
              "        text-align: right;\n",
              "    }\n",
              "</style>\n",
              "<table border=\"1\" class=\"dataframe\">\n",
              "  <thead>\n",
              "    <tr style=\"text-align: right;\">\n",
              "      <th></th>\n",
              "      <th></th>\n",
              "      <th>a</th>\n",
              "      <th>b</th>\n",
              "    </tr>\n",
              "    <tr>\n",
              "      <th>c</th>\n",
              "      <th>d</th>\n",
              "      <th></th>\n",
              "      <th></th>\n",
              "    </tr>\n",
              "  </thead>\n",
              "  <tbody>\n",
              "    <tr>\n",
              "      <th rowspan=\"3\" valign=\"top\">one</th>\n",
              "      <th>0</th>\n",
              "      <td>0</td>\n",
              "      <td>7</td>\n",
              "    </tr>\n",
              "    <tr>\n",
              "      <th>1</th>\n",
              "      <td>1</td>\n",
              "      <td>6</td>\n",
              "    </tr>\n",
              "    <tr>\n",
              "      <th>2</th>\n",
              "      <td>2</td>\n",
              "      <td>5</td>\n",
              "    </tr>\n",
              "    <tr>\n",
              "      <th rowspan=\"4\" valign=\"top\">two</th>\n",
              "      <th>0</th>\n",
              "      <td>3</td>\n",
              "      <td>4</td>\n",
              "    </tr>\n",
              "    <tr>\n",
              "      <th>1</th>\n",
              "      <td>4</td>\n",
              "      <td>3</td>\n",
              "    </tr>\n",
              "    <tr>\n",
              "      <th>2</th>\n",
              "      <td>5</td>\n",
              "      <td>2</td>\n",
              "    </tr>\n",
              "    <tr>\n",
              "      <th>3</th>\n",
              "      <td>6</td>\n",
              "      <td>1</td>\n",
              "    </tr>\n",
              "  </tbody>\n",
              "</table>\n",
              "</div>"
            ],
            "text/plain": [
              "       a  b\n",
              "c   d      \n",
              "one 0  0  7\n",
              "    1  1  6\n",
              "    2  2  5\n",
              "two 0  3  4\n",
              "    1  4  3\n",
              "    2  5  2\n",
              "    3  6  1"
            ]
          },
          "metadata": {
            "tags": []
          },
          "execution_count": 20
        }
      ]
    },
    {
      "metadata": {
        "id": "RIwlh9phDLww",
        "colab_type": "text"
      },
      "cell_type": "markdown",
      "source": [
        "만약 index로 사용하면서 칼럼으로도 유지하고 싶다면, "
      ]
    },
    {
      "metadata": {
        "id": "ImsL8w0sDAtK",
        "colab_type": "code",
        "colab": {}
      },
      "cell_type": "code",
      "source": [
        "frame3 = frame.set_index(['c', 'd'], drop=False)"
      ],
      "execution_count": 0,
      "outputs": []
    },
    {
      "metadata": {
        "id": "ky5zt1CyDeS2",
        "colab_type": "code",
        "colab": {
          "base_uri": "https://localhost:8080/",
          "height": 297
        },
        "outputId": "a984fb42-4a3c-4a78-d3c9-607ebb153265"
      },
      "cell_type": "code",
      "source": [
        "frame3"
      ],
      "execution_count": 22,
      "outputs": [
        {
          "output_type": "execute_result",
          "data": {
            "text/html": [
              "<div>\n",
              "<style scoped>\n",
              "    .dataframe tbody tr th:only-of-type {\n",
              "        vertical-align: middle;\n",
              "    }\n",
              "\n",
              "    .dataframe tbody tr th {\n",
              "        vertical-align: top;\n",
              "    }\n",
              "\n",
              "    .dataframe thead th {\n",
              "        text-align: right;\n",
              "    }\n",
              "</style>\n",
              "<table border=\"1\" class=\"dataframe\">\n",
              "  <thead>\n",
              "    <tr style=\"text-align: right;\">\n",
              "      <th></th>\n",
              "      <th></th>\n",
              "      <th>a</th>\n",
              "      <th>b</th>\n",
              "      <th>c</th>\n",
              "      <th>d</th>\n",
              "    </tr>\n",
              "    <tr>\n",
              "      <th>c</th>\n",
              "      <th>d</th>\n",
              "      <th></th>\n",
              "      <th></th>\n",
              "      <th></th>\n",
              "      <th></th>\n",
              "    </tr>\n",
              "  </thead>\n",
              "  <tbody>\n",
              "    <tr>\n",
              "      <th rowspan=\"3\" valign=\"top\">one</th>\n",
              "      <th>0</th>\n",
              "      <td>0</td>\n",
              "      <td>7</td>\n",
              "      <td>one</td>\n",
              "      <td>0</td>\n",
              "    </tr>\n",
              "    <tr>\n",
              "      <th>1</th>\n",
              "      <td>1</td>\n",
              "      <td>6</td>\n",
              "      <td>one</td>\n",
              "      <td>1</td>\n",
              "    </tr>\n",
              "    <tr>\n",
              "      <th>2</th>\n",
              "      <td>2</td>\n",
              "      <td>5</td>\n",
              "      <td>one</td>\n",
              "      <td>2</td>\n",
              "    </tr>\n",
              "    <tr>\n",
              "      <th rowspan=\"4\" valign=\"top\">two</th>\n",
              "      <th>0</th>\n",
              "      <td>3</td>\n",
              "      <td>4</td>\n",
              "      <td>two</td>\n",
              "      <td>0</td>\n",
              "    </tr>\n",
              "    <tr>\n",
              "      <th>1</th>\n",
              "      <td>4</td>\n",
              "      <td>3</td>\n",
              "      <td>two</td>\n",
              "      <td>1</td>\n",
              "    </tr>\n",
              "    <tr>\n",
              "      <th>2</th>\n",
              "      <td>5</td>\n",
              "      <td>2</td>\n",
              "      <td>two</td>\n",
              "      <td>2</td>\n",
              "    </tr>\n",
              "    <tr>\n",
              "      <th>3</th>\n",
              "      <td>6</td>\n",
              "      <td>1</td>\n",
              "      <td>two</td>\n",
              "      <td>3</td>\n",
              "    </tr>\n",
              "  </tbody>\n",
              "</table>\n",
              "</div>"
            ],
            "text/plain": [
              "       a  b    c  d\n",
              "c   d              \n",
              "one 0  0  7  one  0\n",
              "    1  1  6  one  1\n",
              "    2  2  5  one  2\n",
              "two 0  3  4  two  0\n",
              "    1  4  3  two  1\n",
              "    2  5  2  two  2\n",
              "    3  6  1  two  3"
            ]
          },
          "metadata": {
            "tags": []
          },
          "execution_count": 22
        }
      ]
    },
    {
      "metadata": {
        "id": "QAnDyjyqDiNq",
        "colab_type": "text"
      },
      "cell_type": "markdown",
      "source": [
        "칼럼 c, d 가 그대로 남아 있는것을 확인 할 수 있음.\n",
        "\n",
        "---\n",
        "\n",
        "\n",
        "반면에 reset_index 함수는 set_index와 반대되는 개념으로 계층적 색인 단계가 column으로 이동."
      ]
    },
    {
      "metadata": {
        "id": "rIs5Q4eADgrb",
        "colab_type": "code",
        "colab": {
          "base_uri": "https://localhost:8080/",
          "height": 266
        },
        "outputId": "2addfd6d-b5fc-4b36-aaa1-b62f6c7b6e18"
      },
      "cell_type": "code",
      "source": [
        "frame2.reset_index().sort_index(axis=1)"
      ],
      "execution_count": 24,
      "outputs": [
        {
          "output_type": "execute_result",
          "data": {
            "text/html": [
              "<div>\n",
              "<style scoped>\n",
              "    .dataframe tbody tr th:only-of-type {\n",
              "        vertical-align: middle;\n",
              "    }\n",
              "\n",
              "    .dataframe tbody tr th {\n",
              "        vertical-align: top;\n",
              "    }\n",
              "\n",
              "    .dataframe thead th {\n",
              "        text-align: right;\n",
              "    }\n",
              "</style>\n",
              "<table border=\"1\" class=\"dataframe\">\n",
              "  <thead>\n",
              "    <tr style=\"text-align: right;\">\n",
              "      <th></th>\n",
              "      <th>a</th>\n",
              "      <th>b</th>\n",
              "      <th>c</th>\n",
              "      <th>d</th>\n",
              "    </tr>\n",
              "  </thead>\n",
              "  <tbody>\n",
              "    <tr>\n",
              "      <th>0</th>\n",
              "      <td>0</td>\n",
              "      <td>7</td>\n",
              "      <td>one</td>\n",
              "      <td>0</td>\n",
              "    </tr>\n",
              "    <tr>\n",
              "      <th>1</th>\n",
              "      <td>1</td>\n",
              "      <td>6</td>\n",
              "      <td>one</td>\n",
              "      <td>1</td>\n",
              "    </tr>\n",
              "    <tr>\n",
              "      <th>2</th>\n",
              "      <td>2</td>\n",
              "      <td>5</td>\n",
              "      <td>one</td>\n",
              "      <td>2</td>\n",
              "    </tr>\n",
              "    <tr>\n",
              "      <th>3</th>\n",
              "      <td>3</td>\n",
              "      <td>4</td>\n",
              "      <td>two</td>\n",
              "      <td>0</td>\n",
              "    </tr>\n",
              "    <tr>\n",
              "      <th>4</th>\n",
              "      <td>4</td>\n",
              "      <td>3</td>\n",
              "      <td>two</td>\n",
              "      <td>1</td>\n",
              "    </tr>\n",
              "    <tr>\n",
              "      <th>5</th>\n",
              "      <td>5</td>\n",
              "      <td>2</td>\n",
              "      <td>two</td>\n",
              "      <td>2</td>\n",
              "    </tr>\n",
              "    <tr>\n",
              "      <th>6</th>\n",
              "      <td>6</td>\n",
              "      <td>1</td>\n",
              "      <td>two</td>\n",
              "      <td>3</td>\n",
              "    </tr>\n",
              "  </tbody>\n",
              "</table>\n",
              "</div>"
            ],
            "text/plain": [
              "   a  b    c  d\n",
              "0  0  7  one  0\n",
              "1  1  6  one  1\n",
              "2  2  5  one  2\n",
              "3  3  4  two  0\n",
              "4  4  3  two  1\n",
              "5  5  2  two  2\n",
              "6  6  1  two  3"
            ]
          },
          "metadata": {
            "tags": []
          },
          "execution_count": 24
        }
      ]
    },
    {
      "metadata": {
        "id": "Y6od8WTpD_o0",
        "colab_type": "text"
      },
      "cell_type": "markdown",
      "source": [
        "## Pandas와 관련된 기타 주제"
      ]
    },
    {
      "metadata": {
        "id": "uqL7AW0_EFuJ",
        "colab_type": "text"
      },
      "cell_type": "markdown",
      "source": [
        "### 정수 색인\n",
        "\n",
        "pandas 객체를 정수로 색인해서 사용하는 일은 python에서 리스트나 튜플 같은 기본 자료 구조에서 사용되는 색인의 의미와 약간 달라서 초보자들은 종종 실수를 한다. "
      ]
    },
    {
      "metadata": {
        "id": "otTNt5HOD2YW",
        "colab_type": "code",
        "colab": {}
      },
      "cell_type": "code",
      "source": [
        "ser = Series(np.arange(3))"
      ],
      "execution_count": 0,
      "outputs": []
    },
    {
      "metadata": {
        "id": "wVeFcR5rEz8v",
        "colab_type": "code",
        "colab": {
          "base_uri": "https://localhost:8080/",
          "height": 89
        },
        "outputId": "2e094472-39e2-4099-8c8c-b2409b3d8677"
      },
      "cell_type": "code",
      "source": [
        "ser"
      ],
      "execution_count": 27,
      "outputs": [
        {
          "output_type": "execute_result",
          "data": {
            "text/plain": [
              "0    0\n",
              "1    1\n",
              "2    2\n",
              "dtype: int64"
            ]
          },
          "metadata": {
            "tags": []
          },
          "execution_count": 27
        }
      ]
    },
    {
      "metadata": {
        "id": "oDXfmlqYEyGt",
        "colab_type": "code",
        "colab": {}
      },
      "cell_type": "code",
      "source": [
        "ser[-1] # error 발생"
      ],
      "execution_count": 0,
      "outputs": []
    },
    {
      "metadata": {
        "id": "Fy6_oYfWFD_a",
        "colab_type": "text"
      },
      "cell_type": "markdown",
      "source": [
        "ser 객체는 0, 1, 2 색인을 가지고 있지만, 사용자가 원하는 것이 위치 색인인지, 이름 색인인지 알아맞히는것은 어려운 일이다.\n",
        "\n",
        "---\n",
        "\n",
        "반면에, 정수 색인이 아니라면 그리 어렵지는 않다."
      ]
    },
    {
      "metadata": {
        "id": "jHBo9FEjE_FV",
        "colab_type": "code",
        "colab": {}
      },
      "cell_type": "code",
      "source": [
        "ser2 = Series(np.arange(3), index=['a', 'b', 'c'])"
      ],
      "execution_count": 0,
      "outputs": []
    },
    {
      "metadata": {
        "id": "4aD2odIYFfcM",
        "colab_type": "code",
        "colab": {
          "base_uri": "https://localhost:8080/",
          "height": 89
        },
        "outputId": "bb2d2f83-f435-4b56-e873-24773cc5c28c"
      },
      "cell_type": "code",
      "source": [
        "ser2"
      ],
      "execution_count": 30,
      "outputs": [
        {
          "output_type": "execute_result",
          "data": {
            "text/plain": [
              "a    0\n",
              "b    1\n",
              "c    2\n",
              "dtype: int64"
            ]
          },
          "metadata": {
            "tags": []
          },
          "execution_count": 30
        }
      ]
    },
    {
      "metadata": {
        "id": "nO4zgeT8Fb0u",
        "colab_type": "code",
        "colab": {
          "base_uri": "https://localhost:8080/",
          "height": 35
        },
        "outputId": "a5d8d221-8d9a-481c-9e0a-3fefcd2fb00b"
      },
      "cell_type": "code",
      "source": [
        "ser2[-1]"
      ],
      "execution_count": 29,
      "outputs": [
        {
          "output_type": "execute_result",
          "data": {
            "text/plain": [
              "2"
            ]
          },
          "metadata": {
            "tags": []
          },
          "execution_count": 29
        }
      ]
    },
    {
      "metadata": {
        "id": "4sSH-65GFncC",
        "colab_type": "text"
      },
      "cell_type": "markdown",
      "source": [
        "일관성을 유지하기 위해서, 색인 값을 가진 축 색인이 있을 경우, 정수 데이터는 항상 이름을 지향하나다. "
      ]
    },
    {
      "metadata": {
        "id": "pkIYADHvFdp1",
        "colab_type": "code",
        "colab": {
          "base_uri": "https://localhost:8080/",
          "height": 215
        },
        "outputId": "a37bb7c5-4654-4d5c-a0c9-201a189376bb"
      },
      "cell_type": "code",
      "source": [
        "ser.ix[:1]"
      ],
      "execution_count": 31,
      "outputs": [
        {
          "output_type": "stream",
          "text": [
            "/usr/local/lib/python3.6/dist-packages/ipykernel_launcher.py:1: DeprecationWarning: \n",
            ".ix is deprecated. Please use\n",
            ".loc for label based indexing or\n",
            ".iloc for positional indexing\n",
            "\n",
            "See the documentation here:\n",
            "http://pandas.pydata.org/pandas-docs/stable/indexing.html#ix-indexer-is-deprecated\n",
            "  \"\"\"Entry point for launching an IPython kernel.\n"
          ],
          "name": "stderr"
        },
        {
          "output_type": "execute_result",
          "data": {
            "text/plain": [
              "0    0\n",
              "1    1\n",
              "dtype: int64"
            ]
          },
          "metadata": {
            "tags": []
          },
          "execution_count": 31
        }
      ]
    },
    {
      "metadata": {
        "id": "2Z-1uv5BGA6H",
        "colab_type": "code",
        "colab": {
          "base_uri": "https://localhost:8080/",
          "height": 89
        },
        "outputId": "343eaa63-8a0e-4879-8c9a-41fb6b232b47"
      },
      "cell_type": "code",
      "source": [
        "ser"
      ],
      "execution_count": 43,
      "outputs": [
        {
          "output_type": "execute_result",
          "data": {
            "text/plain": [
              "0    0\n",
              "1    1\n",
              "2    2\n",
              "dtype: int64"
            ]
          },
          "metadata": {
            "tags": []
          },
          "execution_count": 43
        }
      ]
    },
    {
      "metadata": {
        "id": "k_Ms7deaGX-z",
        "colab_type": "code",
        "colab": {
          "base_uri": "https://localhost:8080/",
          "height": 53
        },
        "outputId": "223963fd-6125-43d0-fdde-310e61b5278a"
      },
      "cell_type": "code",
      "source": [
        "ser.iloc[0:1]"
      ],
      "execution_count": 44,
      "outputs": [
        {
          "output_type": "execute_result",
          "data": {
            "text/plain": [
              "0    0\n",
              "dtype: int64"
            ]
          },
          "metadata": {
            "tags": []
          },
          "execution_count": 44
        }
      ]
    },
    {
      "metadata": {
        "id": "8VtGo3k6HYos",
        "colab_type": "code",
        "colab": {
          "base_uri": "https://localhost:8080/",
          "height": 71
        },
        "outputId": "83243a9b-35c2-4fe3-96d2-d0dae18bed2c"
      },
      "cell_type": "code",
      "source": [
        "ser.loc[0:1] "
      ],
      "execution_count": 45,
      "outputs": [
        {
          "output_type": "execute_result",
          "data": {
            "text/plain": [
              "0    0\n",
              "1    1\n",
              "dtype: int64"
            ]
          },
          "metadata": {
            "tags": []
          },
          "execution_count": 45
        }
      ]
    },
    {
      "metadata": {
        "id": "5wG0A0MOH6th",
        "colab_type": "text"
      },
      "cell_type": "markdown",
      "source": [
        "???0:1 이면, 0하나만 말하는거 아님?\n",
        "iloc은 하나만 제대로 나오는데, loc는 두개?\n",
        "\n",
        "그래서 .loc을 찾아보면, 아래와 같은 문구가 있음. 일관성이 조금 떨어지는 느낌. \n",
        "\n",
        "* Warning Note that contrary to usual python slices, both the start and the stop are included"
      ]
    },
    {
      "metadata": {
        "id": "omLdClmGHdU2",
        "colab_type": "code",
        "colab": {}
      },
      "cell_type": "code",
      "source": [
        "ser.loc? # 여기에서 확인가능"
      ],
      "execution_count": 0,
      "outputs": []
    },
    {
      "metadata": {
        "id": "yw7hcVZdI0zO",
        "colab_type": "text"
      },
      "cell_type": "markdown",
      "source": [
        "### Panel 데이터\n",
        "\n",
        "pandas에는 Panel이라고 하는 자료 구조가 있다. \n",
        "\n",
        "panel은 dataframe의 3차원 버전이라고 이해하면 됨. \n",
        "\n",
        "pandas개발은 spreadsheet 형식의 데이터를 다루는 데 초점을 맞추고 있고, 계층적 색인을 이용하면, 대개의 경우 N차원 배열은 불필요.\n",
        "\n",
        "Panel은 DataFrame 객체를 담고 있는 사전이나, 3차원 ndarray를 통해 생성가능.\n"
      ]
    },
    {
      "metadata": {
        "id": "3sq_VWiVIT0d",
        "colab_type": "code",
        "colab": {
          "base_uri": "https://localhost:8080/",
          "height": 359
        },
        "outputId": "d10df7b6-e698-4518-c975-e1e61feb83e7"
      },
      "cell_type": "code",
      "source": [
        "!pip install pandas_datareader"
      ],
      "execution_count": 47,
      "outputs": [
        {
          "output_type": "stream",
          "text": [
            "Collecting pandas_datareader\n",
            "\u001b[?25l  Downloading https://files.pythonhosted.org/packages/cc/5c/ea5b6dcfd0f55c5fb1e37fb45335ec01cceca199b8a79339137f5ed269e0/pandas_datareader-0.7.0-py2.py3-none-any.whl (111kB)\n",
            "\u001b[K    100% |████████████████████████████████| 112kB 4.5MB/s \n",
            "\u001b[?25hRequirement already satisfied: wrapt in /usr/local/lib/python3.6/dist-packages (from pandas_datareader) (1.10.11)\n",
            "Requirement already satisfied: pandas>=0.19.2 in /usr/local/lib/python3.6/dist-packages (from pandas_datareader) (0.22.0)\n",
            "Requirement already satisfied: requests>=2.3.0 in /usr/local/lib/python3.6/dist-packages (from pandas_datareader) (2.18.4)\n",
            "Collecting lxml (from pandas_datareader)\n",
            "\u001b[?25l  Downloading https://files.pythonhosted.org/packages/03/a4/9eea8035fc7c7670e5eab97f34ff2ef0ddd78a491bf96df5accedb0e63f5/lxml-4.2.5-cp36-cp36m-manylinux1_x86_64.whl (5.8MB)\n",
            "\u001b[K    100% |████████████████████████████████| 5.8MB 4.2MB/s \n",
            "\u001b[?25hRequirement already satisfied: pytz>=2011k in /usr/local/lib/python3.6/dist-packages (from pandas>=0.19.2->pandas_datareader) (2018.7)\n",
            "Requirement already satisfied: numpy>=1.9.0 in /usr/local/lib/python3.6/dist-packages (from pandas>=0.19.2->pandas_datareader) (1.14.6)\n",
            "Requirement already satisfied: python-dateutil>=2 in /usr/local/lib/python3.6/dist-packages (from pandas>=0.19.2->pandas_datareader) (2.5.3)\n",
            "Requirement already satisfied: idna<2.7,>=2.5 in /usr/local/lib/python3.6/dist-packages (from requests>=2.3.0->pandas_datareader) (2.6)\n",
            "Requirement already satisfied: urllib3<1.23,>=1.21.1 in /usr/local/lib/python3.6/dist-packages (from requests>=2.3.0->pandas_datareader) (1.22)\n",
            "Requirement already satisfied: certifi>=2017.4.17 in /usr/local/lib/python3.6/dist-packages (from requests>=2.3.0->pandas_datareader) (2018.11.29)\n",
            "Requirement already satisfied: chardet<3.1.0,>=3.0.2 in /usr/local/lib/python3.6/dist-packages (from requests>=2.3.0->pandas_datareader) (3.0.4)\n",
            "Requirement already satisfied: six>=1.5 in /usr/local/lib/python3.6/dist-packages (from python-dateutil>=2->pandas>=0.19.2->pandas_datareader) (1.11.0)\n",
            "Installing collected packages: lxml, pandas-datareader\n",
            "Successfully installed lxml-4.2.5 pandas-datareader-0.7.0\n"
          ],
          "name": "stdout"
        }
      ]
    },
    {
      "metadata": {
        "id": "gAFoXVoxJh-K",
        "colab_type": "code",
        "colab": {}
      },
      "cell_type": "code",
      "source": [
        "from pandas_datareader import data as web"
      ],
      "execution_count": 0,
      "outputs": []
    },
    {
      "metadata": {
        "id": "24TDc6qyJnno",
        "colab_type": "code",
        "colab": {}
      },
      "cell_type": "code",
      "source": [
        "pdata = pd.Panel(dict((stk, web.get_data_yahoo(stk)) for stk in ['AAPL', 'GOOG', 'MSFT', 'IBM']))"
      ],
      "execution_count": 0,
      "outputs": []
    },
    {
      "metadata": {
        "id": "bPmeGI3lKBnu",
        "colab_type": "code",
        "colab": {
          "base_uri": "https://localhost:8080/",
          "height": 107
        },
        "outputId": "596685f4-482f-4807-f8f7-dc805a5651e5"
      },
      "cell_type": "code",
      "source": [
        "pdata"
      ],
      "execution_count": 51,
      "outputs": [
        {
          "output_type": "execute_result",
          "data": {
            "text/plain": [
              "<class 'pandas.core.panel.Panel'>\n",
              "Dimensions: 4 (items) x 2249 (major_axis) x 6 (minor_axis)\n",
              "Items axis: AAPL to MSFT\n",
              "Major_axis axis: 2010-01-04 00:00:00 to 2018-12-07 00:00:00\n",
              "Minor_axis axis: High to Adj Close"
            ]
          },
          "metadata": {
            "tags": []
          },
          "execution_count": 51
        }
      ]
    },
    {
      "metadata": {
        "id": "S4Arzg4yKYos",
        "colab_type": "code",
        "colab": {
          "base_uri": "https://localhost:8080/",
          "height": 143
        },
        "outputId": "8d6a1f01-e9f6-4dcf-bcc7-ed025c3f6ba5"
      },
      "cell_type": "code",
      "source": [
        "pdata = pdata.swapaxes('items', 'minor')"
      ],
      "execution_count": 56,
      "outputs": [
        {
          "output_type": "stream",
          "text": [
            "/usr/local/lib/python3.6/dist-packages/ipykernel_launcher.py:1: DeprecationWarning: \n",
            "Panel is deprecated and will be removed in a future version.\n",
            "The recommended way to represent these types of 3-dimensional data are with a MultiIndex on a DataFrame, via the Panel.to_frame() method\n",
            "Alternatively, you can use the xarray package http://xarray.pydata.org/en/stable/.\n",
            "Pandas provides a `.to_xarray()` method to help automate this conversion.\n",
            "\n",
            "  \"\"\"Entry point for launching an IPython kernel.\n"
          ],
          "name": "stderr"
        }
      ]
    },
    {
      "metadata": {
        "id": "Dg-5PI7RKnM_",
        "colab_type": "code",
        "colab": {
          "base_uri": "https://localhost:8080/",
          "height": 2000
        },
        "outputId": "e5d1fae0-b15f-49e0-b750-5bf73f727dd1"
      },
      "cell_type": "code",
      "source": [
        "pdata['Adj Close']"
      ],
      "execution_count": 57,
      "outputs": [
        {
          "output_type": "execute_result",
          "data": {
            "text/html": [
              "<div>\n",
              "<style scoped>\n",
              "    .dataframe tbody tr th:only-of-type {\n",
              "        vertical-align: middle;\n",
              "    }\n",
              "\n",
              "    .dataframe tbody tr th {\n",
              "        vertical-align: top;\n",
              "    }\n",
              "\n",
              "    .dataframe thead th {\n",
              "        text-align: right;\n",
              "    }\n",
              "</style>\n",
              "<table border=\"1\" class=\"dataframe\">\n",
              "  <thead>\n",
              "    <tr style=\"text-align: right;\">\n",
              "      <th></th>\n",
              "      <th>AAPL</th>\n",
              "      <th>GOOG</th>\n",
              "      <th>IBM</th>\n",
              "      <th>MSFT</th>\n",
              "    </tr>\n",
              "    <tr>\n",
              "      <th>Date</th>\n",
              "      <th></th>\n",
              "      <th></th>\n",
              "      <th></th>\n",
              "      <th></th>\n",
              "    </tr>\n",
              "  </thead>\n",
              "  <tbody>\n",
              "    <tr>\n",
              "      <th>2010-01-04</th>\n",
              "      <td>20.473503</td>\n",
              "      <td>311.349976</td>\n",
              "      <td>101.649574</td>\n",
              "      <td>24.720928</td>\n",
              "    </tr>\n",
              "    <tr>\n",
              "      <th>2010-01-05</th>\n",
              "      <td>20.508902</td>\n",
              "      <td>309.978882</td>\n",
              "      <td>100.421654</td>\n",
              "      <td>24.728914</td>\n",
              "    </tr>\n",
              "    <tr>\n",
              "      <th>2010-01-06</th>\n",
              "      <td>20.182680</td>\n",
              "      <td>302.164703</td>\n",
              "      <td>99.769310</td>\n",
              "      <td>24.577150</td>\n",
              "    </tr>\n",
              "    <tr>\n",
              "      <th>2010-01-07</th>\n",
              "      <td>20.145369</td>\n",
              "      <td>295.130463</td>\n",
              "      <td>99.423950</td>\n",
              "      <td>24.321552</td>\n",
              "    </tr>\n",
              "    <tr>\n",
              "      <th>2010-01-08</th>\n",
              "      <td>20.279305</td>\n",
              "      <td>299.064880</td>\n",
              "      <td>100.421654</td>\n",
              "      <td>24.489288</td>\n",
              "    </tr>\n",
              "    <tr>\n",
              "      <th>2010-01-11</th>\n",
              "      <td>20.100410</td>\n",
              "      <td>298.612823</td>\n",
              "      <td>99.370209</td>\n",
              "      <td>24.177786</td>\n",
              "    </tr>\n",
              "    <tr>\n",
              "      <th>2010-01-12</th>\n",
              "      <td>19.871763</td>\n",
              "      <td>293.332153</td>\n",
              "      <td>100.160728</td>\n",
              "      <td>24.018032</td>\n",
              "    </tr>\n",
              "    <tr>\n",
              "      <th>2010-01-13</th>\n",
              "      <td>20.152065</td>\n",
              "      <td>291.648102</td>\n",
              "      <td>99.945816</td>\n",
              "      <td>24.241684</td>\n",
              "    </tr>\n",
              "    <tr>\n",
              "      <th>2010-01-14</th>\n",
              "      <td>20.035355</td>\n",
              "      <td>293.019196</td>\n",
              "      <td>101.542137</td>\n",
              "      <td>24.728914</td>\n",
              "    </tr>\n",
              "    <tr>\n",
              "      <th>2010-01-15</th>\n",
              "      <td>19.700523</td>\n",
              "      <td>288.126007</td>\n",
              "      <td>101.135361</td>\n",
              "      <td>24.649038</td>\n",
              "    </tr>\n",
              "    <tr>\n",
              "      <th>2010-01-19</th>\n",
              "      <td>20.572037</td>\n",
              "      <td>291.911407</td>\n",
              "      <td>102.946564</td>\n",
              "      <td>24.840738</td>\n",
              "    </tr>\n",
              "    <tr>\n",
              "      <th>2010-01-20</th>\n",
              "      <td>20.255390</td>\n",
              "      <td>288.329681</td>\n",
              "      <td>99.961174</td>\n",
              "      <td>24.433378</td>\n",
              "    </tr>\n",
              "    <tr>\n",
              "      <th>2010-01-21</th>\n",
              "      <td>19.905249</td>\n",
              "      <td>289.606384</td>\n",
              "      <td>99.001846</td>\n",
              "      <td>23.970112</td>\n",
              "    </tr>\n",
              "    <tr>\n",
              "      <th>2010-01-22</th>\n",
              "      <td>18.917973</td>\n",
              "      <td>273.227905</td>\n",
              "      <td>96.315765</td>\n",
              "      <td>23.131437</td>\n",
              "    </tr>\n",
              "    <tr>\n",
              "      <th>2010-01-25</th>\n",
              "      <td>19.426920</td>\n",
              "      <td>268.255249</td>\n",
              "      <td>96.791580</td>\n",
              "      <td>23.418983</td>\n",
              "    </tr>\n",
              "    <tr>\n",
              "      <th>2010-01-26</th>\n",
              "      <td>19.701479</td>\n",
              "      <td>269.457428</td>\n",
              "      <td>96.507637</td>\n",
              "      <td>23.562756</td>\n",
              "    </tr>\n",
              "    <tr>\n",
              "      <th>2010-01-27</th>\n",
              "      <td>19.887072</td>\n",
              "      <td>269.298462</td>\n",
              "      <td>96.952751</td>\n",
              "      <td>23.698549</td>\n",
              "    </tr>\n",
              "    <tr>\n",
              "      <th>2010-01-28</th>\n",
              "      <td>19.065300</td>\n",
              "      <td>265.418701</td>\n",
              "      <td>94.972717</td>\n",
              "      <td>23.291180</td>\n",
              "    </tr>\n",
              "    <tr>\n",
              "      <th>2010-01-29</th>\n",
              "      <td>18.373636</td>\n",
              "      <td>263.257751</td>\n",
              "      <td>93.928993</td>\n",
              "      <td>22.508421</td>\n",
              "    </tr>\n",
              "    <tr>\n",
              "      <th>2010-02-01</th>\n",
              "      <td>18.629066</td>\n",
              "      <td>264.787811</td>\n",
              "      <td>95.678764</td>\n",
              "      <td>22.692129</td>\n",
              "    </tr>\n",
              "    <tr>\n",
              "      <th>2010-02-02</th>\n",
              "      <td>18.737165</td>\n",
              "      <td>263.843964</td>\n",
              "      <td>96.338768</td>\n",
              "      <td>22.732069</td>\n",
              "    </tr>\n",
              "    <tr>\n",
              "      <th>2010-02-03</th>\n",
              "      <td>19.059557</td>\n",
              "      <td>268.662598</td>\n",
              "      <td>96.438553</td>\n",
              "      <td>22.867855</td>\n",
              "    </tr>\n",
              "    <tr>\n",
              "      <th>2010-02-04</th>\n",
              "      <td>18.372683</td>\n",
              "      <td>261.687958</td>\n",
              "      <td>94.397118</td>\n",
              "      <td>22.236853</td>\n",
              "    </tr>\n",
              "    <tr>\n",
              "      <th>2010-02-05</th>\n",
              "      <td>18.698900</td>\n",
              "      <td>263.928406</td>\n",
              "      <td>94.796196</td>\n",
              "      <td>22.380629</td>\n",
              "    </tr>\n",
              "    <tr>\n",
              "      <th>2010-02-08</th>\n",
              "      <td>18.570709</td>\n",
              "      <td>265.011353</td>\n",
              "      <td>93.955933</td>\n",
              "      <td>22.141001</td>\n",
              "    </tr>\n",
              "    <tr>\n",
              "      <th>2010-02-09</th>\n",
              "      <td>18.768732</td>\n",
              "      <td>266.486755</td>\n",
              "      <td>94.981209</td>\n",
              "      <td>22.372641</td>\n",
              "    </tr>\n",
              "    <tr>\n",
              "      <th>2010-02-10</th>\n",
              "      <td>18.666370</td>\n",
              "      <td>265.498199</td>\n",
              "      <td>94.672852</td>\n",
              "      <td>22.356657</td>\n",
              "    </tr>\n",
              "    <tr>\n",
              "      <th>2010-02-11</th>\n",
              "      <td>19.005989</td>\n",
              "      <td>266.466888</td>\n",
              "      <td>95.382065</td>\n",
              "      <td>22.460506</td>\n",
              "    </tr>\n",
              "    <tr>\n",
              "      <th>2010-02-12</th>\n",
              "      <td>19.169575</td>\n",
              "      <td>264.837494</td>\n",
              "      <td>95.590210</td>\n",
              "      <td>22.308741</td>\n",
              "    </tr>\n",
              "    <tr>\n",
              "      <th>2010-02-16</th>\n",
              "      <td>19.458488</td>\n",
              "      <td>268.901062</td>\n",
              "      <td>96.538391</td>\n",
              "      <td>22.750099</td>\n",
              "    </tr>\n",
              "    <tr>\n",
              "      <th>...</th>\n",
              "      <td>...</td>\n",
              "      <td>...</td>\n",
              "      <td>...</td>\n",
              "      <td>...</td>\n",
              "    </tr>\n",
              "    <tr>\n",
              "      <th>2018-10-25</th>\n",
              "      <td>219.035751</td>\n",
              "      <td>1095.569946</td>\n",
              "      <td>124.859749</td>\n",
              "      <td>107.834152</td>\n",
              "    </tr>\n",
              "    <tr>\n",
              "      <th>2018-10-26</th>\n",
              "      <td>215.547913</td>\n",
              "      <td>1071.469971</td>\n",
              "      <td>123.220627</td>\n",
              "      <td>106.499908</td>\n",
              "    </tr>\n",
              "    <tr>\n",
              "      <th>2018-10-29</th>\n",
              "      <td>211.502045</td>\n",
              "      <td>1020.080017</td>\n",
              "      <td>118.135391</td>\n",
              "      <td>103.403290</td>\n",
              "    </tr>\n",
              "    <tr>\n",
              "      <th>2018-10-30</th>\n",
              "      <td>212.558350</td>\n",
              "      <td>1036.209961</td>\n",
              "      <td>113.948723</td>\n",
              "      <td>103.283813</td>\n",
              "    </tr>\n",
              "    <tr>\n",
              "      <th>2018-10-31</th>\n",
              "      <td>218.099014</td>\n",
              "      <td>1076.770020</td>\n",
              "      <td>113.978340</td>\n",
              "      <td>106.350555</td>\n",
              "    </tr>\n",
              "    <tr>\n",
              "      <th>2018-11-01</th>\n",
              "      <td>221.447327</td>\n",
              "      <td>1070.000000</td>\n",
              "      <td>115.360733</td>\n",
              "      <td>105.464386</td>\n",
              "    </tr>\n",
              "    <tr>\n",
              "      <th>2018-11-02</th>\n",
              "      <td>206.758575</td>\n",
              "      <td>1057.790039</td>\n",
              "      <td>114.215317</td>\n",
              "      <td>105.703354</td>\n",
              "    </tr>\n",
              "    <tr>\n",
              "      <th>2018-11-05</th>\n",
              "      <td>200.889053</td>\n",
              "      <td>1040.089966</td>\n",
              "      <td>118.550110</td>\n",
              "      <td>107.047546</td>\n",
              "    </tr>\n",
              "    <tr>\n",
              "      <th>2018-11-06</th>\n",
              "      <td>203.061493</td>\n",
              "      <td>1055.810059</td>\n",
              "      <td>121.571632</td>\n",
              "      <td>107.256645</td>\n",
              "    </tr>\n",
              "    <tr>\n",
              "      <th>2018-11-07</th>\n",
              "      <td>209.219986</td>\n",
              "      <td>1093.390015</td>\n",
              "      <td>123.269997</td>\n",
              "      <td>111.478401</td>\n",
              "    </tr>\n",
              "    <tr>\n",
              "      <th>2018-11-08</th>\n",
              "      <td>208.490005</td>\n",
              "      <td>1082.400024</td>\n",
              "      <td>123.379997</td>\n",
              "      <td>111.269310</td>\n",
              "    </tr>\n",
              "    <tr>\n",
              "      <th>2018-11-09</th>\n",
              "      <td>204.470001</td>\n",
              "      <td>1066.150024</td>\n",
              "      <td>123.540001</td>\n",
              "      <td>109.098686</td>\n",
              "    </tr>\n",
              "    <tr>\n",
              "      <th>2018-11-12</th>\n",
              "      <td>194.169998</td>\n",
              "      <td>1038.630005</td>\n",
              "      <td>120.900002</td>\n",
              "      <td>106.410301</td>\n",
              "    </tr>\n",
              "    <tr>\n",
              "      <th>2018-11-13</th>\n",
              "      <td>192.229996</td>\n",
              "      <td>1036.050049</td>\n",
              "      <td>120.839996</td>\n",
              "      <td>106.480003</td>\n",
              "    </tr>\n",
              "    <tr>\n",
              "      <th>2018-11-14</th>\n",
              "      <td>186.800003</td>\n",
              "      <td>1043.660034</td>\n",
              "      <td>120.199997</td>\n",
              "      <td>104.970001</td>\n",
              "    </tr>\n",
              "    <tr>\n",
              "      <th>2018-11-15</th>\n",
              "      <td>191.410004</td>\n",
              "      <td>1064.709961</td>\n",
              "      <td>121.440002</td>\n",
              "      <td>107.279999</td>\n",
              "    </tr>\n",
              "    <tr>\n",
              "      <th>2018-11-16</th>\n",
              "      <td>193.529999</td>\n",
              "      <td>1061.489990</td>\n",
              "      <td>121.570000</td>\n",
              "      <td>108.290001</td>\n",
              "    </tr>\n",
              "    <tr>\n",
              "      <th>2018-11-19</th>\n",
              "      <td>185.860001</td>\n",
              "      <td>1020.000000</td>\n",
              "      <td>120.309998</td>\n",
              "      <td>104.620003</td>\n",
              "    </tr>\n",
              "    <tr>\n",
              "      <th>2018-11-20</th>\n",
              "      <td>176.979996</td>\n",
              "      <td>1025.760010</td>\n",
              "      <td>117.199997</td>\n",
              "      <td>101.709999</td>\n",
              "    </tr>\n",
              "    <tr>\n",
              "      <th>2018-11-21</th>\n",
              "      <td>176.779999</td>\n",
              "      <td>1037.609985</td>\n",
              "      <td>118.570000</td>\n",
              "      <td>103.110001</td>\n",
              "    </tr>\n",
              "    <tr>\n",
              "      <th>2018-11-23</th>\n",
              "      <td>172.289993</td>\n",
              "      <td>1023.880005</td>\n",
              "      <td>117.190002</td>\n",
              "      <td>103.070000</td>\n",
              "    </tr>\n",
              "    <tr>\n",
              "      <th>2018-11-26</th>\n",
              "      <td>174.619995</td>\n",
              "      <td>1048.619995</td>\n",
              "      <td>119.559998</td>\n",
              "      <td>106.470001</td>\n",
              "    </tr>\n",
              "    <tr>\n",
              "      <th>2018-11-27</th>\n",
              "      <td>174.240005</td>\n",
              "      <td>1044.410034</td>\n",
              "      <td>120.029999</td>\n",
              "      <td>107.139999</td>\n",
              "    </tr>\n",
              "    <tr>\n",
              "      <th>2018-11-28</th>\n",
              "      <td>180.940002</td>\n",
              "      <td>1086.229980</td>\n",
              "      <td>123.000000</td>\n",
              "      <td>111.120003</td>\n",
              "    </tr>\n",
              "    <tr>\n",
              "      <th>2018-11-29</th>\n",
              "      <td>179.550003</td>\n",
              "      <td>1088.300049</td>\n",
              "      <td>121.480003</td>\n",
              "      <td>110.190002</td>\n",
              "    </tr>\n",
              "    <tr>\n",
              "      <th>2018-11-30</th>\n",
              "      <td>178.580002</td>\n",
              "      <td>1094.430054</td>\n",
              "      <td>124.269997</td>\n",
              "      <td>110.889999</td>\n",
              "    </tr>\n",
              "    <tr>\n",
              "      <th>2018-12-03</th>\n",
              "      <td>184.820007</td>\n",
              "      <td>1106.430054</td>\n",
              "      <td>125.309998</td>\n",
              "      <td>112.089996</td>\n",
              "    </tr>\n",
              "    <tr>\n",
              "      <th>2018-12-04</th>\n",
              "      <td>176.690002</td>\n",
              "      <td>1050.819946</td>\n",
              "      <td>121.599998</td>\n",
              "      <td>108.519997</td>\n",
              "    </tr>\n",
              "    <tr>\n",
              "      <th>2018-12-06</th>\n",
              "      <td>174.720001</td>\n",
              "      <td>1068.729980</td>\n",
              "      <td>123.910004</td>\n",
              "      <td>109.190002</td>\n",
              "    </tr>\n",
              "    <tr>\n",
              "      <th>2018-12-07</th>\n",
              "      <td>168.490005</td>\n",
              "      <td>1036.579956</td>\n",
              "      <td>119.339996</td>\n",
              "      <td>104.820000</td>\n",
              "    </tr>\n",
              "  </tbody>\n",
              "</table>\n",
              "<p>2249 rows × 4 columns</p>\n",
              "</div>"
            ],
            "text/plain": [
              "                  AAPL         GOOG         IBM        MSFT\n",
              "Date                                                       \n",
              "2010-01-04   20.473503   311.349976  101.649574   24.720928\n",
              "2010-01-05   20.508902   309.978882  100.421654   24.728914\n",
              "2010-01-06   20.182680   302.164703   99.769310   24.577150\n",
              "2010-01-07   20.145369   295.130463   99.423950   24.321552\n",
              "2010-01-08   20.279305   299.064880  100.421654   24.489288\n",
              "2010-01-11   20.100410   298.612823   99.370209   24.177786\n",
              "2010-01-12   19.871763   293.332153  100.160728   24.018032\n",
              "2010-01-13   20.152065   291.648102   99.945816   24.241684\n",
              "2010-01-14   20.035355   293.019196  101.542137   24.728914\n",
              "2010-01-15   19.700523   288.126007  101.135361   24.649038\n",
              "2010-01-19   20.572037   291.911407  102.946564   24.840738\n",
              "2010-01-20   20.255390   288.329681   99.961174   24.433378\n",
              "2010-01-21   19.905249   289.606384   99.001846   23.970112\n",
              "2010-01-22   18.917973   273.227905   96.315765   23.131437\n",
              "2010-01-25   19.426920   268.255249   96.791580   23.418983\n",
              "2010-01-26   19.701479   269.457428   96.507637   23.562756\n",
              "2010-01-27   19.887072   269.298462   96.952751   23.698549\n",
              "2010-01-28   19.065300   265.418701   94.972717   23.291180\n",
              "2010-01-29   18.373636   263.257751   93.928993   22.508421\n",
              "2010-02-01   18.629066   264.787811   95.678764   22.692129\n",
              "2010-02-02   18.737165   263.843964   96.338768   22.732069\n",
              "2010-02-03   19.059557   268.662598   96.438553   22.867855\n",
              "2010-02-04   18.372683   261.687958   94.397118   22.236853\n",
              "2010-02-05   18.698900   263.928406   94.796196   22.380629\n",
              "2010-02-08   18.570709   265.011353   93.955933   22.141001\n",
              "2010-02-09   18.768732   266.486755   94.981209   22.372641\n",
              "2010-02-10   18.666370   265.498199   94.672852   22.356657\n",
              "2010-02-11   19.005989   266.466888   95.382065   22.460506\n",
              "2010-02-12   19.169575   264.837494   95.590210   22.308741\n",
              "2010-02-16   19.458488   268.901062   96.538391   22.750099\n",
              "...                ...          ...         ...         ...\n",
              "2018-10-25  219.035751  1095.569946  124.859749  107.834152\n",
              "2018-10-26  215.547913  1071.469971  123.220627  106.499908\n",
              "2018-10-29  211.502045  1020.080017  118.135391  103.403290\n",
              "2018-10-30  212.558350  1036.209961  113.948723  103.283813\n",
              "2018-10-31  218.099014  1076.770020  113.978340  106.350555\n",
              "2018-11-01  221.447327  1070.000000  115.360733  105.464386\n",
              "2018-11-02  206.758575  1057.790039  114.215317  105.703354\n",
              "2018-11-05  200.889053  1040.089966  118.550110  107.047546\n",
              "2018-11-06  203.061493  1055.810059  121.571632  107.256645\n",
              "2018-11-07  209.219986  1093.390015  123.269997  111.478401\n",
              "2018-11-08  208.490005  1082.400024  123.379997  111.269310\n",
              "2018-11-09  204.470001  1066.150024  123.540001  109.098686\n",
              "2018-11-12  194.169998  1038.630005  120.900002  106.410301\n",
              "2018-11-13  192.229996  1036.050049  120.839996  106.480003\n",
              "2018-11-14  186.800003  1043.660034  120.199997  104.970001\n",
              "2018-11-15  191.410004  1064.709961  121.440002  107.279999\n",
              "2018-11-16  193.529999  1061.489990  121.570000  108.290001\n",
              "2018-11-19  185.860001  1020.000000  120.309998  104.620003\n",
              "2018-11-20  176.979996  1025.760010  117.199997  101.709999\n",
              "2018-11-21  176.779999  1037.609985  118.570000  103.110001\n",
              "2018-11-23  172.289993  1023.880005  117.190002  103.070000\n",
              "2018-11-26  174.619995  1048.619995  119.559998  106.470001\n",
              "2018-11-27  174.240005  1044.410034  120.029999  107.139999\n",
              "2018-11-28  180.940002  1086.229980  123.000000  111.120003\n",
              "2018-11-29  179.550003  1088.300049  121.480003  110.190002\n",
              "2018-11-30  178.580002  1094.430054  124.269997  110.889999\n",
              "2018-12-03  184.820007  1106.430054  125.309998  112.089996\n",
              "2018-12-04  176.690002  1050.819946  121.599998  108.519997\n",
              "2018-12-06  174.720001  1068.729980  123.910004  109.190002\n",
              "2018-12-07  168.490005  1036.579956  119.339996  104.820000\n",
              "\n",
              "[2249 rows x 4 columns]"
            ]
          },
          "metadata": {
            "tags": []
          },
          "execution_count": 57
        }
      ]
    },
    {
      "metadata": {
        "id": "v88ySrx2MMpM",
        "colab_type": "code",
        "colab": {
          "base_uri": "https://localhost:8080/",
          "height": 173
        },
        "outputId": "de4af031-9337-418b-d4e1-cfc521d4c55e"
      },
      "cell_type": "code",
      "source": [
        "pdata.loc[:, '6/1/2012', :]"
      ],
      "execution_count": 58,
      "outputs": [
        {
          "output_type": "execute_result",
          "data": {
            "text/html": [
              "<div>\n",
              "<style scoped>\n",
              "    .dataframe tbody tr th:only-of-type {\n",
              "        vertical-align: middle;\n",
              "    }\n",
              "\n",
              "    .dataframe tbody tr th {\n",
              "        vertical-align: top;\n",
              "    }\n",
              "\n",
              "    .dataframe thead th {\n",
              "        text-align: right;\n",
              "    }\n",
              "</style>\n",
              "<table border=\"1\" class=\"dataframe\">\n",
              "  <thead>\n",
              "    <tr style=\"text-align: right;\">\n",
              "      <th></th>\n",
              "      <th>High</th>\n",
              "      <th>Low</th>\n",
              "      <th>Open</th>\n",
              "      <th>Close</th>\n",
              "      <th>Volume</th>\n",
              "      <th>Adj Close</th>\n",
              "    </tr>\n",
              "  </thead>\n",
              "  <tbody>\n",
              "    <tr>\n",
              "      <th>AAPL</th>\n",
              "      <td>81.807144</td>\n",
              "      <td>80.074287</td>\n",
              "      <td>81.308571</td>\n",
              "      <td>80.141426</td>\n",
              "      <td>130246900.0</td>\n",
              "      <td>53.667721</td>\n",
              "    </tr>\n",
              "    <tr>\n",
              "      <th>GOOG</th>\n",
              "      <td>284.474762</td>\n",
              "      <td>282.338654</td>\n",
              "      <td>284.047546</td>\n",
              "      <td>283.645172</td>\n",
              "      <td>6155600.0</td>\n",
              "      <td>283.645172</td>\n",
              "    </tr>\n",
              "    <tr>\n",
              "      <th>IBM</th>\n",
              "      <td>191.720001</td>\n",
              "      <td>188.600006</td>\n",
              "      <td>190.119995</td>\n",
              "      <td>189.080002</td>\n",
              "      <td>5206400.0</td>\n",
              "      <td>151.606140</td>\n",
              "    </tr>\n",
              "    <tr>\n",
              "      <th>MSFT</th>\n",
              "      <td>28.959999</td>\n",
              "      <td>28.440001</td>\n",
              "      <td>28.760000</td>\n",
              "      <td>28.450001</td>\n",
              "      <td>56634300.0</td>\n",
              "      <td>24.127708</td>\n",
              "    </tr>\n",
              "  </tbody>\n",
              "</table>\n",
              "</div>"
            ],
            "text/plain": [
              "            High         Low        Open       Close       Volume   Adj Close\n",
              "AAPL   81.807144   80.074287   81.308571   80.141426  130246900.0   53.667721\n",
              "GOOG  284.474762  282.338654  284.047546  283.645172    6155600.0  283.645172\n",
              "IBM   191.720001  188.600006  190.119995  189.080002    5206400.0  151.606140\n",
              "MSFT   28.959999   28.440001   28.760000   28.450001   56634300.0   24.127708"
            ]
          },
          "metadata": {
            "tags": []
          },
          "execution_count": 58
        }
      ]
    },
    {
      "metadata": {
        "id": "_-9iNA4bMv-e",
        "colab_type": "code",
        "colab": {
          "base_uri": "https://localhost:8080/",
          "height": 2000
        },
        "outputId": "a5a7e2b3-4460-4f2f-a276-3a3d6c56aee5"
      },
      "cell_type": "code",
      "source": [
        "pdata.loc['Adj Close', '5/22/2012':, :]"
      ],
      "execution_count": 59,
      "outputs": [
        {
          "output_type": "execute_result",
          "data": {
            "text/html": [
              "<div>\n",
              "<style scoped>\n",
              "    .dataframe tbody tr th:only-of-type {\n",
              "        vertical-align: middle;\n",
              "    }\n",
              "\n",
              "    .dataframe tbody tr th {\n",
              "        vertical-align: top;\n",
              "    }\n",
              "\n",
              "    .dataframe thead th {\n",
              "        text-align: right;\n",
              "    }\n",
              "</style>\n",
              "<table border=\"1\" class=\"dataframe\">\n",
              "  <thead>\n",
              "    <tr style=\"text-align: right;\">\n",
              "      <th></th>\n",
              "      <th>AAPL</th>\n",
              "      <th>GOOG</th>\n",
              "      <th>IBM</th>\n",
              "      <th>MSFT</th>\n",
              "    </tr>\n",
              "    <tr>\n",
              "      <th>Date</th>\n",
              "      <th></th>\n",
              "      <th></th>\n",
              "      <th></th>\n",
              "      <th></th>\n",
              "    </tr>\n",
              "  </thead>\n",
              "  <tbody>\n",
              "    <tr>\n",
              "      <th>2012-05-22</th>\n",
              "      <td>53.283173</td>\n",
              "      <td>298.458801</td>\n",
              "      <td>157.812180</td>\n",
              "      <td>25.238676</td>\n",
              "    </tr>\n",
              "    <tr>\n",
              "      <th>2012-05-23</th>\n",
              "      <td>54.583275</td>\n",
              "      <td>302.760834</td>\n",
              "      <td>157.250870</td>\n",
              "      <td>24.687433</td>\n",
              "    </tr>\n",
              "    <tr>\n",
              "      <th>2012-05-24</th>\n",
              "      <td>54.081974</td>\n",
              "      <td>299.879578</td>\n",
              "      <td>157.226852</td>\n",
              "      <td>24.653509</td>\n",
              "    </tr>\n",
              "    <tr>\n",
              "      <th>2012-05-25</th>\n",
              "      <td>53.792103</td>\n",
              "      <td>293.853760</td>\n",
              "      <td>155.791595</td>\n",
              "      <td>24.645023</td>\n",
              "    </tr>\n",
              "    <tr>\n",
              "      <th>2012-05-29</th>\n",
              "      <td>54.746853</td>\n",
              "      <td>295.249695</td>\n",
              "      <td>157.523514</td>\n",
              "      <td>25.069065</td>\n",
              "    </tr>\n",
              "    <tr>\n",
              "      <th>2012-05-30</th>\n",
              "      <td>55.406948</td>\n",
              "      <td>292.214417</td>\n",
              "      <td>155.976059</td>\n",
              "      <td>24.882488</td>\n",
              "    </tr>\n",
              "    <tr>\n",
              "      <th>2012-05-31</th>\n",
              "      <td>55.269192</td>\n",
              "      <td>288.553253</td>\n",
              "      <td>154.669022</td>\n",
              "      <td>24.755281</td>\n",
              "    </tr>\n",
              "    <tr>\n",
              "      <th>2012-06-01</th>\n",
              "      <td>53.667721</td>\n",
              "      <td>283.645172</td>\n",
              "      <td>151.606140</td>\n",
              "      <td>24.127708</td>\n",
              "    </tr>\n",
              "    <tr>\n",
              "      <th>2012-06-04</th>\n",
              "      <td>53.983429</td>\n",
              "      <td>287.425568</td>\n",
              "      <td>151.173157</td>\n",
              "      <td>24.212513</td>\n",
              "    </tr>\n",
              "    <tr>\n",
              "      <th>2012-06-05</th>\n",
              "      <td>53.843765</td>\n",
              "      <td>283.362000</td>\n",
              "      <td>151.702393</td>\n",
              "      <td>24.178593</td>\n",
              "    </tr>\n",
              "    <tr>\n",
              "      <th>2012-06-06</th>\n",
              "      <td>54.669357</td>\n",
              "      <td>288.409180</td>\n",
              "      <td>155.543076</td>\n",
              "      <td>24.890968</td>\n",
              "    </tr>\n",
              "    <tr>\n",
              "      <th>2012-06-07</th>\n",
              "      <td>54.694237</td>\n",
              "      <td>287.246735</td>\n",
              "      <td>155.903854</td>\n",
              "      <td>24.789200</td>\n",
              "    </tr>\n",
              "    <tr>\n",
              "      <th>2012-06-08</th>\n",
              "      <td>55.516956</td>\n",
              "      <td>288.349579</td>\n",
              "      <td>156.465118</td>\n",
              "      <td>25.145395</td>\n",
              "    </tr>\n",
              "    <tr>\n",
              "      <th>2012-06-11</th>\n",
              "      <td>54.641617</td>\n",
              "      <td>282.413177</td>\n",
              "      <td>154.356369</td>\n",
              "      <td>24.509335</td>\n",
              "    </tr>\n",
              "    <tr>\n",
              "      <th>2012-06-12</th>\n",
              "      <td>55.118996</td>\n",
              "      <td>280.724152</td>\n",
              "      <td>155.992035</td>\n",
              "      <td>24.840088</td>\n",
              "    </tr>\n",
              "    <tr>\n",
              "      <th>2012-06-13</th>\n",
              "      <td>54.736320</td>\n",
              "      <td>278.732117</td>\n",
              "      <td>154.829437</td>\n",
              "      <td>24.704391</td>\n",
              "    </tr>\n",
              "    <tr>\n",
              "      <th>2012-06-14</th>\n",
              "      <td>54.676064</td>\n",
              "      <td>277.718719</td>\n",
              "      <td>156.433014</td>\n",
              "      <td>24.882488</td>\n",
              "    </tr>\n",
              "    <tr>\n",
              "      <th>2012-06-15</th>\n",
              "      <td>54.924778</td>\n",
              "      <td>280.431061</td>\n",
              "      <td>159.640244</td>\n",
              "      <td>25.459175</td>\n",
              "    </tr>\n",
              "    <tr>\n",
              "      <th>2012-06-18</th>\n",
              "      <td>56.039288</td>\n",
              "      <td>283.580566</td>\n",
              "      <td>158.990829</td>\n",
              "      <td>25.306528</td>\n",
              "    </tr>\n",
              "    <tr>\n",
              "      <th>2012-06-19</th>\n",
              "      <td>56.195232</td>\n",
              "      <td>288.886078</td>\n",
              "      <td>159.503983</td>\n",
              "      <td>26.035873</td>\n",
              "    </tr>\n",
              "    <tr>\n",
              "      <th>2012-06-20</th>\n",
              "      <td>56.035473</td>\n",
              "      <td>286.889069</td>\n",
              "      <td>159.383698</td>\n",
              "      <td>26.230927</td>\n",
              "    </tr>\n",
              "    <tr>\n",
              "      <th>2012-06-21</th>\n",
              "      <td>55.263435</td>\n",
              "      <td>280.778809</td>\n",
              "      <td>155.061966</td>\n",
              "      <td>25.560947</td>\n",
              "    </tr>\n",
              "    <tr>\n",
              "      <th>2012-06-22</th>\n",
              "      <td>55.687241</td>\n",
              "      <td>283.893555</td>\n",
              "      <td>155.310532</td>\n",
              "      <td>26.035873</td>\n",
              "    </tr>\n",
              "    <tr>\n",
              "      <th>2012-06-25</th>\n",
              "      <td>54.603352</td>\n",
              "      <td>278.538391</td>\n",
              "      <td>154.637009</td>\n",
              "      <td>25.331966</td>\n",
              "    </tr>\n",
              "    <tr>\n",
              "      <th>2012-06-26</th>\n",
              "      <td>54.723888</td>\n",
              "      <td>280.515503</td>\n",
              "      <td>153.907349</td>\n",
              "      <td>25.459175</td>\n",
              "    </tr>\n",
              "    <tr>\n",
              "      <th>2012-06-27</th>\n",
              "      <td>54.960175</td>\n",
              "      <td>282.810577</td>\n",
              "      <td>154.749252</td>\n",
              "      <td>25.586390</td>\n",
              "    </tr>\n",
              "    <tr>\n",
              "      <th>2012-06-28</th>\n",
              "      <td>54.438801</td>\n",
              "      <td>280.331726</td>\n",
              "      <td>153.466339</td>\n",
              "      <td>25.365891</td>\n",
              "    </tr>\n",
              "    <tr>\n",
              "      <th>2012-06-29</th>\n",
              "      <td>55.868996</td>\n",
              "      <td>288.160797</td>\n",
              "      <td>156.817947</td>\n",
              "      <td>25.942581</td>\n",
              "    </tr>\n",
              "    <tr>\n",
              "      <th>2012-07-02</th>\n",
              "      <td>56.684093</td>\n",
              "      <td>288.359497</td>\n",
              "      <td>157.018372</td>\n",
              "      <td>25.917143</td>\n",
              "    </tr>\n",
              "    <tr>\n",
              "      <th>2012-07-03</th>\n",
              "      <td>57.343227</td>\n",
              "      <td>292.015717</td>\n",
              "      <td>157.098541</td>\n",
              "      <td>26.086754</td>\n",
              "    </tr>\n",
              "    <tr>\n",
              "      <th>...</th>\n",
              "      <td>...</td>\n",
              "      <td>...</td>\n",
              "      <td>...</td>\n",
              "      <td>...</td>\n",
              "    </tr>\n",
              "    <tr>\n",
              "      <th>2018-10-25</th>\n",
              "      <td>219.035751</td>\n",
              "      <td>1095.569946</td>\n",
              "      <td>124.859749</td>\n",
              "      <td>107.834152</td>\n",
              "    </tr>\n",
              "    <tr>\n",
              "      <th>2018-10-26</th>\n",
              "      <td>215.547913</td>\n",
              "      <td>1071.469971</td>\n",
              "      <td>123.220627</td>\n",
              "      <td>106.499908</td>\n",
              "    </tr>\n",
              "    <tr>\n",
              "      <th>2018-10-29</th>\n",
              "      <td>211.502045</td>\n",
              "      <td>1020.080017</td>\n",
              "      <td>118.135391</td>\n",
              "      <td>103.403290</td>\n",
              "    </tr>\n",
              "    <tr>\n",
              "      <th>2018-10-30</th>\n",
              "      <td>212.558350</td>\n",
              "      <td>1036.209961</td>\n",
              "      <td>113.948723</td>\n",
              "      <td>103.283813</td>\n",
              "    </tr>\n",
              "    <tr>\n",
              "      <th>2018-10-31</th>\n",
              "      <td>218.099014</td>\n",
              "      <td>1076.770020</td>\n",
              "      <td>113.978340</td>\n",
              "      <td>106.350555</td>\n",
              "    </tr>\n",
              "    <tr>\n",
              "      <th>2018-11-01</th>\n",
              "      <td>221.447327</td>\n",
              "      <td>1070.000000</td>\n",
              "      <td>115.360733</td>\n",
              "      <td>105.464386</td>\n",
              "    </tr>\n",
              "    <tr>\n",
              "      <th>2018-11-02</th>\n",
              "      <td>206.758575</td>\n",
              "      <td>1057.790039</td>\n",
              "      <td>114.215317</td>\n",
              "      <td>105.703354</td>\n",
              "    </tr>\n",
              "    <tr>\n",
              "      <th>2018-11-05</th>\n",
              "      <td>200.889053</td>\n",
              "      <td>1040.089966</td>\n",
              "      <td>118.550110</td>\n",
              "      <td>107.047546</td>\n",
              "    </tr>\n",
              "    <tr>\n",
              "      <th>2018-11-06</th>\n",
              "      <td>203.061493</td>\n",
              "      <td>1055.810059</td>\n",
              "      <td>121.571632</td>\n",
              "      <td>107.256645</td>\n",
              "    </tr>\n",
              "    <tr>\n",
              "      <th>2018-11-07</th>\n",
              "      <td>209.219986</td>\n",
              "      <td>1093.390015</td>\n",
              "      <td>123.269997</td>\n",
              "      <td>111.478401</td>\n",
              "    </tr>\n",
              "    <tr>\n",
              "      <th>2018-11-08</th>\n",
              "      <td>208.490005</td>\n",
              "      <td>1082.400024</td>\n",
              "      <td>123.379997</td>\n",
              "      <td>111.269310</td>\n",
              "    </tr>\n",
              "    <tr>\n",
              "      <th>2018-11-09</th>\n",
              "      <td>204.470001</td>\n",
              "      <td>1066.150024</td>\n",
              "      <td>123.540001</td>\n",
              "      <td>109.098686</td>\n",
              "    </tr>\n",
              "    <tr>\n",
              "      <th>2018-11-12</th>\n",
              "      <td>194.169998</td>\n",
              "      <td>1038.630005</td>\n",
              "      <td>120.900002</td>\n",
              "      <td>106.410301</td>\n",
              "    </tr>\n",
              "    <tr>\n",
              "      <th>2018-11-13</th>\n",
              "      <td>192.229996</td>\n",
              "      <td>1036.050049</td>\n",
              "      <td>120.839996</td>\n",
              "      <td>106.480003</td>\n",
              "    </tr>\n",
              "    <tr>\n",
              "      <th>2018-11-14</th>\n",
              "      <td>186.800003</td>\n",
              "      <td>1043.660034</td>\n",
              "      <td>120.199997</td>\n",
              "      <td>104.970001</td>\n",
              "    </tr>\n",
              "    <tr>\n",
              "      <th>2018-11-15</th>\n",
              "      <td>191.410004</td>\n",
              "      <td>1064.709961</td>\n",
              "      <td>121.440002</td>\n",
              "      <td>107.279999</td>\n",
              "    </tr>\n",
              "    <tr>\n",
              "      <th>2018-11-16</th>\n",
              "      <td>193.529999</td>\n",
              "      <td>1061.489990</td>\n",
              "      <td>121.570000</td>\n",
              "      <td>108.290001</td>\n",
              "    </tr>\n",
              "    <tr>\n",
              "      <th>2018-11-19</th>\n",
              "      <td>185.860001</td>\n",
              "      <td>1020.000000</td>\n",
              "      <td>120.309998</td>\n",
              "      <td>104.620003</td>\n",
              "    </tr>\n",
              "    <tr>\n",
              "      <th>2018-11-20</th>\n",
              "      <td>176.979996</td>\n",
              "      <td>1025.760010</td>\n",
              "      <td>117.199997</td>\n",
              "      <td>101.709999</td>\n",
              "    </tr>\n",
              "    <tr>\n",
              "      <th>2018-11-21</th>\n",
              "      <td>176.779999</td>\n",
              "      <td>1037.609985</td>\n",
              "      <td>118.570000</td>\n",
              "      <td>103.110001</td>\n",
              "    </tr>\n",
              "    <tr>\n",
              "      <th>2018-11-23</th>\n",
              "      <td>172.289993</td>\n",
              "      <td>1023.880005</td>\n",
              "      <td>117.190002</td>\n",
              "      <td>103.070000</td>\n",
              "    </tr>\n",
              "    <tr>\n",
              "      <th>2018-11-26</th>\n",
              "      <td>174.619995</td>\n",
              "      <td>1048.619995</td>\n",
              "      <td>119.559998</td>\n",
              "      <td>106.470001</td>\n",
              "    </tr>\n",
              "    <tr>\n",
              "      <th>2018-11-27</th>\n",
              "      <td>174.240005</td>\n",
              "      <td>1044.410034</td>\n",
              "      <td>120.029999</td>\n",
              "      <td>107.139999</td>\n",
              "    </tr>\n",
              "    <tr>\n",
              "      <th>2018-11-28</th>\n",
              "      <td>180.940002</td>\n",
              "      <td>1086.229980</td>\n",
              "      <td>123.000000</td>\n",
              "      <td>111.120003</td>\n",
              "    </tr>\n",
              "    <tr>\n",
              "      <th>2018-11-29</th>\n",
              "      <td>179.550003</td>\n",
              "      <td>1088.300049</td>\n",
              "      <td>121.480003</td>\n",
              "      <td>110.190002</td>\n",
              "    </tr>\n",
              "    <tr>\n",
              "      <th>2018-11-30</th>\n",
              "      <td>178.580002</td>\n",
              "      <td>1094.430054</td>\n",
              "      <td>124.269997</td>\n",
              "      <td>110.889999</td>\n",
              "    </tr>\n",
              "    <tr>\n",
              "      <th>2018-12-03</th>\n",
              "      <td>184.820007</td>\n",
              "      <td>1106.430054</td>\n",
              "      <td>125.309998</td>\n",
              "      <td>112.089996</td>\n",
              "    </tr>\n",
              "    <tr>\n",
              "      <th>2018-12-04</th>\n",
              "      <td>176.690002</td>\n",
              "      <td>1050.819946</td>\n",
              "      <td>121.599998</td>\n",
              "      <td>108.519997</td>\n",
              "    </tr>\n",
              "    <tr>\n",
              "      <th>2018-12-06</th>\n",
              "      <td>174.720001</td>\n",
              "      <td>1068.729980</td>\n",
              "      <td>123.910004</td>\n",
              "      <td>109.190002</td>\n",
              "    </tr>\n",
              "    <tr>\n",
              "      <th>2018-12-07</th>\n",
              "      <td>168.490005</td>\n",
              "      <td>1036.579956</td>\n",
              "      <td>119.339996</td>\n",
              "      <td>104.820000</td>\n",
              "    </tr>\n",
              "  </tbody>\n",
              "</table>\n",
              "<p>1648 rows × 4 columns</p>\n",
              "</div>"
            ],
            "text/plain": [
              "                  AAPL         GOOG         IBM        MSFT\n",
              "Date                                                       \n",
              "2012-05-22   53.283173   298.458801  157.812180   25.238676\n",
              "2012-05-23   54.583275   302.760834  157.250870   24.687433\n",
              "2012-05-24   54.081974   299.879578  157.226852   24.653509\n",
              "2012-05-25   53.792103   293.853760  155.791595   24.645023\n",
              "2012-05-29   54.746853   295.249695  157.523514   25.069065\n",
              "2012-05-30   55.406948   292.214417  155.976059   24.882488\n",
              "2012-05-31   55.269192   288.553253  154.669022   24.755281\n",
              "2012-06-01   53.667721   283.645172  151.606140   24.127708\n",
              "2012-06-04   53.983429   287.425568  151.173157   24.212513\n",
              "2012-06-05   53.843765   283.362000  151.702393   24.178593\n",
              "2012-06-06   54.669357   288.409180  155.543076   24.890968\n",
              "2012-06-07   54.694237   287.246735  155.903854   24.789200\n",
              "2012-06-08   55.516956   288.349579  156.465118   25.145395\n",
              "2012-06-11   54.641617   282.413177  154.356369   24.509335\n",
              "2012-06-12   55.118996   280.724152  155.992035   24.840088\n",
              "2012-06-13   54.736320   278.732117  154.829437   24.704391\n",
              "2012-06-14   54.676064   277.718719  156.433014   24.882488\n",
              "2012-06-15   54.924778   280.431061  159.640244   25.459175\n",
              "2012-06-18   56.039288   283.580566  158.990829   25.306528\n",
              "2012-06-19   56.195232   288.886078  159.503983   26.035873\n",
              "2012-06-20   56.035473   286.889069  159.383698   26.230927\n",
              "2012-06-21   55.263435   280.778809  155.061966   25.560947\n",
              "2012-06-22   55.687241   283.893555  155.310532   26.035873\n",
              "2012-06-25   54.603352   278.538391  154.637009   25.331966\n",
              "2012-06-26   54.723888   280.515503  153.907349   25.459175\n",
              "2012-06-27   54.960175   282.810577  154.749252   25.586390\n",
              "2012-06-28   54.438801   280.331726  153.466339   25.365891\n",
              "2012-06-29   55.868996   288.160797  156.817947   25.942581\n",
              "2012-07-02   56.684093   288.359497  157.018372   25.917143\n",
              "2012-07-03   57.343227   292.015717  157.098541   26.086754\n",
              "...                ...          ...         ...         ...\n",
              "2018-10-25  219.035751  1095.569946  124.859749  107.834152\n",
              "2018-10-26  215.547913  1071.469971  123.220627  106.499908\n",
              "2018-10-29  211.502045  1020.080017  118.135391  103.403290\n",
              "2018-10-30  212.558350  1036.209961  113.948723  103.283813\n",
              "2018-10-31  218.099014  1076.770020  113.978340  106.350555\n",
              "2018-11-01  221.447327  1070.000000  115.360733  105.464386\n",
              "2018-11-02  206.758575  1057.790039  114.215317  105.703354\n",
              "2018-11-05  200.889053  1040.089966  118.550110  107.047546\n",
              "2018-11-06  203.061493  1055.810059  121.571632  107.256645\n",
              "2018-11-07  209.219986  1093.390015  123.269997  111.478401\n",
              "2018-11-08  208.490005  1082.400024  123.379997  111.269310\n",
              "2018-11-09  204.470001  1066.150024  123.540001  109.098686\n",
              "2018-11-12  194.169998  1038.630005  120.900002  106.410301\n",
              "2018-11-13  192.229996  1036.050049  120.839996  106.480003\n",
              "2018-11-14  186.800003  1043.660034  120.199997  104.970001\n",
              "2018-11-15  191.410004  1064.709961  121.440002  107.279999\n",
              "2018-11-16  193.529999  1061.489990  121.570000  108.290001\n",
              "2018-11-19  185.860001  1020.000000  120.309998  104.620003\n",
              "2018-11-20  176.979996  1025.760010  117.199997  101.709999\n",
              "2018-11-21  176.779999  1037.609985  118.570000  103.110001\n",
              "2018-11-23  172.289993  1023.880005  117.190002  103.070000\n",
              "2018-11-26  174.619995  1048.619995  119.559998  106.470001\n",
              "2018-11-27  174.240005  1044.410034  120.029999  107.139999\n",
              "2018-11-28  180.940002  1086.229980  123.000000  111.120003\n",
              "2018-11-29  179.550003  1088.300049  121.480003  110.190002\n",
              "2018-11-30  178.580002  1094.430054  124.269997  110.889999\n",
              "2018-12-03  184.820007  1106.430054  125.309998  112.089996\n",
              "2018-12-04  176.690002  1050.819946  121.599998  108.519997\n",
              "2018-12-06  174.720001  1068.729980  123.910004  109.190002\n",
              "2018-12-07  168.490005  1036.579956  119.339996  104.820000\n",
              "\n",
              "[1648 rows x 4 columns]"
            ]
          },
          "metadata": {
            "tags": []
          },
          "execution_count": 59
        }
      ]
    },
    {
      "metadata": {
        "id": "av9z_smUND2n",
        "colab_type": "code",
        "colab": {
          "base_uri": "https://localhost:8080/",
          "height": 107
        },
        "outputId": "2e2f2c37-3204-42ca-9433-9a5c5a8b56d7"
      },
      "cell_type": "code",
      "source": [
        "pdata"
      ],
      "execution_count": 60,
      "outputs": [
        {
          "output_type": "execute_result",
          "data": {
            "text/plain": [
              "<class 'pandas.core.panel.Panel'>\n",
              "Dimensions: 6 (items) x 2249 (major_axis) x 4 (minor_axis)\n",
              "Items axis: High to Adj Close\n",
              "Major_axis axis: 2010-01-04 00:00:00 to 2018-12-07 00:00:00\n",
              "Minor_axis axis: AAPL to MSFT"
            ]
          },
          "metadata": {
            "tags": []
          },
          "execution_count": 60
        }
      ]
    },
    {
      "metadata": {
        "id": "gSu3-WFANVcC",
        "colab_type": "text"
      },
      "cell_type": "markdown",
      "source": [
        "통계 모델에 알맞게 Panel 데이터를 출력하는 다른 방법은 DataFrame을 쌓아 놓는것이다. "
      ]
    },
    {
      "metadata": {
        "id": "hNeMVVFoNNpV",
        "colab_type": "code",
        "colab": {}
      },
      "cell_type": "code",
      "source": [
        "stacked =  pdata.loc[:, '5/30/2012':, :].to_frame()"
      ],
      "execution_count": 0,
      "outputs": []
    },
    {
      "metadata": {
        "id": "-R7CSqG8Nlxs",
        "colab_type": "code",
        "colab": {
          "base_uri": "https://localhost:8080/",
          "height": 2000
        },
        "outputId": "ad75df1b-b488-49f9-92b6-f05541293aae"
      },
      "cell_type": "code",
      "source": [
        "stacked"
      ],
      "execution_count": 62,
      "outputs": [
        {
          "output_type": "execute_result",
          "data": {
            "text/html": [
              "<div>\n",
              "<style scoped>\n",
              "    .dataframe tbody tr th:only-of-type {\n",
              "        vertical-align: middle;\n",
              "    }\n",
              "\n",
              "    .dataframe tbody tr th {\n",
              "        vertical-align: top;\n",
              "    }\n",
              "\n",
              "    .dataframe thead th {\n",
              "        text-align: right;\n",
              "    }\n",
              "</style>\n",
              "<table border=\"1\" class=\"dataframe\">\n",
              "  <thead>\n",
              "    <tr style=\"text-align: right;\">\n",
              "      <th></th>\n",
              "      <th></th>\n",
              "      <th>High</th>\n",
              "      <th>Low</th>\n",
              "      <th>Open</th>\n",
              "      <th>Close</th>\n",
              "      <th>Volume</th>\n",
              "      <th>Adj Close</th>\n",
              "    </tr>\n",
              "    <tr>\n",
              "      <th>Date</th>\n",
              "      <th>minor</th>\n",
              "      <th></th>\n",
              "      <th></th>\n",
              "      <th></th>\n",
              "      <th></th>\n",
              "      <th></th>\n",
              "      <th></th>\n",
              "    </tr>\n",
              "  </thead>\n",
              "  <tbody>\n",
              "    <tr>\n",
              "      <th rowspan=\"4\" valign=\"top\">2012-05-30</th>\n",
              "      <th>AAPL</th>\n",
              "      <td>82.855713</td>\n",
              "      <td>80.937141</td>\n",
              "      <td>81.314285</td>\n",
              "      <td>82.738571</td>\n",
              "      <td>132357400.0</td>\n",
              "      <td>55.406948</td>\n",
              "    </tr>\n",
              "    <tr>\n",
              "      <th>GOOG</th>\n",
              "      <td>294.037567</td>\n",
              "      <td>289.879608</td>\n",
              "      <td>292.179657</td>\n",
              "      <td>292.214417</td>\n",
              "      <td>3838100.0</td>\n",
              "      <td>292.214417</td>\n",
              "    </tr>\n",
              "    <tr>\n",
              "      <th>IBM</th>\n",
              "      <td>195.470001</td>\n",
              "      <td>193.770004</td>\n",
              "      <td>194.800003</td>\n",
              "      <td>194.529999</td>\n",
              "      <td>3602500.0</td>\n",
              "      <td>155.976059</td>\n",
              "    </tr>\n",
              "    <tr>\n",
              "      <th>MSFT</th>\n",
              "      <td>29.480000</td>\n",
              "      <td>29.120001</td>\n",
              "      <td>29.350000</td>\n",
              "      <td>29.340000</td>\n",
              "      <td>41585500.0</td>\n",
              "      <td>24.882488</td>\n",
              "    </tr>\n",
              "    <tr>\n",
              "      <th rowspan=\"4\" valign=\"top\">2012-05-31</th>\n",
              "      <th>AAPL</th>\n",
              "      <td>83.071426</td>\n",
              "      <td>81.637146</td>\n",
              "      <td>82.962860</td>\n",
              "      <td>82.532860</td>\n",
              "      <td>122918600.0</td>\n",
              "      <td>55.269192</td>\n",
              "    </tr>\n",
              "    <tr>\n",
              "      <th>GOOG</th>\n",
              "      <td>293.093719</td>\n",
              "      <td>287.629242</td>\n",
              "      <td>292.457855</td>\n",
              "      <td>288.553253</td>\n",
              "      <td>5975200.0</td>\n",
              "      <td>288.553253</td>\n",
              "    </tr>\n",
              "    <tr>\n",
              "      <th>IBM</th>\n",
              "      <td>194.929993</td>\n",
              "      <td>192.000000</td>\n",
              "      <td>194.100006</td>\n",
              "      <td>192.899994</td>\n",
              "      <td>9287500.0</td>\n",
              "      <td>154.669022</td>\n",
              "    </tr>\n",
              "    <tr>\n",
              "      <th>MSFT</th>\n",
              "      <td>29.420000</td>\n",
              "      <td>28.940001</td>\n",
              "      <td>29.299999</td>\n",
              "      <td>29.190001</td>\n",
              "      <td>39134000.0</td>\n",
              "      <td>24.755281</td>\n",
              "    </tr>\n",
              "    <tr>\n",
              "      <th rowspan=\"4\" valign=\"top\">2012-06-01</th>\n",
              "      <th>AAPL</th>\n",
              "      <td>81.807144</td>\n",
              "      <td>80.074287</td>\n",
              "      <td>81.308571</td>\n",
              "      <td>80.141426</td>\n",
              "      <td>130246900.0</td>\n",
              "      <td>53.667721</td>\n",
              "    </tr>\n",
              "    <tr>\n",
              "      <th>GOOG</th>\n",
              "      <td>284.474762</td>\n",
              "      <td>282.338654</td>\n",
              "      <td>284.047546</td>\n",
              "      <td>283.645172</td>\n",
              "      <td>6155600.0</td>\n",
              "      <td>283.645172</td>\n",
              "    </tr>\n",
              "    <tr>\n",
              "      <th>IBM</th>\n",
              "      <td>191.720001</td>\n",
              "      <td>188.600006</td>\n",
              "      <td>190.119995</td>\n",
              "      <td>189.080002</td>\n",
              "      <td>5206400.0</td>\n",
              "      <td>151.606140</td>\n",
              "    </tr>\n",
              "    <tr>\n",
              "      <th>MSFT</th>\n",
              "      <td>28.959999</td>\n",
              "      <td>28.440001</td>\n",
              "      <td>28.760000</td>\n",
              "      <td>28.450001</td>\n",
              "      <td>56634300.0</td>\n",
              "      <td>24.127708</td>\n",
              "    </tr>\n",
              "    <tr>\n",
              "      <th rowspan=\"4\" valign=\"top\">2012-06-04</th>\n",
              "      <th>AAPL</th>\n",
              "      <td>81.071426</td>\n",
              "      <td>78.357140</td>\n",
              "      <td>80.214287</td>\n",
              "      <td>80.612854</td>\n",
              "      <td>139248900.0</td>\n",
              "      <td>53.983429</td>\n",
              "    </tr>\n",
              "    <tr>\n",
              "      <th>GOOG</th>\n",
              "      <td>288.369446</td>\n",
              "      <td>283.163300</td>\n",
              "      <td>283.267609</td>\n",
              "      <td>287.425568</td>\n",
              "      <td>4896900.0</td>\n",
              "      <td>287.425568</td>\n",
              "    </tr>\n",
              "    <tr>\n",
              "      <th>IBM</th>\n",
              "      <td>189.380005</td>\n",
              "      <td>187.000000</td>\n",
              "      <td>188.339996</td>\n",
              "      <td>188.539993</td>\n",
              "      <td>4624500.0</td>\n",
              "      <td>151.173157</td>\n",
              "    </tr>\n",
              "    <tr>\n",
              "      <th>MSFT</th>\n",
              "      <td>28.780001</td>\n",
              "      <td>28.320000</td>\n",
              "      <td>28.620001</td>\n",
              "      <td>28.549999</td>\n",
              "      <td>47926300.0</td>\n",
              "      <td>24.212513</td>\n",
              "    </tr>\n",
              "    <tr>\n",
              "      <th rowspan=\"4\" valign=\"top\">2012-06-05</th>\n",
              "      <th>AAPL</th>\n",
              "      <td>80.924286</td>\n",
              "      <td>79.761429</td>\n",
              "      <td>80.181427</td>\n",
              "      <td>80.404289</td>\n",
              "      <td>97053600.0</td>\n",
              "      <td>53.843765</td>\n",
              "    </tr>\n",
              "    <tr>\n",
              "      <th>GOOG</th>\n",
              "      <td>287.197052</td>\n",
              "      <td>281.404724</td>\n",
              "      <td>285.865723</td>\n",
              "      <td>283.362000</td>\n",
              "      <td>4710100.0</td>\n",
              "      <td>283.362000</td>\n",
              "    </tr>\n",
              "    <tr>\n",
              "      <th>IBM</th>\n",
              "      <td>189.850006</td>\n",
              "      <td>187.559998</td>\n",
              "      <td>187.919998</td>\n",
              "      <td>189.199997</td>\n",
              "      <td>3556500.0</td>\n",
              "      <td>151.702393</td>\n",
              "    </tr>\n",
              "    <tr>\n",
              "      <th>MSFT</th>\n",
              "      <td>28.750000</td>\n",
              "      <td>28.389999</td>\n",
              "      <td>28.510000</td>\n",
              "      <td>28.510000</td>\n",
              "      <td>45715400.0</td>\n",
              "      <td>24.178593</td>\n",
              "    </tr>\n",
              "    <tr>\n",
              "      <th rowspan=\"4\" valign=\"top\">2012-06-06</th>\n",
              "      <th>AAPL</th>\n",
              "      <td>81.978569</td>\n",
              "      <td>80.785713</td>\n",
              "      <td>81.110001</td>\n",
              "      <td>81.637146</td>\n",
              "      <td>100363900.0</td>\n",
              "      <td>54.669357</td>\n",
              "    </tr>\n",
              "    <tr>\n",
              "      <th>GOOG</th>\n",
              "      <td>289.104645</td>\n",
              "      <td>284.951660</td>\n",
              "      <td>286.377380</td>\n",
              "      <td>288.409180</td>\n",
              "      <td>4218800.0</td>\n",
              "      <td>288.409180</td>\n",
              "    </tr>\n",
              "    <tr>\n",
              "      <th>IBM</th>\n",
              "      <td>194.000000</td>\n",
              "      <td>190.020004</td>\n",
              "      <td>190.779999</td>\n",
              "      <td>193.990005</td>\n",
              "      <td>3641300.0</td>\n",
              "      <td>155.543076</td>\n",
              "    </tr>\n",
              "    <tr>\n",
              "      <th>MSFT</th>\n",
              "      <td>29.370001</td>\n",
              "      <td>28.809999</td>\n",
              "      <td>28.879999</td>\n",
              "      <td>29.350000</td>\n",
              "      <td>46860500.0</td>\n",
              "      <td>24.890968</td>\n",
              "    </tr>\n",
              "    <tr>\n",
              "      <th rowspan=\"4\" valign=\"top\">2012-06-07</th>\n",
              "      <th>AAPL</th>\n",
              "      <td>82.474289</td>\n",
              "      <td>81.500000</td>\n",
              "      <td>82.470001</td>\n",
              "      <td>81.674286</td>\n",
              "      <td>94941700.0</td>\n",
              "      <td>54.694237</td>\n",
              "    </tr>\n",
              "    <tr>\n",
              "      <th>GOOG</th>\n",
              "      <td>292.045532</td>\n",
              "      <td>286.759918</td>\n",
              "      <td>291.901459</td>\n",
              "      <td>287.246735</td>\n",
              "      <td>3539800.0</td>\n",
              "      <td>287.246735</td>\n",
              "    </tr>\n",
              "    <tr>\n",
              "      <th>IBM</th>\n",
              "      <td>195.830002</td>\n",
              "      <td>193.940002</td>\n",
              "      <td>195.279999</td>\n",
              "      <td>194.440002</td>\n",
              "      <td>3701100.0</td>\n",
              "      <td>155.903854</td>\n",
              "    </tr>\n",
              "    <tr>\n",
              "      <th>MSFT</th>\n",
              "      <td>29.700001</td>\n",
              "      <td>29.170000</td>\n",
              "      <td>29.639999</td>\n",
              "      <td>29.230000</td>\n",
              "      <td>37792800.0</td>\n",
              "      <td>24.789200</td>\n",
              "    </tr>\n",
              "    <tr>\n",
              "      <th rowspan=\"2\" valign=\"top\">2012-06-08</th>\n",
              "      <th>AAPL</th>\n",
              "      <td>82.940002</td>\n",
              "      <td>81.285713</td>\n",
              "      <td>81.657143</td>\n",
              "      <td>82.902855</td>\n",
              "      <td>86879100.0</td>\n",
              "      <td>55.516956</td>\n",
              "    </tr>\n",
              "    <tr>\n",
              "      <th>GOOG</th>\n",
              "      <td>288.622772</td>\n",
              "      <td>285.433533</td>\n",
              "      <td>286.064423</td>\n",
              "      <td>288.349579</td>\n",
              "      <td>2839100.0</td>\n",
              "      <td>288.349579</td>\n",
              "    </tr>\n",
              "    <tr>\n",
              "      <th>...</th>\n",
              "      <th>...</th>\n",
              "      <td>...</td>\n",
              "      <td>...</td>\n",
              "      <td>...</td>\n",
              "      <td>...</td>\n",
              "      <td>...</td>\n",
              "      <td>...</td>\n",
              "    </tr>\n",
              "    <tr>\n",
              "      <th rowspan=\"2\" valign=\"top\">2018-11-27</th>\n",
              "      <th>IBM</th>\n",
              "      <td>120.040001</td>\n",
              "      <td>118.370003</td>\n",
              "      <td>118.379997</td>\n",
              "      <td>120.029999</td>\n",
              "      <td>4903800.0</td>\n",
              "      <td>120.029999</td>\n",
              "    </tr>\n",
              "    <tr>\n",
              "      <th>MSFT</th>\n",
              "      <td>107.330002</td>\n",
              "      <td>105.360001</td>\n",
              "      <td>106.269997</td>\n",
              "      <td>107.139999</td>\n",
              "      <td>29124500.0</td>\n",
              "      <td>107.139999</td>\n",
              "    </tr>\n",
              "    <tr>\n",
              "      <th rowspan=\"4\" valign=\"top\">2018-11-28</th>\n",
              "      <th>AAPL</th>\n",
              "      <td>181.289993</td>\n",
              "      <td>174.929993</td>\n",
              "      <td>176.729996</td>\n",
              "      <td>180.940002</td>\n",
              "      <td>46062500.0</td>\n",
              "      <td>180.940002</td>\n",
              "    </tr>\n",
              "    <tr>\n",
              "      <th>GOOG</th>\n",
              "      <td>1086.839966</td>\n",
              "      <td>1035.760010</td>\n",
              "      <td>1048.760010</td>\n",
              "      <td>1086.229980</td>\n",
              "      <td>2475400.0</td>\n",
              "      <td>1086.229980</td>\n",
              "    </tr>\n",
              "    <tr>\n",
              "      <th>IBM</th>\n",
              "      <td>123.089996</td>\n",
              "      <td>120.220001</td>\n",
              "      <td>121.010002</td>\n",
              "      <td>123.000000</td>\n",
              "      <td>5104500.0</td>\n",
              "      <td>123.000000</td>\n",
              "    </tr>\n",
              "    <tr>\n",
              "      <th>MSFT</th>\n",
              "      <td>111.330002</td>\n",
              "      <td>107.860001</td>\n",
              "      <td>107.889999</td>\n",
              "      <td>111.120003</td>\n",
              "      <td>46788500.0</td>\n",
              "      <td>111.120003</td>\n",
              "    </tr>\n",
              "    <tr>\n",
              "      <th rowspan=\"4\" valign=\"top\">2018-11-29</th>\n",
              "      <th>AAPL</th>\n",
              "      <td>182.800003</td>\n",
              "      <td>177.699997</td>\n",
              "      <td>182.660004</td>\n",
              "      <td>179.550003</td>\n",
              "      <td>41770000.0</td>\n",
              "      <td>179.550003</td>\n",
              "    </tr>\n",
              "    <tr>\n",
              "      <th>GOOG</th>\n",
              "      <td>1094.244995</td>\n",
              "      <td>1076.000000</td>\n",
              "      <td>1076.079956</td>\n",
              "      <td>1088.300049</td>\n",
              "      <td>1468900.0</td>\n",
              "      <td>1088.300049</td>\n",
              "    </tr>\n",
              "    <tr>\n",
              "      <th>IBM</th>\n",
              "      <td>123.120003</td>\n",
              "      <td>121.400002</td>\n",
              "      <td>122.440002</td>\n",
              "      <td>121.480003</td>\n",
              "      <td>5200100.0</td>\n",
              "      <td>121.480003</td>\n",
              "    </tr>\n",
              "    <tr>\n",
              "      <th>MSFT</th>\n",
              "      <td>111.120003</td>\n",
              "      <td>109.029999</td>\n",
              "      <td>110.330002</td>\n",
              "      <td>110.190002</td>\n",
              "      <td>28123200.0</td>\n",
              "      <td>110.190002</td>\n",
              "    </tr>\n",
              "    <tr>\n",
              "      <th rowspan=\"4\" valign=\"top\">2018-11-30</th>\n",
              "      <th>AAPL</th>\n",
              "      <td>180.330002</td>\n",
              "      <td>177.029999</td>\n",
              "      <td>180.289993</td>\n",
              "      <td>178.580002</td>\n",
              "      <td>39531500.0</td>\n",
              "      <td>178.580002</td>\n",
              "    </tr>\n",
              "    <tr>\n",
              "      <th>GOOG</th>\n",
              "      <td>1095.569946</td>\n",
              "      <td>1077.880005</td>\n",
              "      <td>1089.069946</td>\n",
              "      <td>1094.430054</td>\n",
              "      <td>2580200.0</td>\n",
              "      <td>1094.430054</td>\n",
              "    </tr>\n",
              "    <tr>\n",
              "      <th>IBM</th>\n",
              "      <td>124.690002</td>\n",
              "      <td>121.480003</td>\n",
              "      <td>121.660004</td>\n",
              "      <td>124.269997</td>\n",
              "      <td>7251600.0</td>\n",
              "      <td>124.269997</td>\n",
              "    </tr>\n",
              "    <tr>\n",
              "      <th>MSFT</th>\n",
              "      <td>110.970001</td>\n",
              "      <td>109.360001</td>\n",
              "      <td>110.699997</td>\n",
              "      <td>110.889999</td>\n",
              "      <td>33665600.0</td>\n",
              "      <td>110.889999</td>\n",
              "    </tr>\n",
              "    <tr>\n",
              "      <th rowspan=\"4\" valign=\"top\">2018-12-03</th>\n",
              "      <th>AAPL</th>\n",
              "      <td>184.940002</td>\n",
              "      <td>181.210007</td>\n",
              "      <td>184.460007</td>\n",
              "      <td>184.820007</td>\n",
              "      <td>40802500.0</td>\n",
              "      <td>184.820007</td>\n",
              "    </tr>\n",
              "    <tr>\n",
              "      <th>GOOG</th>\n",
              "      <td>1124.650024</td>\n",
              "      <td>1103.665039</td>\n",
              "      <td>1123.140015</td>\n",
              "      <td>1106.430054</td>\n",
              "      <td>1991200.0</td>\n",
              "      <td>1106.430054</td>\n",
              "    </tr>\n",
              "    <tr>\n",
              "      <th>IBM</th>\n",
              "      <td>126.589996</td>\n",
              "      <td>124.360001</td>\n",
              "      <td>125.669998</td>\n",
              "      <td>125.309998</td>\n",
              "      <td>5846400.0</td>\n",
              "      <td>125.309998</td>\n",
              "    </tr>\n",
              "    <tr>\n",
              "      <th>MSFT</th>\n",
              "      <td>113.419998</td>\n",
              "      <td>110.730003</td>\n",
              "      <td>113.000000</td>\n",
              "      <td>112.089996</td>\n",
              "      <td>34732800.0</td>\n",
              "      <td>112.089996</td>\n",
              "    </tr>\n",
              "    <tr>\n",
              "      <th rowspan=\"4\" valign=\"top\">2018-12-04</th>\n",
              "      <th>AAPL</th>\n",
              "      <td>182.389999</td>\n",
              "      <td>176.270004</td>\n",
              "      <td>180.949997</td>\n",
              "      <td>176.690002</td>\n",
              "      <td>41344300.0</td>\n",
              "      <td>176.690002</td>\n",
              "    </tr>\n",
              "    <tr>\n",
              "      <th>GOOG</th>\n",
              "      <td>1104.420044</td>\n",
              "      <td>1049.979980</td>\n",
              "      <td>1103.119995</td>\n",
              "      <td>1050.819946</td>\n",
              "      <td>2345200.0</td>\n",
              "      <td>1050.819946</td>\n",
              "    </tr>\n",
              "    <tr>\n",
              "      <th>IBM</th>\n",
              "      <td>124.919998</td>\n",
              "      <td>121.330002</td>\n",
              "      <td>124.489998</td>\n",
              "      <td>121.599998</td>\n",
              "      <td>6000700.0</td>\n",
              "      <td>121.599998</td>\n",
              "    </tr>\n",
              "    <tr>\n",
              "      <th>MSFT</th>\n",
              "      <td>112.639999</td>\n",
              "      <td>108.209999</td>\n",
              "      <td>111.940002</td>\n",
              "      <td>108.519997</td>\n",
              "      <td>45197000.0</td>\n",
              "      <td>108.519997</td>\n",
              "    </tr>\n",
              "    <tr>\n",
              "      <th rowspan=\"4\" valign=\"top\">2018-12-06</th>\n",
              "      <th>AAPL</th>\n",
              "      <td>174.779999</td>\n",
              "      <td>170.419998</td>\n",
              "      <td>171.759995</td>\n",
              "      <td>174.720001</td>\n",
              "      <td>43098400.0</td>\n",
              "      <td>174.720001</td>\n",
              "    </tr>\n",
              "    <tr>\n",
              "      <th>GOOG</th>\n",
              "      <td>1071.199951</td>\n",
              "      <td>1030.770020</td>\n",
              "      <td>1034.260010</td>\n",
              "      <td>1068.729980</td>\n",
              "      <td>2769200.0</td>\n",
              "      <td>1068.729980</td>\n",
              "    </tr>\n",
              "    <tr>\n",
              "      <th>IBM</th>\n",
              "      <td>123.910004</td>\n",
              "      <td>119.300003</td>\n",
              "      <td>119.720001</td>\n",
              "      <td>123.910004</td>\n",
              "      <td>6938000.0</td>\n",
              "      <td>123.910004</td>\n",
              "    </tr>\n",
              "    <tr>\n",
              "      <th>MSFT</th>\n",
              "      <td>109.239998</td>\n",
              "      <td>105.000000</td>\n",
              "      <td>105.820000</td>\n",
              "      <td>109.190002</td>\n",
              "      <td>49107400.0</td>\n",
              "      <td>109.190002</td>\n",
              "    </tr>\n",
              "    <tr>\n",
              "      <th rowspan=\"4\" valign=\"top\">2018-12-07</th>\n",
              "      <th>AAPL</th>\n",
              "      <td>174.490005</td>\n",
              "      <td>168.300003</td>\n",
              "      <td>173.490005</td>\n",
              "      <td>168.490005</td>\n",
              "      <td>41695700.0</td>\n",
              "      <td>168.490005</td>\n",
              "    </tr>\n",
              "    <tr>\n",
              "      <th>GOOG</th>\n",
              "      <td>1075.260010</td>\n",
              "      <td>1028.500000</td>\n",
              "      <td>1060.010010</td>\n",
              "      <td>1036.579956</td>\n",
              "      <td>2100500.0</td>\n",
              "      <td>1036.579956</td>\n",
              "    </tr>\n",
              "    <tr>\n",
              "      <th>IBM</th>\n",
              "      <td>124.050003</td>\n",
              "      <td>118.870003</td>\n",
              "      <td>123.900002</td>\n",
              "      <td>119.339996</td>\n",
              "      <td>6947400.0</td>\n",
              "      <td>119.339996</td>\n",
              "    </tr>\n",
              "    <tr>\n",
              "      <th>MSFT</th>\n",
              "      <td>109.449997</td>\n",
              "      <td>104.300003</td>\n",
              "      <td>108.379997</td>\n",
              "      <td>104.820000</td>\n",
              "      <td>44393400.0</td>\n",
              "      <td>104.820000</td>\n",
              "    </tr>\n",
              "  </tbody>\n",
              "</table>\n",
              "<p>6572 rows × 6 columns</p>\n",
              "</div>"
            ],
            "text/plain": [
              "                         High          Low         Open        Close  \\\n",
              "Date       minor                                                       \n",
              "2012-05-30 AAPL     82.855713    80.937141    81.314285    82.738571   \n",
              "           GOOG    294.037567   289.879608   292.179657   292.214417   \n",
              "           IBM     195.470001   193.770004   194.800003   194.529999   \n",
              "           MSFT     29.480000    29.120001    29.350000    29.340000   \n",
              "2012-05-31 AAPL     83.071426    81.637146    82.962860    82.532860   \n",
              "           GOOG    293.093719   287.629242   292.457855   288.553253   \n",
              "           IBM     194.929993   192.000000   194.100006   192.899994   \n",
              "           MSFT     29.420000    28.940001    29.299999    29.190001   \n",
              "2012-06-01 AAPL     81.807144    80.074287    81.308571    80.141426   \n",
              "           GOOG    284.474762   282.338654   284.047546   283.645172   \n",
              "           IBM     191.720001   188.600006   190.119995   189.080002   \n",
              "           MSFT     28.959999    28.440001    28.760000    28.450001   \n",
              "2012-06-04 AAPL     81.071426    78.357140    80.214287    80.612854   \n",
              "           GOOG    288.369446   283.163300   283.267609   287.425568   \n",
              "           IBM     189.380005   187.000000   188.339996   188.539993   \n",
              "           MSFT     28.780001    28.320000    28.620001    28.549999   \n",
              "2012-06-05 AAPL     80.924286    79.761429    80.181427    80.404289   \n",
              "           GOOG    287.197052   281.404724   285.865723   283.362000   \n",
              "           IBM     189.850006   187.559998   187.919998   189.199997   \n",
              "           MSFT     28.750000    28.389999    28.510000    28.510000   \n",
              "2012-06-06 AAPL     81.978569    80.785713    81.110001    81.637146   \n",
              "           GOOG    289.104645   284.951660   286.377380   288.409180   \n",
              "           IBM     194.000000   190.020004   190.779999   193.990005   \n",
              "           MSFT     29.370001    28.809999    28.879999    29.350000   \n",
              "2012-06-07 AAPL     82.474289    81.500000    82.470001    81.674286   \n",
              "           GOOG    292.045532   286.759918   291.901459   287.246735   \n",
              "           IBM     195.830002   193.940002   195.279999   194.440002   \n",
              "           MSFT     29.700001    29.170000    29.639999    29.230000   \n",
              "2012-06-08 AAPL     82.940002    81.285713    81.657143    82.902855   \n",
              "           GOOG    288.622772   285.433533   286.064423   288.349579   \n",
              "...                       ...          ...          ...          ...   \n",
              "2018-11-27 IBM     120.040001   118.370003   118.379997   120.029999   \n",
              "           MSFT    107.330002   105.360001   106.269997   107.139999   \n",
              "2018-11-28 AAPL    181.289993   174.929993   176.729996   180.940002   \n",
              "           GOOG   1086.839966  1035.760010  1048.760010  1086.229980   \n",
              "           IBM     123.089996   120.220001   121.010002   123.000000   \n",
              "           MSFT    111.330002   107.860001   107.889999   111.120003   \n",
              "2018-11-29 AAPL    182.800003   177.699997   182.660004   179.550003   \n",
              "           GOOG   1094.244995  1076.000000  1076.079956  1088.300049   \n",
              "           IBM     123.120003   121.400002   122.440002   121.480003   \n",
              "           MSFT    111.120003   109.029999   110.330002   110.190002   \n",
              "2018-11-30 AAPL    180.330002   177.029999   180.289993   178.580002   \n",
              "           GOOG   1095.569946  1077.880005  1089.069946  1094.430054   \n",
              "           IBM     124.690002   121.480003   121.660004   124.269997   \n",
              "           MSFT    110.970001   109.360001   110.699997   110.889999   \n",
              "2018-12-03 AAPL    184.940002   181.210007   184.460007   184.820007   \n",
              "           GOOG   1124.650024  1103.665039  1123.140015  1106.430054   \n",
              "           IBM     126.589996   124.360001   125.669998   125.309998   \n",
              "           MSFT    113.419998   110.730003   113.000000   112.089996   \n",
              "2018-12-04 AAPL    182.389999   176.270004   180.949997   176.690002   \n",
              "           GOOG   1104.420044  1049.979980  1103.119995  1050.819946   \n",
              "           IBM     124.919998   121.330002   124.489998   121.599998   \n",
              "           MSFT    112.639999   108.209999   111.940002   108.519997   \n",
              "2018-12-06 AAPL    174.779999   170.419998   171.759995   174.720001   \n",
              "           GOOG   1071.199951  1030.770020  1034.260010  1068.729980   \n",
              "           IBM     123.910004   119.300003   119.720001   123.910004   \n",
              "           MSFT    109.239998   105.000000   105.820000   109.190002   \n",
              "2018-12-07 AAPL    174.490005   168.300003   173.490005   168.490005   \n",
              "           GOOG   1075.260010  1028.500000  1060.010010  1036.579956   \n",
              "           IBM     124.050003   118.870003   123.900002   119.339996   \n",
              "           MSFT    109.449997   104.300003   108.379997   104.820000   \n",
              "\n",
              "                       Volume    Adj Close  \n",
              "Date       minor                            \n",
              "2012-05-30 AAPL   132357400.0    55.406948  \n",
              "           GOOG     3838100.0   292.214417  \n",
              "           IBM      3602500.0   155.976059  \n",
              "           MSFT    41585500.0    24.882488  \n",
              "2012-05-31 AAPL   122918600.0    55.269192  \n",
              "           GOOG     5975200.0   288.553253  \n",
              "           IBM      9287500.0   154.669022  \n",
              "           MSFT    39134000.0    24.755281  \n",
              "2012-06-01 AAPL   130246900.0    53.667721  \n",
              "           GOOG     6155600.0   283.645172  \n",
              "           IBM      5206400.0   151.606140  \n",
              "           MSFT    56634300.0    24.127708  \n",
              "2012-06-04 AAPL   139248900.0    53.983429  \n",
              "           GOOG     4896900.0   287.425568  \n",
              "           IBM      4624500.0   151.173157  \n",
              "           MSFT    47926300.0    24.212513  \n",
              "2012-06-05 AAPL    97053600.0    53.843765  \n",
              "           GOOG     4710100.0   283.362000  \n",
              "           IBM      3556500.0   151.702393  \n",
              "           MSFT    45715400.0    24.178593  \n",
              "2012-06-06 AAPL   100363900.0    54.669357  \n",
              "           GOOG     4218800.0   288.409180  \n",
              "           IBM      3641300.0   155.543076  \n",
              "           MSFT    46860500.0    24.890968  \n",
              "2012-06-07 AAPL    94941700.0    54.694237  \n",
              "           GOOG     3539800.0   287.246735  \n",
              "           IBM      3701100.0   155.903854  \n",
              "           MSFT    37792800.0    24.789200  \n",
              "2012-06-08 AAPL    86879100.0    55.516956  \n",
              "           GOOG     2839100.0   288.349579  \n",
              "...                       ...          ...  \n",
              "2018-11-27 IBM      4903800.0   120.029999  \n",
              "           MSFT    29124500.0   107.139999  \n",
              "2018-11-28 AAPL    46062500.0   180.940002  \n",
              "           GOOG     2475400.0  1086.229980  \n",
              "           IBM      5104500.0   123.000000  \n",
              "           MSFT    46788500.0   111.120003  \n",
              "2018-11-29 AAPL    41770000.0   179.550003  \n",
              "           GOOG     1468900.0  1088.300049  \n",
              "           IBM      5200100.0   121.480003  \n",
              "           MSFT    28123200.0   110.190002  \n",
              "2018-11-30 AAPL    39531500.0   178.580002  \n",
              "           GOOG     2580200.0  1094.430054  \n",
              "           IBM      7251600.0   124.269997  \n",
              "           MSFT    33665600.0   110.889999  \n",
              "2018-12-03 AAPL    40802500.0   184.820007  \n",
              "           GOOG     1991200.0  1106.430054  \n",
              "           IBM      5846400.0   125.309998  \n",
              "           MSFT    34732800.0   112.089996  \n",
              "2018-12-04 AAPL    41344300.0   176.690002  \n",
              "           GOOG     2345200.0  1050.819946  \n",
              "           IBM      6000700.0   121.599998  \n",
              "           MSFT    45197000.0   108.519997  \n",
              "2018-12-06 AAPL    43098400.0   174.720001  \n",
              "           GOOG     2769200.0  1068.729980  \n",
              "           IBM      6938000.0   123.910004  \n",
              "           MSFT    49107400.0   109.190002  \n",
              "2018-12-07 AAPL    41695700.0   168.490005  \n",
              "           GOOG     2100500.0  1036.579956  \n",
              "           IBM      6947400.0   119.339996  \n",
              "           MSFT    44393400.0   104.820000  \n",
              "\n",
              "[6572 rows x 6 columns]"
            ]
          },
          "metadata": {
            "tags": []
          },
          "execution_count": 62
        }
      ]
    },
    {
      "metadata": {
        "id": "5fo2HrWyPOIQ",
        "colab_type": "text"
      },
      "cell_type": "markdown",
      "source": [
        "익숙한 frame이네~"
      ]
    },
    {
      "metadata": {
        "id": "Zqt4tNXrNnm2",
        "colab_type": "code",
        "colab": {
          "base_uri": "https://localhost:8080/",
          "height": 233
        },
        "outputId": "7b6c6e20-a0fe-402f-85e6-75595fe6f6dc"
      },
      "cell_type": "code",
      "source": [
        "stacked.to_panel()"
      ],
      "execution_count": 63,
      "outputs": [
        {
          "output_type": "stream",
          "text": [
            "/usr/local/lib/python3.6/dist-packages/ipykernel_launcher.py:1: DeprecationWarning: \n",
            "Panel is deprecated and will be removed in a future version.\n",
            "The recommended way to represent these types of 3-dimensional data are with a MultiIndex on a DataFrame, via the Panel.to_frame() method\n",
            "Alternatively, you can use the xarray package http://xarray.pydata.org/en/stable/.\n",
            "Pandas provides a `.to_xarray()` method to help automate this conversion.\n",
            "\n",
            "  \"\"\"Entry point for launching an IPython kernel.\n"
          ],
          "name": "stderr"
        },
        {
          "output_type": "execute_result",
          "data": {
            "text/plain": [
              "<class 'pandas.core.panel.Panel'>\n",
              "Dimensions: 6 (items) x 1643 (major_axis) x 4 (minor_axis)\n",
              "Items axis: High to Adj Close\n",
              "Major_axis axis: 2012-05-30 00:00:00 to 2018-12-07 00:00:00\n",
              "Minor_axis axis: AAPL to MSFT"
            ]
          },
          "metadata": {
            "tags": []
          },
          "execution_count": 63
        }
      ]
    },
    {
      "metadata": {
        "id": "tZjcjLEjPmH5",
        "colab_type": "text"
      },
      "cell_type": "markdown",
      "source": [
        "이렇게 해서 pandas의 기본 사용법은 한번 살펴보기는 끝~"
      ]
    }
  ]
}