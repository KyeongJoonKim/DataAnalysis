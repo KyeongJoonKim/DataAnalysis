{
  "nbformat": 4,
  "nbformat_minor": 0,
  "metadata": {
    "colab": {
      "name": "ch06-데이터 로딩, 저장, 파일 형식_Part3.ipynb",
      "version": "0.3.2",
      "provenance": [],
      "collapsed_sections": [],
      "include_colab_link": true
    },
    "kernelspec": {
      "name": "python3",
      "display_name": "Python 3"
    }
  },
  "cells": [
    {
      "cell_type": "markdown",
      "metadata": {
        "id": "view-in-github",
        "colab_type": "text"
      },
      "source": [
        "<a href=\"https://colab.research.google.com/github/xuhu357/DataAnalysis/blob/master/ch06_%EB%8D%B0%EC%9D%B4%ED%84%B0_%EB%A1%9C%EB%94%A9%2C_%EC%A0%80%EC%9E%A5%2C_%ED%8C%8C%EC%9D%BC_%ED%98%95%EC%8B%9D_Part3.ipynb\" target=\"_parent\"><img src=\"https://colab.research.google.com/assets/colab-badge.svg\" alt=\"Open In Colab\"/></a>"
      ]
    },
    {
      "metadata": {
        "id": "23m9CBczgVDl",
        "colab_type": "text"
      },
      "cell_type": "markdown",
      "source": [
        "## 데이터베이스 와 함께 사용하기\n",
        "\n",
        "대부분 application은 파일에서 데이터를 읽어오지 않는다. (대용량의 데이터에 대해서 비효율적이기 때문에)\n",
        "\n",
        "SQL에서 데이터를 읽어와서 DataFrame에 저장하는 방법은 꽤 직관적이며, pandas에서는 이 과정을 간결하게 해주는 함수가 몇가지 있다. \n"
      ]
    },
    {
      "metadata": {
        "id": "KGtEiZrIgOj9",
        "colab_type": "code",
        "colab": {}
      },
      "cell_type": "code",
      "source": [
        "import sqlite3\n",
        "\n",
        "query = \"\"\"\n",
        "CREATE TABLE test\n",
        "(\n",
        "a VARCHAR(20), b VARCHAR(20),\n",
        "c REAL, d INTEGER\n",
        ");\n",
        "\"\"\"\n",
        "\n",
        "con = sqlite3.connect(':memory:')"
      ],
      "execution_count": 0,
      "outputs": []
    },
    {
      "metadata": {
        "id": "W7TPgpZAhWOR",
        "colab_type": "code",
        "colab": {}
      },
      "cell_type": "code",
      "source": [
        "con.execute(query)\n",
        "con.commit()"
      ],
      "execution_count": 0,
      "outputs": []
    },
    {
      "metadata": {
        "id": "GYZ2Y79Whd67",
        "colab_type": "text"
      },
      "cell_type": "markdown",
      "source": [
        "데이터를 조금 입력해보자"
      ]
    },
    {
      "metadata": {
        "id": "cEwlOaqThcOk",
        "colab_type": "code",
        "colab": {}
      },
      "cell_type": "code",
      "source": [
        "data = [\n",
        "    ('Atlanta', 'Georgia', 1.25, 6), \n",
        "    ('Tallahassee', 'Florida', 2.6, 3), \n",
        "    ('Sacramento', 'California', 1.7, 5)\n",
        "]\n",
        "\n",
        "stmt = 'INSERT INTO test VALUES(?, ?, ?, ?)'\n",
        "\n",
        "con.executemany(stmt, data)\n",
        "con.commit()"
      ],
      "execution_count": 0,
      "outputs": []
    },
    {
      "metadata": {
        "id": "kZLlkmExiuJL",
        "colab_type": "text"
      },
      "cell_type": "markdown",
      "source": [
        "대부분의 파이썬 SQL 드라이버는 테이블에 대해 select 쿼리를 수행하면 tuple list를 반환한다."
      ]
    },
    {
      "metadata": {
        "id": "lOAWAGc3iBnO",
        "colab_type": "code",
        "colab": {}
      },
      "cell_type": "code",
      "source": [
        "cursor = con.execute('select * from test')"
      ],
      "execution_count": 0,
      "outputs": []
    },
    {
      "metadata": {
        "id": "-c2uVz6Gi7Me",
        "colab_type": "code",
        "colab": {
          "base_uri": "https://localhost:8080/",
          "height": 71
        },
        "outputId": "9d5cd02f-1c6b-4296-fcdc-96e410e7258b"
      },
      "cell_type": "code",
      "source": [
        "rows = cursor.fetchall()\n",
        "rows"
      ],
      "execution_count": 6,
      "outputs": [
        {
          "output_type": "execute_result",
          "data": {
            "text/plain": [
              "[('Atlanta', 'Georgia', 1.25, 6),\n",
              " ('Tallahassee', 'Florida', 2.6, 3),\n",
              " ('Sacramento', 'California', 1.7, 5)]"
            ]
          },
          "metadata": {
            "tags": []
          },
          "execution_count": 6
        }
      ]
    },
    {
      "metadata": {
        "id": "8yOw7WHOjCp3",
        "colab_type": "text"
      },
      "cell_type": "markdown",
      "source": [
        "반환된 tuple list를 직접 pd의 생성자에 전달해도 되지만, \n",
        "\n",
        "칼럼 이름을 지정해주면 더 편하다. \n"
      ]
    },
    {
      "metadata": {
        "id": "sJMgjdiVi-_O",
        "colab_type": "code",
        "colab": {
          "base_uri": "https://localhost:8080/",
          "height": 89
        },
        "outputId": "f214cf4d-e64e-4e09-8f43-f73d02a46037"
      },
      "cell_type": "code",
      "source": [
        "cursor.description"
      ],
      "execution_count": 7,
      "outputs": [
        {
          "output_type": "execute_result",
          "data": {
            "text/plain": [
              "(('a', None, None, None, None, None, None),\n",
              " ('b', None, None, None, None, None, None),\n",
              " ('c', None, None, None, None, None, None),\n",
              " ('d', None, None, None, None, None, None))"
            ]
          },
          "metadata": {
            "tags": []
          },
          "execution_count": 7
        }
      ]
    },
    {
      "metadata": {
        "id": "EAhxbF4YjMEX",
        "colab_type": "code",
        "colab": {}
      },
      "cell_type": "code",
      "source": [
        "import pandas as pd\n"
      ],
      "execution_count": 0,
      "outputs": []
    },
    {
      "metadata": {
        "id": "QD0Pqa8vjQ79",
        "colab_type": "code",
        "colab": {
          "base_uri": "https://localhost:8080/",
          "height": 142
        },
        "outputId": "496c24b1-b315-443b-c3bb-eb9531cd35c0"
      },
      "cell_type": "code",
      "source": [
        "pd.DataFrame(rows, columns=list(zip(*cursor.description))[0])"
      ],
      "execution_count": 9,
      "outputs": [
        {
          "output_type": "execute_result",
          "data": {
            "text/html": [
              "<div>\n",
              "<style scoped>\n",
              "    .dataframe tbody tr th:only-of-type {\n",
              "        vertical-align: middle;\n",
              "    }\n",
              "\n",
              "    .dataframe tbody tr th {\n",
              "        vertical-align: top;\n",
              "    }\n",
              "\n",
              "    .dataframe thead th {\n",
              "        text-align: right;\n",
              "    }\n",
              "</style>\n",
              "<table border=\"1\" class=\"dataframe\">\n",
              "  <thead>\n",
              "    <tr style=\"text-align: right;\">\n",
              "      <th></th>\n",
              "      <th>a</th>\n",
              "      <th>b</th>\n",
              "      <th>c</th>\n",
              "      <th>d</th>\n",
              "    </tr>\n",
              "  </thead>\n",
              "  <tbody>\n",
              "    <tr>\n",
              "      <th>0</th>\n",
              "      <td>Atlanta</td>\n",
              "      <td>Georgia</td>\n",
              "      <td>1.25</td>\n",
              "      <td>6</td>\n",
              "    </tr>\n",
              "    <tr>\n",
              "      <th>1</th>\n",
              "      <td>Tallahassee</td>\n",
              "      <td>Florida</td>\n",
              "      <td>2.60</td>\n",
              "      <td>3</td>\n",
              "    </tr>\n",
              "    <tr>\n",
              "      <th>2</th>\n",
              "      <td>Sacramento</td>\n",
              "      <td>California</td>\n",
              "      <td>1.70</td>\n",
              "      <td>5</td>\n",
              "    </tr>\n",
              "  </tbody>\n",
              "</table>\n",
              "</div>"
            ],
            "text/plain": [
              "             a           b     c  d\n",
              "0      Atlanta     Georgia  1.25  6\n",
              "1  Tallahassee     Florida  2.60  3\n",
              "2   Sacramento  California  1.70  5"
            ]
          },
          "metadata": {
            "tags": []
          },
          "execution_count": 9
        }
      ]
    },
    {
      "metadata": {
        "id": "d-4SQa-CjieD",
        "colab_type": "text"
      },
      "cell_type": "markdown",
      "source": [
        "데이터베이스에 쿼리를 보내고 매번 이렇게 하는건 좀 귀찮은 일이다. \n",
        "\n",
        "그래서 좀 더 쉽게 접근하는 방법을 소개.\n",
        "\n",
        "그냥 select 문과 con 객체만 넘기면 됨. "
      ]
    },
    {
      "metadata": {
        "id": "N52BMS6hjebA",
        "colab_type": "code",
        "colab": {}
      },
      "cell_type": "code",
      "source": [
        "import pandas.io.sql as sql"
      ],
      "execution_count": 0,
      "outputs": []
    },
    {
      "metadata": {
        "id": "lyIJsBHDjzFg",
        "colab_type": "code",
        "colab": {
          "base_uri": "https://localhost:8080/",
          "height": 142
        },
        "outputId": "4c34ff15-83c8-4d0b-a472-5a19c2248b5c"
      },
      "cell_type": "code",
      "source": [
        "pd.read_sql('select * from test', con)"
      ],
      "execution_count": 11,
      "outputs": [
        {
          "output_type": "execute_result",
          "data": {
            "text/html": [
              "<div>\n",
              "<style scoped>\n",
              "    .dataframe tbody tr th:only-of-type {\n",
              "        vertical-align: middle;\n",
              "    }\n",
              "\n",
              "    .dataframe tbody tr th {\n",
              "        vertical-align: top;\n",
              "    }\n",
              "\n",
              "    .dataframe thead th {\n",
              "        text-align: right;\n",
              "    }\n",
              "</style>\n",
              "<table border=\"1\" class=\"dataframe\">\n",
              "  <thead>\n",
              "    <tr style=\"text-align: right;\">\n",
              "      <th></th>\n",
              "      <th>a</th>\n",
              "      <th>b</th>\n",
              "      <th>c</th>\n",
              "      <th>d</th>\n",
              "    </tr>\n",
              "  </thead>\n",
              "  <tbody>\n",
              "    <tr>\n",
              "      <th>0</th>\n",
              "      <td>Atlanta</td>\n",
              "      <td>Georgia</td>\n",
              "      <td>1.25</td>\n",
              "      <td>6</td>\n",
              "    </tr>\n",
              "    <tr>\n",
              "      <th>1</th>\n",
              "      <td>Tallahassee</td>\n",
              "      <td>Florida</td>\n",
              "      <td>2.60</td>\n",
              "      <td>3</td>\n",
              "    </tr>\n",
              "    <tr>\n",
              "      <th>2</th>\n",
              "      <td>Sacramento</td>\n",
              "      <td>California</td>\n",
              "      <td>1.70</td>\n",
              "      <td>5</td>\n",
              "    </tr>\n",
              "  </tbody>\n",
              "</table>\n",
              "</div>"
            ],
            "text/plain": [
              "             a           b     c  d\n",
              "0      Atlanta     Georgia  1.25  6\n",
              "1  Tallahassee     Florida  2.60  3\n",
              "2   Sacramento  California  1.70  5"
            ]
          },
          "metadata": {
            "tags": []
          },
          "execution_count": 11
        }
      ]
    },
    {
      "metadata": {
        "id": "WcEc8LaHkKow",
        "colab_type": "text"
      },
      "cell_type": "markdown",
      "source": [
        "NoSQL DB인 몽고디비에 데이터를 저장하고 불러오는 것은 각자 알아서 하는걸로.\n",
        "\n",
        "코드는 아래와 같다. "
      ]
    },
    {
      "metadata": {
        "id": "uKx2o9-DkkP4",
        "colab_type": "code",
        "colab": {}
      },
      "cell_type": "code",
      "source": [
        "import pymongo\n",
        "import pandas as pd\n",
        "from pymongo import MongoClient"
      ],
      "execution_count": 0,
      "outputs": []
    },
    {
      "metadata": {
        "id": "e02ulzftlXng",
        "colab_type": "code",
        "colab": {}
      },
      "cell_type": "code",
      "source": [
        "#point the client at mongo URI\n",
        "client = MongoClient('localhost', port=27017)\n",
        "\n",
        "#select database\n",
        "db = client['database_name']\n",
        "\n",
        "#select the collection within the database\n",
        "test = db.test\n",
        "\n",
        "#convert entire collection to Pandas dataframe\n",
        "test = pd.DataFrame(list(test.find()))"
      ],
      "execution_count": 0,
      "outputs": []
    },
    {
      "metadata": {
        "id": "wO26iEXtmNk-",
        "colab_type": "code",
        "colab": {}
      },
      "cell_type": "code",
      "source": [
        ""
      ],
      "execution_count": 0,
      "outputs": []
    }
  ]
}