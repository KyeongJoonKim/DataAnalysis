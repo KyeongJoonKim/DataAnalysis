{
  "nbformat": 4,
  "nbformat_minor": 0,
  "metadata": {
    "colab": {
      "name": "ch01_데이터분석 시작하기 앞서.ipynb",
      "version": "0.3.2",
      "provenance": [],
      "collapsed_sections": [],
      "include_colab_link": true
    },
    "kernelspec": {
      "name": "python3",
      "display_name": "Python 3"
    }
  },
  "cells": [
    {
      "cell_type": "markdown",
      "metadata": {
        "id": "view-in-github",
        "colab_type": "text"
      },
      "source": [
        "<a href=\"https://colab.research.google.com/github/xuhu357/DataAnalysis/blob/master/ch01_%EB%8D%B0%EC%9D%B4%ED%84%B0%EB%B6%84%EC%84%9D_%EC%8B%9C%EC%9E%91%ED%95%98%EA%B8%B0_%EC%95%9E%EC%84%9C.ipynb\" target=\"_parent\"><img src=\"https://colab.research.google.com/assets/colab-badge.svg\" alt=\"Open In Colab\"/></a>"
      ]
    },
    {
      "metadata": {
        "id": "SPuUdSBgIUWS",
        "colab_type": "text"
      },
      "cell_type": "markdown",
      "source": [
        "### 이 책에서 다루는 내용들: \n",
        "1.   파이썬으로 데이터를 다루는 다양하고 기본적이 방법\n",
        "2.   데이터 분석문제를 효율적으로 해결하는데 도움이 되는 library\n",
        "\n",
        "그럼 데이터란 정확히 뭘 말하는걸까? \n",
        "\"구조화 된 데이터\"\n",
        "\n",
        "그럼, 구조화 데이터는 또 뭘까?\n",
        "\n",
        "\n",
        "1.   다차원 배열(matrix)\n",
        "2.   각 열의 형식이 다른 표, 스프레드시트, \n",
        "3.   Relational Database\n",
        "4.   탭이나 쉼표로 구분되는 텍스트 파일\n",
        "5.   SQL에서 primary key나 foreign key 같은 키 열에 의해 서로 연관되는 여러 표\n",
        "6.   일정하거나 일정하지 않은 간격의 시간 계열\n",
        "7.   그 외 기타"
      ]
    },
    {
      "metadata": {
        "id": "_K8c0rEMLMhf",
        "colab_type": "text"
      },
      "cell_type": "markdown",
      "source": [
        "### 왜 데이터 분석을 위한 파이썬인가?\n",
        "\n",
        "\n",
        "1.   루비, 장고, 플라스크 같은 웹 프레임워크 등장하면서 파이썬 인기 상승\n",
        "2.   2000년초부터 학술목적의 과학기술 컴퓨팅, 산업 응용프로그램에 사용\n",
        "3.   R, Matlab, SAS, Stata 같은 상용 도메인 언어, 도구 비해 뒤떨어지지 않음\n",
        "4.   데이터 처리 업무에 두각을 나타냄 (pandas 등장)\n",
        "5.   한마디로, 범용 및 과학계산용 손색이 없는 최고의 언어\n",
        "\n"
      ]
    },
    {
      "metadata": {
        "id": "P40hNo6PMwR_",
        "colab_type": "text"
      },
      "cell_type": "markdown",
      "source": [
        "### 파이썬을 사용하면 안되는 경우\n",
        "\n",
        "\n",
        "1.   파이썬은 인터프리터 언어, 즉 java, c++ 등 컴파일 언어보다 느리다.\n",
        "2.   실시간 거래 시스템 매우 짧은 응답 시간을 요구하는 경우, 적합하지 않음\n",
        "3.   동시 다발적인 멀티쓰레드 처리하거나 CPU에 집중된 많은 스레드를 처라하는 애플리케이션에는 적합하지 않음. 그 원인은 GIL 때문. (Global Interpret Lock)\n",
        "\n"
      ]
    },
    {
      "metadata": {
        "id": "aCk7Y-nXNwBH",
        "colab_type": "text"
      },
      "cell_type": "markdown",
      "source": [
        "### 필수 Python 라이브러\n",
        "\n",
        "\n",
        "1.   Numpy (Numerical Python)\n",
        "2.   pandas\n",
        "3.   matplotlib\n",
        "4.   IPython\n",
        "5.   Scipy\n",
        "\n",
        "이번 스터디 관련해서 모든 실습은 colab에 진행할 예정.\n",
        "일단 위에서 말한 5가지 library가 설치되어 있는지 확인부터 하자~\n",
        "\n"
      ]
    },
    {
      "metadata": {
        "id": "BAqGodPiHZ6w",
        "colab_type": "code",
        "colab": {}
      },
      "cell_type": "code",
      "source": [
        "!pip list"
      ],
      "execution_count": 0,
      "outputs": []
    },
    {
      "metadata": {
        "id": "5yf5kzQYPZwy",
        "colab_type": "text"
      },
      "cell_type": "markdown",
      "source": [
        "### Scipy에 대한 보충 설명\n",
        "\n",
        "과학계산 컴퓨팅 여러 기본 문제를 다루는 패키지 모음\n",
        "\n",
        "\n",
        "*   scipy.integrate: 수치 적분, 미분\n",
        "*   scipy.linalg: 선형대수, 매트릭스\n",
        "*   scipy.optimize: 함수 최적화, 방정식의 근 구하는 알고리즘\n",
        "*   scipy.signal: 시그널 프로세싱 도구\n",
        "*   scipy.sparse: 회소 행렬과 희소 선형 시스템 풀이법\n",
        "*   scipy.special: 감마함수처럼 흔히 사용되는 수학 함수를 구현환 Fortrun 라이브러리인 SPECFUN 확장\n",
        "*   scipy.stats: 표준 연속/이산 확률 분포와 다양한 통계 테스트, 기술적인 통계 도구\n",
        "*   scipy.weave: 배열계산을 빠르게 하기 위해 inline C++ 코드를 사용하는 도구\n",
        "\n",
        "Numpy, Scipy를 함께 쓰면 Matlab 대체 가능\n",
        "\n"
      ]
    },
    {
      "metadata": {
        "id": "5Uj146ckQ0oh",
        "colab_type": "text"
      },
      "cell_type": "markdown",
      "source": [
        "이 책에서 나오는 데이터 및 코드를 받을 수 있는 주소:\n",
        "\n",
        "http://github.com/pydata/pydata-book"
      ]
    },
    {
      "metadata": {
        "id": "7sd9L7LcXVQK",
        "colab_type": "text"
      },
      "cell_type": "markdown",
      "source": [
        "그럼 일단 맛보기 GO GO\n",
        "1.   로컬에서 분석할 파일 하나 업로드\n",
        "2.   파일 읽어 들여서 표현해보자\n"
      ]
    },
    {
      "metadata": {
        "id": "SJpRq42ZO-Cs",
        "colab_type": "code",
        "colab": {}
      },
      "cell_type": "code",
      "source": [
        "from google.colab import files\n",
        "\n",
        "uploaded = files.upload()\n",
        "\n",
        "for fn in uploaded.keys():\n",
        "  print('User uploaded file \"{name}\" with length {length} bytes'.format(\n",
        "      name=fn, length=len(uploaded[fn])))"
      ],
      "execution_count": 0,
      "outputs": []
    },
    {
      "metadata": {
        "id": "0z8jW2wAXypd",
        "colab_type": "text"
      },
      "cell_type": "markdown",
      "source": [
        "데이터가 제대로 업로드 되었는 지 확인해보자~"
      ]
    },
    {
      "metadata": {
        "id": "OzucOjY5XmaL",
        "colab_type": "code",
        "colab": {}
      },
      "cell_type": "code",
      "source": [
        "!ls"
      ],
      "execution_count": 0,
      "outputs": []
    },
    {
      "metadata": {
        "id": "pwTWLOQ3X56T",
        "colab_type": "code",
        "colab": {}
      },
      "cell_type": "code",
      "source": [
        "# path 지정\n",
        "path = 'usagov_bitly_data2012-03-16-1331923249.txt'"
      ],
      "execution_count": 0,
      "outputs": []
    },
    {
      "metadata": {
        "id": "MYBqd-57YMq5",
        "colab_type": "code",
        "colab": {}
      },
      "cell_type": "code",
      "source": [
        "# 지정한 path의 파일을 읽어서 한번 출력해보자\n",
        "open(path).readline() "
      ],
      "execution_count": 0,
      "outputs": []
    },
    {
      "metadata": {
        "id": "BpqTSnlTZAC7",
        "colab_type": "text"
      },
      "cell_type": "markdown",
      "source": [
        "이 데이터를 딱 보니깐 json 형태이다. \n",
        "도대체 어떤 데이터 인지 확인해보자.  \n",
        "http://jsonviewer.stack.hu/ \n",
        "\n",
        "json은 key:value 형태로 구성된 format."
      ]
    },
    {
      "metadata": {
        "id": "h0GRTBhuYenM",
        "colab_type": "code",
        "colab": {}
      },
      "cell_type": "code",
      "source": [
        "# json을 키:값 형태의 파이썬 사전(dictionary)로 변환해보자~\n",
        "\n",
        "import json\n",
        "path = 'usagov_bitly_data2012-03-16-1331923249.txt'\n",
        "\n",
        "records = [json.loads(line) for line in open(path)]"
      ],
      "execution_count": 0,
      "outputs": []
    },
    {
      "metadata": {
        "id": "XnRkwwcCZ0jB",
        "colab_type": "code",
        "colab": {}
      },
      "cell_type": "code",
      "source": [
        "# records에 뭐가 들어있는지 출력해보자\n",
        "records[0]"
      ],
      "execution_count": 0,
      "outputs": []
    },
    {
      "metadata": {
        "id": "n8-v_Rw2Z9h2",
        "colab_type": "code",
        "colab": {}
      },
      "cell_type": "code",
      "source": [
        "# records 의 길이는 몇개인고?\n",
        "len(records)"
      ],
      "execution_count": 0,
      "outputs": []
    },
    {
      "metadata": {
        "id": "dcUGHs7qaKGo",
        "colab_type": "code",
        "colab": {}
      },
      "cell_type": "code",
      "source": [
        "records[1]"
      ],
      "execution_count": 0,
      "outputs": []
    },
    {
      "metadata": {
        "id": "NJBFQhrJaVdp",
        "colab_type": "code",
        "colab": {}
      },
      "cell_type": "code",
      "source": [
        "# 내가 tz에 해당하는 값을 가져오고 싶으면 어떻게 하면 될까?\n",
        "records[1]['tz']"
      ],
      "execution_count": 0,
      "outputs": []
    },
    {
      "metadata": {
        "id": "YRpZolfWajRQ",
        "colab_type": "code",
        "colab": {}
      },
      "cell_type": "code",
      "source": [
        ""
      ],
      "execution_count": 0,
      "outputs": []
    }
  ]
}