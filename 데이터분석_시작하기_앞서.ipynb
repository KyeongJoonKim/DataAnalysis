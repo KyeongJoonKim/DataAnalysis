{
  "nbformat": 4,
  "nbformat_minor": 0,
  "metadata": {
    "colab": {
      "name": "데이터분석 시작하기 앞서.ipynb",
      "version": "0.3.2",
      "provenance": [],
      "collapsed_sections": [],
      "include_colab_link": true
    },
    "kernelspec": {
      "name": "python3",
      "display_name": "Python 3"
    }
  },
  "cells": [
    {
      "cell_type": "markdown",
      "metadata": {
        "id": "view-in-github",
        "colab_type": "text"
      },
      "source": [
        "<a href=\"https://colab.research.google.com/github/xuhu357/DataAnalysis/blob/master/%EB%8D%B0%EC%9D%B4%ED%84%B0%EB%B6%84%EC%84%9D_%EC%8B%9C%EC%9E%91%ED%95%98%EA%B8%B0_%EC%95%9E%EC%84%9C.ipynb\" target=\"_parent\"><img src=\"https://colab.research.google.com/assets/colab-badge.svg\" alt=\"Open In Colab\"/></a>"
      ]
    },
    {
      "metadata": {
        "id": "SPuUdSBgIUWS",
        "colab_type": "text"
      },
      "cell_type": "markdown",
      "source": [
        "이 책에서 다루는 내용들: \n",
        "1.   파이썬으로 데이터를 다루는 다양하고 기본적이 방법\n",
        "2.   데이터 분석문제를 효율적으로 해결하는데 도움이 되는 library\n",
        "\n",
        "그럼 데이터란 정확히 뭘 말하는걸까? \n",
        "\"구조화 된 데이터\"\n",
        "\n",
        "그럼, 구조화 데이터는 또 뭘까?\n",
        "\n",
        "\n",
        "1.   다차원 배열(matrix)\n",
        "2.   각 열의 형식이 다른 표, 스프레드시트, \n",
        "3.   Relational Database\n",
        "4.   탭이나 쉼표로 구분되는 텍스트 파일\n",
        "5.   SQL에서 primary key나 foreign key 같은 키 열에 의해 서로 연관되는 여러 표\n",
        "6.   일정하거나 일정하지 않은 간격의 시간 계열\n",
        "\n",
        "\n",
        "\n",
        "\n"
      ]
    },
    {
      "metadata": {
        "id": "BAqGodPiHZ6w",
        "colab_type": "code",
        "colab": {}
      },
      "cell_type": "code",
      "source": [
        ""
      ],
      "execution_count": 0,
      "outputs": []
    }
  ]
}