{
  "nbformat": 4,
  "nbformat_minor": 0,
  "metadata": {
    "colab": {
      "name": "데이터분석 시작하기 앞서.ipynb",
      "version": "0.3.2",
      "provenance": [],
      "collapsed_sections": [],
      "include_colab_link": true
    },
    "kernelspec": {
      "name": "python3",
      "display_name": "Python 3"
    }
  },
  "cells": [
    {
      "cell_type": "markdown",
      "metadata": {
        "id": "view-in-github",
        "colab_type": "text"
      },
      "source": [
        "<a href=\"https://colab.research.google.com/github/xuhu357/DataAnalysis/blob/master/%EB%8D%B0%EC%9D%B4%ED%84%B0%EB%B6%84%EC%84%9D_%EC%8B%9C%EC%9E%91%ED%95%98%EA%B8%B0_%EC%95%9E%EC%84%9C.ipynb\" target=\"_parent\"><img src=\"https://colab.research.google.com/assets/colab-badge.svg\" alt=\"Open In Colab\"/></a>"
      ]
    },
    {
      "metadata": {
        "id": "SPuUdSBgIUWS",
        "colab_type": "text"
      },
      "cell_type": "markdown",
      "source": [
        "### 이 책에서 다루는 내용들: \n",
        "1.   파이썬으로 데이터를 다루는 다양하고 기본적이 방법\n",
        "2.   데이터 분석문제를 효율적으로 해결하는데 도움이 되는 library\n",
        "\n",
        "그럼 데이터란 정확히 뭘 말하는걸까? \n",
        "\"구조화 된 데이터\"\n",
        "\n",
        "그럼, 구조화 데이터는 또 뭘까?\n",
        "\n",
        "\n",
        "1.   다차원 배열(matrix)\n",
        "2.   각 열의 형식이 다른 표, 스프레드시트, \n",
        "3.   Relational Database\n",
        "4.   탭이나 쉼표로 구분되는 텍스트 파일\n",
        "5.   SQL에서 primary key나 foreign key 같은 키 열에 의해 서로 연관되는 여러 표\n",
        "6.   일정하거나 일정하지 않은 간격의 시간 계열\n",
        "7.   그 외 기타"
      ]
    },
    {
      "metadata": {
        "id": "_K8c0rEMLMhf",
        "colab_type": "text"
      },
      "cell_type": "markdown",
      "source": [
        "### 왜 데이터 분석을 위한 파이썬인가?\n",
        "\n",
        "\n",
        "1.   루비, 장고, 플라스크 같은 웹 프레임워크 등장하면서 파이썬 인기 상승\n",
        "2.   2000년초부터 학술목적의 과학기술 컴퓨팅, 산업 응용프로그램에 사용\n",
        "3.   R, Matlab, SAS, Stata 같은 상용 도메인 언어, 도구 비해 뒤떨어지지 않음\n",
        "4.   데이터 처리 업무에 두각을 나타냄 (pandas 등장)\n",
        "5.   한마디로, 범용 및 과학계산용 손색이 없는 최고의 언어\n",
        "\n"
      ]
    },
    {
      "metadata": {
        "id": "P40hNo6PMwR_",
        "colab_type": "text"
      },
      "cell_type": "markdown",
      "source": [
        "### 파이썬을 사용하면 안되는 경우\n",
        "\n",
        "\n",
        "1.   파이썬은 인터프리터 언어, 즉 java, c++ 등 컴파일 언어보다 느리다.\n",
        "2.   실시간 거래 시스템 매우 짧은 응답 시간을 요구하는 경우, 적합하지 않음\n",
        "3.   동시 다발적인 멀티쓰레드 처리하거나 CPU에 집중된 많은 스레드를 처라하는 애플리케이션에는 적합하지 않음. 그 원인은 GIL 때문. (Global Interpret Lock)\n",
        "\n"
      ]
    },
    {
      "metadata": {
        "id": "aCk7Y-nXNwBH",
        "colab_type": "text"
      },
      "cell_type": "markdown",
      "source": [
        "### 필수 Python 라이브러\n",
        "\n",
        "\n",
        "1.   Numpy (Numerical Python)\n",
        "2.   pandas\n",
        "3.   matplotlib\n",
        "4.   IPython\n",
        "5.   Scipy\n",
        "\n",
        "이번 스터디 관련해서 모든 실습은 colab에 진행할 예정.\n",
        "일단 위에서 말한 5가지 library가 설치되어 있는지 확인부터 하자~\n",
        "\n"
      ]
    },
    {
      "metadata": {
        "id": "BAqGodPiHZ6w",
        "colab_type": "code",
        "outputId": "36cdcf6f-bfc3-4bcd-9013-cbd9032baff2",
        "colab": {
          "base_uri": "https://localhost:8080/",
          "height": 2483
        }
      },
      "cell_type": "code",
      "source": [
        "!pip list"
      ],
      "execution_count": 0,
      "outputs": [
        {
          "output_type": "stream",
          "text": [
            "Package                  Version   \n",
            "------------------------ ----------\n",
            "absl-py                  0.6.1     \n",
            "altair                   2.2.2     \n",
            "astor                    0.7.1     \n",
            "beautifulsoup4           4.6.3     \n",
            "bleach                   3.0.2     \n",
            "cachetools               2.1.0     \n",
            "certifi                  2018.10.15\n",
            "chardet                  3.0.4     \n",
            "crcmod                   1.7       \n",
            "cycler                   0.10.0    \n",
            "cymem                    2.0.2     \n",
            "cytoolz                  0.9.0.1   \n",
            "decorator                4.3.0     \n",
            "defusedxml               0.5.0     \n",
            "dill                     0.2.8.2   \n",
            "entrypoints              0.2.3     \n",
            "filelock                 3.0.9     \n",
            "future                   0.16.0    \n",
            "gast                     0.2.0     \n",
            "google-api-core          1.5.1     \n",
            "google-api-python-client 1.6.7     \n",
            "google-auth              1.4.2     \n",
            "google-auth-httplib2     0.0.3     \n",
            "google-auth-oauthlib     0.2.0     \n",
            "google-cloud-bigquery    1.1.0     \n",
            "google-cloud-core        0.28.1    \n",
            "google-cloud-language    1.0.2     \n",
            "google-cloud-storage     1.8.0     \n",
            "google-cloud-translate   1.3.1     \n",
            "google-colab             0.0.1a1   \n",
            "google-resumable-media   0.3.1     \n",
            "googleapis-common-protos 1.5.5     \n",
            "grpcio                   1.15.0    \n",
            "h5py                     2.8.0     \n",
            "httplib2                 0.11.3    \n",
            "idna                     2.6       \n",
            "ipykernel                4.6.1     \n",
            "ipython                  5.5.0     \n",
            "ipython-genutils         0.2.0     \n",
            "Jinja2                   2.10      \n",
            "joblib                   0.12.5    \n",
            "jsonschema               2.6.0     \n",
            "jupyter-client           5.2.3     \n",
            "jupyter-core             4.4.0     \n",
            "Keras                    2.1.6     \n",
            "Keras-Applications       1.0.6     \n",
            "Keras-Preprocessing      1.0.5     \n",
            "Markdown                 3.0.1     \n",
            "MarkupSafe               1.0       \n",
            "matplotlib               2.1.2     \n",
            "mistune                  0.8.4     \n",
            "mpmath                   1.0.0     \n",
            "msgpack                  0.5.6     \n",
            "msgpack-numpy            0.4.3.2   \n",
            "murmurhash               1.0.1     \n",
            "nbconvert                5.4.0     \n",
            "nbformat                 4.4.0     \n",
            "networkx                 2.2       \n",
            "nltk                     3.2.5     \n",
            "notebook                 5.2.2     \n",
            "numpy                    1.14.6    \n",
            "oauth2client             4.1.3     \n",
            "oauthlib                 2.1.0     \n",
            "olefile                  0.46      \n",
            "opencv-python            3.4.3.18  \n",
            "pandas                   0.22.0    \n",
            "pandas-gbq               0.4.1     \n",
            "pandocfilters            1.4.2     \n",
            "patsy                    0.5.1     \n",
            "pexpect                  4.6.0     \n",
            "pickleshare              0.7.5     \n",
            "Pillow                   4.0.0     \n",
            "pip                      18.1      \n",
            "plac                     0.9.6     \n",
            "plotly                   1.12.12   \n",
            "pluggy                   0.8.0     \n",
            "portpicker               1.2.0     \n",
            "preshed                  2.0.1     \n",
            "prompt-toolkit           1.0.15    \n",
            "protobuf                 3.6.1     \n",
            "psutil                   5.4.8     \n",
            "ptyprocess               0.6.0     \n",
            "py                       1.7.0     \n",
            "pyasn1                   0.4.4     \n",
            "pyasn1-modules           0.2.2     \n",
            "Pygments                 2.1.3     \n",
            "pygobject                3.26.1    \n",
            "pymc3                    3.5       \n",
            "pyparsing                2.3.0     \n",
            "pystache                 0.5.4     \n",
            "python-apt               1.6.3     \n",
            "python-dateutil          2.5.3     \n",
            "pytz                     2018.7    \n",
            "PyWavelets               1.0.1     \n",
            "PyYAML                   3.13      \n",
            "pyzmq                    16.0.4    \n",
            "regex                    2018.1.10 \n",
            "requests                 2.18.4    \n",
            "requests-oauthlib        1.0.0     \n",
            "rsa                      4.0       \n",
            "scikit-image             0.13.1    \n",
            "scikit-learn             0.19.2    \n",
            "scipy                    0.19.1    \n",
            "seaborn                  0.7.1     \n",
            "setuptools               40.5.0    \n",
            "simplegeneric            0.8.1     \n",
            "six                      1.11.0    \n",
            "spacy                    2.0.16    \n",
            "statsmodels              0.8.0     \n",
            "sympy                    1.1.1     \n",
            "tensorboard              1.12.0    \n",
            "tensorflow               1.12.0rc2 \n",
            "tensorflow-hub           0.1.1     \n",
            "termcolor                1.1.0     \n",
            "terminado                0.8.1     \n",
            "testpath                 0.4.2     \n",
            "Theano                   1.0.3     \n",
            "thinc                    6.12.0    \n",
            "toml                     0.10.0    \n",
            "toolz                    0.9.0     \n",
            "tornado                  4.5.3     \n",
            "tqdm                     4.28.1    \n",
            "traitlets                4.3.2     \n",
            "typing                   3.6.6     \n",
            "ujson                    1.35      \n",
            "uritemplate              3.0.0     \n",
            "urllib3                  1.22      \n",
            "vega-datasets            0.5.0     \n",
            "virtualenv               16.1.0    \n",
            "wcwidth                  0.1.7     \n",
            "webencodings             0.5.1     \n",
            "Werkzeug                 0.14.1    \n",
            "wheel                    0.32.2    \n",
            "wrapt                    1.10.11   \n",
            "xgboost                  0.7.post4 \n"
          ],
          "name": "stdout"
        }
      ]
    },
    {
      "metadata": {
        "id": "5yf5kzQYPZwy",
        "colab_type": "text"
      },
      "cell_type": "markdown",
      "source": [
        "### Scipy에 대한 보충 설명\n",
        "\n",
        "과학계산 컴퓨팅 여러 기본 문제를 다루는 패키지 모음\n",
        "\n",
        "\n",
        "*   scipy.integrate: 수치 적분, 미분\n",
        "*   scipy.linalg: 선형대수, 매트릭스\n",
        "*   scipy.optimize: 함수 최적화, 방정식의 근 구하는 알고리즘\n",
        "*   scipy.signal: 시그널 프로세싱 도구\n",
        "*   scipy.sparse: 회소 행렬과 희소 선형 시스템 풀이법\n",
        "*   scipy.special: 감마함수처럼 흔히 사용되는 수학 함수를 구현환 Fortrun 라이브러리인 SPECFUN 확장\n",
        "*   scipy.stats: 표준 연속/이산 확률 분포와 다양한 통계 테스트, 기술적인 통계 도구\n",
        "*   scipy.weave: 배열계산을 빠르게 하기 위해 inline C++ 코드를 사용하는 도구\n",
        "\n",
        "Numpy, Scipy를 함께 쓰면 Matlab 대체 가능\n",
        "\n"
      ]
    },
    {
      "metadata": {
        "id": "5Uj146ckQ0oh",
        "colab_type": "text"
      },
      "cell_type": "markdown",
      "source": [
        "이 책에서 나오는 데이터 및 코드를 받을 수 있는 주소:\n",
        "\n",
        "http://github.com/pydata/pydata-book"
      ]
    },
    {
      "metadata": {
        "id": "7sd9L7LcXVQK",
        "colab_type": "text"
      },
      "cell_type": "markdown",
      "source": [
        "그럼 일단 맛보기 GO GO\n",
        "1.   로컬에서 분석할 파일 하나 업로드\n",
        "2.   파일 읽어 들여서 표현해보자\n"
      ]
    },
    {
      "metadata": {
        "id": "SJpRq42ZO-Cs",
        "colab_type": "code",
        "colab": {
          "resources": {
            "http://localhost:8080/nbextensions/google.colab/files.js": {
              "data": "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",
              "ok": true,
              "headers": [
                [
                  "content-type",
                  "application/javascript"
                ]
              ],
              "status": 200,
              "status_text": ""
            }
          },
          "base_uri": "https://localhost:8080/",
          "height": 94
        },
        "outputId": "20d8bfbc-587e-49c4-9d55-bded14883350"
      },
      "cell_type": "code",
      "source": [
        "from google.colab import files\n",
        "\n",
        "uploaded = files.upload()\n",
        "\n",
        "for fn in uploaded.keys():\n",
        "  print('User uploaded file \"{name}\" with length {length} bytes'.format(\n",
        "      name=fn, length=len(uploaded[fn])))"
      ],
      "execution_count": 1,
      "outputs": [
        {
          "output_type": "display_data",
          "data": {
            "text/html": [
              "\n",
              "     <input type=\"file\" id=\"files-2070abe4-ccd6-4b61-9da9-3f99be311821\" name=\"files[]\" multiple disabled />\n",
              "     <output id=\"result-2070abe4-ccd6-4b61-9da9-3f99be311821\">\n",
              "      Upload widget is only available when the cell has been executed in the\n",
              "      current browser session. Please rerun this cell to enable.\n",
              "      </output>\n",
              "      <script src=\"/nbextensions/google.colab/files.js\"></script> "
            ],
            "text/plain": [
              "<IPython.core.display.HTML object>"
            ]
          },
          "metadata": {
            "tags": []
          }
        },
        {
          "output_type": "stream",
          "text": [
            "Saving usagov_bitly_data2012-03-16-1331923249.txt to usagov_bitly_data2012-03-16-1331923249.txt\n",
            "User uploaded file \"usagov_bitly_data2012-03-16-1331923249.txt\" with length 1598282 bytes\n"
          ],
          "name": "stdout"
        }
      ]
    },
    {
      "metadata": {
        "id": "0z8jW2wAXypd",
        "colab_type": "text"
      },
      "cell_type": "markdown",
      "source": [
        "데이터가 제대로 업로드 되었는 지 확인해보자~"
      ]
    },
    {
      "metadata": {
        "id": "OzucOjY5XmaL",
        "colab_type": "code",
        "colab": {
          "base_uri": "https://localhost:8080/",
          "height": 35
        },
        "outputId": "5279887d-63f7-4a63-a128-573b5c411e4e"
      },
      "cell_type": "code",
      "source": [
        "!ls"
      ],
      "execution_count": 2,
      "outputs": [
        {
          "output_type": "stream",
          "text": [
            "sample_data  usagov_bitly_data2012-03-16-1331923249.txt\n"
          ],
          "name": "stdout"
        }
      ]
    },
    {
      "metadata": {
        "id": "pwTWLOQ3X56T",
        "colab_type": "code",
        "colab": {}
      },
      "cell_type": "code",
      "source": [
        "# path 지정\n",
        "path = 'usagov_bitly_data2012-03-16-1331923249.txt'"
      ],
      "execution_count": 0,
      "outputs": []
    },
    {
      "metadata": {
        "id": "MYBqd-57YMq5",
        "colab_type": "code",
        "colab": {
          "base_uri": "https://localhost:8080/",
          "height": 55
        },
        "outputId": "3f083235-69e7-449f-f64b-33e6181e1324"
      },
      "cell_type": "code",
      "source": [
        "# 지정한 path의 파일을 읽어서 한번 출력해보자\n",
        "open(path).readline() "
      ],
      "execution_count": 4,
      "outputs": [
        {
          "output_type": "execute_result",
          "data": {
            "text/plain": [
              "'{ \"a\": \"Mozilla\\\\/5.0 (Windows NT 6.1; WOW64) AppleWebKit\\\\/535.11 (KHTML, like Gecko) Chrome\\\\/17.0.963.78 Safari\\\\/535.11\", \"c\": \"US\", \"nk\": 1, \"tz\": \"America\\\\/New_York\", \"gr\": \"MA\", \"g\": \"A6qOVH\", \"h\": \"wfLQtf\", \"l\": \"orofrog\", \"al\": \"en-US,en;q=0.8\", \"hh\": \"1.usa.gov\", \"r\": \"http:\\\\/\\\\/www.facebook.com\\\\/l\\\\/7AQEFzjSi\\\\/1.usa.gov\\\\/wfLQtf\", \"u\": \"http:\\\\/\\\\/www.ncbi.nlm.nih.gov\\\\/pubmed\\\\/22415991\", \"t\": 1331923247, \"hc\": 1331822918, \"cy\": \"Danvers\", \"ll\": [ 42.576698, -70.954903 ] }\\n'"
            ]
          },
          "metadata": {
            "tags": []
          },
          "execution_count": 4
        }
      ]
    },
    {
      "metadata": {
        "id": "BpqTSnlTZAC7",
        "colab_type": "text"
      },
      "cell_type": "markdown",
      "source": [
        "이 데이터를 딱 보니깐 json 형태이다. \n",
        "도대체 어떤 데이터 인지 확인해보자.  \n",
        "http://jsonviewer.stack.hu/ \n",
        "\n",
        "json은 key:value 형태로 구성된 format."
      ]
    },
    {
      "metadata": {
        "id": "h0GRTBhuYenM",
        "colab_type": "code",
        "colab": {}
      },
      "cell_type": "code",
      "source": [
        "# json을 키:값 형태의 파이썬 사전(dictionary)로 변환해보자~\n",
        "\n",
        "import json\n",
        "path = 'usagov_bitly_data2012-03-16-1331923249.txt'\n",
        "\n",
        "records = [json.loads(line) for line in open(path)]"
      ],
      "execution_count": 0,
      "outputs": []
    },
    {
      "metadata": {
        "id": "XnRkwwcCZ0jB",
        "colab_type": "code",
        "colab": {
          "base_uri": "https://localhost:8080/",
          "height": 305
        },
        "outputId": "dda3759a-3b75-4b5a-9604-843a4d3a5c87"
      },
      "cell_type": "code",
      "source": [
        "# records에 뭐가 들어있는지 출력해보자\n",
        "records[0]"
      ],
      "execution_count": 6,
      "outputs": [
        {
          "output_type": "execute_result",
          "data": {
            "text/plain": [
              "{'a': 'Mozilla/5.0 (Windows NT 6.1; WOW64) AppleWebKit/535.11 (KHTML, like Gecko) Chrome/17.0.963.78 Safari/535.11',\n",
              " 'al': 'en-US,en;q=0.8',\n",
              " 'c': 'US',\n",
              " 'cy': 'Danvers',\n",
              " 'g': 'A6qOVH',\n",
              " 'gr': 'MA',\n",
              " 'h': 'wfLQtf',\n",
              " 'hc': 1331822918,\n",
              " 'hh': '1.usa.gov',\n",
              " 'l': 'orofrog',\n",
              " 'll': [42.576698, -70.954903],\n",
              " 'nk': 1,\n",
              " 'r': 'http://www.facebook.com/l/7AQEFzjSi/1.usa.gov/wfLQtf',\n",
              " 't': 1331923247,\n",
              " 'tz': 'America/New_York',\n",
              " 'u': 'http://www.ncbi.nlm.nih.gov/pubmed/22415991'}"
            ]
          },
          "metadata": {
            "tags": []
          },
          "execution_count": 6
        }
      ]
    },
    {
      "metadata": {
        "id": "n8-v_Rw2Z9h2",
        "colab_type": "code",
        "colab": {
          "base_uri": "https://localhost:8080/",
          "height": 35
        },
        "outputId": "2b87ae63-753e-4c32-8ad1-fff974e16d07"
      },
      "cell_type": "code",
      "source": [
        "# records 의 길이는 몇개인고?\n",
        "len(records)"
      ],
      "execution_count": 9,
      "outputs": [
        {
          "output_type": "execute_result",
          "data": {
            "text/plain": [
              "3560"
            ]
          },
          "metadata": {
            "tags": []
          },
          "execution_count": 9
        }
      ]
    },
    {
      "metadata": {
        "id": "dcUGHs7qaKGo",
        "colab_type": "code",
        "colab": {
          "base_uri": "https://localhost:8080/",
          "height": 287
        },
        "outputId": "e62749ed-97d4-4788-bc48-3533aa187fb7"
      },
      "cell_type": "code",
      "source": [
        "records[1]"
      ],
      "execution_count": 10,
      "outputs": [
        {
          "output_type": "execute_result",
          "data": {
            "text/plain": [
              "{'a': 'GoogleMaps/RochesterNY',\n",
              " 'c': 'US',\n",
              " 'cy': 'Provo',\n",
              " 'g': 'mwszkS',\n",
              " 'gr': 'UT',\n",
              " 'h': 'mwszkS',\n",
              " 'hc': 1308262393,\n",
              " 'hh': 'j.mp',\n",
              " 'l': 'bitly',\n",
              " 'll': [40.218102, -111.613297],\n",
              " 'nk': 0,\n",
              " 'r': 'http://www.AwareMap.com/',\n",
              " 't': 1331923249,\n",
              " 'tz': 'America/Denver',\n",
              " 'u': 'http://www.monroecounty.gov/etc/911/rss.php'}"
            ]
          },
          "metadata": {
            "tags": []
          },
          "execution_count": 10
        }
      ]
    },
    {
      "metadata": {
        "id": "NJBFQhrJaVdp",
        "colab_type": "code",
        "colab": {
          "base_uri": "https://localhost:8080/",
          "height": 35
        },
        "outputId": "a5f958ef-a903-429b-e9f1-da57691f9b55"
      },
      "cell_type": "code",
      "source": [
        "# 내가 tz에 해당하는 값을 가져오고 싶으면 어떻게 하면 될까?\n",
        "records[1]['tz']"
      ],
      "execution_count": 11,
      "outputs": [
        {
          "output_type": "execute_result",
          "data": {
            "text/plain": [
              "'America/Denver'"
            ]
          },
          "metadata": {
            "tags": []
          },
          "execution_count": 11
        }
      ]
    },
    {
      "metadata": {
        "id": "YRpZolfWajRQ",
        "colab_type": "code",
        "colab": {}
      },
      "cell_type": "code",
      "source": [
        ""
      ],
      "execution_count": 0,
      "outputs": []
    }
  ]
}