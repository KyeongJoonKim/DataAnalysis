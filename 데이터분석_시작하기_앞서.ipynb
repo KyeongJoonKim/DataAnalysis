{
  "nbformat": 4,
  "nbformat_minor": 0,
  "metadata": {
    "colab": {
      "name": "데이터분석 시작하기 앞서.ipynb",
      "version": "0.3.2",
      "provenance": [],
      "collapsed_sections": [],
      "include_colab_link": true
    },
    "kernelspec": {
      "name": "python3",
      "display_name": "Python 3"
    }
  },
  "cells": [
    {
      "cell_type": "markdown",
      "metadata": {
        "id": "view-in-github",
        "colab_type": "text"
      },
      "source": [
        "<a href=\"https://colab.research.google.com/github/xuhu357/DataAnalysis/blob/master/%EB%8D%B0%EC%9D%B4%ED%84%B0%EB%B6%84%EC%84%9D_%EC%8B%9C%EC%9E%91%ED%95%98%EA%B8%B0_%EC%95%9E%EC%84%9C.ipynb\" target=\"_parent\"><img src=\"https://colab.research.google.com/assets/colab-badge.svg\" alt=\"Open In Colab\"/></a>"
      ]
    },
    {
      "metadata": {
        "id": "SPuUdSBgIUWS",
        "colab_type": "text"
      },
      "cell_type": "markdown",
      "source": [
        "### 이 책에서 다루는 내용들: \n",
        "1.   파이썬으로 데이터를 다루는 다양하고 기본적이 방법\n",
        "2.   데이터 분석문제를 효율적으로 해결하는데 도움이 되는 library\n",
        "\n",
        "그럼 데이터란 정확히 뭘 말하는걸까? \n",
        "\"구조화 된 데이터\"\n",
        "\n",
        "그럼, 구조화 데이터는 또 뭘까?\n",
        "\n",
        "\n",
        "1.   다차원 배열(matrix)\n",
        "2.   각 열의 형식이 다른 표, 스프레드시트, \n",
        "3.   Relational Database\n",
        "4.   탭이나 쉼표로 구분되는 텍스트 파일\n",
        "5.   SQL에서 primary key나 foreign key 같은 키 열에 의해 서로 연관되는 여러 표\n",
        "6.   일정하거나 일정하지 않은 간격의 시간 계열\n",
        "7.   그 외 기타"
      ]
    },
    {
      "metadata": {
        "id": "_K8c0rEMLMhf",
        "colab_type": "text"
      },
      "cell_type": "markdown",
      "source": [
        "### 왜 데이터 분석을 위한 파이썬인가?\n",
        "\n",
        "\n",
        "1.   루비, 장고, 플라스크 같은 웹 프레임워크 등장하면서 파이썬 인기 상승\n",
        "2.   2000년초부터 학술목적의 과학기술 컴퓨팅, 산업 응용프로그램에 사용\n",
        "3.   R, Matlab, SAS, Stata 같은 상용 도메인 언어, 도구 비해 뒤떨어지지 않음\n",
        "4.   데이터 처리 업무에 두각을 나타냄 (pandas 등장)\n",
        "5.   한마디로, 범용 및 과학계산용 손색이 없는 최고의 언어\n",
        "\n"
      ]
    },
    {
      "metadata": {
        "id": "P40hNo6PMwR_",
        "colab_type": "text"
      },
      "cell_type": "markdown",
      "source": [
        "### 파이썬을 사용하면 안되는 경우\n",
        "\n",
        "\n",
        "1.   파이썬은 인터프리터 언어, 즉 java, c++ 등 컴파일 언어보다 느리다.\n",
        "2.   실시간 거래 시스템 매우 짧은 응답 시간을 요구하는 경우, 적합하지 않음\n",
        "3.   동시 다발적인 멀티쓰레드 처리하거나 CPU에 집중된 많은 스레드를 처라하는 애플리케이션에는 적합하지 않음. 그 원인은 GIL 때문. (Global Interpret Lock)\n",
        "\n"
      ]
    },
    {
      "metadata": {
        "id": "aCk7Y-nXNwBH",
        "colab_type": "text"
      },
      "cell_type": "markdown",
      "source": [
        "### 필수 Python 라이브러\n",
        "\n",
        "\n",
        "1.   Numpy (Numerical Python)\n",
        "2.   pandas\n",
        "3.   matplotlib\n",
        "4.   IPython\n",
        "5.   Scipy\n",
        "\n",
        "이번 스터디 관련해서 모든 실습은 colab에 진행할 예정.\n",
        "일단 위에서 말한 5가지 library가 설치되어 있는지 확인부터 하자~\n",
        "\n"
      ]
    },
    {
      "metadata": {
        "id": "BAqGodPiHZ6w",
        "colab_type": "code",
        "colab": {
          "base_uri": "https://localhost:8080/",
          "height": 2483
        },
        "outputId": "36cdcf6f-bfc3-4bcd-9013-cbd9032baff2"
      },
      "cell_type": "code",
      "source": [
        "!pip list"
      ],
      "execution_count": 1,
      "outputs": [
        {
          "output_type": "stream",
          "text": [
            "Package                  Version   \n",
            "------------------------ ----------\n",
            "absl-py                  0.6.1     \n",
            "altair                   2.2.2     \n",
            "astor                    0.7.1     \n",
            "beautifulsoup4           4.6.3     \n",
            "bleach                   3.0.2     \n",
            "cachetools               2.1.0     \n",
            "certifi                  2018.10.15\n",
            "chardet                  3.0.4     \n",
            "crcmod                   1.7       \n",
            "cycler                   0.10.0    \n",
            "cymem                    2.0.2     \n",
            "cytoolz                  0.9.0.1   \n",
            "decorator                4.3.0     \n",
            "defusedxml               0.5.0     \n",
            "dill                     0.2.8.2   \n",
            "entrypoints              0.2.3     \n",
            "filelock                 3.0.9     \n",
            "future                   0.16.0    \n",
            "gast                     0.2.0     \n",
            "google-api-core          1.5.1     \n",
            "google-api-python-client 1.6.7     \n",
            "google-auth              1.4.2     \n",
            "google-auth-httplib2     0.0.3     \n",
            "google-auth-oauthlib     0.2.0     \n",
            "google-cloud-bigquery    1.1.0     \n",
            "google-cloud-core        0.28.1    \n",
            "google-cloud-language    1.0.2     \n",
            "google-cloud-storage     1.8.0     \n",
            "google-cloud-translate   1.3.1     \n",
            "google-colab             0.0.1a1   \n",
            "google-resumable-media   0.3.1     \n",
            "googleapis-common-protos 1.5.5     \n",
            "grpcio                   1.15.0    \n",
            "h5py                     2.8.0     \n",
            "httplib2                 0.11.3    \n",
            "idna                     2.6       \n",
            "ipykernel                4.6.1     \n",
            "ipython                  5.5.0     \n",
            "ipython-genutils         0.2.0     \n",
            "Jinja2                   2.10      \n",
            "joblib                   0.12.5    \n",
            "jsonschema               2.6.0     \n",
            "jupyter-client           5.2.3     \n",
            "jupyter-core             4.4.0     \n",
            "Keras                    2.1.6     \n",
            "Keras-Applications       1.0.6     \n",
            "Keras-Preprocessing      1.0.5     \n",
            "Markdown                 3.0.1     \n",
            "MarkupSafe               1.0       \n",
            "matplotlib               2.1.2     \n",
            "mistune                  0.8.4     \n",
            "mpmath                   1.0.0     \n",
            "msgpack                  0.5.6     \n",
            "msgpack-numpy            0.4.3.2   \n",
            "murmurhash               1.0.1     \n",
            "nbconvert                5.4.0     \n",
            "nbformat                 4.4.0     \n",
            "networkx                 2.2       \n",
            "nltk                     3.2.5     \n",
            "notebook                 5.2.2     \n",
            "numpy                    1.14.6    \n",
            "oauth2client             4.1.3     \n",
            "oauthlib                 2.1.0     \n",
            "olefile                  0.46      \n",
            "opencv-python            3.4.3.18  \n",
            "pandas                   0.22.0    \n",
            "pandas-gbq               0.4.1     \n",
            "pandocfilters            1.4.2     \n",
            "patsy                    0.5.1     \n",
            "pexpect                  4.6.0     \n",
            "pickleshare              0.7.5     \n",
            "Pillow                   4.0.0     \n",
            "pip                      18.1      \n",
            "plac                     0.9.6     \n",
            "plotly                   1.12.12   \n",
            "pluggy                   0.8.0     \n",
            "portpicker               1.2.0     \n",
            "preshed                  2.0.1     \n",
            "prompt-toolkit           1.0.15    \n",
            "protobuf                 3.6.1     \n",
            "psutil                   5.4.8     \n",
            "ptyprocess               0.6.0     \n",
            "py                       1.7.0     \n",
            "pyasn1                   0.4.4     \n",
            "pyasn1-modules           0.2.2     \n",
            "Pygments                 2.1.3     \n",
            "pygobject                3.26.1    \n",
            "pymc3                    3.5       \n",
            "pyparsing                2.3.0     \n",
            "pystache                 0.5.4     \n",
            "python-apt               1.6.3     \n",
            "python-dateutil          2.5.3     \n",
            "pytz                     2018.7    \n",
            "PyWavelets               1.0.1     \n",
            "PyYAML                   3.13      \n",
            "pyzmq                    16.0.4    \n",
            "regex                    2018.1.10 \n",
            "requests                 2.18.4    \n",
            "requests-oauthlib        1.0.0     \n",
            "rsa                      4.0       \n",
            "scikit-image             0.13.1    \n",
            "scikit-learn             0.19.2    \n",
            "scipy                    0.19.1    \n",
            "seaborn                  0.7.1     \n",
            "setuptools               40.5.0    \n",
            "simplegeneric            0.8.1     \n",
            "six                      1.11.0    \n",
            "spacy                    2.0.16    \n",
            "statsmodels              0.8.0     \n",
            "sympy                    1.1.1     \n",
            "tensorboard              1.12.0    \n",
            "tensorflow               1.12.0rc2 \n",
            "tensorflow-hub           0.1.1     \n",
            "termcolor                1.1.0     \n",
            "terminado                0.8.1     \n",
            "testpath                 0.4.2     \n",
            "Theano                   1.0.3     \n",
            "thinc                    6.12.0    \n",
            "toml                     0.10.0    \n",
            "toolz                    0.9.0     \n",
            "tornado                  4.5.3     \n",
            "tqdm                     4.28.1    \n",
            "traitlets                4.3.2     \n",
            "typing                   3.6.6     \n",
            "ujson                    1.35      \n",
            "uritemplate              3.0.0     \n",
            "urllib3                  1.22      \n",
            "vega-datasets            0.5.0     \n",
            "virtualenv               16.1.0    \n",
            "wcwidth                  0.1.7     \n",
            "webencodings             0.5.1     \n",
            "Werkzeug                 0.14.1    \n",
            "wheel                    0.32.2    \n",
            "wrapt                    1.10.11   \n",
            "xgboost                  0.7.post4 \n"
          ],
          "name": "stdout"
        }
      ]
    },
    {
      "metadata": {
        "id": "5yf5kzQYPZwy",
        "colab_type": "text"
      },
      "cell_type": "markdown",
      "source": [
        "### Scipy에 대한 보충 설명\n",
        "\n",
        "과학계산 컴퓨팅 여러 기본 문제를 다루는 패키지 모음\n",
        "\n",
        "\n",
        "*   scipy.integrate: 수치 적분, 미분\n",
        "*   scipy.linalg: 선형대수, 매트릭스\n",
        "*   scipy.optimize: 함수 최적화, 방정식의 근 구하는 알고리즘\n",
        "*   scipy.signal: 시그널 프로세싱 도구\n",
        "*   scipy.sparse: 회소 행렬과 희소 선형 시스템 풀이법\n",
        "*   scipy.special: 감마함수처럼 흔히 사용되는 수학 함수를 구현환 Fortrun 라이브러리인 SPECFUN 확장\n",
        "*   scipy.stats: 표준 연속/이산 확률 분포와 다양한 통계 테스트, 기술적인 통계 도구\n",
        "*   scipy.weave: 배열계산을 빠르게 하기 위해 inline C++ 코드를 사용하는 도구\n",
        "\n",
        "Numpy, Scipy를 함께 쓰면 Matlab 대체 가능\n",
        "\n"
      ]
    },
    {
      "metadata": {
        "id": "5Uj146ckQ0oh",
        "colab_type": "text"
      },
      "cell_type": "markdown",
      "source": [
        "이 책에서 나오는 데이터 및 코드를 받을 수 있는 주소:\n",
        "\n",
        "http://github.com/pydata/pydata-book"
      ]
    },
    {
      "metadata": {
        "id": "SJpRq42ZO-Cs",
        "colab_type": "code",
        "colab": {}
      },
      "cell_type": "code",
      "source": [
        ""
      ],
      "execution_count": 0,
      "outputs": []
    }
  ]
}