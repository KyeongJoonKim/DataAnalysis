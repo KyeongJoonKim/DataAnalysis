{
  "nbformat": 4,
  "nbformat_minor": 0,
  "metadata": {
    "colab": {
      "name": "ch04_Numpy 기본_배열과 벡터계산.ipynb",
      "version": "0.3.2",
      "provenance": [],
      "collapsed_sections": [
        "IMxrl_DCYCVk",
        "xzmaRrX0qioW",
        "8ljGLwkmYq6D",
        "wncWZ5HwcBAQ",
        "tE_k_SbNetop",
        "EgQvOI2ZfkSs",
        "1dEDW5e8joJT",
        "x0g-GEPPgaz0",
        "o8kqPKl7qpQV",
        "vqusvH5ayhYV",
        "czo5a1DG1YBo",
        "oVT53S7IE-IH",
        "MC-n25YUI2jw",
        "-wsELsg4LuUT"
      ],
      "include_colab_link": true
    },
    "kernelspec": {
      "name": "python3",
      "display_name": "Python 3"
    }
  },
  "cells": [
    {
      "cell_type": "markdown",
      "metadata": {
        "id": "view-in-github",
        "colab_type": "text"
      },
      "source": [
        "<a href=\"https://colab.research.google.com/github/xuhu357/DataAnalysis/blob/master/ch04_Numpy_%EA%B8%B0%EB%B3%B8_%EB%B0%B0%EC%97%B4%EA%B3%BC_%EB%B2%A1%ED%84%B0%EA%B3%84%EC%82%B0.ipynb\" target=\"_parent\"><img src=\"https://colab.research.google.com/assets/colab-badge.svg\" alt=\"Open In Colab\"/></a>"
      ]
    },
    {
      "metadata": {
        "id": "IMxrl_DCYCVk",
        "colab_type": "text"
      },
      "cell_type": "markdown",
      "source": [
        "## Numpyt ndarray: 다차원 배열"
      ]
    },
    {
      "metadata": {
        "id": "xzmaRrX0qioW",
        "colab_type": "text"
      },
      "cell_type": "markdown",
      "source": [
        "### Numpy ndarray: 다차원 배열 객체"
      ]
    },
    {
      "metadata": {
        "id": "fZViOnX6Xk88",
        "colab_type": "code",
        "colab": {}
      },
      "cell_type": "code",
      "source": [
        "import numpy as np"
      ],
      "execution_count": 0,
      "outputs": []
    },
    {
      "metadata": {
        "id": "JD4wCfu1YNwW",
        "colab_type": "code",
        "colab": {}
      },
      "cell_type": "code",
      "source": [
        "data = np.random.randn(2, 3)"
      ],
      "execution_count": 0,
      "outputs": []
    },
    {
      "metadata": {
        "id": "_wSTjbUqYZSb",
        "colab_type": "code",
        "outputId": "7f9f4019-2950-4cb5-feb1-b8166ee4097e",
        "colab": {
          "base_uri": "https://localhost:8080/",
          "height": 53
        }
      },
      "cell_type": "code",
      "source": [
        "data"
      ],
      "execution_count": 0,
      "outputs": [
        {
          "output_type": "execute_result",
          "data": {
            "text/plain": [
              "array([[-0.73215443, -0.09594251, -0.21072178],\n",
              "       [ 1.61443282,  0.60936178,  0.20443587]])"
            ]
          },
          "metadata": {
            "tags": []
          },
          "execution_count": 3
        }
      ]
    },
    {
      "metadata": {
        "id": "NSGVJzsGYZ4O",
        "colab_type": "code",
        "outputId": "7a874b53-0dea-43bb-be88-fefc6ed02ddd",
        "colab": {
          "base_uri": "https://localhost:8080/",
          "height": 53
        }
      },
      "cell_type": "code",
      "source": [
        "data * 10"
      ],
      "execution_count": 0,
      "outputs": [
        {
          "output_type": "execute_result",
          "data": {
            "text/plain": [
              "array([[-7.32154432, -0.95942511, -2.10721781],\n",
              "       [16.14432818,  6.09361776,  2.04435873]])"
            ]
          },
          "metadata": {
            "tags": []
          },
          "execution_count": 4
        }
      ]
    },
    {
      "metadata": {
        "id": "fE4ebx1aYfZQ",
        "colab_type": "code",
        "outputId": "aeeaa0e1-4bd1-4002-e306-4bf84174907a",
        "colab": {
          "base_uri": "https://localhost:8080/",
          "height": 53
        }
      },
      "cell_type": "code",
      "source": [
        "data + data"
      ],
      "execution_count": 0,
      "outputs": [
        {
          "output_type": "execute_result",
          "data": {
            "text/plain": [
              "array([[-1.46430886, -0.19188502, -0.42144356],\n",
              "       [ 3.22886564,  1.21872355,  0.40887175]])"
            ]
          },
          "metadata": {
            "tags": []
          },
          "execution_count": 5
        }
      ]
    },
    {
      "metadata": {
        "id": "aM-67HjhYhR9",
        "colab_type": "code",
        "outputId": "5f70fe25-018b-4240-aeb4-e78811da0298",
        "colab": {
          "base_uri": "https://localhost:8080/",
          "height": 35
        }
      },
      "cell_type": "code",
      "source": [
        "data.shape"
      ],
      "execution_count": 0,
      "outputs": [
        {
          "output_type": "execute_result",
          "data": {
            "text/plain": [
              "(2, 3)"
            ]
          },
          "metadata": {
            "tags": []
          },
          "execution_count": 6
        }
      ]
    },
    {
      "metadata": {
        "id": "XKs3lIl6Yj9B",
        "colab_type": "code",
        "outputId": "afc6bede-6707-49d4-a31f-e8b120e8ced7",
        "colab": {
          "base_uri": "https://localhost:8080/",
          "height": 35
        }
      },
      "cell_type": "code",
      "source": [
        "data.dtype"
      ],
      "execution_count": 0,
      "outputs": [
        {
          "output_type": "execute_result",
          "data": {
            "text/plain": [
              "dtype('float64')"
            ]
          },
          "metadata": {
            "tags": []
          },
          "execution_count": 7
        }
      ]
    },
    {
      "metadata": {
        "id": "8ljGLwkmYq6D",
        "colab_type": "text"
      },
      "cell_type": "markdown",
      "source": [
        "#### ndarray 생성\n",
        "\n",
        "array 함수: 순차적인 객체를 받아 넘겨받은 데이터가 들어있는 새로운 Numpy 배열을 반환"
      ]
    },
    {
      "metadata": {
        "id": "VJhGoljQYmVs",
        "colab_type": "code",
        "colab": {}
      },
      "cell_type": "code",
      "source": [
        "data1 = [6, 7.5, 8, 9, 1]"
      ],
      "execution_count": 0,
      "outputs": []
    },
    {
      "metadata": {
        "id": "IeY5OK9kY_9F",
        "colab_type": "code",
        "colab": {}
      },
      "cell_type": "code",
      "source": [
        "arr1 = np.array(data1)"
      ],
      "execution_count": 0,
      "outputs": []
    },
    {
      "metadata": {
        "id": "6RFn3NqEZCrE",
        "colab_type": "code",
        "outputId": "c9803aaa-17dc-428d-9e9c-43b2fdbf9fb5",
        "colab": {
          "base_uri": "https://localhost:8080/",
          "height": 35
        }
      },
      "cell_type": "code",
      "source": [
        "arr1"
      ],
      "execution_count": 0,
      "outputs": [
        {
          "output_type": "execute_result",
          "data": {
            "text/plain": [
              "array([6. , 7.5, 8. , 9. , 1. ])"
            ]
          },
          "metadata": {
            "tags": []
          },
          "execution_count": 10
        }
      ]
    },
    {
      "metadata": {
        "id": "f5eLUdLgZIC-",
        "colab_type": "text"
      },
      "cell_type": "markdown",
      "source": [
        "같은 길이의 리스트가 담겨있는 순차 데이터는 다차원의 배열로 변환이 가능하다. "
      ]
    },
    {
      "metadata": {
        "id": "EA5_AstAZD-v",
        "colab_type": "code",
        "colab": {}
      },
      "cell_type": "code",
      "source": [
        "data2 = [[1, 2, 3, 4], [5, 6, 7, 8]]"
      ],
      "execution_count": 0,
      "outputs": []
    },
    {
      "metadata": {
        "id": "OTGIHLEtZRMV",
        "colab_type": "code",
        "colab": {}
      },
      "cell_type": "code",
      "source": [
        "arr2 = np.array(data2)"
      ],
      "execution_count": 0,
      "outputs": []
    },
    {
      "metadata": {
        "id": "iajmyalNZTzN",
        "colab_type": "code",
        "outputId": "934baff2-2b8e-4632-f307-b70d37682189",
        "colab": {
          "base_uri": "https://localhost:8080/",
          "height": 53
        }
      },
      "cell_type": "code",
      "source": [
        "arr2"
      ],
      "execution_count": 0,
      "outputs": [
        {
          "output_type": "execute_result",
          "data": {
            "text/plain": [
              "array([[1, 2, 3, 4],\n",
              "       [5, 6, 7, 8]])"
            ]
          },
          "metadata": {
            "tags": []
          },
          "execution_count": 13
        }
      ]
    },
    {
      "metadata": {
        "id": "UdwCjSKBZUlw",
        "colab_type": "code",
        "outputId": "8c5c870e-c429-4dc5-9f17-40ce9fc3697e",
        "colab": {
          "base_uri": "https://localhost:8080/",
          "height": 35
        }
      },
      "cell_type": "code",
      "source": [
        "arr2.shape"
      ],
      "execution_count": 0,
      "outputs": [
        {
          "output_type": "execute_result",
          "data": {
            "text/plain": [
              "(2, 4)"
            ]
          },
          "metadata": {
            "tags": []
          },
          "execution_count": 14
        }
      ]
    },
    {
      "metadata": {
        "id": "N66mRFAfZWgk",
        "colab_type": "code",
        "outputId": "ee52dcef-0bb8-4cb1-d197-2e119a93850d",
        "colab": {
          "base_uri": "https://localhost:8080/",
          "height": 35
        }
      },
      "cell_type": "code",
      "source": [
        "arr2.ndim"
      ],
      "execution_count": 0,
      "outputs": [
        {
          "output_type": "execute_result",
          "data": {
            "text/plain": [
              "2"
            ]
          },
          "metadata": {
            "tags": []
          },
          "execution_count": 15
        }
      ]
    },
    {
      "metadata": {
        "id": "WiUA9JT3ZmJg",
        "colab_type": "text"
      },
      "cell_type": "markdown",
      "source": [
        "0으로 초기화 된 배열을 생성하려면, zeros() 함수를 사용하자."
      ]
    },
    {
      "metadata": {
        "id": "iZHxdZGzZdVA",
        "colab_type": "code",
        "outputId": "06269b59-717a-4d07-a3ac-627bedd0c783",
        "colab": {
          "base_uri": "https://localhost:8080/",
          "height": 35
        }
      },
      "cell_type": "code",
      "source": [
        "np.zeros(10)"
      ],
      "execution_count": 0,
      "outputs": [
        {
          "output_type": "execute_result",
          "data": {
            "text/plain": [
              "array([0., 0., 0., 0., 0., 0., 0., 0., 0., 0.])"
            ]
          },
          "metadata": {
            "tags": []
          },
          "execution_count": 16
        }
      ]
    },
    {
      "metadata": {
        "id": "3whXQHWHZtLI",
        "colab_type": "code",
        "outputId": "6fea5b56-a343-4606-ba9e-e57340ae234b",
        "colab": {
          "base_uri": "https://localhost:8080/",
          "height": 71
        }
      },
      "cell_type": "code",
      "source": [
        "np.zeros((3, 6))"
      ],
      "execution_count": 0,
      "outputs": [
        {
          "output_type": "execute_result",
          "data": {
            "text/plain": [
              "array([[0., 0., 0., 0., 0., 0.],\n",
              "       [0., 0., 0., 0., 0., 0.],\n",
              "       [0., 0., 0., 0., 0., 0.]])"
            ]
          },
          "metadata": {
            "tags": []
          },
          "execution_count": 17
        }
      ]
    },
    {
      "metadata": {
        "id": "a43RUUh8Z7dw",
        "colab_type": "text"
      },
      "cell_type": "markdown",
      "source": [
        "empty() 함수는 초기화 되지 않은 배열을 생성. "
      ]
    },
    {
      "metadata": {
        "id": "F-1IDbvvZxLb",
        "colab_type": "code",
        "outputId": "b0320515-aecf-43e9-f70a-69f0f7788ae0",
        "colab": {
          "base_uri": "https://localhost:8080/",
          "height": 143
        }
      },
      "cell_type": "code",
      "source": [
        "np.empty((2, 3, 2))"
      ],
      "execution_count": 0,
      "outputs": [
        {
          "output_type": "execute_result",
          "data": {
            "text/plain": [
              "array([[[2.95926192e-316, 2.32210854e-322],\n",
              "        [0.00000000e+000, 0.00000000e+000],\n",
              "        [0.00000000e+000, 1.16095484e-028]],\n",
              "\n",
              "       [[2.17235265e-153, 3.87204198e+228],\n",
              "        [4.50620803e-144, 1.95288227e+233],\n",
              "        [1.33747193e+253, 1.46030983e-319]]])"
            ]
          },
          "metadata": {
            "tags": []
          },
          "execution_count": 18
        }
      ]
    },
    {
      "metadata": {
        "id": "FTIX3bQ9aDoJ",
        "colab_type": "text"
      },
      "cell_type": "markdown",
      "source": [
        "arange() 함수는 python의 range() 함수의 Numpy 버전이다. "
      ]
    },
    {
      "metadata": {
        "id": "Q5DN1nVqZ0yo",
        "colab_type": "code",
        "outputId": "37c60050-e7b4-4e2a-85f5-e6b969401871",
        "colab": {
          "base_uri": "https://localhost:8080/",
          "height": 35
        }
      },
      "cell_type": "code",
      "source": [
        "np.arange(15)"
      ],
      "execution_count": 0,
      "outputs": [
        {
          "output_type": "execute_result",
          "data": {
            "text/plain": [
              "array([ 0,  1,  2,  3,  4,  5,  6,  7,  8,  9, 10, 11, 12, 13, 14])"
            ]
          },
          "metadata": {
            "tags": []
          },
          "execution_count": 19
        }
      ]
    },
    {
      "metadata": {
        "id": "nrYeMh67aO2f",
        "colab_type": "code",
        "outputId": "e8d9bbd4-3673-480c-f4d9-320f03d3a7d7",
        "colab": {
          "base_uri": "https://localhost:8080/",
          "height": 35
        }
      },
      "cell_type": "code",
      "source": [
        "np.arange(10, 16)"
      ],
      "execution_count": 0,
      "outputs": [
        {
          "output_type": "execute_result",
          "data": {
            "text/plain": [
              "array([10, 11, 12, 13, 14, 15])"
            ]
          },
          "metadata": {
            "tags": []
          },
          "execution_count": 20
        }
      ]
    },
    {
      "metadata": {
        "id": "xO1ikgHZafrk",
        "colab_type": "text"
      },
      "cell_type": "markdown",
      "source": [
        "**배열 생성 함수가 여러개** 있는데 어떤 것이 있는지 구경이나 하고 가자~\n",
        "\n",
        "사용법은 거의 비슷하다. \n",
        "\n",
        "\n",
        "\n",
        "*   array: 입력 데이터(list, tuple, 배열 또는 다른 순차적 데이터)를 ndarray로 변환\n",
        "*   asarray: 입력 데이터를 ndarray로 변환하지만 입력 데이터가 이미 ndarray인 경우, 복사 되지 않음.\n",
        "*   arange: 내장 range 함수와 유사하지만 리스트 대신 ndarray를 반환\n",
        "*   ones, ones_like: 주어진 dtype과 주어진 모양을 가지는 배열을 생성하고 내용을 모두 1로 초기화, ones_like는 주어진 배열과 동일한 모양과 dtype를 가지는 배영르 새로 생성하여 내용을 모두 1로 초기화.\n",
        "*   zeros, zeros_like: ones, ones_like와 같지만 내용을 0으로 초기화\n",
        "*   empty, empty_like: 메모리를 할당하여 새로운 배열을 생성하지만, ones 나 zeros처럼 값을 초기화 하지는 않는다. \n",
        "* eye, identity: N x N 크기의 단위 행렬을 생성(좌단에서 우단으로 잇는 대각선은 1로 채워지고 나머지는 0으로 채워짐.)\n",
        "\n"
      ]
    },
    {
      "metadata": {
        "id": "wncWZ5HwcBAQ",
        "colab_type": "text"
      },
      "cell_type": "markdown",
      "source": [
        "#### ndarray의 자료형"
      ]
    },
    {
      "metadata": {
        "id": "K1ZnW_8vaRL5",
        "colab_type": "code",
        "colab": {}
      },
      "cell_type": "code",
      "source": [
        "arr1 = np.array([1, 2, 3], dtype=np.float64)"
      ],
      "execution_count": 0,
      "outputs": []
    },
    {
      "metadata": {
        "id": "XxhOAfqDcoVM",
        "colab_type": "code",
        "outputId": "bfe4b433-93af-4522-c2ce-189bca463ef7",
        "colab": {
          "base_uri": "https://localhost:8080/",
          "height": 35
        }
      },
      "cell_type": "code",
      "source": [
        "arr1.dtype"
      ],
      "execution_count": 0,
      "outputs": [
        {
          "output_type": "execute_result",
          "data": {
            "text/plain": [
              "dtype('float64')"
            ]
          },
          "metadata": {
            "tags": []
          },
          "execution_count": 22
        }
      ]
    },
    {
      "metadata": {
        "id": "4hFINR68cu-W",
        "colab_type": "text"
      },
      "cell_type": "markdown",
      "source": [
        "명시적으로 다른 자료형으로 바꾸고 싶을 때, "
      ]
    },
    {
      "metadata": {
        "id": "mfvIj0FAcqLW",
        "colab_type": "code",
        "colab": {}
      },
      "cell_type": "code",
      "source": [
        "arr = np.array([1, 2, 3, 4, 5])"
      ],
      "execution_count": 0,
      "outputs": []
    },
    {
      "metadata": {
        "id": "5uVwQ3F3c48z",
        "colab_type": "code",
        "outputId": "658f2094-e883-4b37-bd92-4a6da86666eb",
        "colab": {
          "base_uri": "https://localhost:8080/",
          "height": 35
        }
      },
      "cell_type": "code",
      "source": [
        "arr.dtype"
      ],
      "execution_count": 0,
      "outputs": [
        {
          "output_type": "execute_result",
          "data": {
            "text/plain": [
              "dtype('int64')"
            ]
          },
          "metadata": {
            "tags": []
          },
          "execution_count": 24
        }
      ]
    },
    {
      "metadata": {
        "id": "q4G_rGpJc6Qt",
        "colab_type": "code",
        "colab": {}
      },
      "cell_type": "code",
      "source": [
        "float_arr = arr.astype(np.float64)"
      ],
      "execution_count": 0,
      "outputs": []
    },
    {
      "metadata": {
        "id": "yHix5_oic_wT",
        "colab_type": "code",
        "outputId": "5d3e8093-2763-4876-8d82-ce8963af596c",
        "colab": {
          "base_uri": "https://localhost:8080/",
          "height": 35
        }
      },
      "cell_type": "code",
      "source": [
        "float_arr.dtype"
      ],
      "execution_count": 0,
      "outputs": [
        {
          "output_type": "execute_result",
          "data": {
            "text/plain": [
              "dtype('float64')"
            ]
          },
          "metadata": {
            "tags": []
          },
          "execution_count": 26
        }
      ]
    },
    {
      "metadata": {
        "id": "QeRZdSJPdGAh",
        "colab_type": "text"
      },
      "cell_type": "markdown",
      "source": [
        "부동소수점을 정수형으로 변환하려면,"
      ]
    },
    {
      "metadata": {
        "id": "tEhzFbxhdCVt",
        "colab_type": "code",
        "colab": {}
      },
      "cell_type": "code",
      "source": [
        "arr = np.array([-0.7, 3.2])"
      ],
      "execution_count": 0,
      "outputs": []
    },
    {
      "metadata": {
        "id": "Aq8DoBHMdS98",
        "colab_type": "code",
        "outputId": "cee9cd93-9455-4340-8a35-8b3916aea091",
        "colab": {
          "base_uri": "https://localhost:8080/",
          "height": 35
        }
      },
      "cell_type": "code",
      "source": [
        "arr.dtype"
      ],
      "execution_count": 0,
      "outputs": [
        {
          "output_type": "execute_result",
          "data": {
            "text/plain": [
              "dtype('float64')"
            ]
          },
          "metadata": {
            "tags": []
          },
          "execution_count": 28
        }
      ]
    },
    {
      "metadata": {
        "id": "zzXtGawndU4_",
        "colab_type": "code",
        "outputId": "79f73775-76ab-424a-daf2-ed2370faa14d",
        "colab": {
          "base_uri": "https://localhost:8080/",
          "height": 35
        }
      },
      "cell_type": "code",
      "source": [
        "arr.astype(np.int32)"
      ],
      "execution_count": 0,
      "outputs": [
        {
          "output_type": "execute_result",
          "data": {
            "text/plain": [
              "array([0, 3], dtype=int32)"
            ]
          },
          "metadata": {
            "tags": []
          },
          "execution_count": 29
        }
      ]
    },
    {
      "metadata": {
        "id": "1apfL83zdXtb",
        "colab_type": "code",
        "outputId": "399aaa73-783e-467a-e3e7-e96b7cd60ce4",
        "colab": {
          "base_uri": "https://localhost:8080/",
          "height": 35
        }
      },
      "cell_type": "code",
      "source": [
        "arr.dtype  # 위의 operation에서 할당은 하지 않았으므로 arr자체는 변하지 않음. "
      ],
      "execution_count": 0,
      "outputs": [
        {
          "output_type": "execute_result",
          "data": {
            "text/plain": [
              "dtype('float64')"
            ]
          },
          "metadata": {
            "tags": []
          },
          "execution_count": 30
        }
      ]
    },
    {
      "metadata": {
        "id": "s9s4S8n_dtnS",
        "colab_type": "text"
      },
      "cell_type": "markdown",
      "source": [
        "만약, 숫자 형식의 문자열을 담고 있는 배열이 있다면, astype를 사용하여 숫자로 변환"
      ]
    },
    {
      "metadata": {
        "id": "03YfXg9JdZOW",
        "colab_type": "code",
        "colab": {}
      },
      "cell_type": "code",
      "source": [
        "numeric_string = np.array(['1.2', '3.7'], dtype=np.string_)"
      ],
      "execution_count": 0,
      "outputs": []
    },
    {
      "metadata": {
        "id": "kK_mAEzpeGFH",
        "colab_type": "code",
        "outputId": "8f2e2775-3dd1-4502-e88e-3a7ac64d94bc",
        "colab": {
          "base_uri": "https://localhost:8080/",
          "height": 35
        }
      },
      "cell_type": "code",
      "source": [
        "numeric_string.astype(np.float64)"
      ],
      "execution_count": 0,
      "outputs": [
        {
          "output_type": "execute_result",
          "data": {
            "text/plain": [
              "array([1.2, 3.7])"
            ]
          },
          "metadata": {
            "tags": []
          },
          "execution_count": 32
        }
      ]
    },
    {
      "metadata": {
        "id": "-xnJL_ffeYTL",
        "colab_type": "text"
      },
      "cell_type": "markdown",
      "source": [
        "dtype로 사용할 수 있는 축약코드, 아래 u4는 uint32와 같다."
      ]
    },
    {
      "metadata": {
        "id": "t3rC3df5eKGe",
        "colab_type": "code",
        "colab": {}
      },
      "cell_type": "code",
      "source": [
        "empty_int32 = np.empty(8, dtype='u4')"
      ],
      "execution_count": 0,
      "outputs": []
    },
    {
      "metadata": {
        "id": "5o3TkN-3elfq",
        "colab_type": "code",
        "outputId": "9b159394-be13-4811-ea6e-f39255ca4283",
        "colab": {
          "base_uri": "https://localhost:8080/",
          "height": 35
        }
      },
      "cell_type": "code",
      "source": [
        "empty_int32.dtype"
      ],
      "execution_count": 0,
      "outputs": [
        {
          "output_type": "execute_result",
          "data": {
            "text/plain": [
              "dtype('uint32')"
            ]
          },
          "metadata": {
            "tags": []
          },
          "execution_count": 34
        }
      ]
    },
    {
      "metadata": {
        "id": "tE_k_SbNetop",
        "colab_type": "text"
      },
      "cell_type": "markdown",
      "source": [
        "#### 배열과 스칼라 간의 연산\n",
        "\n",
        "\n",
        "배열은 for문을 작성하지 않고 데이터를 일괄처리할수 있기 때문에 중요하다. \n",
        "\n",
        "이를 백터화라고 하는데, 같은 크기의 배열 간 산술연산은 배열의 각 요소 단위로 적용됨."
      ]
    },
    {
      "metadata": {
        "id": "LjxgJM7Genq4",
        "colab_type": "code",
        "colab": {}
      },
      "cell_type": "code",
      "source": [
        "arr = np.array([[1., 2., 3.], [4., 5., 6.]])"
      ],
      "execution_count": 0,
      "outputs": []
    },
    {
      "metadata": {
        "id": "UszojvlgfJl3",
        "colab_type": "code",
        "outputId": "5dcfaefa-ab85-4b30-b173-3337cc4b7f73",
        "colab": {
          "base_uri": "https://localhost:8080/",
          "height": 53
        }
      },
      "cell_type": "code",
      "source": [
        "arr"
      ],
      "execution_count": 0,
      "outputs": [
        {
          "output_type": "execute_result",
          "data": {
            "text/plain": [
              "array([[1., 2., 3.],\n",
              "       [4., 5., 6.]])"
            ]
          },
          "metadata": {
            "tags": []
          },
          "execution_count": 37
        }
      ]
    },
    {
      "metadata": {
        "id": "MgKKcrIbfPok",
        "colab_type": "code",
        "outputId": "1f3e944a-b5d7-4cfe-9c75-74bed5a6df8a",
        "colab": {
          "base_uri": "https://localhost:8080/",
          "height": 53
        }
      },
      "cell_type": "code",
      "source": [
        "arr * arr"
      ],
      "execution_count": 0,
      "outputs": [
        {
          "output_type": "execute_result",
          "data": {
            "text/plain": [
              "array([[ 1.,  4.,  9.],\n",
              "       [16., 25., 36.]])"
            ]
          },
          "metadata": {
            "tags": []
          },
          "execution_count": 38
        }
      ]
    },
    {
      "metadata": {
        "id": "Qh3I-oCgfRno",
        "colab_type": "code",
        "outputId": "16b54ba4-7088-418c-d7cc-5d651b8c8a38",
        "colab": {
          "base_uri": "https://localhost:8080/",
          "height": 53
        }
      },
      "cell_type": "code",
      "source": [
        "1/arr"
      ],
      "execution_count": 0,
      "outputs": [
        {
          "output_type": "execute_result",
          "data": {
            "text/plain": [
              "array([[1.        , 0.5       , 0.33333333],\n",
              "       [0.25      , 0.2       , 0.16666667]])"
            ]
          },
          "metadata": {
            "tags": []
          },
          "execution_count": 39
        }
      ]
    },
    {
      "metadata": {
        "id": "dmhLLhiGfWQY",
        "colab_type": "code",
        "outputId": "17b1f040-5cdb-46a2-a695-b5881bb3cd7b",
        "colab": {
          "base_uri": "https://localhost:8080/",
          "height": 53
        }
      },
      "cell_type": "code",
      "source": [
        "arr ** 0.5"
      ],
      "execution_count": 0,
      "outputs": [
        {
          "output_type": "execute_result",
          "data": {
            "text/plain": [
              "array([[1.        , 1.41421356, 1.73205081],\n",
              "       [2.        , 2.23606798, 2.44948974]])"
            ]
          },
          "metadata": {
            "tags": []
          },
          "execution_count": 40
        }
      ]
    },
    {
      "metadata": {
        "id": "aHi52Dk2fdfz",
        "colab_type": "text"
      },
      "cell_type": "markdown",
      "source": [
        "크기가 다른 배열간의 연산은 **브로드캐스팅**이라고 함. "
      ]
    },
    {
      "metadata": {
        "id": "EgQvOI2ZfkSs",
        "colab_type": "text"
      },
      "cell_type": "markdown",
      "source": [
        "#### 색인과 슬라이싱 기초"
      ]
    },
    {
      "metadata": {
        "id": "rspc9eAjfZYP",
        "colab_type": "code",
        "colab": {}
      },
      "cell_type": "code",
      "source": [
        "arr = np.arange(10)"
      ],
      "execution_count": 0,
      "outputs": []
    },
    {
      "metadata": {
        "id": "hNcvS-tIftd3",
        "colab_type": "code",
        "outputId": "bceddcae-166b-47e7-c269-349f998f0e5e",
        "colab": {
          "base_uri": "https://localhost:8080/",
          "height": 35
        }
      },
      "cell_type": "code",
      "source": [
        "arr"
      ],
      "execution_count": 0,
      "outputs": [
        {
          "output_type": "execute_result",
          "data": {
            "text/plain": [
              "array([0, 1, 2, 3, 4, 5, 6, 7, 8, 9])"
            ]
          },
          "metadata": {
            "tags": []
          },
          "execution_count": 42
        }
      ]
    },
    {
      "metadata": {
        "id": "sVl9NpclfuZA",
        "colab_type": "code",
        "outputId": "5edbdcae-27f4-46c7-8d2b-c9a58df2add8",
        "colab": {
          "base_uri": "https://localhost:8080/",
          "height": 35
        }
      },
      "cell_type": "code",
      "source": [
        "arr[5]"
      ],
      "execution_count": 0,
      "outputs": [
        {
          "output_type": "execute_result",
          "data": {
            "text/plain": [
              "5"
            ]
          },
          "metadata": {
            "tags": []
          },
          "execution_count": 43
        }
      ]
    },
    {
      "metadata": {
        "id": "7hDiZdl0fv9e",
        "colab_type": "code",
        "outputId": "e581e045-6666-47e7-d735-44b8509d17de",
        "colab": {
          "base_uri": "https://localhost:8080/",
          "height": 35
        }
      },
      "cell_type": "code",
      "source": [
        "arr[5:8]"
      ],
      "execution_count": 0,
      "outputs": [
        {
          "output_type": "execute_result",
          "data": {
            "text/plain": [
              "array([5, 6, 7])"
            ]
          },
          "metadata": {
            "tags": []
          },
          "execution_count": 44
        }
      ]
    },
    {
      "metadata": {
        "id": "PxSR5ykrfzLo",
        "colab_type": "code",
        "colab": {}
      },
      "cell_type": "code",
      "source": [
        "arr[5:8] =12"
      ],
      "execution_count": 0,
      "outputs": []
    },
    {
      "metadata": {
        "id": "jm8MY-SCf3B2",
        "colab_type": "code",
        "outputId": "775e87e0-b38f-48a9-afc9-4a7ddbe422e3",
        "colab": {
          "base_uri": "https://localhost:8080/",
          "height": 35
        }
      },
      "cell_type": "code",
      "source": [
        "arr"
      ],
      "execution_count": 0,
      "outputs": [
        {
          "output_type": "execute_result",
          "data": {
            "text/plain": [
              "array([ 0,  1,  2,  3,  4, 12, 12, 12,  8,  9])"
            ]
          },
          "metadata": {
            "tags": []
          },
          "execution_count": 46
        }
      ]
    },
    {
      "metadata": {
        "id": "xJ6l-vl5gBj9",
        "colab_type": "text"
      },
      "cell_type": "markdown",
      "source": [
        "리스트와 중요한 다른점은 배열 조각은 원본 배열의 뷰이다. \n",
        "\n",
        "**데이터는 복사되지 않고, 뷰에 대한 변경은 직접 원본 배열에 반영**된다는 점이다."
      ]
    },
    {
      "metadata": {
        "id": "0IPuiVYef32Z",
        "colab_type": "code",
        "colab": {}
      },
      "cell_type": "code",
      "source": [
        "arr_slice = arr[5:8]"
      ],
      "execution_count": 0,
      "outputs": []
    },
    {
      "metadata": {
        "id": "-XSke4gTgTGX",
        "colab_type": "code",
        "colab": {}
      },
      "cell_type": "code",
      "source": [
        "arr_slice[1] = 12345"
      ],
      "execution_count": 0,
      "outputs": []
    },
    {
      "metadata": {
        "id": "wp_S870lgWU7",
        "colab_type": "code",
        "outputId": "5e153640-4c51-48ea-8467-509cf3e1e80a",
        "colab": {
          "base_uri": "https://localhost:8080/",
          "height": 53
        }
      },
      "cell_type": "code",
      "source": [
        "arr"
      ],
      "execution_count": 0,
      "outputs": [
        {
          "output_type": "execute_result",
          "data": {
            "text/plain": [
              "array([    0,     1,     2,     3,     4,    12, 12345,    12,     8,\n",
              "           9])"
            ]
          },
          "metadata": {
            "tags": []
          },
          "execution_count": 50
        }
      ]
    },
    {
      "metadata": {
        "id": "1LQrpu8igaXe",
        "colab_type": "code",
        "colab": {}
      },
      "cell_type": "code",
      "source": [
        "arr_slice[:] = 64"
      ],
      "execution_count": 0,
      "outputs": []
    },
    {
      "metadata": {
        "id": "41DxWpYmge4q",
        "colab_type": "code",
        "outputId": "17112a61-97b5-43f8-8779-862cb2497fa7",
        "colab": {
          "base_uri": "https://localhost:8080/",
          "height": 35
        }
      },
      "cell_type": "code",
      "source": [
        "arr"
      ],
      "execution_count": 0,
      "outputs": [
        {
          "output_type": "execute_result",
          "data": {
            "text/plain": [
              "array([ 0,  1,  2,  3,  4, 64, 64, 64,  8,  9])"
            ]
          },
          "metadata": {
            "tags": []
          },
          "execution_count": 53
        }
      ]
    },
    {
      "metadata": {
        "id": "cq2dan6CgnR_",
        "colab_type": "text"
      },
      "cell_type": "markdown",
      "source": [
        "조금 당황할 수도 있지만, Numpy가 대용량 데이터 처리를 염두에 두고 설계 되었기 때문에, 만약 Numpy가 데이터복사를 남발한다면, 성능과 메모리 문제에 직면할 것이다. "
      ]
    },
    {
      "metadata": {
        "id": "9weuBARogf4E",
        "colab_type": "code",
        "colab": {}
      },
      "cell_type": "code",
      "source": [
        "arr2d = np.array([[1,2, 3], \n",
        "                 [4, 5, 6],\n",
        "                 [7, 8, 9]])"
      ],
      "execution_count": 0,
      "outputs": []
    },
    {
      "metadata": {
        "id": "teMtY_9LhHjC",
        "colab_type": "code",
        "outputId": "9040f841-5326-42f2-ba4c-3687e8f17b10",
        "colab": {
          "base_uri": "https://localhost:8080/",
          "height": 35
        }
      },
      "cell_type": "code",
      "source": [
        "arr2d[2]"
      ],
      "execution_count": 0,
      "outputs": [
        {
          "output_type": "execute_result",
          "data": {
            "text/plain": [
              "array([7, 8, 9])"
            ]
          },
          "metadata": {
            "tags": []
          },
          "execution_count": 55
        }
      ]
    },
    {
      "metadata": {
        "id": "N3P9FCqzhKKR",
        "colab_type": "code",
        "outputId": "3e352d79-8a7c-40a6-89bc-eb38ead3027e",
        "colab": {
          "base_uri": "https://localhost:8080/",
          "height": 35
        }
      },
      "cell_type": "code",
      "source": [
        "arr2d[0][2]"
      ],
      "execution_count": 0,
      "outputs": [
        {
          "output_type": "execute_result",
          "data": {
            "text/plain": [
              "3"
            ]
          },
          "metadata": {
            "tags": []
          },
          "execution_count": 56
        }
      ]
    },
    {
      "metadata": {
        "id": "m6NONMekhO2c",
        "colab_type": "code",
        "outputId": "ac16c1b3-db2f-479e-c367-6c0fef3c380e",
        "colab": {
          "base_uri": "https://localhost:8080/",
          "height": 35
        }
      },
      "cell_type": "code",
      "source": [
        "arr2d[0, 2]"
      ],
      "execution_count": 0,
      "outputs": [
        {
          "output_type": "execute_result",
          "data": {
            "text/plain": [
              "3"
            ]
          },
          "metadata": {
            "tags": []
          },
          "execution_count": 57
        }
      ]
    },
    {
      "metadata": {
        "id": "NHvWjPkchc6u",
        "colab_type": "text"
      },
      "cell_type": "markdown",
      "source": [
        "3차원 데이터에 대해서 보자"
      ]
    },
    {
      "metadata": {
        "id": "4RL7-SG-hSPl",
        "colab_type": "code",
        "colab": {}
      },
      "cell_type": "code",
      "source": [
        "arr3d = np.array([[[1, 2, 3], [4, 5, 6]], [[7, 8, 9], [10, 11, 12]]])"
      ],
      "execution_count": 0,
      "outputs": []
    },
    {
      "metadata": {
        "id": "q4tOWKlJhxsi",
        "colab_type": "code",
        "outputId": "9398feeb-7104-4572-b4b1-bce6372d1dd2",
        "colab": {
          "base_uri": "https://localhost:8080/",
          "height": 107
        }
      },
      "cell_type": "code",
      "source": [
        "arr3d"
      ],
      "execution_count": 0,
      "outputs": [
        {
          "output_type": "execute_result",
          "data": {
            "text/plain": [
              "array([[[ 1,  2,  3],\n",
              "        [ 4,  5,  6]],\n",
              "\n",
              "       [[ 7,  8,  9],\n",
              "        [10, 11, 12]]])"
            ]
          },
          "metadata": {
            "tags": []
          },
          "execution_count": 59
        }
      ]
    },
    {
      "metadata": {
        "id": "i3JvBiTmhy8e",
        "colab_type": "code",
        "outputId": "f5c3332f-5ec9-4900-80b3-4a0cd3d20955",
        "colab": {
          "base_uri": "https://localhost:8080/",
          "height": 53
        }
      },
      "cell_type": "code",
      "source": [
        "arr3d[0]"
      ],
      "execution_count": 0,
      "outputs": [
        {
          "output_type": "execute_result",
          "data": {
            "text/plain": [
              "array([[1, 2, 3],\n",
              "       [4, 5, 6]])"
            ]
          },
          "metadata": {
            "tags": []
          },
          "execution_count": 60
        }
      ]
    },
    {
      "metadata": {
        "id": "1C_1faxZh1gL",
        "colab_type": "code",
        "outputId": "bc78a2a2-9586-4092-a864-f7ea7a88e963",
        "colab": {
          "base_uri": "https://localhost:8080/",
          "height": 35
        }
      },
      "cell_type": "code",
      "source": [
        "arr3d.shape"
      ],
      "execution_count": 0,
      "outputs": [
        {
          "output_type": "execute_result",
          "data": {
            "text/plain": [
              "(2, 2, 3)"
            ]
          },
          "metadata": {
            "tags": []
          },
          "execution_count": 61
        }
      ]
    },
    {
      "metadata": {
        "id": "C2c-l65Uh3U0",
        "colab_type": "code",
        "colab": {}
      },
      "cell_type": "code",
      "source": [
        "old_values = arr3d[0].copy()"
      ],
      "execution_count": 0,
      "outputs": []
    },
    {
      "metadata": {
        "id": "3LLi9No7iGji",
        "colab_type": "code",
        "outputId": "7a640a1c-b4b7-4687-a627-60d4a593e36d",
        "colab": {
          "base_uri": "https://localhost:8080/",
          "height": 53
        }
      },
      "cell_type": "code",
      "source": [
        "old_values"
      ],
      "execution_count": 0,
      "outputs": [
        {
          "output_type": "execute_result",
          "data": {
            "text/plain": [
              "array([[1, 2, 3],\n",
              "       [4, 5, 6]])"
            ]
          },
          "metadata": {
            "tags": []
          },
          "execution_count": 63
        }
      ]
    },
    {
      "metadata": {
        "id": "uOYWHM3piHm3",
        "colab_type": "code",
        "colab": {}
      },
      "cell_type": "code",
      "source": [
        "arr3d[0] = 42 # 삶과 우주, 그리고 모든 것에 대한 궁극적인 해답"
      ],
      "execution_count": 0,
      "outputs": []
    },
    {
      "metadata": {
        "id": "rDjvuOSBiLJs",
        "colab_type": "code",
        "outputId": "44fe9d3b-2092-4c23-8d5d-2c1a649e9128",
        "colab": {
          "base_uri": "https://localhost:8080/",
          "height": 107
        }
      },
      "cell_type": "code",
      "source": [
        "arr3d"
      ],
      "execution_count": 0,
      "outputs": [
        {
          "output_type": "execute_result",
          "data": {
            "text/plain": [
              "array([[[42, 42, 42],\n",
              "        [42, 42, 42]],\n",
              "\n",
              "       [[ 7,  8,  9],\n",
              "        [10, 11, 12]]])"
            ]
          },
          "metadata": {
            "tags": []
          },
          "execution_count": 65
        }
      ]
    },
    {
      "metadata": {
        "id": "bBYLw1cZiWJo",
        "colab_type": "code",
        "colab": {}
      },
      "cell_type": "code",
      "source": [
        "arr3d[0] = old_values"
      ],
      "execution_count": 0,
      "outputs": []
    },
    {
      "metadata": {
        "id": "HJDrgF_AiaG5",
        "colab_type": "code",
        "outputId": "42139766-f4c1-48bc-d50c-e3a791c64ff2",
        "colab": {
          "base_uri": "https://localhost:8080/",
          "height": 107
        }
      },
      "cell_type": "code",
      "source": [
        "arr3d"
      ],
      "execution_count": 0,
      "outputs": [
        {
          "output_type": "execute_result",
          "data": {
            "text/plain": [
              "array([[[ 1,  2,  3],\n",
              "        [ 4,  5,  6]],\n",
              "\n",
              "       [[ 7,  8,  9],\n",
              "        [10, 11, 12]]])"
            ]
          },
          "metadata": {
            "tags": []
          },
          "execution_count": 67
        }
      ]
    },
    {
      "metadata": {
        "id": "V_Qs510dibG3",
        "colab_type": "code",
        "outputId": "2b154850-0f8f-464a-89de-3f9ab8aef4f4",
        "colab": {
          "base_uri": "https://localhost:8080/",
          "height": 35
        }
      },
      "cell_type": "code",
      "source": [
        "arr3d[1, 0]"
      ],
      "execution_count": 0,
      "outputs": [
        {
          "output_type": "execute_result",
          "data": {
            "text/plain": [
              "array([7, 8, 9])"
            ]
          },
          "metadata": {
            "tags": []
          },
          "execution_count": 68
        }
      ]
    },
    {
      "metadata": {
        "id": "uRmI3xUqimyw",
        "colab_type": "text"
      },
      "cell_type": "markdown",
      "source": [
        "슬라이스 색인에 대해서 알아보자"
      ]
    },
    {
      "metadata": {
        "id": "Ppd_vOe2igW8",
        "colab_type": "code",
        "outputId": "f283a90b-c471-49ce-d369-df5dad681e84",
        "colab": {
          "base_uri": "https://localhost:8080/",
          "height": 35
        }
      },
      "cell_type": "code",
      "source": [
        "arr"
      ],
      "execution_count": 0,
      "outputs": [
        {
          "output_type": "execute_result",
          "data": {
            "text/plain": [
              "array([ 0,  1,  2,  3,  4, 64, 64, 64,  8,  9])"
            ]
          },
          "metadata": {
            "tags": []
          },
          "execution_count": 69
        }
      ]
    },
    {
      "metadata": {
        "id": "6gN18bgFilbr",
        "colab_type": "code",
        "outputId": "7863d6f3-4049-4e09-9124-3082bfcf4107",
        "colab": {
          "base_uri": "https://localhost:8080/",
          "height": 35
        }
      },
      "cell_type": "code",
      "source": [
        "arr[1:6]"
      ],
      "execution_count": 0,
      "outputs": [
        {
          "output_type": "execute_result",
          "data": {
            "text/plain": [
              "array([ 1,  2,  3,  4, 64])"
            ]
          },
          "metadata": {
            "tags": []
          },
          "execution_count": 70
        }
      ]
    },
    {
      "metadata": {
        "id": "i3CK9u0Liz0v",
        "colab_type": "text"
      },
      "cell_type": "markdown",
      "source": [
        "1차원은 이해가 잘 되는데, 다차원은 어떨까"
      ]
    },
    {
      "metadata": {
        "id": "0V_pSbu4ispx",
        "colab_type": "code",
        "outputId": "fecec22b-2196-4a1b-bea6-d9e02f35d5a3",
        "colab": {
          "base_uri": "https://localhost:8080/",
          "height": 71
        }
      },
      "cell_type": "code",
      "source": [
        "arr2d"
      ],
      "execution_count": 0,
      "outputs": [
        {
          "output_type": "execute_result",
          "data": {
            "text/plain": [
              "array([[1, 2, 3],\n",
              "       [4, 5, 6],\n",
              "       [7, 8, 9]])"
            ]
          },
          "metadata": {
            "tags": []
          },
          "execution_count": 71
        }
      ]
    },
    {
      "metadata": {
        "id": "KU7wZyU9iyqP",
        "colab_type": "code",
        "outputId": "ef05de31-cf6f-460b-ff56-d1ec45c5890c",
        "colab": {
          "base_uri": "https://localhost:8080/",
          "height": 53
        }
      },
      "cell_type": "code",
      "source": [
        "arr2d[:2]"
      ],
      "execution_count": 0,
      "outputs": [
        {
          "output_type": "execute_result",
          "data": {
            "text/plain": [
              "array([[1, 2, 3],\n",
              "       [4, 5, 6]])"
            ]
          },
          "metadata": {
            "tags": []
          },
          "execution_count": 72
        }
      ]
    },
    {
      "metadata": {
        "id": "zPq3vl3ii8bh",
        "colab_type": "code",
        "outputId": "67e5cd14-6125-490c-9218-111f542ae2fc",
        "colab": {
          "base_uri": "https://localhost:8080/",
          "height": 53
        }
      },
      "cell_type": "code",
      "source": [
        "arr2d[:2, 1:]"
      ],
      "execution_count": 0,
      "outputs": [
        {
          "output_type": "execute_result",
          "data": {
            "text/plain": [
              "array([[2, 3],\n",
              "       [5, 6]])"
            ]
          },
          "metadata": {
            "tags": []
          },
          "execution_count": 73
        }
      ]
    },
    {
      "metadata": {
        "id": "RB8V-PFmjIVt",
        "colab_type": "code",
        "outputId": "ffe5e70a-187d-4851-b409-c7468787c2b6",
        "colab": {
          "base_uri": "https://localhost:8080/",
          "height": 35
        }
      },
      "cell_type": "code",
      "source": [
        "arr2d[1, :2]"
      ],
      "execution_count": 0,
      "outputs": [
        {
          "output_type": "execute_result",
          "data": {
            "text/plain": [
              "array([4, 5])"
            ]
          },
          "metadata": {
            "tags": []
          },
          "execution_count": 74
        }
      ]
    },
    {
      "metadata": {
        "id": "dsDWzNQ_jWv9",
        "colab_type": "code",
        "outputId": "af9639ae-896d-466e-b611-9e03d1ab3021",
        "colab": {
          "base_uri": "https://localhost:8080/",
          "height": 35
        }
      },
      "cell_type": "code",
      "source": [
        "arr2d[2, :1]"
      ],
      "execution_count": 0,
      "outputs": [
        {
          "output_type": "execute_result",
          "data": {
            "text/plain": [
              "array([7])"
            ]
          },
          "metadata": {
            "tags": []
          },
          "execution_count": 75
        }
      ]
    },
    {
      "metadata": {
        "id": "IkPGzzukjZP2",
        "colab_type": "code",
        "outputId": "d4576629-532b-4b0a-fbe1-792bd4265c20",
        "colab": {
          "base_uri": "https://localhost:8080/",
          "height": 71
        }
      },
      "cell_type": "code",
      "source": [
        "arr2d[:, :1]"
      ],
      "execution_count": 0,
      "outputs": [
        {
          "output_type": "execute_result",
          "data": {
            "text/plain": [
              "array([[1],\n",
              "       [4],\n",
              "       [7]])"
            ]
          },
          "metadata": {
            "tags": []
          },
          "execution_count": 76
        }
      ]
    },
    {
      "metadata": {
        "id": "VR8cJY4BjcIG",
        "colab_type": "code",
        "colab": {}
      },
      "cell_type": "code",
      "source": [
        "arr2d[:2, 1:] = 0"
      ],
      "execution_count": 0,
      "outputs": []
    },
    {
      "metadata": {
        "id": "fJQ5ByDGjjVJ",
        "colab_type": "code",
        "outputId": "7f801376-9604-4770-8ca3-83f362ae7be4",
        "colab": {
          "base_uri": "https://localhost:8080/",
          "height": 71
        }
      },
      "cell_type": "code",
      "source": [
        "arr2d"
      ],
      "execution_count": 0,
      "outputs": [
        {
          "output_type": "execute_result",
          "data": {
            "text/plain": [
              "array([[1, 0, 0],\n",
              "       [4, 0, 0],\n",
              "       [7, 8, 9]])"
            ]
          },
          "metadata": {
            "tags": []
          },
          "execution_count": 78
        }
      ]
    },
    {
      "metadata": {
        "id": "1dEDW5e8joJT",
        "colab_type": "text"
      },
      "cell_type": "markdown",
      "source": [
        "#### Boolean Index 불리언 색인"
      ]
    },
    {
      "metadata": {
        "id": "UzQFvbT3jk3R",
        "colab_type": "code",
        "colab": {}
      },
      "cell_type": "code",
      "source": [
        "names = np.array(['Bob', 'Joe', 'Will', 'Bob', 'Will', 'Joe', 'Joe'])"
      ],
      "execution_count": 0,
      "outputs": []
    },
    {
      "metadata": {
        "id": "s-m9tnkEmO8V",
        "colab_type": "code",
        "colab": {}
      },
      "cell_type": "code",
      "source": [
        "data = np.random.randn(7, 4)"
      ],
      "execution_count": 0,
      "outputs": []
    },
    {
      "metadata": {
        "id": "DiJT-s0omUM6",
        "colab_type": "code",
        "outputId": "cc70ad9f-da91-4a30-85a5-8cdb76300bf8",
        "colab": {
          "base_uri": "https://localhost:8080/",
          "height": 35
        }
      },
      "cell_type": "code",
      "source": [
        "names\n"
      ],
      "execution_count": 0,
      "outputs": [
        {
          "output_type": "execute_result",
          "data": {
            "text/plain": [
              "array(['Bob', 'Joe', 'Will', 'Bob', 'Will', 'Joe', 'Joe'], dtype='<U4')"
            ]
          },
          "metadata": {
            "tags": []
          },
          "execution_count": 81
        }
      ]
    },
    {
      "metadata": {
        "id": "63Ixwy6GmWDb",
        "colab_type": "code",
        "outputId": "86d5d0f5-bd15-4db9-87f8-e3833eac7880",
        "colab": {
          "base_uri": "https://localhost:8080/",
          "height": 143
        }
      },
      "cell_type": "code",
      "source": [
        "data"
      ],
      "execution_count": 0,
      "outputs": [
        {
          "output_type": "execute_result",
          "data": {
            "text/plain": [
              "array([[ 1.66306023,  1.76674566, -0.47525414, -2.04244466],\n",
              "       [-1.31694456, -0.21581542, -0.90132719, -0.69669263],\n",
              "       [-0.77900513,  1.34959594,  2.97822912,  0.54050917],\n",
              "       [ 1.33664817,  0.23306697,  0.05107528, -2.99658939],\n",
              "       [-0.69758963, -0.17101223, -2.16606116,  1.32533629],\n",
              "       [-0.19225154, -0.10205401,  2.90076462,  1.97270546],\n",
              "       [ 0.06232017, -2.21203941,  0.95598506, -1.50841364]])"
            ]
          },
          "metadata": {
            "tags": []
          },
          "execution_count": 82
        }
      ]
    },
    {
      "metadata": {
        "id": "R_T2WX5hmZ76",
        "colab_type": "code",
        "outputId": "6d764cce-3dc5-4b74-d034-7f89517a0aaa",
        "colab": {
          "base_uri": "https://localhost:8080/",
          "height": 35
        }
      },
      "cell_type": "code",
      "source": [
        "names == 'Bob'"
      ],
      "execution_count": 0,
      "outputs": [
        {
          "output_type": "execute_result",
          "data": {
            "text/plain": [
              "array([ True, False, False,  True, False, False, False])"
            ]
          },
          "metadata": {
            "tags": []
          },
          "execution_count": 83
        }
      ]
    },
    {
      "metadata": {
        "id": "WNrGyrELmfr_",
        "colab_type": "code",
        "outputId": "17be628c-85da-4ff3-eb4f-33aff6175715",
        "colab": {
          "base_uri": "https://localhost:8080/",
          "height": 53
        }
      },
      "cell_type": "code",
      "source": [
        "data[names=='Bob']"
      ],
      "execution_count": 0,
      "outputs": [
        {
          "output_type": "execute_result",
          "data": {
            "text/plain": [
              "array([[ 1.66306023,  1.76674566, -0.47525414, -2.04244466],\n",
              "       [ 1.33664817,  0.23306697,  0.05107528, -2.99658939]])"
            ]
          },
          "metadata": {
            "tags": []
          },
          "execution_count": 84
        }
      ]
    },
    {
      "metadata": {
        "id": "FDNSEHaUmnxI",
        "colab_type": "code",
        "outputId": "dee0e643-0d22-4952-d430-8c335b5ac421",
        "colab": {
          "base_uri": "https://localhost:8080/",
          "height": 53
        }
      },
      "cell_type": "code",
      "source": [
        "data[names=='Bob', 2:]"
      ],
      "execution_count": 0,
      "outputs": [
        {
          "output_type": "execute_result",
          "data": {
            "text/plain": [
              "array([[-0.47525414, -2.04244466],\n",
              "       [ 0.05107528, -2.99658939]])"
            ]
          },
          "metadata": {
            "tags": []
          },
          "execution_count": 85
        }
      ]
    },
    {
      "metadata": {
        "id": "J28rU1uKmvQW",
        "colab_type": "code",
        "outputId": "3d7a91df-479f-4319-f153-c91d60b786b4",
        "colab": {
          "base_uri": "https://localhost:8080/",
          "height": 35
        }
      },
      "cell_type": "code",
      "source": [
        "data[names=='Bob', 3]"
      ],
      "execution_count": 0,
      "outputs": [
        {
          "output_type": "execute_result",
          "data": {
            "text/plain": [
              "array([-2.04244466, -2.99658939])"
            ]
          },
          "metadata": {
            "tags": []
          },
          "execution_count": 86
        }
      ]
    },
    {
      "metadata": {
        "id": "IWD_m-s2m60-",
        "colab_type": "code",
        "outputId": "5c5ea878-86c1-4e9f-9179-bc17f19a0b7a",
        "colab": {
          "base_uri": "https://localhost:8080/",
          "height": 35
        }
      },
      "cell_type": "code",
      "source": [
        "names != 'Bob'"
      ],
      "execution_count": 0,
      "outputs": [
        {
          "output_type": "execute_result",
          "data": {
            "text/plain": [
              "array([False,  True,  True, False,  True,  True,  True])"
            ]
          },
          "metadata": {
            "tags": []
          },
          "execution_count": 87
        }
      ]
    },
    {
      "metadata": {
        "id": "0LbcGTJYnHR2",
        "colab_type": "code",
        "colab": {}
      },
      "cell_type": "code",
      "source": [
        "mask = (names=='Bob') | (names =='Will')"
      ],
      "execution_count": 0,
      "outputs": []
    },
    {
      "metadata": {
        "id": "ms0X3w53nSrB",
        "colab_type": "code",
        "outputId": "1c8c1a37-757f-48aa-bd02-cea99f66e4f3",
        "colab": {
          "base_uri": "https://localhost:8080/",
          "height": 35
        }
      },
      "cell_type": "code",
      "source": [
        "mask"
      ],
      "execution_count": 0,
      "outputs": [
        {
          "output_type": "execute_result",
          "data": {
            "text/plain": [
              "array([ True, False,  True,  True,  True, False, False])"
            ]
          },
          "metadata": {
            "tags": []
          },
          "execution_count": 89
        }
      ]
    },
    {
      "metadata": {
        "id": "ICOdxYuknUpV",
        "colab_type": "code",
        "outputId": "36426ac9-656a-4ba6-cda5-7c24db68ab5b",
        "colab": {
          "base_uri": "https://localhost:8080/",
          "height": 89
        }
      },
      "cell_type": "code",
      "source": [
        "data[mask]"
      ],
      "execution_count": 0,
      "outputs": [
        {
          "output_type": "execute_result",
          "data": {
            "text/plain": [
              "array([[ 1.66306023,  1.76674566, -0.47525414, -2.04244466],\n",
              "       [-0.77900513,  1.34959594,  2.97822912,  0.54050917],\n",
              "       [ 1.33664817,  0.23306697,  0.05107528, -2.99658939],\n",
              "       [-0.69758963, -0.17101223, -2.16606116,  1.32533629]])"
            ]
          },
          "metadata": {
            "tags": []
          },
          "execution_count": 90
        }
      ]
    },
    {
      "metadata": {
        "id": "ZxDvGseSnYVI",
        "colab_type": "code",
        "colab": {}
      },
      "cell_type": "code",
      "source": [
        "data[data<0] = 0"
      ],
      "execution_count": 0,
      "outputs": []
    },
    {
      "metadata": {
        "id": "FgetPaj9nmL0",
        "colab_type": "code",
        "outputId": "ed307721-ea79-4da0-d2a4-a6eef5178a79",
        "colab": {
          "base_uri": "https://localhost:8080/",
          "height": 143
        }
      },
      "cell_type": "code",
      "source": [
        "data"
      ],
      "execution_count": 0,
      "outputs": [
        {
          "output_type": "execute_result",
          "data": {
            "text/plain": [
              "array([[1.66306023, 1.76674566, 0.        , 0.        ],\n",
              "       [0.        , 0.        , 0.        , 0.        ],\n",
              "       [0.        , 1.34959594, 2.97822912, 0.54050917],\n",
              "       [1.33664817, 0.23306697, 0.05107528, 0.        ],\n",
              "       [0.        , 0.        , 0.        , 1.32533629],\n",
              "       [0.        , 0.        , 2.90076462, 1.97270546],\n",
              "       [0.06232017, 0.        , 0.95598506, 0.        ]])"
            ]
          },
          "metadata": {
            "tags": []
          },
          "execution_count": 92
        }
      ]
    },
    {
      "metadata": {
        "id": "EXjkzTWFnnWs",
        "colab_type": "code",
        "colab": {}
      },
      "cell_type": "code",
      "source": [
        "data[names != 'Joe'] = 7"
      ],
      "execution_count": 0,
      "outputs": []
    },
    {
      "metadata": {
        "id": "Oyfc-gQbnvAC",
        "colab_type": "code",
        "outputId": "f94bc77a-fe2e-422d-db7f-4adacf723788",
        "colab": {
          "base_uri": "https://localhost:8080/",
          "height": 143
        }
      },
      "cell_type": "code",
      "source": [
        "data"
      ],
      "execution_count": 0,
      "outputs": [
        {
          "output_type": "execute_result",
          "data": {
            "text/plain": [
              "array([[7.        , 7.        , 7.        , 7.        ],\n",
              "       [0.        , 0.        , 0.        , 0.        ],\n",
              "       [7.        , 7.        , 7.        , 7.        ],\n",
              "       [7.        , 7.        , 7.        , 7.        ],\n",
              "       [7.        , 7.        , 7.        , 7.        ],\n",
              "       [0.        , 0.        , 2.90076462, 1.97270546],\n",
              "       [0.06232017, 0.        , 0.95598506, 0.        ]])"
            ]
          },
          "metadata": {
            "tags": []
          },
          "execution_count": 94
        }
      ]
    },
    {
      "metadata": {
        "id": "x0g-GEPPgaz0",
        "colab_type": "text"
      },
      "cell_type": "markdown",
      "source": [
        "#### 팬시 색인\n",
        "\n",
        "정수 배열을 사용한 색인을 설명하기 위해 Numpy 에서 차용한 단어이다. "
      ]
    },
    {
      "metadata": {
        "id": "wdiR2VjOnwKT",
        "colab_type": "code",
        "colab": {}
      },
      "cell_type": "code",
      "source": [
        "import numpy as np\n",
        "\n",
        "arr = np.empty((8, 4))"
      ],
      "execution_count": 0,
      "outputs": []
    },
    {
      "metadata": {
        "id": "pnejOV1DgtkT",
        "colab_type": "code",
        "colab": {}
      },
      "cell_type": "code",
      "source": [
        "for i in range(8):\n",
        "  arr[i] = i"
      ],
      "execution_count": 0,
      "outputs": []
    },
    {
      "metadata": {
        "id": "df0iMyR8g0-r",
        "colab_type": "code",
        "outputId": "6979757c-246f-4bce-f8f2-058f3d890db5",
        "colab": {
          "base_uri": "https://localhost:8080/",
          "height": 161
        }
      },
      "cell_type": "code",
      "source": [
        "arr"
      ],
      "execution_count": 0,
      "outputs": [
        {
          "output_type": "execute_result",
          "data": {
            "text/plain": [
              "array([[0., 0., 0., 0.],\n",
              "       [1., 1., 1., 1.],\n",
              "       [2., 2., 2., 2.],\n",
              "       [3., 3., 3., 3.],\n",
              "       [4., 4., 4., 4.],\n",
              "       [5., 5., 5., 5.],\n",
              "       [6., 6., 6., 6.],\n",
              "       [7., 7., 7., 7.]])"
            ]
          },
          "metadata": {
            "tags": []
          },
          "execution_count": 3
        }
      ]
    },
    {
      "metadata": {
        "id": "S4TtoMeYg1xC",
        "colab_type": "code",
        "outputId": "ac0d39ca-7cd0-4d0e-add1-dfc421bf7ba4",
        "colab": {
          "base_uri": "https://localhost:8080/",
          "height": 89
        }
      },
      "cell_type": "code",
      "source": [
        "# 특정한 순서로 Row를 선택하고 싶다면, 그냥 원사는 순서가 명시된 정수가 담기 ndarray나 리스트를 넘기면 된다. \n",
        "\n",
        "arr[[4, 3, 0, 6]]"
      ],
      "execution_count": 0,
      "outputs": [
        {
          "output_type": "execute_result",
          "data": {
            "text/plain": [
              "array([[4., 4., 4., 4.],\n",
              "       [3., 3., 3., 3.],\n",
              "       [0., 0., 0., 0.],\n",
              "       [6., 6., 6., 6.]])"
            ]
          },
          "metadata": {
            "tags": []
          },
          "execution_count": 4
        }
      ]
    },
    {
      "metadata": {
        "id": "dWYxYlwvhLdH",
        "colab_type": "text"
      },
      "cell_type": "markdown",
      "source": [
        "다음 코드는 뭘 의미하는 걸까?"
      ]
    },
    {
      "metadata": {
        "id": "FLXv47sIhFC_",
        "colab_type": "code",
        "outputId": "2bed335e-cb6b-448a-cca3-d5d95be15d20",
        "colab": {
          "base_uri": "https://localhost:8080/",
          "height": 71
        }
      },
      "cell_type": "code",
      "source": [
        "arr[[-3, -5, -7]]"
      ],
      "execution_count": 0,
      "outputs": [
        {
          "output_type": "execute_result",
          "data": {
            "text/plain": [
              "array([[5., 5., 5., 5.],\n",
              "       [3., 3., 3., 3.],\n",
              "       [1., 1., 1., 1.]])"
            ]
          },
          "metadata": {
            "tags": []
          },
          "execution_count": 5
        }
      ]
    },
    {
      "metadata": {
        "id": "OcMcMIiAhcVq",
        "colab_type": "text"
      },
      "cell_type": "markdown",
      "source": [
        "다차원 색인 배열을 넘기는 것은 조금 다르다. 어떻게?\n",
        "\n",
        "각각의 색인 튜플에 대응하는 1차원 배열이 선택된다. "
      ]
    },
    {
      "metadata": {
        "id": "Ya55EcXkhVFO",
        "colab_type": "code",
        "colab": {}
      },
      "cell_type": "code",
      "source": [
        "arr = np.arange(32).reshape((8, 4))"
      ],
      "execution_count": 0,
      "outputs": []
    },
    {
      "metadata": {
        "id": "prQP_vOThmnI",
        "colab_type": "code",
        "outputId": "d37c0b51-21df-4069-fe73-aaad748a387a",
        "colab": {
          "base_uri": "https://localhost:8080/",
          "height": 161
        }
      },
      "cell_type": "code",
      "source": [
        "arr"
      ],
      "execution_count": 0,
      "outputs": [
        {
          "output_type": "execute_result",
          "data": {
            "text/plain": [
              "array([[ 0,  1,  2,  3],\n",
              "       [ 4,  5,  6,  7],\n",
              "       [ 8,  9, 10, 11],\n",
              "       [12, 13, 14, 15],\n",
              "       [16, 17, 18, 19],\n",
              "       [20, 21, 22, 23],\n",
              "       [24, 25, 26, 27],\n",
              "       [28, 29, 30, 31]])"
            ]
          },
          "metadata": {
            "tags": []
          },
          "execution_count": 7
        }
      ]
    },
    {
      "metadata": {
        "id": "U0942AMdhpUw",
        "colab_type": "code",
        "outputId": "5b9587a6-4853-43f9-9bca-b19183b105d9",
        "colab": {
          "base_uri": "https://localhost:8080/",
          "height": 35
        }
      },
      "cell_type": "code",
      "source": [
        "arr[[1, 5, 7, 2], [0, 3, 1, 2]]"
      ],
      "execution_count": 0,
      "outputs": [
        {
          "output_type": "execute_result",
          "data": {
            "text/plain": [
              "array([ 4, 23, 29, 10])"
            ]
          },
          "metadata": {
            "tags": []
          },
          "execution_count": 8
        }
      ]
    },
    {
      "metadata": {
        "id": "3hJK60tWiK-S",
        "colab_type": "text"
      },
      "cell_type": "markdown",
      "source": [
        "(1, 0), (5, 3), (7, 1), (2, 2) 에 해당하는 요소가 선택되었음. "
      ]
    },
    {
      "metadata": {
        "id": "gf3QCQaEhxzy",
        "colab_type": "code",
        "outputId": "3ef51aeb-a59d-4870-e9fe-031d4d8c5212",
        "colab": {
          "base_uri": "https://localhost:8080/",
          "height": 89
        }
      },
      "cell_type": "code",
      "source": [
        "arr[[1, 5, 7, 2]][:, [0, 3, 1, 2]]"
      ],
      "execution_count": 0,
      "outputs": [
        {
          "output_type": "execute_result",
          "data": {
            "text/plain": [
              "array([[ 4,  7,  5,  6],\n",
              "       [20, 23, 21, 22],\n",
              "       [28, 31, 29, 30],\n",
              "       [ 8, 11,  9, 10]])"
            ]
          },
          "metadata": {
            "tags": []
          },
          "execution_count": 10
        }
      ]
    },
    {
      "metadata": {
        "id": "hw5fEF1BjOxr",
        "colab_type": "text"
      },
      "cell_type": "markdown",
      "source": [
        "np.ix_함수를 사용하면 같은 결과를 얻을 수 있는데, 1차원 정수 배열2개를 사각형영역에서 사용할 색인으로 변환해준다."
      ]
    },
    {
      "metadata": {
        "id": "IMTmYPk4ivYd",
        "colab_type": "code",
        "outputId": "89c3cdee-e659-4116-ec65-a812cb9d02a4",
        "colab": {
          "base_uri": "https://localhost:8080/",
          "height": 89
        }
      },
      "cell_type": "code",
      "source": [
        "arr[np.ix_([1, 5, 7, 2], [0, 3, 1, 2])]"
      ],
      "execution_count": 0,
      "outputs": [
        {
          "output_type": "execute_result",
          "data": {
            "text/plain": [
              "array([[ 4,  7,  5,  6],\n",
              "       [20, 23, 21, 22],\n",
              "       [28, 31, 29, 30],\n",
              "       [ 8, 11,  9, 10]])"
            ]
          },
          "metadata": {
            "tags": []
          },
          "execution_count": 11
        }
      ]
    },
    {
      "metadata": {
        "id": "s5SThsLZjmfx",
        "colab_type": "text"
      },
      "cell_type": "markdown",
      "source": [
        "팬시 색인은 슬라이싱과 달리 선택된 데이터를 새로운 배열로 복사한다. 뭔말?"
      ]
    },
    {
      "metadata": {
        "id": "YiXBQkLDjg1x",
        "colab_type": "code",
        "colab": {}
      },
      "cell_type": "code",
      "source": [
        "tmp_arr = arr[np.ix_([1, 5, 7, 2], [0, 3, 1, 2])]"
      ],
      "execution_count": 0,
      "outputs": []
    },
    {
      "metadata": {
        "id": "AaZlLewwjyNI",
        "colab_type": "code",
        "outputId": "3fe16ba7-f02b-429a-c46a-c2e4849c3f1d",
        "colab": {
          "base_uri": "https://localhost:8080/",
          "height": 89
        }
      },
      "cell_type": "code",
      "source": [
        "tmp_arr"
      ],
      "execution_count": 0,
      "outputs": [
        {
          "output_type": "execute_result",
          "data": {
            "text/plain": [
              "array([[ 4,  7,  5,  6],\n",
              "       [20, 23, 21, 22],\n",
              "       [28, 31, 29, 30],\n",
              "       [ 8, 11,  9, 10]])"
            ]
          },
          "metadata": {
            "tags": []
          },
          "execution_count": 13
        }
      ]
    },
    {
      "metadata": {
        "id": "QxL9PpPfjzpm",
        "colab_type": "code",
        "colab": {}
      },
      "cell_type": "code",
      "source": [
        "tmp_arr[0] = 1 # 첫줄을 모두 1로 대체"
      ],
      "execution_count": 0,
      "outputs": []
    },
    {
      "metadata": {
        "id": "Liiib-m8j5iI",
        "colab_type": "code",
        "outputId": "b4042637-f08b-45ee-959e-c6eeb1ad8c9c",
        "colab": {
          "base_uri": "https://localhost:8080/",
          "height": 89
        }
      },
      "cell_type": "code",
      "source": [
        "tmp_arr"
      ],
      "execution_count": 0,
      "outputs": [
        {
          "output_type": "execute_result",
          "data": {
            "text/plain": [
              "array([[ 1,  1,  1,  1],\n",
              "       [20, 23, 21, 22],\n",
              "       [28, 31, 29, 30],\n",
              "       [ 8, 11,  9, 10]])"
            ]
          },
          "metadata": {
            "tags": []
          },
          "execution_count": 15
        }
      ]
    },
    {
      "metadata": {
        "id": "699r8IFTj96_",
        "colab_type": "code",
        "outputId": "72980d1f-e968-4c79-d677-df049ecd0ced",
        "colab": {
          "base_uri": "https://localhost:8080/",
          "height": 161
        }
      },
      "cell_type": "code",
      "source": [
        "arr"
      ],
      "execution_count": 0,
      "outputs": [
        {
          "output_type": "execute_result",
          "data": {
            "text/plain": [
              "array([[ 0,  1,  2,  3],\n",
              "       [ 4,  5,  6,  7],\n",
              "       [ 8,  9, 10, 11],\n",
              "       [12, 13, 14, 15],\n",
              "       [16, 17, 18, 19],\n",
              "       [20, 21, 22, 23],\n",
              "       [24, 25, 26, 27],\n",
              "       [28, 29, 30, 31]])"
            ]
          },
          "metadata": {
            "tags": []
          },
          "execution_count": 16
        }
      ]
    },
    {
      "metadata": {
        "id": "b2B6YQtNkBjS",
        "colab_type": "text"
      },
      "cell_type": "markdown",
      "source": [
        "보다싶이, tmp_arr의 값을 변화를 주었지만, 원본 데이터는 변화가 없음."
      ]
    },
    {
      "metadata": {
        "id": "Dpn62gYikKl5",
        "colab_type": "text"
      },
      "cell_type": "markdown",
      "source": [
        "#### 배열 전치와 축 바꾸기\n",
        "\n",
        "배열 전치는 데이터를 복사하지 않고 데이터 모양이 바뀐 뷰를 반환하는 특별한 기능이다. \n",
        "\n",
        "ndarray는 transpose 메소드와 T라는 이름의 특수한 속성을 가지고 있다."
      ]
    },
    {
      "metadata": {
        "id": "T9gBoorXj_Pm",
        "colab_type": "code",
        "colab": {}
      },
      "cell_type": "code",
      "source": [
        "arr = np.arange(15).reshape((3, 5))"
      ],
      "execution_count": 0,
      "outputs": []
    },
    {
      "metadata": {
        "id": "Na9X19rZktqL",
        "colab_type": "code",
        "outputId": "d91bd57a-1a06-4e57-f406-23c2b3d9f81a",
        "colab": {
          "base_uri": "https://localhost:8080/",
          "height": 71
        }
      },
      "cell_type": "code",
      "source": [
        "arr"
      ],
      "execution_count": 0,
      "outputs": [
        {
          "output_type": "execute_result",
          "data": {
            "text/plain": [
              "array([[ 0,  1,  2,  3,  4],\n",
              "       [ 5,  6,  7,  8,  9],\n",
              "       [10, 11, 12, 13, 14]])"
            ]
          },
          "metadata": {
            "tags": []
          },
          "execution_count": 18
        }
      ]
    },
    {
      "metadata": {
        "id": "Pw3JPTLCkubN",
        "colab_type": "code",
        "outputId": "72911d7c-d351-4286-b42f-c2008a69fe95",
        "colab": {
          "base_uri": "https://localhost:8080/",
          "height": 107
        }
      },
      "cell_type": "code",
      "source": [
        "arr.T"
      ],
      "execution_count": 0,
      "outputs": [
        {
          "output_type": "execute_result",
          "data": {
            "text/plain": [
              "array([[ 0,  5, 10],\n",
              "       [ 1,  6, 11],\n",
              "       [ 2,  7, 12],\n",
              "       [ 3,  8, 13],\n",
              "       [ 4,  9, 14]])"
            ]
          },
          "metadata": {
            "tags": []
          },
          "execution_count": 19
        }
      ]
    },
    {
      "metadata": {
        "id": "IZM2K3tpk05f",
        "colab_type": "text"
      },
      "cell_type": "markdown",
      "source": [
        "그럼 전치는 어디에 사용되는 것일까? \n",
        "\n",
        "-> 행렬계산에 자주 사용됨. XTX는 np.dot을 이용해서 구할수 있다. "
      ]
    },
    {
      "metadata": {
        "id": "SsBKCrtckvwH",
        "colab_type": "code",
        "colab": {}
      },
      "cell_type": "code",
      "source": [
        "arr = np.random.randn(6, 3)"
      ],
      "execution_count": 0,
      "outputs": []
    },
    {
      "metadata": {
        "id": "OFSBzd-hlFoA",
        "colab_type": "code",
        "outputId": "c2b7664f-a0e0-4278-a731-e3ddb0e5408c",
        "colab": {
          "base_uri": "https://localhost:8080/",
          "height": 71
        }
      },
      "cell_type": "code",
      "source": [
        "np.dot(arr.T, arr)"
      ],
      "execution_count": 0,
      "outputs": [
        {
          "output_type": "execute_result",
          "data": {
            "text/plain": [
              "array([[ 4.249061  ,  0.64336486, -0.19796679],\n",
              "       [ 0.64336486,  4.14573269, -4.97028104],\n",
              "       [-0.19796679, -4.97028104, 11.5915765 ]])"
            ]
          },
          "metadata": {
            "tags": []
          },
          "execution_count": 21
        }
      ]
    },
    {
      "metadata": {
        "id": "a9We9Cq8lZwC",
        "colab_type": "text"
      },
      "cell_type": "markdown",
      "source": [
        "다차원의 배열의 경우, transpose 메소드는 tuple로 축번호를 받아서 치환한다. "
      ]
    },
    {
      "metadata": {
        "id": "ZhXWakXElQe1",
        "colab_type": "code",
        "colab": {}
      },
      "cell_type": "code",
      "source": [
        "arr = np.arange(16).reshape((2, 2, 4))"
      ],
      "execution_count": 0,
      "outputs": []
    },
    {
      "metadata": {
        "id": "KSykKxtYlofu",
        "colab_type": "code",
        "outputId": "d232e42e-9a76-4a31-cc4f-6e74c490e8cd",
        "colab": {
          "base_uri": "https://localhost:8080/",
          "height": 107
        }
      },
      "cell_type": "code",
      "source": [
        "arr"
      ],
      "execution_count": 0,
      "outputs": [
        {
          "output_type": "execute_result",
          "data": {
            "text/plain": [
              "array([[[ 0,  1,  2,  3],\n",
              "        [ 4,  5,  6,  7]],\n",
              "\n",
              "       [[ 8,  9, 10, 11],\n",
              "        [12, 13, 14, 15]]])"
            ]
          },
          "metadata": {
            "tags": []
          },
          "execution_count": 24
        }
      ]
    },
    {
      "metadata": {
        "id": "RoXy_eOwlrdC",
        "colab_type": "code",
        "outputId": "9e3e0386-e228-40c1-c1d6-231c29bccd8c",
        "colab": {
          "base_uri": "https://localhost:8080/",
          "height": 107
        }
      },
      "cell_type": "code",
      "source": [
        "arr.transpose((1, 0, 2))"
      ],
      "execution_count": 0,
      "outputs": [
        {
          "output_type": "execute_result",
          "data": {
            "text/plain": [
              "array([[[ 0,  1,  2,  3],\n",
              "        [ 8,  9, 10, 11]],\n",
              "\n",
              "       [[ 4,  5,  6,  7],\n",
              "        [12, 13, 14, 15]]])"
            ]
          },
          "metadata": {
            "tags": []
          },
          "execution_count": 25
        }
      ]
    },
    {
      "metadata": {
        "id": "ykh4Zt0Al1aR",
        "colab_type": "code",
        "colab": {}
      },
      "cell_type": "code",
      "source": [
        "arr.transpose?"
      ],
      "execution_count": 0,
      "outputs": []
    },
    {
      "metadata": {
        "id": "L7Syms_-pEcb",
        "colab_type": "text"
      },
      "cell_type": "markdown",
      "source": [
        "완전 이해한 것은 아니지만, 개략적으로 이해가 됨. \n",
        "\n",
        "http://taewan.kim/post/transpose_reshape/"
      ]
    },
    {
      "metadata": {
        "id": "8tDrKZEimXER",
        "colab_type": "code",
        "outputId": "34602eed-4628-4bd6-95da-1046ad2fe531",
        "colab": {
          "base_uri": "https://localhost:8080/",
          "height": 215
        }
      },
      "cell_type": "code",
      "source": [
        "arr.T"
      ],
      "execution_count": 0,
      "outputs": [
        {
          "output_type": "execute_result",
          "data": {
            "text/plain": [
              "array([[[ 0,  8],\n",
              "        [ 4, 12]],\n",
              "\n",
              "       [[ 1,  9],\n",
              "        [ 5, 13]],\n",
              "\n",
              "       [[ 2, 10],\n",
              "        [ 6, 14]],\n",
              "\n",
              "       [[ 3, 11],\n",
              "        [ 7, 15]]])"
            ]
          },
          "metadata": {
            "tags": []
          },
          "execution_count": 29
        }
      ]
    },
    {
      "metadata": {
        "id": "jCkM60GrpN0Q",
        "colab_type": "code",
        "outputId": "d4466fb2-b7bb-4798-bc86-8ba6339d3a49",
        "colab": {
          "base_uri": "https://localhost:8080/",
          "height": 35
        }
      },
      "cell_type": "code",
      "source": [
        "arr.T.shape"
      ],
      "execution_count": 0,
      "outputs": [
        {
          "output_type": "execute_result",
          "data": {
            "text/plain": [
              "(4, 2, 2)"
            ]
          },
          "metadata": {
            "tags": []
          },
          "execution_count": 30
        }
      ]
    },
    {
      "metadata": {
        "id": "jRZNSkmOpaS6",
        "colab_type": "text"
      },
      "cell_type": "markdown",
      "source": [
        "보다 싶이, .T 속성을 이용한 간단한 전치는 축을 뒤바꾸는 특별한 경우다. \n",
        "\n",
        "ndarray에는 swapaxes메소드가 있는데 2개의 축 번호를 받아서 배열을 뒤바꾼다. "
      ]
    },
    {
      "metadata": {
        "id": "sS-vEyT1pVO2",
        "colab_type": "code",
        "outputId": "ee8cda22-3d77-40ff-e8e8-95ec45176a28",
        "colab": {
          "base_uri": "https://localhost:8080/",
          "height": 107
        }
      },
      "cell_type": "code",
      "source": [
        "arr  # 원데이터 출력"
      ],
      "execution_count": 0,
      "outputs": [
        {
          "output_type": "execute_result",
          "data": {
            "text/plain": [
              "array([[[ 0,  1,  2,  3],\n",
              "        [ 4,  5,  6,  7]],\n",
              "\n",
              "       [[ 8,  9, 10, 11],\n",
              "        [12, 13, 14, 15]]])"
            ]
          },
          "metadata": {
            "tags": []
          },
          "execution_count": 31
        }
      ]
    },
    {
      "metadata": {
        "id": "s163aOHNpvVg",
        "colab_type": "code",
        "outputId": "d9445ac1-9fa6-4af3-9355-d954ce2d4bf1",
        "colab": {
          "base_uri": "https://localhost:8080/",
          "height": 179
        }
      },
      "cell_type": "code",
      "source": [
        "arr.swapaxes(1, 2)"
      ],
      "execution_count": 0,
      "outputs": [
        {
          "output_type": "execute_result",
          "data": {
            "text/plain": [
              "array([[[ 0,  4],\n",
              "        [ 1,  5],\n",
              "        [ 2,  6],\n",
              "        [ 3,  7]],\n",
              "\n",
              "       [[ 8, 12],\n",
              "        [ 9, 13],\n",
              "        [10, 14],\n",
              "        [11, 15]]])"
            ]
          },
          "metadata": {
            "tags": []
          },
          "execution_count": 32
        }
      ]
    },
    {
      "metadata": {
        "id": "MSI0c1lep9kk",
        "colab_type": "text"
      },
      "cell_type": "markdown",
      "source": [
        "원래 arr는 (2, 2, 4) 형태다, 근데 swapaxes에서 축번호 (1, 2)를 바꾸라고 하니깐, 즉 (2, 2, 4)에서 1번째 축(2)과 2번째 축(4)을 바꾸면, (2, 4, 2) 가 된다. "
      ]
    },
    {
      "metadata": {
        "id": "o8kqPKl7qpQV",
        "colab_type": "text"
      },
      "cell_type": "markdown",
      "source": [
        "## 유니버설 함수 (Ufunc)\n",
        "\n",
        "\n",
        "ufunc라고 불리는 유니버설 함수는 ndarray안에 있는 데이터 원소별로 연산을 슈행하는 함수다. \n",
        "\n",
        "유니버설 함수는 하나 이상의 스칼라 값을 받아서 하나 이상의 스칼라 결과 값을 반환하는 간단한 함수를 고속으로 수행할 수 있는 벡터화된 래퍼(wrapper) 함수라고 생각하면 된다.\n",
        "\n",
        "많은 ufunc는 sqrt나 exp같은 간단한 변형을 전체 원소에 적용할 수 있다. \n",
        "\n",
        "Let's try it~"
      ]
    },
    {
      "metadata": {
        "id": "KHklgjz0p0qX",
        "colab_type": "code",
        "colab": {}
      },
      "cell_type": "code",
      "source": [
        "arr = np.arange(10)"
      ],
      "execution_count": 0,
      "outputs": []
    },
    {
      "metadata": {
        "id": "CCUVaB9vrXyy",
        "colab_type": "code",
        "outputId": "e83a0a46-9f08-4598-9ac3-cabcd16658dd",
        "colab": {
          "base_uri": "https://localhost:8080/",
          "height": 53
        }
      },
      "cell_type": "code",
      "source": [
        "np.sqrt(arr)"
      ],
      "execution_count": 0,
      "outputs": [
        {
          "output_type": "execute_result",
          "data": {
            "text/plain": [
              "array([0.        , 1.        , 1.41421356, 1.73205081, 2.        ,\n",
              "       2.23606798, 2.44948974, 2.64575131, 2.82842712, 3.        ])"
            ]
          },
          "metadata": {
            "tags": []
          },
          "execution_count": 34
        }
      ]
    },
    {
      "metadata": {
        "id": "72ib4de2raC7",
        "colab_type": "code",
        "outputId": "5f22d7bc-8a8e-42a8-8f8d-2a398429e156",
        "colab": {
          "base_uri": "https://localhost:8080/",
          "height": 71
        }
      },
      "cell_type": "code",
      "source": [
        "np.exp(arr)"
      ],
      "execution_count": 0,
      "outputs": [
        {
          "output_type": "execute_result",
          "data": {
            "text/plain": [
              "array([1.00000000e+00, 2.71828183e+00, 7.38905610e+00, 2.00855369e+01,\n",
              "       5.45981500e+01, 1.48413159e+02, 4.03428793e+02, 1.09663316e+03,\n",
              "       2.98095799e+03, 8.10308393e+03])"
            ]
          },
          "metadata": {
            "tags": []
          },
          "execution_count": 35
        }
      ]
    },
    {
      "metadata": {
        "id": "kzJgFj2crflk",
        "colab_type": "text"
      },
      "cell_type": "markdown",
      "source": [
        "이런 함수를 단항 유니버설 함수라 하고 add 나 maximum 처럼 2개의 인자를 취해서 단일 배열을 반환하는 함수를 이항 유니버설 함수라고 한다. "
      ]
    },
    {
      "metadata": {
        "id": "uomSvJc_rdRc",
        "colab_type": "code",
        "colab": {}
      },
      "cell_type": "code",
      "source": [
        "x = np.random.randn(8)"
      ],
      "execution_count": 0,
      "outputs": []
    },
    {
      "metadata": {
        "id": "LXkKJWngrtYz",
        "colab_type": "code",
        "colab": {}
      },
      "cell_type": "code",
      "source": [
        "y = np.random.randn(8)"
      ],
      "execution_count": 0,
      "outputs": []
    },
    {
      "metadata": {
        "id": "C01JHYojrvpg",
        "colab_type": "code",
        "outputId": "251bb154-5d3a-4c70-9537-c6c1907003c5",
        "colab": {
          "base_uri": "https://localhost:8080/",
          "height": 53
        }
      },
      "cell_type": "code",
      "source": [
        "x"
      ],
      "execution_count": 0,
      "outputs": [
        {
          "output_type": "execute_result",
          "data": {
            "text/plain": [
              "array([ 0.81937037, -2.60866179, -0.09090971,  1.06151981,  0.60339308,\n",
              "       -1.36347466, -1.0669563 ,  0.07682323])"
            ]
          },
          "metadata": {
            "tags": []
          },
          "execution_count": 38
        }
      ]
    },
    {
      "metadata": {
        "id": "bn3-6hIgrw0G",
        "colab_type": "code",
        "outputId": "36ae71ff-19c5-4205-a1da-1583749d76e2",
        "colab": {
          "base_uri": "https://localhost:8080/",
          "height": 53
        }
      },
      "cell_type": "code",
      "source": [
        "y"
      ],
      "execution_count": 0,
      "outputs": [
        {
          "output_type": "execute_result",
          "data": {
            "text/plain": [
              "array([-0.20550781, -0.4160516 , -1.51619682,  0.51250356, -0.35316321,\n",
              "        0.4668808 ,  2.27977943,  1.85053121])"
            ]
          },
          "metadata": {
            "tags": []
          },
          "execution_count": 39
        }
      ]
    },
    {
      "metadata": {
        "id": "nT_fQUknrxXS",
        "colab_type": "code",
        "outputId": "544b3aef-ba4d-489e-e53f-724d6d58e55a",
        "colab": {
          "base_uri": "https://localhost:8080/",
          "height": 53
        }
      },
      "cell_type": "code",
      "source": [
        "np.maximum(x, y) # element-wise maximum"
      ],
      "execution_count": 0,
      "outputs": [
        {
          "output_type": "execute_result",
          "data": {
            "text/plain": [
              "array([ 0.81937037, -0.4160516 , -0.09090971,  1.06151981,  0.60339308,\n",
              "        0.4668808 ,  2.27977943,  1.85053121])"
            ]
          },
          "metadata": {
            "tags": []
          },
          "execution_count": 40
        }
      ]
    },
    {
      "metadata": {
        "id": "i8Lgdm_HuT-l",
        "colab_type": "text"
      },
      "cell_type": "markdown",
      "source": [
        "흔하지는 않지만, 배열 여러개를 반환하는 유니버설 함수도 있다. \n",
        "\n",
        "modf는 파이썬 내장 함수인 divmod의 벡터화 버전이며, modf는 분수를 받아 몫과 나머지를 함께 반환한다.\n"
      ]
    },
    {
      "metadata": {
        "id": "B6j-wZJSr0dT",
        "colab_type": "code",
        "colab": {}
      },
      "cell_type": "code",
      "source": [
        "arr = np.random.randn(7) * 5"
      ],
      "execution_count": 0,
      "outputs": []
    },
    {
      "metadata": {
        "id": "IrZuAYkUuoxy",
        "colab_type": "code",
        "outputId": "f53632cc-b0cc-4795-d12c-56c0777c465d",
        "colab": {
          "base_uri": "https://localhost:8080/",
          "height": 53
        }
      },
      "cell_type": "code",
      "source": [
        "arr"
      ],
      "execution_count": 0,
      "outputs": [
        {
          "output_type": "execute_result",
          "data": {
            "text/plain": [
              "array([ 7.28628145,  0.25713909, -5.98985405, 10.52244225,  2.26573023,\n",
              "       -1.54654058,  3.54420914])"
            ]
          },
          "metadata": {
            "tags": []
          },
          "execution_count": 43
        }
      ]
    },
    {
      "metadata": {
        "id": "63si3XYZu1m9",
        "colab_type": "code",
        "outputId": "94fd5ff3-5177-43dc-c550-ad7595ef834d",
        "colab": {
          "base_uri": "https://localhost:8080/",
          "height": 53
        }
      },
      "cell_type": "code",
      "source": [
        "np.modf(arr)"
      ],
      "execution_count": 0,
      "outputs": [
        {
          "output_type": "execute_result",
          "data": {
            "text/plain": [
              "(array([ 0.28628145,  0.25713909, -0.98985405,  0.52244225,  0.26573023,\n",
              "        -0.54654058,  0.54420914]), array([ 7.,  0., -5., 10.,  2., -1.,  3.]))"
            ]
          },
          "metadata": {
            "tags": []
          },
          "execution_count": 44
        }
      ]
    },
    {
      "metadata": {
        "id": "7GaGa4HNvXPJ",
        "colab_type": "text"
      },
      "cell_type": "markdown",
      "source": [
        "**유니버설 함수 정리**\n",
        "\n",
        "\n",
        "*   abs, fabs : 각 원소(정수, 실수, 복소수)의 절대 값을 구한다. 복소수가 아닌경우, 빠른 연산을 위해 fabs를 사용\n",
        "*   sqrt : 각 원소의 제곱근\n",
        "*   square: 각원소의 제곱을 계산\n",
        "*   exp: 각 원소에서 e의 x승을 계산\n",
        "*   log, log10, log2, log1p : 각각 자연로그, 로그 10, 로그 2, 로그(1+x)\n",
        "*   sign : 각 원소의 부호를 계산, 1 for 양수, 0 for 영, -1 for 음수\n",
        "*   ceil: 각원소의 소수자리를 올린다. 각 원소의 값보다 같거나 큰 정수 중 가장 작은 정수를 반환\n",
        "*   floor: 각원소의 소수자리를 내린다. 각 원소의 값보다 작거나 같은 정수 중 가장 작은 수를 반환\n",
        "*   rint: 각 원소의 소수자리를 반올림 한다. dtype은 유지\n",
        "*   modf: 각 원소의 몫과 나머지를 각각 배열로 반환\n",
        "*   isnan: 각각의 원소가 숫자인지 아닌지를 나타내는 불리언 배열을 반환\n",
        "*   isfinite, isinf: 배열의 각 원소가 유한한지, 무한한지 나타내는 불리언 배열을 반환\n",
        "*   cos, cosh, sin, sinh, tan, tanh, arccos, arccosh, arcsin, arcsinh, arctan, arctanh: 일반 삼각함수와 쌍곡삼각함수 및 역삼각함수\n",
        "*   logical_not 각 원소의 논리 부정(not)의 값을 계산한다. -arr과 동일하다. \n",
        "*   add 두 배열에서 같은 위치의 원소끼리 더한다.\n",
        "*   subtract: 첫번째 배열의 원소에서 두번째 배열의 원소를 뺀다.\n",
        "*   multiply: 배열의 원소끼리 곱한다.\n",
        "*   divide, floor_divede: 첫번째 배열의 원소에서 두번재 배열의 원소를 나눈다. floor_divide는 몫만 취한다.\n",
        "*   power : 첫번재 배열의 원소에 두번째 배열의 원소만큼 제곱한다.\n",
        "*   maximum, fmax: 두원소중 큰 값을 반환, fmax는 NaN을 무시\n",
        "*   minimum, fmin: 두 원소 중 작은 값을 반혼, fmin은 NaN을 무시\n",
        "*   mod : 첫번째 배열의 원소에 두번째 배열의 원소를 나눈 나머지를 구한다.\n",
        "*   copysign: 첫번째 배열 원소의 기호를 두번째 배열원소의 기호로 바꾼다.\n",
        "*   greater, greater_equal, less, less_equal, equal, not_equal\n",
        "*   logical_and, logical_or, logical_xor : 각각 두 원소간의 논리연산 &, |, ^ 결과를 반환\n",
        "\n"
      ]
    },
    {
      "metadata": {
        "id": "vqusvH5ayhYV",
        "colab_type": "text"
      },
      "cell_type": "markdown",
      "source": [
        "## 배열을 사용한 데이터 처리\n",
        "\n",
        "배열연산을 사용해서 반복문을 명시적으로 제거하는 기법을 흔히 백터화라고 함. \n",
        "\n",
        "일반적으로 백터화된 배열에 대한 산술연산은 순수 파이썬 연산에 비해 2~3배에서 많게는 수십, 수백배까지 빠르다. \n",
        "\n",
        "\n",
        "간단한 예로 값이 놓여 있는 그리드에서 sqrt(x^2 + y^2)를 계산한다고 하자. \n",
        "\n",
        "np.meshgrid함수는 2개의 1차원 배열을 받아 가능한 모든 (x, y) 짝을 만들 수 있는 2차원 배열 2개를 반환한다. "
      ]
    },
    {
      "metadata": {
        "id": "ZZDUojwAvMGp",
        "colab_type": "code",
        "colab": {}
      },
      "cell_type": "code",
      "source": [
        "points = np.arange(-5, 5, 0.01)"
      ],
      "execution_count": 0,
      "outputs": []
    },
    {
      "metadata": {
        "id": "BGQ6jipdzsNX",
        "colab_type": "code",
        "colab": {}
      },
      "cell_type": "code",
      "source": [
        "xs, ys = np.meshgrid(points, points)"
      ],
      "execution_count": 0,
      "outputs": []
    },
    {
      "metadata": {
        "id": "OW-xQ71Wz56S",
        "colab_type": "code",
        "outputId": "cef399bf-f9d5-4f4a-e112-3211047142e8",
        "colab": {
          "base_uri": "https://localhost:8080/",
          "height": 143
        }
      },
      "cell_type": "code",
      "source": [
        "xs"
      ],
      "execution_count": 0,
      "outputs": [
        {
          "output_type": "execute_result",
          "data": {
            "text/plain": [
              "array([[-5.  , -4.99, -4.98, ...,  4.97,  4.98,  4.99],\n",
              "       [-5.  , -4.99, -4.98, ...,  4.97,  4.98,  4.99],\n",
              "       [-5.  , -4.99, -4.98, ...,  4.97,  4.98,  4.99],\n",
              "       ...,\n",
              "       [-5.  , -4.99, -4.98, ...,  4.97,  4.98,  4.99],\n",
              "       [-5.  , -4.99, -4.98, ...,  4.97,  4.98,  4.99],\n",
              "       [-5.  , -4.99, -4.98, ...,  4.97,  4.98,  4.99]])"
            ]
          },
          "metadata": {
            "tags": []
          },
          "execution_count": 48
        }
      ]
    },
    {
      "metadata": {
        "id": "dHc5aWzfz6ww",
        "colab_type": "code",
        "outputId": "1f7c1f41-cd8c-43dd-9cce-f1b3a7d20bcd",
        "colab": {
          "base_uri": "https://localhost:8080/",
          "height": 143
        }
      },
      "cell_type": "code",
      "source": [
        "ys"
      ],
      "execution_count": 0,
      "outputs": [
        {
          "output_type": "execute_result",
          "data": {
            "text/plain": [
              "array([[-5.  , -5.  , -5.  , ..., -5.  , -5.  , -5.  ],\n",
              "       [-4.99, -4.99, -4.99, ..., -4.99, -4.99, -4.99],\n",
              "       [-4.98, -4.98, -4.98, ..., -4.98, -4.98, -4.98],\n",
              "       ...,\n",
              "       [ 4.97,  4.97,  4.97, ...,  4.97,  4.97,  4.97],\n",
              "       [ 4.98,  4.98,  4.98, ...,  4.98,  4.98,  4.98],\n",
              "       [ 4.99,  4.99,  4.99, ...,  4.99,  4.99,  4.99]])"
            ]
          },
          "metadata": {
            "tags": []
          },
          "execution_count": 49
        }
      ]
    },
    {
      "metadata": {
        "id": "MzruZpWuz-z4",
        "colab_type": "code",
        "colab": {}
      },
      "cell_type": "code",
      "source": [
        "import matplotlib.pyplot as plt"
      ],
      "execution_count": 0,
      "outputs": []
    },
    {
      "metadata": {
        "id": "hNbOBrcT0MUq",
        "colab_type": "code",
        "colab": {}
      },
      "cell_type": "code",
      "source": [
        "z = np.sqrt(xs**2 + ys**2)"
      ],
      "execution_count": 0,
      "outputs": []
    },
    {
      "metadata": {
        "id": "mT-w4rUt0UCS",
        "colab_type": "code",
        "outputId": "b4b1cfef-6db9-4ba2-9a55-0f86dd55f54b",
        "colab": {
          "base_uri": "https://localhost:8080/",
          "height": 251
        }
      },
      "cell_type": "code",
      "source": [
        "z"
      ],
      "execution_count": 0,
      "outputs": [
        {
          "output_type": "execute_result",
          "data": {
            "text/plain": [
              "array([[7.07106781, 7.06400028, 7.05693985, ..., 7.04988652, 7.05693985,\n",
              "        7.06400028],\n",
              "       [7.06400028, 7.05692568, 7.04985815, ..., 7.04279774, 7.04985815,\n",
              "        7.05692568],\n",
              "       [7.05693985, 7.04985815, 7.04278354, ..., 7.03571603, 7.04278354,\n",
              "        7.04985815],\n",
              "       ...,\n",
              "       [7.04988652, 7.04279774, 7.03571603, ..., 7.0286414 , 7.03571603,\n",
              "        7.04279774],\n",
              "       [7.05693985, 7.04985815, 7.04278354, ..., 7.03571603, 7.04278354,\n",
              "        7.04985815],\n",
              "       [7.06400028, 7.05692568, 7.04985815, ..., 7.04279774, 7.04985815,\n",
              "        7.05692568]])"
            ]
          },
          "metadata": {
            "tags": []
          },
          "execution_count": 52
        }
      ]
    },
    {
      "metadata": {
        "id": "mPye3Q7Y0VA1",
        "colab_type": "code",
        "outputId": "e0394f00-ce6d-4fda-a7d6-3332b293c9a2",
        "colab": {
          "base_uri": "https://localhost:8080/",
          "height": 370
        }
      },
      "cell_type": "code",
      "source": [
        "plt.imshow(z, cmap=plt.cm.gray)\n",
        "plt.colorbar()\n",
        "plt.title('Image Show $\\sqrt{x^2+y^2}$ ')\n",
        "plt.show()"
      ],
      "execution_count": 0,
      "outputs": [
        {
          "output_type": "display_data",
          "data": {
            "image/png": "[encoded data removed]",
            "text/plain": [
              "<matplotlib.figure.Figure at 0x7fc7ad599710>"
            ]
          },
          "metadata": {
            "tags": []
          }
        }
      ]
    },
    {
      "metadata": {
        "id": "czo5a1DG1YBo",
        "colab_type": "text"
      },
      "cell_type": "markdown",
      "source": [
        "### 배열 연산으로 조건절 표현하기\n",
        "\n",
        "numpy.where 함수는 x if 조건 else y 같은 3항식의 벡터화 버전."
      ]
    },
    {
      "metadata": {
        "id": "vEkSRyhp01LI",
        "colab_type": "code",
        "colab": {}
      },
      "cell_type": "code",
      "source": [
        "xarr = np.array([1.1, 1.2, 1.3, 1.4, 1.5])"
      ],
      "execution_count": 0,
      "outputs": []
    },
    {
      "metadata": {
        "id": "oBtqe0E_04TS",
        "colab_type": "code",
        "colab": {}
      },
      "cell_type": "code",
      "source": [
        "yarr = np.array([2.1, 2.2, 2.3, 2.4, 2.5])"
      ],
      "execution_count": 0,
      "outputs": []
    },
    {
      "metadata": {
        "id": "_jHshsjX1zOi",
        "colab_type": "code",
        "colab": {}
      },
      "cell_type": "code",
      "source": [
        "cond = np.array([True, False, True, True, False])"
      ],
      "execution_count": 0,
      "outputs": []
    },
    {
      "metadata": {
        "id": "1U0OIzcl1_6V",
        "colab_type": "text"
      },
      "cell_type": "markdown",
      "source": [
        "cond의 값이 True일때, xarr의 값이나, yarr의 값을 취하고 싶다면, "
      ]
    },
    {
      "metadata": {
        "id": "Hu1_bvXg1615",
        "colab_type": "code",
        "colab": {}
      },
      "cell_type": "code",
      "source": [
        "result  = [(x if c else y) for x, y, c in zip(xarr, yarr, cond)]"
      ],
      "execution_count": 0,
      "outputs": []
    },
    {
      "metadata": {
        "id": "c0THTuhy2Vq1",
        "colab_type": "code",
        "outputId": "739e91e6-8603-4466-ea26-859e24b34dea",
        "colab": {
          "base_uri": "https://localhost:8080/",
          "height": 35
        }
      },
      "cell_type": "code",
      "source": [
        "result"
      ],
      "execution_count": 0,
      "outputs": [
        {
          "output_type": "execute_result",
          "data": {
            "text/plain": [
              "[1.1, 2.2, 1.3, 1.4, 2.5]"
            ]
          },
          "metadata": {
            "tags": []
          },
          "execution_count": 61
        }
      ]
    },
    {
      "metadata": {
        "id": "mAqjsJiF2cWF",
        "colab_type": "text"
      },
      "cell_type": "markdown",
      "source": [
        "위의 방법은 순수 파이썬 버전이다. 그래서 큰 배열을 빠르게 처리하지 못한다와 다차원 배열에서는 사용할 수 없다는 문제 가 있다. \n",
        "\n",
        "그럼, np.where을 써보도록 하자."
      ]
    },
    {
      "metadata": {
        "id": "XxREqn0h2W41",
        "colab_type": "code",
        "outputId": "b6024b41-fa7d-4180-d0da-1c56e91a4d2e",
        "colab": {
          "base_uri": "https://localhost:8080/",
          "height": 35
        }
      },
      "cell_type": "code",
      "source": [
        "np.where(cond, xarr, yarr)"
      ],
      "execution_count": 0,
      "outputs": [
        {
          "output_type": "execute_result",
          "data": {
            "text/plain": [
              "array([1.1, 2.2, 1.3, 1.4, 2.5])"
            ]
          },
          "metadata": {
            "tags": []
          },
          "execution_count": 62
        }
      ]
    },
    {
      "metadata": {
        "id": "PbYuVJGq26fW",
        "colab_type": "text"
      },
      "cell_type": "markdown",
      "source": [
        "Wow~!!!\n",
        "\n",
        "\n",
        "\n",
        "---\n",
        "\n",
        "임의로 생성된 행렬에서 양수는 2로 음수는 -2로 바꾸려면, "
      ]
    },
    {
      "metadata": {
        "id": "2nVXNf1Y2xKf",
        "colab_type": "code",
        "colab": {}
      },
      "cell_type": "code",
      "source": [
        "arr = np.random.randn(4, 4)"
      ],
      "execution_count": 0,
      "outputs": []
    },
    {
      "metadata": {
        "id": "2_QOm71c3BF7",
        "colab_type": "code",
        "outputId": "e16f411c-87dd-4647-ec0b-d52c6108f542",
        "colab": {
          "base_uri": "https://localhost:8080/",
          "height": 89
        }
      },
      "cell_type": "code",
      "source": [
        "arr"
      ],
      "execution_count": 0,
      "outputs": [
        {
          "output_type": "execute_result",
          "data": {
            "text/plain": [
              "array([[ 1.94377932,  1.26151204, -0.90515151, -0.74866367],\n",
              "       [-0.37464774,  1.17570915,  0.20891775, -0.05669922],\n",
              "       [ 0.15176932, -0.83149484, -0.30101776, -1.68186029],\n",
              "       [ 0.82397649, -0.58389847, -0.88164446,  0.31948483]])"
            ]
          },
          "metadata": {
            "tags": []
          },
          "execution_count": 65
        }
      ]
    },
    {
      "metadata": {
        "id": "iFgMgO003MAV",
        "colab_type": "code",
        "outputId": "569276fc-b3b7-4189-bf85-89f68315ff02",
        "colab": {
          "base_uri": "https://localhost:8080/",
          "height": 89
        }
      },
      "cell_type": "code",
      "source": [
        "np.where(arr > 0, 2, -2)"
      ],
      "execution_count": 0,
      "outputs": [
        {
          "output_type": "execute_result",
          "data": {
            "text/plain": [
              "array([[ 2,  2, -2, -2],\n",
              "       [-2,  2,  2, -2],\n",
              "       [ 2, -2, -2, -2],\n",
              "       [ 2, -2, -2,  2]])"
            ]
          },
          "metadata": {
            "tags": []
          },
          "execution_count": 66
        }
      ]
    },
    {
      "metadata": {
        "id": "l3z--AL_3Sql",
        "colab_type": "code",
        "outputId": "5779b66f-7554-4abb-e405-e415120c4c2e",
        "colab": {
          "base_uri": "https://localhost:8080/",
          "height": 89
        }
      },
      "cell_type": "code",
      "source": [
        "# 양수이면 2, 아니면 원래 값을 유지하려면, \n",
        "\n",
        "np.where(arr > 0, 2, arr)"
      ],
      "execution_count": 0,
      "outputs": [
        {
          "output_type": "execute_result",
          "data": {
            "text/plain": [
              "array([[ 2.        ,  2.        , -0.90515151, -0.74866367],\n",
              "       [-0.37464774,  2.        ,  2.        , -0.05669922],\n",
              "       [ 2.        , -0.83149484, -0.30101776, -1.68186029],\n",
              "       [ 2.        , -0.58389847, -0.88164446,  2.        ]])"
            ]
          },
          "metadata": {
            "tags": []
          },
          "execution_count": 68
        }
      ]
    },
    {
      "metadata": {
        "id": "NCONAm5Y3iAk",
        "colab_type": "text"
      },
      "cell_type": "markdown",
      "source": [
        "where 에 넘긴 배열은 같은 크기의 배열이거나 스칼라 값일 수 있다. \n",
        "\n",
        "where을 사용해서 더 복잡한 것도 가능하다. \n",
        "\n",
        "cond1, cond2 라는 2개의 불리언 배열을 가지고 조합 가능한 네가지 경우마다 다른 값을 대입하고 싶다면 다음처럼 작성할 수 있다. \n",
        "\n",
        "먼저 파이썬 버전,\n"
      ]
    },
    {
      "metadata": {
        "id": "ncqzJ4bh3Tvc",
        "colab_type": "code",
        "colab": {}
      },
      "cell_type": "code",
      "source": [
        "result = []\n",
        "\n",
        "for i in range(10): # element가 10개 있다고 가정하면, \n",
        "  if cond1[i] and cond2[i]:\n",
        "    result.append(0)\n",
        "  elif cond1[i]:\n",
        "    result.append(1)\n",
        "  elif cond2[i]:\n",
        "    result.append(2)\n",
        "  else:\n",
        "    result.append(3)"
      ],
      "execution_count": 0,
      "outputs": []
    },
    {
      "metadata": {
        "id": "PlUOQUWA4inx",
        "colab_type": "text"
      },
      "cell_type": "markdown",
      "source": [
        "어렵지는 않지만 복잡한 식을 np.where을 사용하면, "
      ]
    },
    {
      "metadata": {
        "id": "WVNOgQJI4eFc",
        "colab_type": "code",
        "colab": {}
      },
      "cell_type": "code",
      "source": [
        "np.where(cond1 & cond2, 0, \n",
        "         np.where(cond1, 1, \n",
        "                 np.where(cond2, 2, 3)))"
      ],
      "execution_count": 0,
      "outputs": []
    },
    {
      "metadata": {
        "id": "dxGb5Zn343n-",
        "colab_type": "text"
      },
      "cell_type": "markdown",
      "source": [
        "한 눈에 알아볼수 있도록 간편함. \n"
      ]
    },
    {
      "metadata": {
        "id": "XFRkMOJO7vqF",
        "colab_type": "text"
      },
      "cell_type": "markdown",
      "source": [
        "### 수학 메소드와 통계 메소드\n",
        "\n",
        "배열 전체 혹은 배열에서 한축에 따른 자료에 대한 통계를 계산하기 위한 수학 함수는 배열 메소드로 사용할 수 있다. \n",
        "\n",
        "전체의 합이나, 평균, 표준편차는 Numpy의 최상위 함수를 이용하거나, 배열의 인스턴스 메소드를 사용해서 구할 수 있다.\n"
      ]
    },
    {
      "metadata": {
        "id": "v7KQQnJl88Xq",
        "colab_type": "code",
        "colab": {}
      },
      "cell_type": "code",
      "source": [
        "arr = np.arange(20).reshape(5, 4)"
      ],
      "execution_count": 0,
      "outputs": []
    },
    {
      "metadata": {
        "id": "m7w214qT9Im5",
        "colab_type": "code",
        "colab": {
          "base_uri": "https://localhost:8080/",
          "height": 107
        },
        "outputId": "59fa6728-dc7e-4864-e2ea-3254c49f8e24"
      },
      "cell_type": "code",
      "source": [
        "arr"
      ],
      "execution_count": 10,
      "outputs": [
        {
          "output_type": "execute_result",
          "data": {
            "text/plain": [
              "array([[ 0,  1,  2,  3],\n",
              "       [ 4,  5,  6,  7],\n",
              "       [ 8,  9, 10, 11],\n",
              "       [12, 13, 14, 15],\n",
              "       [16, 17, 18, 19]])"
            ]
          },
          "metadata": {
            "tags": []
          },
          "execution_count": 10
        }
      ]
    },
    {
      "metadata": {
        "id": "tTOVkfBu9Jcd",
        "colab_type": "code",
        "colab": {
          "base_uri": "https://localhost:8080/",
          "height": 35
        },
        "outputId": "3341bc4a-d2a9-4472-d449-1b557ef2929d"
      },
      "cell_type": "code",
      "source": [
        "arr.mean()"
      ],
      "execution_count": 11,
      "outputs": [
        {
          "output_type": "execute_result",
          "data": {
            "text/plain": [
              "9.5"
            ]
          },
          "metadata": {
            "tags": []
          },
          "execution_count": 11
        }
      ]
    },
    {
      "metadata": {
        "id": "ANu2YjzX9LmE",
        "colab_type": "code",
        "colab": {
          "base_uri": "https://localhost:8080/",
          "height": 35
        },
        "outputId": "8760e63a-fe83-4e19-dabe-3d10e8281802"
      },
      "cell_type": "code",
      "source": [
        "np.mean(arr)"
      ],
      "execution_count": 12,
      "outputs": [
        {
          "output_type": "execute_result",
          "data": {
            "text/plain": [
              "9.5"
            ]
          },
          "metadata": {
            "tags": []
          },
          "execution_count": 12
        }
      ]
    },
    {
      "metadata": {
        "id": "xVWFiXLK9TfJ",
        "colab_type": "code",
        "colab": {
          "base_uri": "https://localhost:8080/",
          "height": 35
        },
        "outputId": "b53de751-2d6f-4945-9238-29bf81e5dd32"
      },
      "cell_type": "code",
      "source": [
        "arr.sum()"
      ],
      "execution_count": 13,
      "outputs": [
        {
          "output_type": "execute_result",
          "data": {
            "text/plain": [
              "190"
            ]
          },
          "metadata": {
            "tags": []
          },
          "execution_count": 13
        }
      ]
    },
    {
      "metadata": {
        "id": "3S5-_uNk9Uvv",
        "colab_type": "code",
        "colab": {
          "base_uri": "https://localhost:8080/",
          "height": 35
        },
        "outputId": "f0a5d377-163c-48f8-cb13-24ef02f9cfae"
      },
      "cell_type": "code",
      "source": [
        "np.sum(arr)"
      ],
      "execution_count": 14,
      "outputs": [
        {
          "output_type": "execute_result",
          "data": {
            "text/plain": [
              "190"
            ]
          },
          "metadata": {
            "tags": []
          },
          "execution_count": 14
        }
      ]
    },
    {
      "metadata": {
        "id": "ikNWeQPZ9WmH",
        "colab_type": "code",
        "colab": {
          "base_uri": "https://localhost:8080/",
          "height": 35
        },
        "outputId": "082d8d33-52e2-4269-a790-6ef6d0f845f1"
      },
      "cell_type": "code",
      "source": [
        "arr.mean(axis=0)"
      ],
      "execution_count": 16,
      "outputs": [
        {
          "output_type": "execute_result",
          "data": {
            "text/plain": [
              "array([ 8.,  9., 10., 11.])"
            ]
          },
          "metadata": {
            "tags": []
          },
          "execution_count": 16
        }
      ]
    },
    {
      "metadata": {
        "id": "Hugwczyr9dK5",
        "colab_type": "code",
        "colab": {
          "base_uri": "https://localhost:8080/",
          "height": 35
        },
        "outputId": "5caed9c6-e68a-4ec7-d601-35dd2c4262bb"
      },
      "cell_type": "code",
      "source": [
        "arr.mean(axis=1)"
      ],
      "execution_count": 17,
      "outputs": [
        {
          "output_type": "execute_result",
          "data": {
            "text/plain": [
              "array([ 1.5,  5.5,  9.5, 13.5, 17.5])"
            ]
          },
          "metadata": {
            "tags": []
          },
          "execution_count": 17
        }
      ]
    },
    {
      "metadata": {
        "id": "QCtKKKD89nOX",
        "colab_type": "code",
        "colab": {}
      },
      "cell_type": "code",
      "source": [
        "arr = np.array([[0, 1, 2], [3, 4, 5], [6, 7, 8]])"
      ],
      "execution_count": 0,
      "outputs": []
    },
    {
      "metadata": {
        "id": "cXaXt9Sv96Mu",
        "colab_type": "code",
        "colab": {
          "base_uri": "https://localhost:8080/",
          "height": 71
        },
        "outputId": "16343750-1fdd-47df-c323-441df688c10a"
      },
      "cell_type": "code",
      "source": [
        "arr"
      ],
      "execution_count": 19,
      "outputs": [
        {
          "output_type": "execute_result",
          "data": {
            "text/plain": [
              "array([[0, 1, 2],\n",
              "       [3, 4, 5],\n",
              "       [6, 7, 8]])"
            ]
          },
          "metadata": {
            "tags": []
          },
          "execution_count": 19
        }
      ]
    },
    {
      "metadata": {
        "id": "uB5KUxKp97t1",
        "colab_type": "code",
        "colab": {}
      },
      "cell_type": "code",
      "source": [
        "arr.cumsum?"
      ],
      "execution_count": 0,
      "outputs": []
    },
    {
      "metadata": {
        "id": "M9WkPJBE9-qU",
        "colab_type": "code",
        "colab": {
          "base_uri": "https://localhost:8080/",
          "height": 71
        },
        "outputId": "d90a084e-cdea-4f24-b713-71aa3affbc8e"
      },
      "cell_type": "code",
      "source": [
        "arr.cumsum(0)"
      ],
      "execution_count": 21,
      "outputs": [
        {
          "output_type": "execute_result",
          "data": {
            "text/plain": [
              "array([[ 0,  1,  2],\n",
              "       [ 3,  5,  7],\n",
              "       [ 9, 12, 15]])"
            ]
          },
          "metadata": {
            "tags": []
          },
          "execution_count": 21
        }
      ]
    },
    {
      "metadata": {
        "id": "NF9iRHmc-FXh",
        "colab_type": "code",
        "colab": {
          "base_uri": "https://localhost:8080/",
          "height": 71
        },
        "outputId": "7f667327-b501-4acc-da8e-bafc9a02fe72"
      },
      "cell_type": "code",
      "source": [
        "arr.cumsum(1)"
      ],
      "execution_count": 22,
      "outputs": [
        {
          "output_type": "execute_result",
          "data": {
            "text/plain": [
              "array([[ 0,  1,  3],\n",
              "       [ 3,  7, 12],\n",
              "       [ 6, 13, 21]])"
            ]
          },
          "metadata": {
            "tags": []
          },
          "execution_count": 22
        }
      ]
    },
    {
      "metadata": {
        "id": "1BAMP7LI-O9r",
        "colab_type": "code",
        "colab": {}
      },
      "cell_type": "code",
      "source": [
        "arr.argmax?"
      ],
      "execution_count": 0,
      "outputs": []
    },
    {
      "metadata": {
        "id": "IIKDLXqm-fL4",
        "colab_type": "code",
        "colab": {
          "base_uri": "https://localhost:8080/",
          "height": 35
        },
        "outputId": "e5142609-a54d-4c8f-a084-4bb06867b63c"
      },
      "cell_type": "code",
      "source": [
        "arr.argmax(0)"
      ],
      "execution_count": 24,
      "outputs": [
        {
          "output_type": "execute_result",
          "data": {
            "text/plain": [
              "array([2, 2, 2])"
            ]
          },
          "metadata": {
            "tags": []
          },
          "execution_count": 24
        }
      ]
    },
    {
      "metadata": {
        "id": "7N9KIKDB-jtD",
        "colab_type": "code",
        "colab": {
          "base_uri": "https://localhost:8080/",
          "height": 35
        },
        "outputId": "46028ff4-3732-419d-9ff7-dd1cc3c29096"
      },
      "cell_type": "code",
      "source": [
        "arr.argmax(1)"
      ],
      "execution_count": 25,
      "outputs": [
        {
          "output_type": "execute_result",
          "data": {
            "text/plain": [
              "array([2, 2, 2])"
            ]
          },
          "metadata": {
            "tags": []
          },
          "execution_count": 25
        }
      ]
    },
    {
      "metadata": {
        "id": "We2Jl4Db-0jZ",
        "colab_type": "text"
      },
      "cell_type": "markdown",
      "source": [
        "### 불리언 배열을 위한 메소드\n",
        "\n"
      ]
    },
    {
      "metadata": {
        "id": "p_ht8JUN-oW7",
        "colab_type": "code",
        "colab": {}
      },
      "cell_type": "code",
      "source": [
        "arr = np.random.randn(100)"
      ],
      "execution_count": 0,
      "outputs": []
    },
    {
      "metadata": {
        "id": "HO5HalPO_Ack",
        "colab_type": "code",
        "colab": {
          "base_uri": "https://localhost:8080/",
          "height": 35
        },
        "outputId": "46bb7363-df00-4677-f09d-9fc8e3a3d2c9"
      },
      "cell_type": "code",
      "source": [
        "# arr 중에서 0보다 큰게 몇개 있는지를 알고 싶다면, \n",
        "\n",
        "(arr > 0).sum()"
      ],
      "execution_count": 27,
      "outputs": [
        {
          "output_type": "execute_result",
          "data": {
            "text/plain": [
              "52"
            ]
          },
          "metadata": {
            "tags": []
          },
          "execution_count": 27
        }
      ]
    },
    {
      "metadata": {
        "id": "HQAWbtEM_N4L",
        "colab_type": "text"
      },
      "cell_type": "markdown",
      "source": [
        "any, all 메소드는 boolean에서 특히 유용하다. \n",
        "\n",
        "any()는 하나이상의 True값이 있는지 검사하고, all()은 모든 원소가 True인지 검사한다.\n"
      ]
    },
    {
      "metadata": {
        "id": "DiwIZqQ4_KKj",
        "colab_type": "code",
        "colab": {}
      },
      "cell_type": "code",
      "source": [
        "bools = np.array([False, False, True, False])"
      ],
      "execution_count": 0,
      "outputs": []
    },
    {
      "metadata": {
        "id": "QZS3piCp_irU",
        "colab_type": "code",
        "colab": {
          "base_uri": "https://localhost:8080/",
          "height": 35
        },
        "outputId": "cb7b33b7-63b7-442d-d0ad-1db973886c32"
      },
      "cell_type": "code",
      "source": [
        "bools.any()"
      ],
      "execution_count": 29,
      "outputs": [
        {
          "output_type": "execute_result",
          "data": {
            "text/plain": [
              "True"
            ]
          },
          "metadata": {
            "tags": []
          },
          "execution_count": 29
        }
      ]
    },
    {
      "metadata": {
        "id": "t0mMOmPT_kyj",
        "colab_type": "code",
        "colab": {
          "base_uri": "https://localhost:8080/",
          "height": 35
        },
        "outputId": "146d9706-dbeb-42dd-d389-fb740dfe86d5"
      },
      "cell_type": "code",
      "source": [
        "bools.all()"
      ],
      "execution_count": 30,
      "outputs": [
        {
          "output_type": "execute_result",
          "data": {
            "text/plain": [
              "False"
            ]
          },
          "metadata": {
            "tags": []
          },
          "execution_count": 30
        }
      ]
    },
    {
      "metadata": {
        "id": "0maJDH7u_rCh",
        "colab_type": "text"
      },
      "cell_type": "markdown",
      "source": [
        "이 메소드는 불리언 배열이 아니어도, 동작하며, 0이 아닌 원소는 모두 True로 간주한다."
      ]
    },
    {
      "metadata": {
        "id": "1YEw5VYj_nB0",
        "colab_type": "code",
        "colab": {
          "base_uri": "https://localhost:8080/",
          "height": 35
        },
        "outputId": "5997a272-83ff-4166-e7ee-b90a3ee1631a"
      },
      "cell_type": "code",
      "source": [
        "(arr > 0).any()"
      ],
      "execution_count": 31,
      "outputs": [
        {
          "output_type": "execute_result",
          "data": {
            "text/plain": [
              "True"
            ]
          },
          "metadata": {
            "tags": []
          },
          "execution_count": 31
        }
      ]
    },
    {
      "metadata": {
        "id": "cWN3pLhg_2Ik",
        "colab_type": "code",
        "colab": {
          "base_uri": "https://localhost:8080/",
          "height": 35
        },
        "outputId": "3d23759c-04cf-4639-9e5b-f8895c90b2a5"
      },
      "cell_type": "code",
      "source": [
        "(arr > 0).all()"
      ],
      "execution_count": 32,
      "outputs": [
        {
          "output_type": "execute_result",
          "data": {
            "text/plain": [
              "False"
            ]
          },
          "metadata": {
            "tags": []
          },
          "execution_count": 32
        }
      ]
    },
    {
      "metadata": {
        "id": "65aANV_8_861",
        "colab_type": "text"
      },
      "cell_type": "markdown",
      "source": [
        "### 정렬\n",
        "\n",
        "파이썬의 내장 리스트형처럼 Numpy 배열 역시 sort 메소드를 이용해서 정렬할수 있다.\n"
      ]
    },
    {
      "metadata": {
        "id": "kWRrbUwY_420",
        "colab_type": "code",
        "colab": {}
      },
      "cell_type": "code",
      "source": [
        "arr = np.random.randn(8)"
      ],
      "execution_count": 0,
      "outputs": []
    },
    {
      "metadata": {
        "id": "u1rYm5mBATm3",
        "colab_type": "code",
        "colab": {
          "base_uri": "https://localhost:8080/",
          "height": 53
        },
        "outputId": "fd3bf144-7522-4a73-ee27-8ba86c7b979e"
      },
      "cell_type": "code",
      "source": [
        "arr"
      ],
      "execution_count": 34,
      "outputs": [
        {
          "output_type": "execute_result",
          "data": {
            "text/plain": [
              "array([0.56319927, 0.0867862 , 1.08500341, 0.59005898, 0.47657906,\n",
              "       1.4678444 , 0.57520004, 1.29599292])"
            ]
          },
          "metadata": {
            "tags": []
          },
          "execution_count": 34
        }
      ]
    },
    {
      "metadata": {
        "id": "7epvakGmAZDw",
        "colab_type": "code",
        "colab": {}
      },
      "cell_type": "code",
      "source": [
        "arr.sort?"
      ],
      "execution_count": 0,
      "outputs": []
    },
    {
      "metadata": {
        "id": "hX7llcy8AftH",
        "colab_type": "code",
        "colab": {}
      },
      "cell_type": "code",
      "source": [
        "arr.sort()"
      ],
      "execution_count": 0,
      "outputs": []
    },
    {
      "metadata": {
        "id": "FKp9WrJ9AvLu",
        "colab_type": "code",
        "colab": {
          "base_uri": "https://localhost:8080/",
          "height": 53
        },
        "outputId": "6c08f014-87c2-450c-f832-28cdbcc2272a"
      },
      "cell_type": "code",
      "source": [
        "arr"
      ],
      "execution_count": 37,
      "outputs": [
        {
          "output_type": "execute_result",
          "data": {
            "text/plain": [
              "array([0.0867862 , 0.47657906, 0.56319927, 0.57520004, 0.59005898,\n",
              "       1.08500341, 1.29599292, 1.4678444 ])"
            ]
          },
          "metadata": {
            "tags": []
          },
          "execution_count": 37
        }
      ]
    },
    {
      "metadata": {
        "id": "QF61aix-AwJj",
        "colab_type": "code",
        "colab": {}
      },
      "cell_type": "code",
      "source": [
        "arr = np.random.randn(5, 3)"
      ],
      "execution_count": 0,
      "outputs": []
    },
    {
      "metadata": {
        "id": "ceIx9I6KBRw7",
        "colab_type": "code",
        "colab": {
          "base_uri": "https://localhost:8080/",
          "height": 107
        },
        "outputId": "51735bdf-f56a-4d7f-b7d7-70da0caab6cb"
      },
      "cell_type": "code",
      "source": [
        "arr"
      ],
      "execution_count": 40,
      "outputs": [
        {
          "output_type": "execute_result",
          "data": {
            "text/plain": [
              "array([[-0.05111721,  1.05982038, -1.21550594],\n",
              "       [ 0.04563833, -0.26428074, -0.194302  ],\n",
              "       [-0.21862811, -1.19497534, -0.14946024],\n",
              "       [ 0.68030011,  0.06053832,  0.12747024],\n",
              "       [ 0.9149496 ,  0.73194369,  0.15551348]])"
            ]
          },
          "metadata": {
            "tags": []
          },
          "execution_count": 40
        }
      ]
    },
    {
      "metadata": {
        "id": "6UH57O60BSor",
        "colab_type": "code",
        "colab": {}
      },
      "cell_type": "code",
      "source": [
        "arr.sort(1)"
      ],
      "execution_count": 0,
      "outputs": []
    },
    {
      "metadata": {
        "id": "YVxON_hgBVVn",
        "colab_type": "code",
        "colab": {
          "base_uri": "https://localhost:8080/",
          "height": 107
        },
        "outputId": "c9d7dfbc-23a1-495f-9be1-5e03464b89f4"
      },
      "cell_type": "code",
      "source": [
        "arr"
      ],
      "execution_count": 42,
      "outputs": [
        {
          "output_type": "execute_result",
          "data": {
            "text/plain": [
              "array([[-1.21550594, -0.05111721,  1.05982038],\n",
              "       [-0.26428074, -0.194302  ,  0.04563833],\n",
              "       [-1.19497534, -0.21862811, -0.14946024],\n",
              "       [ 0.06053832,  0.12747024,  0.68030011],\n",
              "       [ 0.15551348,  0.73194369,  0.9149496 ]])"
            ]
          },
          "metadata": {
            "tags": []
          },
          "execution_count": 42
        }
      ]
    },
    {
      "metadata": {
        "id": "xNsvMzmTBWCX",
        "colab_type": "code",
        "colab": {}
      },
      "cell_type": "code",
      "source": [
        "arr.sort(0)"
      ],
      "execution_count": 0,
      "outputs": []
    },
    {
      "metadata": {
        "id": "0-aOv128Baro",
        "colab_type": "code",
        "colab": {
          "base_uri": "https://localhost:8080/",
          "height": 107
        },
        "outputId": "55450f8e-0453-443d-e5ec-261512976bd3"
      },
      "cell_type": "code",
      "source": [
        "arr"
      ],
      "execution_count": 44,
      "outputs": [
        {
          "output_type": "execute_result",
          "data": {
            "text/plain": [
              "array([[-1.21550594, -0.21862811, -0.14946024],\n",
              "       [-1.19497534, -0.194302  ,  0.04563833],\n",
              "       [-0.26428074, -0.05111721,  0.68030011],\n",
              "       [ 0.06053832,  0.12747024,  0.9149496 ],\n",
              "       [ 0.15551348,  0.73194369,  1.05982038]])"
            ]
          },
          "metadata": {
            "tags": []
          },
          "execution_count": 44
        }
      ]
    },
    {
      "metadata": {
        "id": "UjtzVBYgBiVH",
        "colab_type": "text"
      },
      "cell_type": "markdown",
      "source": [
        "Index에 대해서 sort하는것을 axis=0, column에 대해서 정렬하는게 axis =1 이구나\n",
        "\n",
        "\n",
        "---\n",
        "\n",
        "보다 싶이 arr.sort()는 원본을 직접 건드린다. 그러나  np.sort()는 복사본을 반환."
      ]
    },
    {
      "metadata": {
        "id": "KGIaPiC2BbwL",
        "colab_type": "code",
        "colab": {}
      },
      "cell_type": "code",
      "source": [
        "large_arr = np.random.randn(1000)"
      ],
      "execution_count": 0,
      "outputs": []
    },
    {
      "metadata": {
        "id": "ctmVEbHyBw-5",
        "colab_type": "code",
        "colab": {}
      },
      "cell_type": "code",
      "source": [
        "large_arr.sort()"
      ],
      "execution_count": 0,
      "outputs": []
    },
    {
      "metadata": {
        "id": "zmMJ_bD2CKoS",
        "colab_type": "code",
        "colab": {
          "base_uri": "https://localhost:8080/",
          "height": 35
        },
        "outputId": "409e0061-a6de-4ed2-d32d-9535aef32cff"
      },
      "cell_type": "code",
      "source": [
        "# 5%의 quantile을 구하고 싶으면, \n",
        "\n",
        "large_arr[int(0.05 * len(large_arr))]"
      ],
      "execution_count": 48,
      "outputs": [
        {
          "output_type": "execute_result",
          "data": {
            "text/plain": [
              "-1.7206096875107422"
            ]
          },
          "metadata": {
            "tags": []
          },
          "execution_count": 48
        }
      ]
    },
    {
      "metadata": {
        "id": "nq7iXw7mCb1N",
        "colab_type": "text"
      },
      "cell_type": "markdown",
      "source": [
        "### 집합 함수\n",
        "\n",
        "Numpy에서 1차원 ndarray를 위한 몇가지 기본 집합연산을 제공한다. 아마도 가장 자주 사용되는 함수는 배열 내에서 중복된 원소를 제거하고 남은 원소를 정렬된 형태로 반환하는 np.unique 일것이다. "
      ]
    },
    {
      "metadata": {
        "id": "MZewQT8xCVdD",
        "colab_type": "code",
        "colab": {}
      },
      "cell_type": "code",
      "source": [
        "names = np.array(['Bob', 'Joe', 'Will', 'Bob', 'Will', 'Joe', 'Joe'])"
      ],
      "execution_count": 0,
      "outputs": []
    },
    {
      "metadata": {
        "id": "MlnxCGKgC6IX",
        "colab_type": "code",
        "colab": {
          "base_uri": "https://localhost:8080/",
          "height": 35
        },
        "outputId": "9107e4bc-1198-4c6d-b5aa-b7ac43faab18"
      },
      "cell_type": "code",
      "source": [
        "np.unique(names)"
      ],
      "execution_count": 50,
      "outputs": [
        {
          "output_type": "execute_result",
          "data": {
            "text/plain": [
              "array(['Bob', 'Joe', 'Will'], dtype='<U4')"
            ]
          },
          "metadata": {
            "tags": []
          },
          "execution_count": 50
        }
      ]
    },
    {
      "metadata": {
        "id": "AEc5_37dC8uC",
        "colab_type": "code",
        "colab": {
          "base_uri": "https://localhost:8080/",
          "height": 35
        },
        "outputId": "156ab09b-0945-4ee6-a383-b48a735b4c0f"
      },
      "cell_type": "code",
      "source": [
        "names"
      ],
      "execution_count": 51,
      "outputs": [
        {
          "output_type": "execute_result",
          "data": {
            "text/plain": [
              "array(['Bob', 'Joe', 'Will', 'Bob', 'Will', 'Joe', 'Joe'], dtype='<U4')"
            ]
          },
          "metadata": {
            "tags": []
          },
          "execution_count": 51
        }
      ]
    },
    {
      "metadata": {
        "id": "TMbgJMfCC_4H",
        "colab_type": "code",
        "colab": {}
      },
      "cell_type": "code",
      "source": [
        "ints = np.array([3, 3, 3, 2, 2, 1, 1, 4, 4])"
      ],
      "execution_count": 0,
      "outputs": []
    },
    {
      "metadata": {
        "id": "-2iS9G5mDIWH",
        "colab_type": "code",
        "colab": {
          "base_uri": "https://localhost:8080/",
          "height": 35
        },
        "outputId": "b64a5e24-b71d-4a74-e888-ff6d7f14f8cc"
      },
      "cell_type": "code",
      "source": [
        "np.unique(ints)"
      ],
      "execution_count": 54,
      "outputs": [
        {
          "output_type": "execute_result",
          "data": {
            "text/plain": [
              "array([1, 2, 3, 4])"
            ]
          },
          "metadata": {
            "tags": []
          },
          "execution_count": 54
        }
      ]
    },
    {
      "metadata": {
        "id": "2KTxohTtDfPm",
        "colab_type": "text"
      },
      "cell_type": "markdown",
      "source": [
        "또 하나의 알아두면, 재미있는 함수는 np.in1d() 함수 이다. \n",
        "\n",
        "이것은 두개의 배열을 인자로 받아서, 하는 일은 첫번째 배열의 각원소에 대해서 그 원소가 두번째 배열에 있는지를 검사하는 작용을 한다. \n"
      ]
    },
    {
      "metadata": {
        "id": "bBUNowizDNwz",
        "colab_type": "code",
        "colab": {}
      },
      "cell_type": "code",
      "source": [
        "values = np.array([6, 0, 0, 3, 2, 5, 6])"
      ],
      "execution_count": 0,
      "outputs": []
    },
    {
      "metadata": {
        "id": "ft11tpbJD4VL",
        "colab_type": "code",
        "colab": {
          "base_uri": "https://localhost:8080/",
          "height": 35
        },
        "outputId": "7f0a4e6c-3ee7-48d1-c8a3-575c520b7303"
      },
      "cell_type": "code",
      "source": [
        "np.in1d(values, [2, 3, 6])"
      ],
      "execution_count": 56,
      "outputs": [
        {
          "output_type": "execute_result",
          "data": {
            "text/plain": [
              "array([ True, False, False,  True,  True, False,  True])"
            ]
          },
          "metadata": {
            "tags": []
          },
          "execution_count": 56
        }
      ]
    },
    {
      "metadata": {
        "id": "7Qt83KBOEHfF",
        "colab_type": "text"
      },
      "cell_type": "markdown",
      "source": [
        "배열 집합 연산\n",
        "\n",
        "\n",
        "\n",
        "*   unique(x): 배열 x 에서 중복된 원소를 제거한 후 정렬하여 반환\n",
        "*   intersect1d(x, y): 배열 x와 y에 공통적으로 존재하는 원소를 정렬하여 반환한다.\n",
        "*   union1d(x, y) : 두 배열의 합집합을 반환\n",
        "*   in1d(x, y): x의 각 원소가 y에 포함된 원소인지를 반환\n",
        "*   setdiff1d(x, y): x와 y의 차집합을 반환\n",
        "*   setxor1d(x, y): 한 배열에는 포함되지만, 두 배열 모두에는 포함되지 않는 원소들의 집합인 대칭차집합을 반환.\n",
        "\n"
      ]
    },
    {
      "metadata": {
        "id": "oVT53S7IE-IH",
        "colab_type": "text"
      },
      "cell_type": "markdown",
      "source": [
        "## 배열의 파일 입, 출력\n",
        "\n",
        "np.save와 np.load는 배열 데이터를 효율적으로 디스크에 저장하고 불러오는 함수이다. \n",
        "\n",
        "배열은 기본적으로 압축되지 않은 raw바이너리 형식의 .npy파일로 저장된다."
      ]
    },
    {
      "metadata": {
        "id": "1GrPNGmnGLcL",
        "colab_type": "text"
      },
      "cell_type": "markdown",
      "source": [
        "### 배열을 바이너리 형식으로 디스크에 저장하기"
      ]
    },
    {
      "metadata": {
        "id": "69uSQ_hjD8mf",
        "colab_type": "code",
        "colab": {}
      },
      "cell_type": "code",
      "source": [
        "arr = np.arange(10)"
      ],
      "execution_count": 0,
      "outputs": []
    },
    {
      "metadata": {
        "id": "AFuKiLqyFWNf",
        "colab_type": "code",
        "colab": {}
      },
      "cell_type": "code",
      "source": [
        "np.save('some_array', arr)"
      ],
      "execution_count": 0,
      "outputs": []
    },
    {
      "metadata": {
        "id": "lkxbrFsAFcBR",
        "colab_type": "code",
        "colab": {
          "base_uri": "https://localhost:8080/",
          "height": 35
        },
        "outputId": "ea197a96-e6f3-40fb-e2c0-bfbc0c7e965f"
      },
      "cell_type": "code",
      "source": [
        "!ls"
      ],
      "execution_count": 59,
      "outputs": [
        {
          "output_type": "stream",
          "text": [
            "sample_data  some_array.npy\n"
          ],
          "name": "stdout"
        }
      ]
    },
    {
      "metadata": {
        "id": "r-t5PsxqFdw-",
        "colab_type": "code",
        "colab": {
          "base_uri": "https://localhost:8080/",
          "height": 35
        },
        "outputId": "2836f466-ccdc-45cc-e12f-22f4bbbd5962"
      },
      "cell_type": "code",
      "source": [
        "np.load('some_array.npy')"
      ],
      "execution_count": 61,
      "outputs": [
        {
          "output_type": "execute_result",
          "data": {
            "text/plain": [
              "array([0, 1, 2, 3, 4, 5, 6, 7, 8, 9])"
            ]
          },
          "metadata": {
            "tags": []
          },
          "execution_count": 61
        }
      ]
    },
    {
      "metadata": {
        "id": "VFxorZT0Flj5",
        "colab_type": "code",
        "colab": {}
      },
      "cell_type": "code",
      "source": [
        "np.savez('array_archive.npz', a=arr, b=arr)"
      ],
      "execution_count": 0,
      "outputs": []
    },
    {
      "metadata": {
        "id": "WbdKUJwuF8Cu",
        "colab_type": "code",
        "colab": {}
      },
      "cell_type": "code",
      "source": [
        "arch = np.load('array_archive.npz')"
      ],
      "execution_count": 0,
      "outputs": []
    },
    {
      "metadata": {
        "id": "ovOrhJB2GB3w",
        "colab_type": "code",
        "colab": {
          "base_uri": "https://localhost:8080/",
          "height": 35
        },
        "outputId": "792ef1c1-d597-45f5-9163-0e4b491fbb45"
      },
      "cell_type": "code",
      "source": [
        "arch['a']"
      ],
      "execution_count": 64,
      "outputs": [
        {
          "output_type": "execute_result",
          "data": {
            "text/plain": [
              "array([0, 1, 2, 3, 4, 5, 6, 7, 8, 9])"
            ]
          },
          "metadata": {
            "tags": []
          },
          "execution_count": 64
        }
      ]
    },
    {
      "metadata": {
        "id": "dINjPZbSGQTm",
        "colab_type": "text"
      },
      "cell_type": "markdown",
      "source": [
        "### 텍스트 파일 불러오기와 저장하기\n",
        "\n",
        "\n",
        "\n",
        "*   np.loadtxt():\n",
        "*   np.getfromtxt():\n",
        "\n"
      ]
    },
    {
      "metadata": {
        "id": "0I4qiwIEGDkH",
        "colab_type": "code",
        "colab": {}
      },
      "cell_type": "code",
      "source": [
        "arr = np.arange(20).reshape(5, 4)"
      ],
      "execution_count": 0,
      "outputs": []
    },
    {
      "metadata": {
        "id": "JVVXg1wtG36r",
        "colab_type": "code",
        "colab": {}
      },
      "cell_type": "code",
      "source": [
        "np.savetxt('array_ex.txt', arr, delimiter=',')"
      ],
      "execution_count": 0,
      "outputs": []
    },
    {
      "metadata": {
        "id": "rrH30kSHHGNm",
        "colab_type": "code",
        "colab": {}
      },
      "cell_type": "code",
      "source": [
        "arr_read = np.loadtxt('array_ex.txt', delimiter=',')"
      ],
      "execution_count": 0,
      "outputs": []
    },
    {
      "metadata": {
        "id": "kWcLOZIpHM9b",
        "colab_type": "code",
        "colab": {
          "base_uri": "https://localhost:8080/",
          "height": 107
        },
        "outputId": "550599ec-32ed-43dd-fa68-3ae67a0af559"
      },
      "cell_type": "code",
      "source": [
        "arr_read"
      ],
      "execution_count": 72,
      "outputs": [
        {
          "output_type": "execute_result",
          "data": {
            "text/plain": [
              "array([[ 0.,  1.,  2.,  3.],\n",
              "       [ 4.,  5.,  6.,  7.],\n",
              "       [ 8.,  9., 10., 11.],\n",
              "       [12., 13., 14., 15.],\n",
              "       [16., 17., 18., 19.]])"
            ]
          },
          "metadata": {
            "tags": []
          },
          "execution_count": 72
        }
      ]
    },
    {
      "metadata": {
        "id": "MC-n25YUI2jw",
        "colab_type": "text"
      },
      "cell_type": "markdown",
      "source": [
        "## 선형대수\n",
        "\n",
        "행렬의 곱셈, 분할, 행렬식, 정사각 행렬 수학 같은 선형대수는 배열을 다루는 라이브러리에서 중요한 부분이다. \n",
        "\n"
      ]
    },
    {
      "metadata": {
        "id": "vxKP1OK8HZdx",
        "colab_type": "code",
        "colab": {}
      },
      "cell_type": "code",
      "source": [
        "x = np.array([[1, 2, 3], [4, 5, 6]])"
      ],
      "execution_count": 0,
      "outputs": []
    },
    {
      "metadata": {
        "id": "tHexk2BlJM9E",
        "colab_type": "code",
        "colab": {}
      },
      "cell_type": "code",
      "source": [
        "y = np.array([[6, 23], [-1, 7], [8, 9]])"
      ],
      "execution_count": 0,
      "outputs": []
    },
    {
      "metadata": {
        "id": "DreSSxfIJYi5",
        "colab_type": "code",
        "colab": {
          "base_uri": "https://localhost:8080/",
          "height": 53
        },
        "outputId": "b493f630-e067-4f57-eebc-05ae15304f15"
      },
      "cell_type": "code",
      "source": [
        "x.dot(y)"
      ],
      "execution_count": 76,
      "outputs": [
        {
          "output_type": "execute_result",
          "data": {
            "text/plain": [
              "array([[ 28,  64],\n",
              "       [ 67, 181]])"
            ]
          },
          "metadata": {
            "tags": []
          },
          "execution_count": 76
        }
      ]
    },
    {
      "metadata": {
        "id": "TK5M3AXwJbXv",
        "colab_type": "code",
        "colab": {
          "base_uri": "https://localhost:8080/",
          "height": 53
        },
        "outputId": "15cac910-81f9-43dd-ce4c-f7f6295cb412"
      },
      "cell_type": "code",
      "source": [
        "np.dot(x, y)"
      ],
      "execution_count": 77,
      "outputs": [
        {
          "output_type": "execute_result",
          "data": {
            "text/plain": [
              "array([[ 28,  64],\n",
              "       [ 67, 181]])"
            ]
          },
          "metadata": {
            "tags": []
          },
          "execution_count": 77
        }
      ]
    },
    {
      "metadata": {
        "id": "O4DrcTPHJdOh",
        "colab_type": "code",
        "colab": {
          "base_uri": "https://localhost:8080/",
          "height": 35
        },
        "outputId": "88f8a7fa-6245-4487-b926-57efb6bd9636"
      },
      "cell_type": "code",
      "source": [
        "np.dot(x, np.ones(3))"
      ],
      "execution_count": 78,
      "outputs": [
        {
          "output_type": "execute_result",
          "data": {
            "text/plain": [
              "array([ 6., 15.])"
            ]
          },
          "metadata": {
            "tags": []
          },
          "execution_count": 78
        }
      ]
    },
    {
      "metadata": {
        "id": "Q15KQ5rWJl-v",
        "colab_type": "text"
      },
      "cell_type": "markdown",
      "source": [
        "numpy.linalg는 행렬의 분할과 역행렬, 행렬식 같은 것을 포함"
      ]
    },
    {
      "metadata": {
        "id": "87LCqhtHJiyx",
        "colab_type": "code",
        "colab": {}
      },
      "cell_type": "code",
      "source": [
        "from numpy.linalg import inv, qr"
      ],
      "execution_count": 0,
      "outputs": []
    },
    {
      "metadata": {
        "id": "ooy1IGuqJyvr",
        "colab_type": "code",
        "colab": {}
      },
      "cell_type": "code",
      "source": [
        "X = np.random.randn(5, 5)"
      ],
      "execution_count": 0,
      "outputs": []
    },
    {
      "metadata": {
        "id": "jCpngAA4J2Xe",
        "colab_type": "code",
        "colab": {}
      },
      "cell_type": "code",
      "source": [
        "mat = X.T.dot(X)"
      ],
      "execution_count": 0,
      "outputs": []
    },
    {
      "metadata": {
        "id": "AVl-5oEbJ5Sj",
        "colab_type": "code",
        "colab": {
          "base_uri": "https://localhost:8080/",
          "height": 107
        },
        "outputId": "fbcec4ce-9550-4a6a-8ff1-700634b44a4e"
      },
      "cell_type": "code",
      "source": [
        "mat"
      ],
      "execution_count": 82,
      "outputs": [
        {
          "output_type": "execute_result",
          "data": {
            "text/plain": [
              "array([[ 3.81013703,  1.31281054, -0.43428041, -1.45000395, -5.92397955],\n",
              "       [ 1.31281054,  2.35832012, -1.08152234,  0.70474534, -1.53230061],\n",
              "       [-0.43428041, -1.08152234,  4.58630726, -2.1458943 , -1.91215577],\n",
              "       [-1.45000395,  0.70474534, -2.1458943 ,  2.57120936,  2.87767118],\n",
              "       [-5.92397955, -1.53230061, -1.91215577,  2.87767118, 15.27421115]])"
            ]
          },
          "metadata": {
            "tags": []
          },
          "execution_count": 82
        }
      ]
    },
    {
      "metadata": {
        "id": "D-nrsbN2J8lG",
        "colab_type": "code",
        "colab": {
          "base_uri": "https://localhost:8080/",
          "height": 107
        },
        "outputId": "fd6f6f9f-81f1-4366-fa04-7125ca64e046"
      },
      "cell_type": "code",
      "source": [
        "inv(mat)"
      ],
      "execution_count": 83,
      "outputs": [
        {
          "output_type": "execute_result",
          "data": {
            "text/plain": [
              "array([[ 2.44810827, -0.98858914,  1.15424093,  1.90267765,  0.63633633],\n",
              "       [-0.98858914,  1.00131931, -0.37952466, -0.98693762, -0.14453696],\n",
              "       [ 1.15424093, -0.37952466,  0.91694996,  1.18272045,  0.30155563],\n",
              "       [ 1.90267765, -0.98693762,  1.18272045,  2.33001076,  0.34801662],\n",
              "       [ 0.63633633, -0.14453696,  0.30155563,  0.34801662,  0.26995262]])"
            ]
          },
          "metadata": {
            "tags": []
          },
          "execution_count": 83
        }
      ]
    },
    {
      "metadata": {
        "id": "bCcCFuQ8KDNk",
        "colab_type": "code",
        "colab": {
          "base_uri": "https://localhost:8080/",
          "height": 197
        },
        "outputId": "8ea51880-d2d4-44df-a8e4-dc8c3067cb1a"
      },
      "cell_type": "code",
      "source": [
        "mat.dot(inv(mat))"
      ],
      "execution_count": 84,
      "outputs": [
        {
          "output_type": "execute_result",
          "data": {
            "text/plain": [
              "array([[ 1.00000000e+00,  4.15260903e-16,  9.52448529e-16,\n",
              "         1.34854714e-15, -2.88623133e-16],\n",
              "       [ 2.00920614e-16,  1.00000000e+00, -7.98433197e-17,\n",
              "         1.40034990e-16, -5.76482315e-17],\n",
              "       [-3.06792527e-17,  1.03795031e-16,  1.00000000e+00,\n",
              "        -8.92331785e-16, -5.03297254e-17],\n",
              "       [ 4.93865595e-16,  3.70865412e-16, -8.93350812e-16,\n",
              "         1.00000000e+00, -3.25891275e-17],\n",
              "       [ 2.38876648e-15,  9.60095510e-17, -7.23891203e-16,\n",
              "         1.73581519e-16,  1.00000000e+00]])"
            ]
          },
          "metadata": {
            "tags": []
          },
          "execution_count": 84
        }
      ]
    },
    {
      "metadata": {
        "id": "rPtESTvkKHun",
        "colab_type": "code",
        "colab": {}
      },
      "cell_type": "code",
      "source": [
        "q, r = qr(mat)"
      ],
      "execution_count": 0,
      "outputs": []
    },
    {
      "metadata": {
        "id": "i0bD0eUOKTGI",
        "colab_type": "text"
      },
      "cell_type": "markdown",
      "source": [
        "선형대수는 다시 한번 공부가 필요해보임. \n",
        "\n",
        "일단 정리부터 해보자. \n",
        "\n",
        "\n",
        "*   numpy.diag: 정사각 행렬의 대각/비대각 원소를 1차원 배열로 반환하거나 1차원 배열을 대각선 원소로 하고, 나머지는 0으로 채운 단위 행렬을 반환한다.\n",
        "*   numpy.dot : 행렬 곱셈\n",
        "*   numpy.trace: 행렬의 대각선 원소의 합을 계산\n",
        "*   numpy.linalg.det: 행렬식을 계산\n",
        "*   numpy.linalg.eig: 정사각 행렬의 고유 값과 고유 벡터를 계산한다. \n",
        "*   numpy.linalg.inv: 정사각 행렬의 역행렬을 계산\n",
        "*   numpy.linalg.pinv: 행렬의 무어-펜로즈 유사역원 역행렬을 구한다.\n",
        "*   numpy.linalg.qr: QR 분해를 계산\n",
        "*   numpy.linalg.svd: 특이값분해 SVD 계산\n",
        "*   numpy.linalg.solve: A가 정사각 행렬일때, Ax = b를 만족하는 x를 구한다. \n",
        "*   numpy.linalg.lstsq: y = xb를 만족하는 최소제곱해를 구한다.\n",
        "\n"
      ]
    },
    {
      "metadata": {
        "id": "-wsELsg4LuUT",
        "colab_type": "text"
      },
      "cell_type": "markdown",
      "source": [
        "## 난수 생성"
      ]
    },
    {
      "metadata": {
        "id": "-E3VW5fHKOTN",
        "colab_type": "code",
        "colab": {}
      },
      "cell_type": "code",
      "source": [
        ""
      ],
      "execution_count": 0,
      "outputs": []
    }
  ]
}