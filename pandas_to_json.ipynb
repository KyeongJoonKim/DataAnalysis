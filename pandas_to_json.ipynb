{
  "nbformat": 4,
  "nbformat_minor": 0,
  "metadata": {
    "colab": {
      "name": "pandas_to_json.ipynb",
      "version": "0.3.2",
      "provenance": [],
      "collapsed_sections": [],
      "include_colab_link": true
    },
    "kernelspec": {
      "name": "python3",
      "display_name": "Python 3"
    }
  },
  "cells": [
    {
      "cell_type": "markdown",
      "metadata": {
        "id": "view-in-github",
        "colab_type": "text"
      },
      "source": [
        "<a href=\"https://colab.research.google.com/github/xuhu357/DataAnalysis/blob/master/pandas_to_json.ipynb\" target=\"_parent\"><img src=\"https://colab.research.google.com/assets/colab-badge.svg\" alt=\"Open In Colab\"/></a>"
      ]
    },
    {
      "metadata": {
        "id": "1hCIIl9go06k",
        "colab_type": "code",
        "colab": {}
      },
      "cell_type": "code",
      "source": [
        "import pandas as pd\n",
        "from pandas import DataFrame, Series"
      ],
      "execution_count": 0,
      "outputs": []
    },
    {
      "metadata": {
        "id": "YeHbmE4vo_gD",
        "colab_type": "code",
        "colab": {}
      },
      "cell_type": "code",
      "source": [
        "df = DataFrame({'day_hour': ['2018-08-23 0', '2018-08-23 0', '2018-08-23 1', '2018-08-23 1', '2018-08-23 2'],\n",
        "               'freq': [2, 1, 10, 5, 3],\n",
        "               'keyword': ['keyword1', 'keyword2', 'keyword1', 'keyword3', 'keyword4'], \n",
        "                'related_word': [\n",
        "                    ['r11', 'r12', 'r13'], \n",
        "                    ['r21', 'r22'], \n",
        "                    ['r31', 'r32', 'r33'], \n",
        "                    [], \n",
        "                    ['r51', 'r52']]\n",
        "               })"
      ],
      "execution_count": 0,
      "outputs": []
    },
    {
      "metadata": {
        "id": "j1zLHk2JpxY6",
        "colab_type": "code",
        "colab": {
          "base_uri": "https://localhost:8080/",
          "height": 204
        },
        "outputId": "b566fb1d-3f3e-4253-fbde-1eb74e25325f"
      },
      "cell_type": "code",
      "source": [
        "df"
      ],
      "execution_count": 37,
      "outputs": [
        {
          "output_type": "execute_result",
          "data": {
            "text/html": [
              "<div>\n",
              "<style scoped>\n",
              "    .dataframe tbody tr th:only-of-type {\n",
              "        vertical-align: middle;\n",
              "    }\n",
              "\n",
              "    .dataframe tbody tr th {\n",
              "        vertical-align: top;\n",
              "    }\n",
              "\n",
              "    .dataframe thead th {\n",
              "        text-align: right;\n",
              "    }\n",
              "</style>\n",
              "<table border=\"1\" class=\"dataframe\">\n",
              "  <thead>\n",
              "    <tr style=\"text-align: right;\">\n",
              "      <th></th>\n",
              "      <th>day_hour</th>\n",
              "      <th>freq</th>\n",
              "      <th>keyword</th>\n",
              "      <th>related_word</th>\n",
              "    </tr>\n",
              "  </thead>\n",
              "  <tbody>\n",
              "    <tr>\n",
              "      <th>0</th>\n",
              "      <td>2018-08-23 0</td>\n",
              "      <td>2</td>\n",
              "      <td>keyword1</td>\n",
              "      <td>[r11, r12, r13]</td>\n",
              "    </tr>\n",
              "    <tr>\n",
              "      <th>1</th>\n",
              "      <td>2018-08-23 0</td>\n",
              "      <td>1</td>\n",
              "      <td>keyword2</td>\n",
              "      <td>[r21, r22]</td>\n",
              "    </tr>\n",
              "    <tr>\n",
              "      <th>2</th>\n",
              "      <td>2018-08-23 1</td>\n",
              "      <td>10</td>\n",
              "      <td>keyword1</td>\n",
              "      <td>[r31, r32, r33]</td>\n",
              "    </tr>\n",
              "    <tr>\n",
              "      <th>3</th>\n",
              "      <td>2018-08-23 1</td>\n",
              "      <td>5</td>\n",
              "      <td>keyword3</td>\n",
              "      <td>[]</td>\n",
              "    </tr>\n",
              "    <tr>\n",
              "      <th>4</th>\n",
              "      <td>2018-08-23 2</td>\n",
              "      <td>3</td>\n",
              "      <td>keyword4</td>\n",
              "      <td>[r51, r52]</td>\n",
              "    </tr>\n",
              "  </tbody>\n",
              "</table>\n",
              "</div>"
            ],
            "text/plain": [
              "       day_hour  freq   keyword     related_word\n",
              "0  2018-08-23 0     2  keyword1  [r11, r12, r13]\n",
              "1  2018-08-23 0     1  keyword2       [r21, r22]\n",
              "2  2018-08-23 1    10  keyword1  [r31, r32, r33]\n",
              "3  2018-08-23 1     5  keyword3               []\n",
              "4  2018-08-23 2     3  keyword4       [r51, r52]"
            ]
          },
          "metadata": {
            "tags": []
          },
          "execution_count": 37
        }
      ]
    },
    {
      "metadata": {
        "id": "1PUfJbiiuG7H",
        "colab_type": "code",
        "colab": {
          "base_uri": "https://localhost:8080/",
          "height": 55
        },
        "outputId": "1fd4a965-5e85-4615-9e9f-35c945f76bc0"
      },
      "cell_type": "code",
      "source": [
        "result = []\n",
        "for dh in df.day_hour.unique():\n",
        "  rows = df[df.day_hour == dh]\n",
        "  keywords = rows[['freq', 'keyword', 'related_word']]\n",
        "#   print('day_hour: ', dh)\n",
        "#   print(keywords)\n",
        "  result.append([dh, keywords])\n",
        "  \n",
        "\n",
        "tmp_df = DataFrame(data=result, columns= ['day_hour', 'keywords'])\n",
        "# print('tmp_df')\n",
        "# print(tmp_df)\n",
        "\n",
        "tmp_df.to_json(orient='records')\n",
        "  \n",
        "  "
      ],
      "execution_count": 39,
      "outputs": [
        {
          "output_type": "execute_result",
          "data": {
            "text/plain": [
              "'[{\"day_hour\":\"2018-08-23 0\",\"keywords\":[{\"freq\":2,\"keyword\":\"keyword1\",\"related_word\":[\"r11\",\"r12\",\"r13\"]},{\"freq\":1,\"keyword\":\"keyword2\",\"related_word\":[\"r21\",\"r22\"]}]},{\"day_hour\":\"2018-08-23 1\",\"keywords\":[{\"freq\":10,\"keyword\":\"keyword1\",\"related_word\":[\"r31\",\"r32\",\"r33\"]},{\"freq\":5,\"keyword\":\"keyword3\",\"related_word\":[]}]},{\"day_hour\":\"2018-08-23 2\",\"keywords\":[{\"freq\":3,\"keyword\":\"keyword4\",\"related_word\":[\"r51\",\"r52\"]}]}]'"
            ]
          },
          "metadata": {
            "tags": []
          },
          "execution_count": 39
        }
      ]
    },
    {
      "metadata": {
        "id": "Hpzb-_nZxuY9",
        "colab_type": "code",
        "colab": {}
      },
      "cell_type": "code",
      "source": [
        ""
      ],
      "execution_count": 0,
      "outputs": []
    }
  ]
}